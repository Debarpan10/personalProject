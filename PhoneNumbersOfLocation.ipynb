{
 "cells": [
  {
   "cell_type": "code",
   "execution_count": 1,
   "id": "b2280ed0",
   "metadata": {},
   "outputs": [
    {
     "name": "stdout",
     "output_type": "stream",
     "text": [
      "Collecting phonenumbers\n",
      "  Downloading phonenumbers-8.13.26-py2.py3-none-any.whl (2.6 MB)\n",
      "                                              0.0/2.6 MB ? eta -:--:--\n",
      "                                              0.0/2.6 MB 653.6 kB/s eta 0:00:04\n",
      "     --                                       0.1/2.6 MB 1.4 MB/s eta 0:00:02\n",
      "     ---                                      0.3/2.6 MB 1.7 MB/s eta 0:00:02\n",
      "     ----                                     0.3/2.6 MB 1.9 MB/s eta 0:00:02\n",
      "     ------                                   0.5/2.6 MB 1.8 MB/s eta 0:00:02\n",
      "     -----------                              0.7/2.6 MB 2.5 MB/s eta 0:00:01\n",
      "     --------------                           1.0/2.6 MB 2.7 MB/s eta 0:00:01\n",
      "     -------------------                      1.2/2.6 MB 2.9 MB/s eta 0:00:01\n",
      "     ---------------------                    1.4/2.6 MB 3.0 MB/s eta 0:00:01\n",
      "     -----------------------                  1.5/2.6 MB 2.9 MB/s eta 0:00:01\n",
      "     ---------------------------              1.8/2.6 MB 3.2 MB/s eta 0:00:01\n",
      "     -------------------------------          2.0/2.6 MB 3.3 MB/s eta 0:00:01\n",
      "     -----------------------------------      2.3/2.6 MB 3.4 MB/s eta 0:00:01\n",
      "     ---------------------------------------  2.5/2.6 MB 3.4 MB/s eta 0:00:01\n",
      "     ---------------------------------------  2.6/2.6 MB 3.5 MB/s eta 0:00:01\n",
      "     ---------------------------------------  2.6/2.6 MB 3.5 MB/s eta 0:00:01\n",
      "     ---------------------------------------  2.6/2.6 MB 3.5 MB/s eta 0:00:01\n",
      "     ---------------------------------------  2.6/2.6 MB 3.5 MB/s eta 0:00:01\n",
      "     ---------------------------------------- 2.6/2.6 MB 2.8 MB/s eta 0:00:00\n",
      "Installing collected packages: phonenumbers\n",
      "Successfully installed phonenumbers-8.13.26\n",
      "Note: you may need to restart the kernel to use updated packages.\n"
     ]
    }
   ],
   "source": [
    "pip install phonenumbers"
   ]
  },
  {
   "cell_type": "code",
   "execution_count": 5,
   "id": "60f73632",
   "metadata": {},
   "outputs": [
    {
     "name": "stdout",
     "output_type": "stream",
     "text": [
      "Country Code: 44 National Number: 2083661177\n",
      "Country Code: 44 National Number: 2083661177\n",
      "Country Code: 1 National Number: 6502532222\n"
     ]
    }
   ],
   "source": [
    "import phonenumbers\n",
    "x = phonenumbers.parse(\"+442083661177\", None)\n",
    "print(x)\n",
    "type(x)\n",
    "y = phonenumbers.parse(\"020 8366 1177\", \"GB\")\n",
    "print(y)\n",
    "x == y\n",
    "z = phonenumbers.parse(\"00 1 650 253 2222\", \"GB\")  # as dialled from GB, not a GB number\n",
    "print(z)"
   ]
  },
  {
   "cell_type": "code",
   "execution_count": 6,
   "id": "5ba69d04",
   "metadata": {},
   "outputs": [
    {
     "name": "stdout",
     "output_type": "stream",
     "text": [
      "Country Code: 1 National Number: 20012301\n"
     ]
    }
   ],
   "source": [
    "z = phonenumbers.parse(\"+120012301\", None)\n",
    "print(z)"
   ]
  },
  {
   "cell_type": "code",
   "execution_count": 7,
   "id": "59822015",
   "metadata": {},
   "outputs": [
    {
     "data": {
      "text/plain": [
       "False"
      ]
     },
     "execution_count": 7,
     "metadata": {},
     "output_type": "execute_result"
    }
   ],
   "source": [
    "phonenumbers.is_possible_number(z)  # too few digits for USA"
   ]
  },
  {
   "cell_type": "code",
   "execution_count": 8,
   "id": "8c4593ef",
   "metadata": {},
   "outputs": [
    {
     "data": {
      "text/plain": [
       "False"
      ]
     },
     "execution_count": 8,
     "metadata": {},
     "output_type": "execute_result"
    }
   ],
   "source": [
    "phonenumbers.is_valid_number(z)"
   ]
  },
  {
   "cell_type": "code",
   "execution_count": 9,
   "id": "18f8ae1f",
   "metadata": {},
   "outputs": [],
   "source": [
    "z = phonenumbers.parse(\"+12001230101\", None)"
   ]
  },
  {
   "cell_type": "code",
   "execution_count": 10,
   "id": "0c0a60cd",
   "metadata": {},
   "outputs": [
    {
     "name": "stdout",
     "output_type": "stream",
     "text": [
      "Country Code: 1 National Number: 2001230101\n"
     ]
    }
   ],
   "source": [
    "print(z)"
   ]
  },
  {
   "cell_type": "code",
   "execution_count": 11,
   "id": "db74188f",
   "metadata": {},
   "outputs": [
    {
     "data": {
      "text/plain": [
       "True"
      ]
     },
     "execution_count": 11,
     "metadata": {},
     "output_type": "execute_result"
    }
   ],
   "source": [
    "phonenumbers.is_possible_number(z)"
   ]
  },
  {
   "cell_type": "code",
   "execution_count": 12,
   "id": "550d8846",
   "metadata": {},
   "outputs": [
    {
     "data": {
      "text/plain": [
       "False"
      ]
     },
     "execution_count": 12,
     "metadata": {},
     "output_type": "execute_result"
    }
   ],
   "source": [
    "phonenumbers.is_valid_number(z)  # NPA 200 not used"
   ]
  },
  {
   "cell_type": "code",
   "execution_count": 15,
   "id": "3cb1700b",
   "metadata": {},
   "outputs": [
    {
     "data": {
      "text/plain": [
       "'020 8366 1177'"
      ]
     },
     "execution_count": 15,
     "metadata": {},
     "output_type": "execute_result"
    }
   ],
   "source": [
    " phonenumbers.format_number(x, phonenumbers.PhoneNumberFormat.NATIONAL)"
   ]
  },
  {
   "cell_type": "code",
   "execution_count": 16,
   "id": "d2ee1100",
   "metadata": {},
   "outputs": [
    {
     "data": {
      "text/plain": [
       "'+44 20 8366 1177'"
      ]
     },
     "execution_count": 16,
     "metadata": {},
     "output_type": "execute_result"
    }
   ],
   "source": [
    "phonenumbers.format_number(x, phonenumbers.PhoneNumberFormat.INTERNATIONAL)"
   ]
  },
  {
   "cell_type": "code",
   "execution_count": 17,
   "id": "2f1ca4e3",
   "metadata": {},
   "outputs": [
    {
     "data": {
      "text/plain": [
       "'+442083661177'"
      ]
     },
     "execution_count": 17,
     "metadata": {},
     "output_type": "execute_result"
    }
   ],
   "source": [
    "phonenumbers.format_number(x, phonenumbers.PhoneNumberFormat.E164)"
   ]
  },
  {
   "cell_type": "code",
   "execution_count": 18,
   "id": "73819643",
   "metadata": {},
   "outputs": [
    {
     "data": {
      "text/plain": [
       "'6'"
      ]
     },
     "execution_count": 18,
     "metadata": {},
     "output_type": "execute_result"
    }
   ],
   "source": [
    "formatter = phonenumbers.AsYouTypeFormatter(\"US\")\n",
    "formatter.input_digit(\"6\")"
   ]
  },
  {
   "cell_type": "code",
   "execution_count": 19,
   "id": "ae695f52",
   "metadata": {},
   "outputs": [
    {
     "data": {
      "text/plain": [
       "'65'"
      ]
     },
     "execution_count": 19,
     "metadata": {},
     "output_type": "execute_result"
    }
   ],
   "source": [
    "formatter.input_digit(\"5\")"
   ]
  },
  {
   "cell_type": "code",
   "execution_count": 20,
   "id": "3fb38b94",
   "metadata": {},
   "outputs": [
    {
     "data": {
      "text/plain": [
       "'650'"
      ]
     },
     "execution_count": 20,
     "metadata": {},
     "output_type": "execute_result"
    }
   ],
   "source": [
    "formatter.input_digit(\"0\")"
   ]
  },
  {
   "cell_type": "code",
   "execution_count": 21,
   "id": "89b3a99d",
   "metadata": {},
   "outputs": [
    {
     "data": {
      "text/plain": [
       "'650-2'"
      ]
     },
     "execution_count": 21,
     "metadata": {},
     "output_type": "execute_result"
    }
   ],
   "source": [
    "formatter.input_digit(\"2\")"
   ]
  },
  {
   "cell_type": "code",
   "execution_count": 22,
   "id": "06f3a305",
   "metadata": {},
   "outputs": [
    {
     "data": {
      "text/plain": [
       "'650-25'"
      ]
     },
     "execution_count": 22,
     "metadata": {},
     "output_type": "execute_result"
    }
   ],
   "source": [
    "formatter.input_digit(\"5\")"
   ]
  },
  {
   "cell_type": "code",
   "execution_count": 23,
   "id": "da92b22f",
   "metadata": {},
   "outputs": [
    {
     "data": {
      "text/plain": [
       "'650-253'"
      ]
     },
     "execution_count": 23,
     "metadata": {},
     "output_type": "execute_result"
    }
   ],
   "source": [
    "formatter.input_digit(\"3\")"
   ]
  },
  {
   "cell_type": "code",
   "execution_count": 24,
   "id": "e64af715",
   "metadata": {},
   "outputs": [
    {
     "data": {
      "text/plain": [
       "'650-2532'"
      ]
     },
     "execution_count": 24,
     "metadata": {},
     "output_type": "execute_result"
    }
   ],
   "source": [
    "formatter.input_digit(\"2\")"
   ]
  },
  {
   "cell_type": "code",
   "execution_count": 25,
   "id": "de6b3bbd",
   "metadata": {},
   "outputs": [
    {
     "data": {
      "text/plain": [
       "'(650) 253-22'"
      ]
     },
     "execution_count": 25,
     "metadata": {},
     "output_type": "execute_result"
    }
   ],
   "source": [
    "formatter.input_digit(\"2\")"
   ]
  },
  {
   "cell_type": "code",
   "execution_count": 26,
   "id": "8abe191a",
   "metadata": {},
   "outputs": [
    {
     "data": {
      "text/plain": [
       "'(650) 253-222'"
      ]
     },
     "execution_count": 26,
     "metadata": {},
     "output_type": "execute_result"
    }
   ],
   "source": [
    "formatter.input_digit(\"2\")"
   ]
  },
  {
   "cell_type": "code",
   "execution_count": 27,
   "id": "d2adec38",
   "metadata": {},
   "outputs": [
    {
     "data": {
      "text/plain": [
       "'(650) 253-2222'"
      ]
     },
     "execution_count": 27,
     "metadata": {},
     "output_type": "execute_result"
    }
   ],
   "source": [
    "formatter.input_digit(\"2\")"
   ]
  },
  {
   "cell_type": "code",
   "execution_count": 28,
   "id": "7a4c578f",
   "metadata": {},
   "outputs": [
    {
     "name": "stdout",
     "output_type": "stream",
     "text": [
      "PhoneNumberMatch [11,23) 510-748-8230\n",
      "PhoneNumberMatch [51,62) 703-4800500\n"
     ]
    }
   ],
   "source": [
    "text = \"Call me at 510-748-8230 if it's before 9:30, or on 703-4800500 after 10am.\"\n",
    "for match in phonenumbers.PhoneNumberMatcher(text, \"US\"):\n",
    "       print(match)"
   ]
  },
  {
   "cell_type": "code",
   "execution_count": 29,
   "id": "7a026068",
   "metadata": {},
   "outputs": [
    {
     "name": "stdout",
     "output_type": "stream",
     "text": [
      "+15107488230\n",
      "+17034800500\n"
     ]
    }
   ],
   "source": [
    "for match in phonenumbers.PhoneNumberMatcher(text, \"US\"):\n",
    "     print(phonenumbers.format_number(match.number, phonenumbers.PhoneNumberFormat.E164))"
   ]
  },
  {
   "cell_type": "code",
   "execution_count": 30,
   "id": "8b46f534",
   "metadata": {},
   "outputs": [
    {
     "data": {
      "text/plain": [
       "'Zürich'"
      ]
     },
     "execution_count": 30,
     "metadata": {},
     "output_type": "execute_result"
    }
   ],
   "source": [
    "from phonenumbers import geocoder\n",
    "ch_number = phonenumbers.parse(\"0431234567\", \"CH\")\n",
    "geocoder.description_for_number(ch_number, \"de\")"
   ]
  },
  {
   "cell_type": "code",
   "execution_count": 31,
   "id": "e04a2932",
   "metadata": {},
   "outputs": [
    {
     "data": {
      "text/plain": [
       "'Zurich'"
      ]
     },
     "execution_count": 31,
     "metadata": {},
     "output_type": "execute_result"
    }
   ],
   "source": [
    "geocoder.description_for_number(ch_number, \"en\")"
   ]
  },
  {
   "cell_type": "code",
   "execution_count": 32,
   "id": "88256121",
   "metadata": {},
   "outputs": [
    {
     "data": {
      "text/plain": [
       "'Zurich'"
      ]
     },
     "execution_count": 32,
     "metadata": {},
     "output_type": "execute_result"
    }
   ],
   "source": [
    "geocoder.description_for_number(ch_number, \"fr\")"
   ]
  },
  {
   "cell_type": "code",
   "execution_count": 33,
   "id": "2a2dde0d",
   "metadata": {},
   "outputs": [
    {
     "data": {
      "text/plain": [
       "'Zurigo'"
      ]
     },
     "execution_count": 33,
     "metadata": {},
     "output_type": "execute_result"
    }
   ],
   "source": [
    "geocoder.description_for_number(ch_number, \"it\")"
   ]
  },
  {
   "cell_type": "code",
   "execution_count": 34,
   "id": "310ef7a1",
   "metadata": {},
   "outputs": [
    {
     "data": {
      "text/plain": [
       "'Vodafone'"
      ]
     },
     "execution_count": 34,
     "metadata": {},
     "output_type": "execute_result"
    }
   ],
   "source": [
    "from phonenumbers import carrier\n",
    "ro_number = phonenumbers.parse(\"+40721234567\", \"RO\")\n",
    "carrier.name_for_number(ro_number, \"en\")"
   ]
  },
  {
   "cell_type": "code",
   "execution_count": 35,
   "id": "795ae581",
   "metadata": {},
   "outputs": [
    {
     "data": {
      "text/plain": [
       "('Europe/Guernsey', 'Europe/Isle_of_Man', 'Europe/Jersey', 'Europe/London')"
      ]
     },
     "execution_count": 35,
     "metadata": {},
     "output_type": "execute_result"
    }
   ],
   "source": [
    "from phonenumbers import timezone\n",
    "gb_number = phonenumbers.parse(\"+447986123456\", \"GB\")\n",
    "timezone.time_zones_for_number(gb_number)"
   ]
  },
  {
   "cell_type": "code",
   "execution_count": null,
   "id": "47c57177",
   "metadata": {},
   "outputs": [],
   "source": []
  }
 ],
 "metadata": {
  "kernelspec": {
   "display_name": "Python 3 (ipykernel)",
   "language": "python",
   "name": "python3"
  },
  "language_info": {
   "codemirror_mode": {
    "name": "ipython",
    "version": 3
   },
   "file_extension": ".py",
   "mimetype": "text/x-python",
   "name": "python",
   "nbconvert_exporter": "python",
   "pygments_lexer": "ipython3",
   "version": "3.11.3"
  }
 },
 "nbformat": 4,
 "nbformat_minor": 5
}
