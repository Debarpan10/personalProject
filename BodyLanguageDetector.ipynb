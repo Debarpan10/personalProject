{
 "cells": [
  {
   "cell_type": "markdown",
   "id": "665e0055-d828-4074-9f3f-c5d0dcddb72b",
   "metadata": {},
   "source": [
    "# Install and Import Dependencies"
   ]
  },
  {
   "cell_type": "code",
   "execution_count": 11,
   "id": "022d4e1a-f82f-4fff-822b-d9feaae49846",
   "metadata": {},
   "outputs": [],
   "source": [
    "#!pip install mediapipe opencv-python pandas scikit-learn"
   ]
  },
  {
   "cell_type": "code",
   "execution_count": 13,
   "id": "a1a45ced-3c57-4e47-b969-3cb0c97533ac",
   "metadata": {},
   "outputs": [],
   "source": [
    "import mediapipe as mp\n",
    "import cv2"
   ]
  },
  {
   "cell_type": "code",
   "execution_count": 15,
   "id": "aded9cac-7abd-4e98-b676-ba5a06695e97",
   "metadata": {},
   "outputs": [],
   "source": [
    "mp_drawing = mp.solutions.drawing_utils #Drawing helpers\n",
    "mp_holistic = mp.solutions.holistic  #MediaPipe solution"
   ]
  },
  {
   "cell_type": "markdown",
   "id": "b663d6c2-aec5-4445-b1bc-6c486cbe0d63",
   "metadata": {},
   "source": [
    "# Make Detections from Feed"
   ]
  },
  {
   "cell_type": "code",
   "execution_count": 18,
   "id": "a68b5e6d-d850-418c-bb75-838759075145",
   "metadata": {},
   "outputs": [],
   "source": [
    "import cv2\n",
    "import mediapipe as mp\n",
    "\n",
    "# Initialize Mediapipe holistic model and drawing utils\n",
    "mp_holistic = mp.solutions.holistic\n",
    "mp_drawing = mp.solutions.drawing_utils\n",
    "\n",
    "# Open webcam video capture\n",
    "cap = cv2.VideoCapture(0)\n",
    "\n",
    "# Initiate holistic model with context manager\n",
    "with mp_holistic.Holistic(min_detection_confidence=0.5, min_tracking_confidence=0.5) as holistic:\n",
    "    \n",
    "    while cap.isOpened():\n",
    "        ret, frame = cap.read()\n",
    "        if not ret:\n",
    "            break\n",
    "        \n",
    "        # Recolor feed to RGB for Mediapipe processing\n",
    "        image = cv2.cvtColor(frame, cv2.COLOR_BGR2RGB)\n",
    "        image.flags.writeable = False\n",
    "        \n",
    "        # Process image for holistic detections\n",
    "        results = holistic.process(image)\n",
    "        \n",
    "        # Recolor image back to BGR for OpenCV display\n",
    "        image.flags.writeable = True\n",
    "        image = cv2.cvtColor(image, cv2.COLOR_RGB2BGR)\n",
    "        \n",
    "        # 1. Draw face landmarks if detected, using FACEMESH_TESSELATION\n",
    "        if results.face_landmarks:\n",
    "            mp_drawing.draw_landmarks(\n",
    "                image, results.face_landmarks, mp_holistic.FACEMESH_TESSELATION,\n",
    "                mp_drawing.DrawingSpec(color=(80, 110, 10), thickness=1, circle_radius=1),\n",
    "                mp_drawing.DrawingSpec(color=(80, 256, 121), thickness=1, circle_radius=1)\n",
    "            )\n",
    "        \n",
    "        # 2. Right hand landmarks if detected\n",
    "        if results.right_hand_landmarks:\n",
    "            mp_drawing.draw_landmarks(\n",
    "                image, results.right_hand_landmarks, mp_holistic.HAND_CONNECTIONS,\n",
    "                mp_drawing.DrawingSpec(color=(80, 22, 10), thickness=2, circle_radius=4),\n",
    "                mp_drawing.DrawingSpec(color=(80, 44, 121), thickness=2, circle_radius=2)\n",
    "            )\n",
    "\n",
    "        # 3. Left hand landmarks if detected\n",
    "        if results.left_hand_landmarks:\n",
    "            mp_drawing.draw_landmarks(\n",
    "                image, results.left_hand_landmarks, mp_holistic.HAND_CONNECTIONS,\n",
    "                mp_drawing.DrawingSpec(color=(121, 22, 76), thickness=2, circle_radius=4),\n",
    "                mp_drawing.DrawingSpec(color=(121, 44, 250), thickness=2, circle_radius=2)\n",
    "            )\n",
    "\n",
    "        # 4. Pose landmarks if detected\n",
    "        if results.pose_landmarks:\n",
    "            mp_drawing.draw_landmarks(\n",
    "                image, results.pose_landmarks, mp_holistic.POSE_CONNECTIONS,\n",
    "                mp_drawing.DrawingSpec(color=(245, 117, 66), thickness=2, circle_radius=4),\n",
    "                mp_drawing.DrawingSpec(color=(245, 66, 230), thickness=2, circle_radius=2)\n",
    "            )\n",
    "        \n",
    "        # Display the annotated image\n",
    "        cv2.imshow('Holistic Model Feed', image)\n",
    "\n",
    "        # Exit loop on 'q' key press\n",
    "        if cv2.waitKey(10) & 0xFF == ord('q'):\n",
    "            break\n",
    "\n",
    "# Release resources\n",
    "cap.release()\n",
    "cv2.destroyAllWindows()\n"
   ]
  },
  {
   "cell_type": "code",
   "execution_count": 20,
   "id": "5e0145ad-9c8b-49f2-a1b5-57693b1ad433",
   "metadata": {},
   "outputs": [
    {
     "data": {
      "text/plain": [
       "frozenset({(0, 1),\n",
       "           (0, 4),\n",
       "           (1, 2),\n",
       "           (2, 3),\n",
       "           (3, 7),\n",
       "           (4, 5),\n",
       "           (5, 6),\n",
       "           (6, 8),\n",
       "           (9, 10),\n",
       "           (11, 12),\n",
       "           (11, 13),\n",
       "           (11, 23),\n",
       "           (12, 14),\n",
       "           (12, 24),\n",
       "           (13, 15),\n",
       "           (14, 16),\n",
       "           (15, 17),\n",
       "           (15, 19),\n",
       "           (15, 21),\n",
       "           (16, 18),\n",
       "           (16, 20),\n",
       "           (16, 22),\n",
       "           (17, 19),\n",
       "           (18, 20),\n",
       "           (23, 24),\n",
       "           (23, 25),\n",
       "           (24, 26),\n",
       "           (25, 27),\n",
       "           (26, 28),\n",
       "           (27, 29),\n",
       "           (27, 31),\n",
       "           (28, 30),\n",
       "           (28, 32),\n",
       "           (29, 31),\n",
       "           (30, 32)})"
      ]
     },
     "execution_count": 20,
     "metadata": {},
     "output_type": "execute_result"
    }
   ],
   "source": [
    "mp_holistic.POSE_CONNECTIONS"
   ]
  },
  {
   "cell_type": "code",
   "execution_count": 22,
   "id": "c481035b-8e36-4331-8547-857058f285c0",
   "metadata": {},
   "outputs": [
    {
     "data": {
      "text/plain": [
       "landmark {\n",
       "  x: 0.645017564\n",
       "  y: 0.405630052\n",
       "  z: -1.3459636\n",
       "  visibility: 0.999341965\n",
       "}\n",
       "landmark {\n",
       "  x: 0.681430519\n",
       "  y: 0.323094279\n",
       "  z: -1.30465758\n",
       "  visibility: 0.99848789\n",
       "}\n",
       "landmark {\n",
       "  x: 0.7032336\n",
       "  y: 0.320221275\n",
       "  z: -1.30461049\n",
       "  visibility: 0.998406172\n",
       "}\n",
       "landmark {\n",
       "  x: 0.719790757\n",
       "  y: 0.317729801\n",
       "  z: -1.30486596\n",
       "  visibility: 0.998108089\n",
       "}\n",
       "landmark {\n",
       "  x: 0.609534\n",
       "  y: 0.326502711\n",
       "  z: -1.30594409\n",
       "  visibility: 0.998900414\n",
       "}\n",
       "landmark {\n",
       "  x: 0.587917686\n",
       "  y: 0.32679221\n",
       "  z: -1.30543971\n",
       "  visibility: 0.998984218\n",
       "}\n",
       "landmark {\n",
       "  x: 0.570918202\n",
       "  y: 0.327280939\n",
       "  z: -1.30593503\n",
       "  visibility: 0.999083638\n",
       "}\n",
       "landmark {\n",
       "  x: 0.746471882\n",
       "  y: 0.327046305\n",
       "  z: -0.907576263\n",
       "  visibility: 0.99834162\n",
       "}\n",
       "landmark {\n",
       "  x: 0.545206308\n",
       "  y: 0.349550188\n",
       "  z: -0.892312884\n",
       "  visibility: 0.999425054\n",
       "}\n",
       "landmark {\n",
       "  x: 0.689520419\n",
       "  y: 0.473005831\n",
       "  z: -1.18450332\n",
       "  visibility: 0.999478817\n",
       "}\n",
       "landmark {\n",
       "  x: 0.605184436\n",
       "  y: 0.483314604\n",
       "  z: -1.17898965\n",
       "  visibility: 0.999711037\n",
       "}\n",
       "landmark {\n",
       "  x: 0.908975\n",
       "  y: 0.68062377\n",
       "  z: -0.572951913\n",
       "  visibility: 0.995714605\n",
       "}\n",
       "landmark {\n",
       "  x: 0.396267444\n",
       "  y: 0.702446401\n",
       "  z: -0.659038424\n",
       "  visibility: 0.998802\n",
       "}\n",
       "landmark {\n",
       "  x: 1.11020482\n",
       "  y: 1.04813993\n",
       "  z: -0.529456794\n",
       "  visibility: 0.323300928\n",
       "}\n",
       "landmark {\n",
       "  x: 0.228631854\n",
       "  y: 1.01599288\n",
       "  z: -0.60219723\n",
       "  visibility: 0.66254437\n",
       "}\n",
       "landmark {\n",
       "  x: 1.09855723\n",
       "  y: 1.42380893\n",
       "  z: -0.875997424\n",
       "  visibility: 0.107660711\n",
       "}\n",
       "landmark {\n",
       "  x: 0.164754897\n",
       "  y: 1.48293936\n",
       "  z: -1.00562656\n",
       "  visibility: 0.278559744\n",
       "}\n",
       "landmark {\n",
       "  x: 1.12914491\n",
       "  y: 1.5580126\n",
       "  z: -0.979350746\n",
       "  visibility: 0.0991296768\n",
       "}\n",
       "landmark {\n",
       "  x: 0.12646009\n",
       "  y: 1.60413897\n",
       "  z: -1.13017297\n",
       "  visibility: 0.235046819\n",
       "}\n",
       "landmark {\n",
       "  x: 1.06666827\n",
       "  y: 1.56069744\n",
       "  z: -1.0447551\n",
       "  visibility: 0.128248826\n",
       "}\n",
       "landmark {\n",
       "  x: 0.176953182\n",
       "  y: 1.60030138\n",
       "  z: -1.23364949\n",
       "  visibility: 0.308443516\n",
       "}\n",
       "landmark {\n",
       "  x: 1.04499984\n",
       "  y: 1.51331878\n",
       "  z: -0.921634\n",
       "  visibility: 0.135168821\n",
       "}\n",
       "landmark {\n",
       "  x: 0.203222081\n",
       "  y: 1.55911207\n",
       "  z: -1.06243336\n",
       "  visibility: 0.308377266\n",
       "}\n",
       "landmark {\n",
       "  x: 0.82709676\n",
       "  y: 1.5328517\n",
       "  z: -0.0493522733\n",
       "  visibility: 0.00132937683\n",
       "}\n",
       "landmark {\n",
       "  x: 0.495381683\n",
       "  y: 1.53634059\n",
       "  z: 0.0546796136\n",
       "  visibility: 0.00142324565\n",
       "}\n",
       "landmark {\n",
       "  x: 0.821763337\n",
       "  y: 2.21265\n",
       "  z: -0.0568757877\n",
       "  visibility: 0.00130399701\n",
       "}\n",
       "landmark {\n",
       "  x: 0.516095519\n",
       "  y: 2.216398\n",
       "  z: -0.0491875894\n",
       "  visibility: 0.000595892605\n",
       "}\n",
       "landmark {\n",
       "  x: 0.829174697\n",
       "  y: 2.81599021\n",
       "  z: 0.600953221\n",
       "  visibility: 9.14450284e-005\n",
       "}\n",
       "landmark {\n",
       "  x: 0.530648112\n",
       "  y: 2.81335568\n",
       "  z: 0.40264836\n",
       "  visibility: 1.8992223e-005\n",
       "}\n",
       "landmark {\n",
       "  x: 0.838398814\n",
       "  y: 2.92028046\n",
       "  z: 0.628719\n",
       "  visibility: 6.61248e-005\n",
       "}\n",
       "landmark {\n",
       "  x: 0.525487781\n",
       "  y: 2.91595554\n",
       "  z: 0.428587109\n",
       "  visibility: 3.39614598e-005\n",
       "}\n",
       "landmark {\n",
       "  x: 0.777657\n",
       "  y: 3.02109313\n",
       "  z: -0.0259950198\n",
       "  visibility: 8.47538613e-005\n",
       "}\n",
       "landmark {\n",
       "  x: 0.582820535\n",
       "  y: 3.02444363\n",
       "  z: -0.279862195\n",
       "  visibility: 8.90369265e-005\n",
       "}"
      ]
     },
     "execution_count": 22,
     "metadata": {},
     "output_type": "execute_result"
    }
   ],
   "source": [
    "results.pose_landmarks"
   ]
  },
  {
   "cell_type": "code",
   "execution_count": 24,
   "id": "d73c53f1-3dcd-4ab3-9d82-9525979b7ddf",
   "metadata": {},
   "outputs": [
    {
     "data": {
      "text/plain": [
       "x: 0.625480831\n",
       "y: 0.47463569\n",
       "z: -0.029907465"
      ]
     },
     "execution_count": 24,
     "metadata": {},
     "output_type": "execute_result"
    }
   ],
   "source": [
    "results.face_landmarks.landmark[0]"
   ]
  },
  {
   "cell_type": "code",
   "execution_count": 26,
   "id": "e19892cc-9b1d-4389-b2de-9e54a018f2cc",
   "metadata": {},
   "outputs": [
    {
     "data": {
      "text/plain": [
       "0.0"
      ]
     },
     "execution_count": 26,
     "metadata": {},
     "output_type": "execute_result"
    }
   ],
   "source": [
    "results.face_landmarks.landmark[0].visibility"
   ]
  },
  {
   "cell_type": "code",
   "execution_count": 28,
   "id": "c481bd68-0fd2-45de-8036-9823982f82a0",
   "metadata": {},
   "outputs": [
    {
     "data": {
      "text/plain": [
       "0.9993419647216797"
      ]
     },
     "execution_count": 28,
     "metadata": {},
     "output_type": "execute_result"
    }
   ],
   "source": [
    "results.pose_landmarks.landmark[0].visibility"
   ]
  },
  {
   "cell_type": "markdown",
   "id": "64594b81-71e1-47ab-9fcb-1d7eba78b39a",
   "metadata": {},
   "source": [
    "# Capture Landmarks and Export to CSV"
   ]
  },
  {
   "cell_type": "code",
   "execution_count": 31,
   "id": "71b902c3-3c8a-4f21-839f-72f6fcd894ae",
   "metadata": {},
   "outputs": [],
   "source": [
    "import csv\n",
    "import os\n",
    "import numpy as np"
   ]
  },
  {
   "cell_type": "markdown",
   "id": "1545ff14-46cf-4752-8153-c63b48beb6a7",
   "metadata": {},
   "source": [
    "# Number of Face Landmarks"
   ]
  },
  {
   "cell_type": "code",
   "execution_count": 34,
   "id": "b26568d8-b6b0-4a11-87aa-3a0b8512d4a2",
   "metadata": {},
   "outputs": [
    {
     "data": {
      "text/plain": [
       "468"
      ]
     },
     "execution_count": 34,
     "metadata": {},
     "output_type": "execute_result"
    }
   ],
   "source": [
    "len(results.face_landmarks.landmark)"
   ]
  },
  {
   "cell_type": "markdown",
   "id": "0208e83f-56ab-4260-84df-5ad7ac70170a",
   "metadata": {},
   "source": [
    "# Number of Pose Landmarks"
   ]
  },
  {
   "cell_type": "code",
   "execution_count": 37,
   "id": "67a92d73-2299-481b-a054-afca6b3f10eb",
   "metadata": {},
   "outputs": [
    {
     "data": {
      "text/plain": [
       "33"
      ]
     },
     "execution_count": 37,
     "metadata": {},
     "output_type": "execute_result"
    }
   ],
   "source": [
    "len(results.pose_landmarks.landmark)"
   ]
  },
  {
   "cell_type": "code",
   "execution_count": 39,
   "id": "f596237e-5c3c-48a3-9441-29985fbc6a78",
   "metadata": {},
   "outputs": [
    {
     "data": {
      "text/plain": [
       "501"
      ]
     },
     "execution_count": 39,
     "metadata": {},
     "output_type": "execute_result"
    }
   ],
   "source": [
    "num_coords = len(results.face_landmarks.landmark) + len(results.pose_landmarks.landmark)\n",
    "num_coords"
   ]
  },
  {
   "cell_type": "markdown",
   "id": "4c08878e-e60c-4ebb-b2bd-eadddbf78c2b",
   "metadata": {},
   "source": [
    "# Create Column Names"
   ]
  },
  {
   "cell_type": "code",
   "execution_count": 42,
   "id": "8fed582e-d9f7-4d64-b78b-7fa3ce1505d2",
   "metadata": {},
   "outputs": [],
   "source": [
    "landmarks = ['class']\n",
    "for val in range(1, num_coords+1):\n",
    "    landmarks += ['x{}' .format(val), 'y{}' .format(val), 'z{}' .format(val), 'v{}' .format(val)]"
   ]
  },
  {
   "cell_type": "code",
   "execution_count": 44,
   "id": "c18a8303-c9f0-46a2-af1f-8b2376355891",
   "metadata": {},
   "outputs": [
    {
     "data": {
      "text/plain": [
       "['class',\n",
       " 'x1',\n",
       " 'y1',\n",
       " 'z1',\n",
       " 'v1',\n",
       " 'x2',\n",
       " 'y2',\n",
       " 'z2',\n",
       " 'v2',\n",
       " 'x3',\n",
       " 'y3',\n",
       " 'z3',\n",
       " 'v3',\n",
       " 'x4',\n",
       " 'y4',\n",
       " 'z4',\n",
       " 'v4',\n",
       " 'x5',\n",
       " 'y5',\n",
       " 'z5',\n",
       " 'v5',\n",
       " 'x6',\n",
       " 'y6',\n",
       " 'z6',\n",
       " 'v6',\n",
       " 'x7',\n",
       " 'y7',\n",
       " 'z7',\n",
       " 'v7',\n",
       " 'x8',\n",
       " 'y8',\n",
       " 'z8',\n",
       " 'v8',\n",
       " 'x9',\n",
       " 'y9',\n",
       " 'z9',\n",
       " 'v9',\n",
       " 'x10',\n",
       " 'y10',\n",
       " 'z10',\n",
       " 'v10',\n",
       " 'x11',\n",
       " 'y11',\n",
       " 'z11',\n",
       " 'v11',\n",
       " 'x12',\n",
       " 'y12',\n",
       " 'z12',\n",
       " 'v12',\n",
       " 'x13',\n",
       " 'y13',\n",
       " 'z13',\n",
       " 'v13',\n",
       " 'x14',\n",
       " 'y14',\n",
       " 'z14',\n",
       " 'v14',\n",
       " 'x15',\n",
       " 'y15',\n",
       " 'z15',\n",
       " 'v15',\n",
       " 'x16',\n",
       " 'y16',\n",
       " 'z16',\n",
       " 'v16',\n",
       " 'x17',\n",
       " 'y17',\n",
       " 'z17',\n",
       " 'v17',\n",
       " 'x18',\n",
       " 'y18',\n",
       " 'z18',\n",
       " 'v18',\n",
       " 'x19',\n",
       " 'y19',\n",
       " 'z19',\n",
       " 'v19',\n",
       " 'x20',\n",
       " 'y20',\n",
       " 'z20',\n",
       " 'v20',\n",
       " 'x21',\n",
       " 'y21',\n",
       " 'z21',\n",
       " 'v21',\n",
       " 'x22',\n",
       " 'y22',\n",
       " 'z22',\n",
       " 'v22',\n",
       " 'x23',\n",
       " 'y23',\n",
       " 'z23',\n",
       " 'v23',\n",
       " 'x24',\n",
       " 'y24',\n",
       " 'z24',\n",
       " 'v24',\n",
       " 'x25',\n",
       " 'y25',\n",
       " 'z25',\n",
       " 'v25',\n",
       " 'x26',\n",
       " 'y26',\n",
       " 'z26',\n",
       " 'v26',\n",
       " 'x27',\n",
       " 'y27',\n",
       " 'z27',\n",
       " 'v27',\n",
       " 'x28',\n",
       " 'y28',\n",
       " 'z28',\n",
       " 'v28',\n",
       " 'x29',\n",
       " 'y29',\n",
       " 'z29',\n",
       " 'v29',\n",
       " 'x30',\n",
       " 'y30',\n",
       " 'z30',\n",
       " 'v30',\n",
       " 'x31',\n",
       " 'y31',\n",
       " 'z31',\n",
       " 'v31',\n",
       " 'x32',\n",
       " 'y32',\n",
       " 'z32',\n",
       " 'v32',\n",
       " 'x33',\n",
       " 'y33',\n",
       " 'z33',\n",
       " 'v33',\n",
       " 'x34',\n",
       " 'y34',\n",
       " 'z34',\n",
       " 'v34',\n",
       " 'x35',\n",
       " 'y35',\n",
       " 'z35',\n",
       " 'v35',\n",
       " 'x36',\n",
       " 'y36',\n",
       " 'z36',\n",
       " 'v36',\n",
       " 'x37',\n",
       " 'y37',\n",
       " 'z37',\n",
       " 'v37',\n",
       " 'x38',\n",
       " 'y38',\n",
       " 'z38',\n",
       " 'v38',\n",
       " 'x39',\n",
       " 'y39',\n",
       " 'z39',\n",
       " 'v39',\n",
       " 'x40',\n",
       " 'y40',\n",
       " 'z40',\n",
       " 'v40',\n",
       " 'x41',\n",
       " 'y41',\n",
       " 'z41',\n",
       " 'v41',\n",
       " 'x42',\n",
       " 'y42',\n",
       " 'z42',\n",
       " 'v42',\n",
       " 'x43',\n",
       " 'y43',\n",
       " 'z43',\n",
       " 'v43',\n",
       " 'x44',\n",
       " 'y44',\n",
       " 'z44',\n",
       " 'v44',\n",
       " 'x45',\n",
       " 'y45',\n",
       " 'z45',\n",
       " 'v45',\n",
       " 'x46',\n",
       " 'y46',\n",
       " 'z46',\n",
       " 'v46',\n",
       " 'x47',\n",
       " 'y47',\n",
       " 'z47',\n",
       " 'v47',\n",
       " 'x48',\n",
       " 'y48',\n",
       " 'z48',\n",
       " 'v48',\n",
       " 'x49',\n",
       " 'y49',\n",
       " 'z49',\n",
       " 'v49',\n",
       " 'x50',\n",
       " 'y50',\n",
       " 'z50',\n",
       " 'v50',\n",
       " 'x51',\n",
       " 'y51',\n",
       " 'z51',\n",
       " 'v51',\n",
       " 'x52',\n",
       " 'y52',\n",
       " 'z52',\n",
       " 'v52',\n",
       " 'x53',\n",
       " 'y53',\n",
       " 'z53',\n",
       " 'v53',\n",
       " 'x54',\n",
       " 'y54',\n",
       " 'z54',\n",
       " 'v54',\n",
       " 'x55',\n",
       " 'y55',\n",
       " 'z55',\n",
       " 'v55',\n",
       " 'x56',\n",
       " 'y56',\n",
       " 'z56',\n",
       " 'v56',\n",
       " 'x57',\n",
       " 'y57',\n",
       " 'z57',\n",
       " 'v57',\n",
       " 'x58',\n",
       " 'y58',\n",
       " 'z58',\n",
       " 'v58',\n",
       " 'x59',\n",
       " 'y59',\n",
       " 'z59',\n",
       " 'v59',\n",
       " 'x60',\n",
       " 'y60',\n",
       " 'z60',\n",
       " 'v60',\n",
       " 'x61',\n",
       " 'y61',\n",
       " 'z61',\n",
       " 'v61',\n",
       " 'x62',\n",
       " 'y62',\n",
       " 'z62',\n",
       " 'v62',\n",
       " 'x63',\n",
       " 'y63',\n",
       " 'z63',\n",
       " 'v63',\n",
       " 'x64',\n",
       " 'y64',\n",
       " 'z64',\n",
       " 'v64',\n",
       " 'x65',\n",
       " 'y65',\n",
       " 'z65',\n",
       " 'v65',\n",
       " 'x66',\n",
       " 'y66',\n",
       " 'z66',\n",
       " 'v66',\n",
       " 'x67',\n",
       " 'y67',\n",
       " 'z67',\n",
       " 'v67',\n",
       " 'x68',\n",
       " 'y68',\n",
       " 'z68',\n",
       " 'v68',\n",
       " 'x69',\n",
       " 'y69',\n",
       " 'z69',\n",
       " 'v69',\n",
       " 'x70',\n",
       " 'y70',\n",
       " 'z70',\n",
       " 'v70',\n",
       " 'x71',\n",
       " 'y71',\n",
       " 'z71',\n",
       " 'v71',\n",
       " 'x72',\n",
       " 'y72',\n",
       " 'z72',\n",
       " 'v72',\n",
       " 'x73',\n",
       " 'y73',\n",
       " 'z73',\n",
       " 'v73',\n",
       " 'x74',\n",
       " 'y74',\n",
       " 'z74',\n",
       " 'v74',\n",
       " 'x75',\n",
       " 'y75',\n",
       " 'z75',\n",
       " 'v75',\n",
       " 'x76',\n",
       " 'y76',\n",
       " 'z76',\n",
       " 'v76',\n",
       " 'x77',\n",
       " 'y77',\n",
       " 'z77',\n",
       " 'v77',\n",
       " 'x78',\n",
       " 'y78',\n",
       " 'z78',\n",
       " 'v78',\n",
       " 'x79',\n",
       " 'y79',\n",
       " 'z79',\n",
       " 'v79',\n",
       " 'x80',\n",
       " 'y80',\n",
       " 'z80',\n",
       " 'v80',\n",
       " 'x81',\n",
       " 'y81',\n",
       " 'z81',\n",
       " 'v81',\n",
       " 'x82',\n",
       " 'y82',\n",
       " 'z82',\n",
       " 'v82',\n",
       " 'x83',\n",
       " 'y83',\n",
       " 'z83',\n",
       " 'v83',\n",
       " 'x84',\n",
       " 'y84',\n",
       " 'z84',\n",
       " 'v84',\n",
       " 'x85',\n",
       " 'y85',\n",
       " 'z85',\n",
       " 'v85',\n",
       " 'x86',\n",
       " 'y86',\n",
       " 'z86',\n",
       " 'v86',\n",
       " 'x87',\n",
       " 'y87',\n",
       " 'z87',\n",
       " 'v87',\n",
       " 'x88',\n",
       " 'y88',\n",
       " 'z88',\n",
       " 'v88',\n",
       " 'x89',\n",
       " 'y89',\n",
       " 'z89',\n",
       " 'v89',\n",
       " 'x90',\n",
       " 'y90',\n",
       " 'z90',\n",
       " 'v90',\n",
       " 'x91',\n",
       " 'y91',\n",
       " 'z91',\n",
       " 'v91',\n",
       " 'x92',\n",
       " 'y92',\n",
       " 'z92',\n",
       " 'v92',\n",
       " 'x93',\n",
       " 'y93',\n",
       " 'z93',\n",
       " 'v93',\n",
       " 'x94',\n",
       " 'y94',\n",
       " 'z94',\n",
       " 'v94',\n",
       " 'x95',\n",
       " 'y95',\n",
       " 'z95',\n",
       " 'v95',\n",
       " 'x96',\n",
       " 'y96',\n",
       " 'z96',\n",
       " 'v96',\n",
       " 'x97',\n",
       " 'y97',\n",
       " 'z97',\n",
       " 'v97',\n",
       " 'x98',\n",
       " 'y98',\n",
       " 'z98',\n",
       " 'v98',\n",
       " 'x99',\n",
       " 'y99',\n",
       " 'z99',\n",
       " 'v99',\n",
       " 'x100',\n",
       " 'y100',\n",
       " 'z100',\n",
       " 'v100',\n",
       " 'x101',\n",
       " 'y101',\n",
       " 'z101',\n",
       " 'v101',\n",
       " 'x102',\n",
       " 'y102',\n",
       " 'z102',\n",
       " 'v102',\n",
       " 'x103',\n",
       " 'y103',\n",
       " 'z103',\n",
       " 'v103',\n",
       " 'x104',\n",
       " 'y104',\n",
       " 'z104',\n",
       " 'v104',\n",
       " 'x105',\n",
       " 'y105',\n",
       " 'z105',\n",
       " 'v105',\n",
       " 'x106',\n",
       " 'y106',\n",
       " 'z106',\n",
       " 'v106',\n",
       " 'x107',\n",
       " 'y107',\n",
       " 'z107',\n",
       " 'v107',\n",
       " 'x108',\n",
       " 'y108',\n",
       " 'z108',\n",
       " 'v108',\n",
       " 'x109',\n",
       " 'y109',\n",
       " 'z109',\n",
       " 'v109',\n",
       " 'x110',\n",
       " 'y110',\n",
       " 'z110',\n",
       " 'v110',\n",
       " 'x111',\n",
       " 'y111',\n",
       " 'z111',\n",
       " 'v111',\n",
       " 'x112',\n",
       " 'y112',\n",
       " 'z112',\n",
       " 'v112',\n",
       " 'x113',\n",
       " 'y113',\n",
       " 'z113',\n",
       " 'v113',\n",
       " 'x114',\n",
       " 'y114',\n",
       " 'z114',\n",
       " 'v114',\n",
       " 'x115',\n",
       " 'y115',\n",
       " 'z115',\n",
       " 'v115',\n",
       " 'x116',\n",
       " 'y116',\n",
       " 'z116',\n",
       " 'v116',\n",
       " 'x117',\n",
       " 'y117',\n",
       " 'z117',\n",
       " 'v117',\n",
       " 'x118',\n",
       " 'y118',\n",
       " 'z118',\n",
       " 'v118',\n",
       " 'x119',\n",
       " 'y119',\n",
       " 'z119',\n",
       " 'v119',\n",
       " 'x120',\n",
       " 'y120',\n",
       " 'z120',\n",
       " 'v120',\n",
       " 'x121',\n",
       " 'y121',\n",
       " 'z121',\n",
       " 'v121',\n",
       " 'x122',\n",
       " 'y122',\n",
       " 'z122',\n",
       " 'v122',\n",
       " 'x123',\n",
       " 'y123',\n",
       " 'z123',\n",
       " 'v123',\n",
       " 'x124',\n",
       " 'y124',\n",
       " 'z124',\n",
       " 'v124',\n",
       " 'x125',\n",
       " 'y125',\n",
       " 'z125',\n",
       " 'v125',\n",
       " 'x126',\n",
       " 'y126',\n",
       " 'z126',\n",
       " 'v126',\n",
       " 'x127',\n",
       " 'y127',\n",
       " 'z127',\n",
       " 'v127',\n",
       " 'x128',\n",
       " 'y128',\n",
       " 'z128',\n",
       " 'v128',\n",
       " 'x129',\n",
       " 'y129',\n",
       " 'z129',\n",
       " 'v129',\n",
       " 'x130',\n",
       " 'y130',\n",
       " 'z130',\n",
       " 'v130',\n",
       " 'x131',\n",
       " 'y131',\n",
       " 'z131',\n",
       " 'v131',\n",
       " 'x132',\n",
       " 'y132',\n",
       " 'z132',\n",
       " 'v132',\n",
       " 'x133',\n",
       " 'y133',\n",
       " 'z133',\n",
       " 'v133',\n",
       " 'x134',\n",
       " 'y134',\n",
       " 'z134',\n",
       " 'v134',\n",
       " 'x135',\n",
       " 'y135',\n",
       " 'z135',\n",
       " 'v135',\n",
       " 'x136',\n",
       " 'y136',\n",
       " 'z136',\n",
       " 'v136',\n",
       " 'x137',\n",
       " 'y137',\n",
       " 'z137',\n",
       " 'v137',\n",
       " 'x138',\n",
       " 'y138',\n",
       " 'z138',\n",
       " 'v138',\n",
       " 'x139',\n",
       " 'y139',\n",
       " 'z139',\n",
       " 'v139',\n",
       " 'x140',\n",
       " 'y140',\n",
       " 'z140',\n",
       " 'v140',\n",
       " 'x141',\n",
       " 'y141',\n",
       " 'z141',\n",
       " 'v141',\n",
       " 'x142',\n",
       " 'y142',\n",
       " 'z142',\n",
       " 'v142',\n",
       " 'x143',\n",
       " 'y143',\n",
       " 'z143',\n",
       " 'v143',\n",
       " 'x144',\n",
       " 'y144',\n",
       " 'z144',\n",
       " 'v144',\n",
       " 'x145',\n",
       " 'y145',\n",
       " 'z145',\n",
       " 'v145',\n",
       " 'x146',\n",
       " 'y146',\n",
       " 'z146',\n",
       " 'v146',\n",
       " 'x147',\n",
       " 'y147',\n",
       " 'z147',\n",
       " 'v147',\n",
       " 'x148',\n",
       " 'y148',\n",
       " 'z148',\n",
       " 'v148',\n",
       " 'x149',\n",
       " 'y149',\n",
       " 'z149',\n",
       " 'v149',\n",
       " 'x150',\n",
       " 'y150',\n",
       " 'z150',\n",
       " 'v150',\n",
       " 'x151',\n",
       " 'y151',\n",
       " 'z151',\n",
       " 'v151',\n",
       " 'x152',\n",
       " 'y152',\n",
       " 'z152',\n",
       " 'v152',\n",
       " 'x153',\n",
       " 'y153',\n",
       " 'z153',\n",
       " 'v153',\n",
       " 'x154',\n",
       " 'y154',\n",
       " 'z154',\n",
       " 'v154',\n",
       " 'x155',\n",
       " 'y155',\n",
       " 'z155',\n",
       " 'v155',\n",
       " 'x156',\n",
       " 'y156',\n",
       " 'z156',\n",
       " 'v156',\n",
       " 'x157',\n",
       " 'y157',\n",
       " 'z157',\n",
       " 'v157',\n",
       " 'x158',\n",
       " 'y158',\n",
       " 'z158',\n",
       " 'v158',\n",
       " 'x159',\n",
       " 'y159',\n",
       " 'z159',\n",
       " 'v159',\n",
       " 'x160',\n",
       " 'y160',\n",
       " 'z160',\n",
       " 'v160',\n",
       " 'x161',\n",
       " 'y161',\n",
       " 'z161',\n",
       " 'v161',\n",
       " 'x162',\n",
       " 'y162',\n",
       " 'z162',\n",
       " 'v162',\n",
       " 'x163',\n",
       " 'y163',\n",
       " 'z163',\n",
       " 'v163',\n",
       " 'x164',\n",
       " 'y164',\n",
       " 'z164',\n",
       " 'v164',\n",
       " 'x165',\n",
       " 'y165',\n",
       " 'z165',\n",
       " 'v165',\n",
       " 'x166',\n",
       " 'y166',\n",
       " 'z166',\n",
       " 'v166',\n",
       " 'x167',\n",
       " 'y167',\n",
       " 'z167',\n",
       " 'v167',\n",
       " 'x168',\n",
       " 'y168',\n",
       " 'z168',\n",
       " 'v168',\n",
       " 'x169',\n",
       " 'y169',\n",
       " 'z169',\n",
       " 'v169',\n",
       " 'x170',\n",
       " 'y170',\n",
       " 'z170',\n",
       " 'v170',\n",
       " 'x171',\n",
       " 'y171',\n",
       " 'z171',\n",
       " 'v171',\n",
       " 'x172',\n",
       " 'y172',\n",
       " 'z172',\n",
       " 'v172',\n",
       " 'x173',\n",
       " 'y173',\n",
       " 'z173',\n",
       " 'v173',\n",
       " 'x174',\n",
       " 'y174',\n",
       " 'z174',\n",
       " 'v174',\n",
       " 'x175',\n",
       " 'y175',\n",
       " 'z175',\n",
       " 'v175',\n",
       " 'x176',\n",
       " 'y176',\n",
       " 'z176',\n",
       " 'v176',\n",
       " 'x177',\n",
       " 'y177',\n",
       " 'z177',\n",
       " 'v177',\n",
       " 'x178',\n",
       " 'y178',\n",
       " 'z178',\n",
       " 'v178',\n",
       " 'x179',\n",
       " 'y179',\n",
       " 'z179',\n",
       " 'v179',\n",
       " 'x180',\n",
       " 'y180',\n",
       " 'z180',\n",
       " 'v180',\n",
       " 'x181',\n",
       " 'y181',\n",
       " 'z181',\n",
       " 'v181',\n",
       " 'x182',\n",
       " 'y182',\n",
       " 'z182',\n",
       " 'v182',\n",
       " 'x183',\n",
       " 'y183',\n",
       " 'z183',\n",
       " 'v183',\n",
       " 'x184',\n",
       " 'y184',\n",
       " 'z184',\n",
       " 'v184',\n",
       " 'x185',\n",
       " 'y185',\n",
       " 'z185',\n",
       " 'v185',\n",
       " 'x186',\n",
       " 'y186',\n",
       " 'z186',\n",
       " 'v186',\n",
       " 'x187',\n",
       " 'y187',\n",
       " 'z187',\n",
       " 'v187',\n",
       " 'x188',\n",
       " 'y188',\n",
       " 'z188',\n",
       " 'v188',\n",
       " 'x189',\n",
       " 'y189',\n",
       " 'z189',\n",
       " 'v189',\n",
       " 'x190',\n",
       " 'y190',\n",
       " 'z190',\n",
       " 'v190',\n",
       " 'x191',\n",
       " 'y191',\n",
       " 'z191',\n",
       " 'v191',\n",
       " 'x192',\n",
       " 'y192',\n",
       " 'z192',\n",
       " 'v192',\n",
       " 'x193',\n",
       " 'y193',\n",
       " 'z193',\n",
       " 'v193',\n",
       " 'x194',\n",
       " 'y194',\n",
       " 'z194',\n",
       " 'v194',\n",
       " 'x195',\n",
       " 'y195',\n",
       " 'z195',\n",
       " 'v195',\n",
       " 'x196',\n",
       " 'y196',\n",
       " 'z196',\n",
       " 'v196',\n",
       " 'x197',\n",
       " 'y197',\n",
       " 'z197',\n",
       " 'v197',\n",
       " 'x198',\n",
       " 'y198',\n",
       " 'z198',\n",
       " 'v198',\n",
       " 'x199',\n",
       " 'y199',\n",
       " 'z199',\n",
       " 'v199',\n",
       " 'x200',\n",
       " 'y200',\n",
       " 'z200',\n",
       " 'v200',\n",
       " 'x201',\n",
       " 'y201',\n",
       " 'z201',\n",
       " 'v201',\n",
       " 'x202',\n",
       " 'y202',\n",
       " 'z202',\n",
       " 'v202',\n",
       " 'x203',\n",
       " 'y203',\n",
       " 'z203',\n",
       " 'v203',\n",
       " 'x204',\n",
       " 'y204',\n",
       " 'z204',\n",
       " 'v204',\n",
       " 'x205',\n",
       " 'y205',\n",
       " 'z205',\n",
       " 'v205',\n",
       " 'x206',\n",
       " 'y206',\n",
       " 'z206',\n",
       " 'v206',\n",
       " 'x207',\n",
       " 'y207',\n",
       " 'z207',\n",
       " 'v207',\n",
       " 'x208',\n",
       " 'y208',\n",
       " 'z208',\n",
       " 'v208',\n",
       " 'x209',\n",
       " 'y209',\n",
       " 'z209',\n",
       " 'v209',\n",
       " 'x210',\n",
       " 'y210',\n",
       " 'z210',\n",
       " 'v210',\n",
       " 'x211',\n",
       " 'y211',\n",
       " 'z211',\n",
       " 'v211',\n",
       " 'x212',\n",
       " 'y212',\n",
       " 'z212',\n",
       " 'v212',\n",
       " 'x213',\n",
       " 'y213',\n",
       " 'z213',\n",
       " 'v213',\n",
       " 'x214',\n",
       " 'y214',\n",
       " 'z214',\n",
       " 'v214',\n",
       " 'x215',\n",
       " 'y215',\n",
       " 'z215',\n",
       " 'v215',\n",
       " 'x216',\n",
       " 'y216',\n",
       " 'z216',\n",
       " 'v216',\n",
       " 'x217',\n",
       " 'y217',\n",
       " 'z217',\n",
       " 'v217',\n",
       " 'x218',\n",
       " 'y218',\n",
       " 'z218',\n",
       " 'v218',\n",
       " 'x219',\n",
       " 'y219',\n",
       " 'z219',\n",
       " 'v219',\n",
       " 'x220',\n",
       " 'y220',\n",
       " 'z220',\n",
       " 'v220',\n",
       " 'x221',\n",
       " 'y221',\n",
       " 'z221',\n",
       " 'v221',\n",
       " 'x222',\n",
       " 'y222',\n",
       " 'z222',\n",
       " 'v222',\n",
       " 'x223',\n",
       " 'y223',\n",
       " 'z223',\n",
       " 'v223',\n",
       " 'x224',\n",
       " 'y224',\n",
       " 'z224',\n",
       " 'v224',\n",
       " 'x225',\n",
       " 'y225',\n",
       " 'z225',\n",
       " 'v225',\n",
       " 'x226',\n",
       " 'y226',\n",
       " 'z226',\n",
       " 'v226',\n",
       " 'x227',\n",
       " 'y227',\n",
       " 'z227',\n",
       " 'v227',\n",
       " 'x228',\n",
       " 'y228',\n",
       " 'z228',\n",
       " 'v228',\n",
       " 'x229',\n",
       " 'y229',\n",
       " 'z229',\n",
       " 'v229',\n",
       " 'x230',\n",
       " 'y230',\n",
       " 'z230',\n",
       " 'v230',\n",
       " 'x231',\n",
       " 'y231',\n",
       " 'z231',\n",
       " 'v231',\n",
       " 'x232',\n",
       " 'y232',\n",
       " 'z232',\n",
       " 'v232',\n",
       " 'x233',\n",
       " 'y233',\n",
       " 'z233',\n",
       " 'v233',\n",
       " 'x234',\n",
       " 'y234',\n",
       " 'z234',\n",
       " 'v234',\n",
       " 'x235',\n",
       " 'y235',\n",
       " 'z235',\n",
       " 'v235',\n",
       " 'x236',\n",
       " 'y236',\n",
       " 'z236',\n",
       " 'v236',\n",
       " 'x237',\n",
       " 'y237',\n",
       " 'z237',\n",
       " 'v237',\n",
       " 'x238',\n",
       " 'y238',\n",
       " 'z238',\n",
       " 'v238',\n",
       " 'x239',\n",
       " 'y239',\n",
       " 'z239',\n",
       " 'v239',\n",
       " 'x240',\n",
       " 'y240',\n",
       " 'z240',\n",
       " 'v240',\n",
       " 'x241',\n",
       " 'y241',\n",
       " 'z241',\n",
       " 'v241',\n",
       " 'x242',\n",
       " 'y242',\n",
       " 'z242',\n",
       " 'v242',\n",
       " 'x243',\n",
       " 'y243',\n",
       " 'z243',\n",
       " 'v243',\n",
       " 'x244',\n",
       " 'y244',\n",
       " 'z244',\n",
       " 'v244',\n",
       " 'x245',\n",
       " 'y245',\n",
       " 'z245',\n",
       " 'v245',\n",
       " 'x246',\n",
       " 'y246',\n",
       " 'z246',\n",
       " 'v246',\n",
       " 'x247',\n",
       " 'y247',\n",
       " 'z247',\n",
       " 'v247',\n",
       " 'x248',\n",
       " 'y248',\n",
       " 'z248',\n",
       " 'v248',\n",
       " 'x249',\n",
       " 'y249',\n",
       " 'z249',\n",
       " 'v249',\n",
       " 'x250',\n",
       " 'y250',\n",
       " 'z250',\n",
       " ...]"
      ]
     },
     "execution_count": 44,
     "metadata": {},
     "output_type": "execute_result"
    }
   ],
   "source": [
    "landmarks"
   ]
  },
  {
   "cell_type": "markdown",
   "id": "cb52dcc2-2f73-4648-bead-75a95b46cbb8",
   "metadata": {},
   "source": [
    "# Export columns to CSV"
   ]
  },
  {
   "cell_type": "code",
   "execution_count": 47,
   "id": "522e5c55-cf84-4fe2-9049-b9850f2f937a",
   "metadata": {},
   "outputs": [],
   "source": [
    "with open('coords.csv', mode='w', newline='') as f:\n",
    "    csv_writer = csv.writer(f, delimiter=',', quotechar='\"', quoting=csv.QUOTE_MINIMAL)\n",
    "    csv_writer.writerow(landmarks)"
   ]
  },
  {
   "cell_type": "code",
   "execution_count": 61,
   "id": "6d1066d4-972c-4f92-85c1-f8b5ecc2b306",
   "metadata": {},
   "outputs": [],
   "source": [
    "import cv2\n",
    "import mediapipe as mp\n",
    "import numpy as np\n",
    "import csv\n",
    "\n",
    "# Initialize Mediapipe holistic model and drawing utils\n",
    "mp_holistic = mp.solutions.holistic\n",
    "mp_drawing = mp.solutions.drawing_utils\n",
    "\n",
    "# Specify the class name for labeling in CSV\n",
    "class_name= \"Happy\"\n",
    "#class_name= \"Sad\"\n",
    "#class_name= \"Gratitude\"\n",
    "\n",
    "# Open webcam video capture\n",
    "cap = cv2.VideoCapture(0)\n",
    "\n",
    "# Initiate holistic model with context manager\n",
    "with mp_holistic.Holistic(min_detection_confidence=0.5, min_tracking_confidence=0.5) as holistic:\n",
    "    \n",
    "    while cap.isOpened():\n",
    "        ret, frame = cap.read()\n",
    "        if not ret:\n",
    "            break\n",
    "        \n",
    "        # Recolor feed to RGB for Mediapipe processing\n",
    "        image = cv2.cvtColor(frame, cv2.COLOR_BGR2RGB)\n",
    "        image.flags.writeable = False\n",
    "        \n",
    "        # Process image for holistic detections\n",
    "        results = holistic.process(image)\n",
    "        \n",
    "        # Recolor image back to BGR for OpenCV display\n",
    "        image.flags.writeable = True\n",
    "        image = cv2.cvtColor(image, cv2.COLOR_RGB2BGR)\n",
    "        \n",
    "        # 1. Draw face landmarks if detected, using FACEMESH_TESSELATION\n",
    "        if results.face_landmarks:\n",
    "            mp_drawing.draw_landmarks(\n",
    "                image, results.face_landmarks, mp_holistic.FACEMESH_TESSELATION,\n",
    "                mp_drawing.DrawingSpec(color=(80, 110, 10), thickness=1, circle_radius=1),\n",
    "                mp_drawing.DrawingSpec(color=(80, 256, 121), thickness=1, circle_radius=1)\n",
    "            )\n",
    "        \n",
    "        # 2. Right hand landmarks if detected\n",
    "        if results.right_hand_landmarks:\n",
    "            mp_drawing.draw_landmarks(\n",
    "                image, results.right_hand_landmarks, mp_holistic.HAND_CONNECTIONS,\n",
    "                mp_drawing.DrawingSpec(color=(80, 22, 10), thickness=2, circle_radius=4),\n",
    "                mp_drawing.DrawingSpec(color=(80, 44, 121), thickness=2, circle_radius=2)\n",
    "            )\n",
    "\n",
    "        # 3. Left hand landmarks if detected\n",
    "        if results.left_hand_landmarks:\n",
    "            mp_drawing.draw_landmarks(\n",
    "                image, results.left_hand_landmarks, mp_holistic.HAND_CONNECTIONS,\n",
    "                mp_drawing.DrawingSpec(color=(121, 22, 76), thickness=2, circle_radius=4),\n",
    "                mp_drawing.DrawingSpec(color=(121, 44, 250), thickness=2, circle_radius=2)\n",
    "            )\n",
    "\n",
    "        # 4. Pose landmarks if detected\n",
    "        if results.pose_landmarks:\n",
    "            mp_drawing.draw_landmarks(\n",
    "                image, results.pose_landmarks, mp_holistic.POSE_CONNECTIONS,\n",
    "                mp_drawing.DrawingSpec(color=(245, 117, 66), thickness=2, circle_radius=4),\n",
    "                mp_drawing.DrawingSpec(color=(245, 66, 230), thickness=2, circle_radius=2)\n",
    "            )\n",
    "        \n",
    "        # Export coordinates to CSV if pose and face landmarks are detected\n",
    "        try:\n",
    "            if results.pose_landmarks and results.face_landmarks:\n",
    "                # Extract Pose landmarks\n",
    "                pose = results.pose_landmarks.landmark\n",
    "                pose_row = list(np.array([[landmark.x, landmark.y, landmark.z, landmark.visibility] for landmark in pose]).flatten())\n",
    "                \n",
    "                # Extract Face landmarks\n",
    "                face = results.face_landmarks.landmark\n",
    "                face_row = list(np.array([[landmark.x, landmark.y, landmark.z, landmark.visibility] for landmark in face]).flatten())\n",
    "                \n",
    "                # Concatenate pose and face rows\n",
    "                row = pose_row + face_row\n",
    "                \n",
    "                # Append class name to the beginning of the row\n",
    "                row.insert(0, class_name)\n",
    "                \n",
    "                # Write row to CSV\n",
    "                with open('coords.csv', mode='a', newline='') as f:\n",
    "                    csv_writer = csv.writer(f, delimiter=',', quotechar='\"', quoting=csv.QUOTE_MINIMAL)\n",
    "                    csv_writer.writerow(row) \n",
    "            \n",
    "        except Exception as e:\n",
    "            print(f\"Error writing to CSV: {e}\")\n",
    "                        \n",
    "        # Display the annotated image\n",
    "        cv2.imshow('Holistic Model Feed', image)\n",
    "\n",
    "        # Exit loop on 'q' key press\n",
    "        if cv2.waitKey(10) & 0xFF == ord('q'):\n",
    "            break\n",
    "\n",
    "# Release resources\n",
    "cap.release()\n",
    "cv2.destroyAllWindows()\n"
   ]
  },
  {
   "cell_type": "code",
   "execution_count": 63,
   "id": "4adbc245-ef14-4c07-b03c-af618c37ff8c",
   "metadata": {},
   "outputs": [
    {
     "data": {
      "text/plain": [
       "132"
      ]
     },
     "execution_count": 63,
     "metadata": {},
     "output_type": "execute_result"
    }
   ],
   "source": [
    "len(pose_row)"
   ]
  },
  {
   "cell_type": "code",
   "execution_count": 65,
   "id": "8212f4b3-8280-45e6-a07b-f010fae10051",
   "metadata": {},
   "outputs": [
    {
     "data": {
      "text/plain": [
       "1872"
      ]
     },
     "execution_count": 65,
     "metadata": {},
     "output_type": "execute_result"
    }
   ],
   "source": [
    "len(face_row)"
   ]
  },
  {
   "cell_type": "code",
   "execution_count": 67,
   "id": "dc963a4b-f5fa-4c07-b8c9-01b35160121e",
   "metadata": {},
   "outputs": [
    {
     "data": {
      "text/plain": [
       "2005"
      ]
     },
     "execution_count": 67,
     "metadata": {},
     "output_type": "execute_result"
    }
   ],
   "source": [
    "len(row)"
   ]
  },
  {
   "cell_type": "code",
   "execution_count": 69,
   "id": "ed6dbcbb-91ee-4680-a775-2e871f428c01",
   "metadata": {},
   "outputs": [
    {
     "data": {
      "text/plain": [
       "['Happy',\n",
       " 0.6626831889152527,\n",
       " 0.45320793986320496,\n",
       " -1.1681499481201172,\n",
       " 0.9992535710334778,\n",
       " 0.6948584914207458,\n",
       " 0.3689972162246704,\n",
       " -1.1252868175506592,\n",
       " 0.9981739521026611,\n",
       " 0.7126237154006958,\n",
       " 0.3684893250465393,\n",
       " -1.1251752376556396,\n",
       " 0.9980438351631165,\n",
       " 0.7289634943008423,\n",
       " 0.36777162551879883,\n",
       " -1.1252477169036865,\n",
       " 0.9972935914993286,\n",
       " 0.6303343772888184,\n",
       " 0.367949903011322,\n",
       " -1.1225523948669434,\n",
       " 0.9987727999687195,\n",
       " 0.6087323427200317,\n",
       " 0.3674427568912506,\n",
       " -1.1218043565750122,\n",
       " 0.9989761114120483,\n",
       " 0.5894484519958496,\n",
       " 0.3681850731372833,\n",
       " -1.1221832036972046,\n",
       " 0.9990412592887878,\n",
       " 0.7542433738708496,\n",
       " 0.37873464822769165,\n",
       " -0.7201250195503235,\n",
       " 0.9976282119750977,\n",
       " 0.5646235346794128,\n",
       " 0.3866193890571594,\n",
       " -0.6689757704734802,\n",
       " 0.9994468092918396,\n",
       " 0.699367344379425,\n",
       " 0.5161064863204956,\n",
       " -1.0010205507278442,\n",
       " 0.9993440508842468,\n",
       " 0.6225343942642212,\n",
       " 0.521381139755249,\n",
       " -0.9898273348808289,\n",
       " 0.9997085332870483,\n",
       " 0.905651867389679,\n",
       " 0.6936513185501099,\n",
       " -0.3519980311393738,\n",
       " 0.9950564503669739,\n",
       " 0.4111127257347107,\n",
       " 0.72205650806427,\n",
       " -0.40885084867477417,\n",
       " 0.9989042282104492,\n",
       " 1.1194428205490112,\n",
       " 1.0236341953277588,\n",
       " -0.3801133632659912,\n",
       " 0.2641183137893677,\n",
       " 0.2500017583370209,\n",
       " 1.0198004245758057,\n",
       " -0.4119636118412018,\n",
       " 0.6938645243644714,\n",
       " 1.1424411535263062,\n",
       " 1.2768367528915405,\n",
       " -0.8835158348083496,\n",
       " 0.09165391325950623,\n",
       " 0.16524899005889893,\n",
       " 1.475928783416748,\n",
       " -1.0095577239990234,\n",
       " 0.33321335911750793,\n",
       " 1.1883203983306885,\n",
       " 1.369961142539978,\n",
       " -1.0213968753814697,\n",
       " 0.08913452178239822,\n",
       " 0.11400052160024643,\n",
       " 1.5942368507385254,\n",
       " -1.1580768823623657,\n",
       " 0.2945205867290497,\n",
       " 1.13951575756073,\n",
       " 1.369171380996704,\n",
       " -1.0440919399261475,\n",
       " 0.13496488332748413,\n",
       " 0.16568776965141296,\n",
       " 1.5799601078033447,\n",
       " -1.2835581302642822,\n",
       " 0.41107815504074097,\n",
       " 1.1089208126068115,\n",
       " 1.3459919691085815,\n",
       " -0.9565837979316711,\n",
       " 0.13738363981246948,\n",
       " 0.1973116248846054,\n",
       " 1.542747974395752,\n",
       " -1.0808053016662598,\n",
       " 0.395393043756485,\n",
       " 0.8305354118347168,\n",
       " 1.5711394548416138,\n",
       " -0.07281795144081116,\n",
       " 0.000824225484393537,\n",
       " 0.5075137615203857,\n",
       " 1.56946861743927,\n",
       " 0.07857310026884079,\n",
       " 0.0007546267006546259,\n",
       " 0.8176676034927368,\n",
       " 2.2539165019989014,\n",
       " -0.04506704583764076,\n",
       " 0.001375621068291366,\n",
       " 0.5099848508834839,\n",
       " 2.258758068084717,\n",
       " 0.10451994836330414,\n",
       " 0.0005755646270699799,\n",
       " 0.8139357566833496,\n",
       " 2.8731448650360107,\n",
       " 0.6262434720993042,\n",
       " 0.00013981969095766544,\n",
       " 0.5160843729972839,\n",
       " 2.8731513023376465,\n",
       " 0.5862941741943359,\n",
       " 2.57989413512405e-05,\n",
       " 0.8227111101150513,\n",
       " 2.9728567600250244,\n",
       " 0.6522619128227234,\n",
       " 0.00010260481940349564,\n",
       " 0.5093420743942261,\n",
       " 2.968226909637451,\n",
       " 0.6129939556121826,\n",
       " 7.681504939682782e-05,\n",
       " 0.7594798803329468,\n",
       " 3.071599245071411,\n",
       " -0.028939982876181602,\n",
       " 0.00012098880688427016,\n",
       " 0.567450225353241,\n",
       " 3.080878734588623,\n",
       " -0.12463690340518951,\n",
       " 0.00011468840239103884,\n",
       " 0.6420585513114929,\n",
       " 0.4786430597305298,\n",
       " -0.024327239021658897,\n",
       " 0.0,\n",
       " 0.6410926580429077,\n",
       " 0.440899521112442,\n",
       " -0.06231936067342758,\n",
       " 0.0,\n",
       " 0.6418562531471252,\n",
       " 0.45051687955856323,\n",
       " -0.030829351395368576,\n",
       " 0.0,\n",
       " 0.6314260959625244,\n",
       " 0.38911348581314087,\n",
       " -0.05170460417866707,\n",
       " 0.0,\n",
       " 0.6410496234893799,\n",
       " 0.42601099610328674,\n",
       " -0.06748970597982407,\n",
       " 0.0,\n",
       " 0.6410362720489502,\n",
       " 0.40491700172424316,\n",
       " -0.06491149216890335,\n",
       " 0.0,\n",
       " 0.6413367986679077,\n",
       " 0.35362282395362854,\n",
       " -0.039794888347387314,\n",
       " 0.0,\n",
       " 0.5623331069946289,\n",
       " 0.3451526165008545,\n",
       " 0.007437181659042835,\n",
       " 0.0,\n",
       " 0.6411208510398865,\n",
       " 0.3197718560695648,\n",
       " -0.035603657364845276,\n",
       " 0.0,\n",
       " 0.6410771608352661,\n",
       " 0.3009044826030731,\n",
       " -0.03985567018389702,\n",
       " 0.0,\n",
       " 0.6415223479270935,\n",
       " 0.22586964070796967,\n",
       " -0.0364043191075325,\n",
       " 0.0,\n",
       " 0.6421436667442322,\n",
       " 0.4849335551261902,\n",
       " -0.022114576771855354,\n",
       " 0.0,\n",
       " 0.6421284675598145,\n",
       " 0.48864325881004333,\n",
       " -0.01839323528110981,\n",
       " 0.0,\n",
       " 0.6422198414802551,\n",
       " 0.48875051736831665,\n",
       " -0.013253947719931602,\n",
       " 0.0,\n",
       " 0.6419577598571777,\n",
       " 0.5110089778900146,\n",
       " -0.005720087792724371,\n",
       " 0.0,\n",
       " 0.6419269442558289,\n",
       " 0.5169532895088196,\n",
       " -0.007293581496924162,\n",
       " 0.0,\n",
       " 0.6418151259422302,\n",
       " 0.5241801142692566,\n",
       " -0.009394093416631222,\n",
       " 0.0,\n",
       " 0.6418070197105408,\n",
       " 0.5321125984191895,\n",
       " -0.007086456753313541,\n",
       " 0.0,\n",
       " 0.6417487859725952,\n",
       " 0.5449329614639282,\n",
       " 0.0036662451457232237,\n",
       " 0.0,\n",
       " 0.6413054466247559,\n",
       " 0.44749337434768677,\n",
       " -0.055786773562431335,\n",
       " 0.0,\n",
       " 0.6297887563705444,\n",
       " 0.44388389587402344,\n",
       " -0.03957701474428177,\n",
       " 0.0,\n",
       " 0.5252358913421631,\n",
       " 0.2873934805393219,\n",
       " 0.05356834828853607,\n",
       " 0.0,\n",
       " 0.5955542325973511,\n",
       " 0.35612934827804565,\n",
       " -0.0033726273104548454,\n",
       " 0.0,\n",
       " 0.584610641002655,\n",
       " 0.35716044902801514,\n",
       " -0.0023741789627820253,\n",
       " 0.0,\n",
       " 0.5735685229301453,\n",
       " 0.35677602887153625,\n",
       " 0.0007133501349017024,\n",
       " 0.0,\n",
       " 0.5579976439476013,\n",
       " 0.3494318127632141,\n",
       " 0.009717443026602268,\n",
       " 0.0,\n",
       " 0.604142427444458,\n",
       " 0.35319069027900696,\n",
       " -0.0028300522826611996,\n",
       " 0.0,\n",
       " 0.5778704881668091,\n",
       " 0.32479071617126465,\n",
       " -0.010339660570025444,\n",
       " 0.0,\n",
       " 0.5898110866546631,\n",
       " 0.3254983425140381,\n",
       " -0.010446909815073013,\n",
       " 0.0,\n",
       " 0.5668982267379761,\n",
       " 0.32680171728134155,\n",
       " -0.0063762967474758625,\n",
       " 0.0,\n",
       " 0.5597467422485352,\n",
       " 0.3311308026313782,\n",
       " -0.001288062077946961,\n",
       " 0.0,\n",
       " 0.5499081611633301,\n",
       " 0.3576854169368744,\n",
       " 0.01629866100847721,\n",
       " 0.0,\n",
       " 0.5992368459701538,\n",
       " 0.5597333312034607,\n",
       " 0.022860484197735786,\n",
       " 0.0,\n",
       " 0.557715654373169,\n",
       " 0.34243345260620117,\n",
       " 0.010730411857366562,\n",
       " 0.0,\n",
       " 0.5198220014572144,\n",
       " 0.348502516746521,\n",
       " 0.06629008799791336,\n",
       " 0.0,\n",
       " 0.537793755531311,\n",
       " 0.3487342596054077,\n",
       " 0.026651177555322647,\n",
       " 0.0,\n",
       " 0.5828913450241089,\n",
       " 0.4151872396469116,\n",
       " -0.007489363197237253,\n",
       " 0.0,\n",
       " 0.6248000264167786,\n",
       " 0.475745290517807,\n",
       " -0.023006103932857513,\n",
       " 0.0,\n",
       " 0.6266977787017822,\n",
       " 0.4873923063278198,\n",
       " -0.016108905896544456,\n",
       " 0.0,\n",
       " 0.6076903939247131,\n",
       " 0.47665584087371826,\n",
       " -0.014912302605807781,\n",
       " 0.0,\n",
       " 0.5975180268287659,\n",
       " 0.47830814123153687,\n",
       " -0.0032992176711559296,\n",
       " 0.0,\n",
       " 0.6142643094062805,\n",
       " 0.48595738410949707,\n",
       " -0.010166090913116932,\n",
       " 0.0,\n",
       " 0.6051351428031921,\n",
       " 0.48494571447372437,\n",
       " 1.990507371374406e-05,\n",
       " 0.0,\n",
       " 0.585490345954895,\n",
       " 0.5005685091018677,\n",
       " 0.021245228126645088,\n",
       " 0.0,\n",
       " 0.6312920451164246,\n",
       " 0.44006720185279846,\n",
       " -0.06128646805882454,\n",
       " 0.0,\n",
       " 0.6298341155052185,\n",
       " 0.4253811538219452,\n",
       " -0.06611055880784988,\n",
       " 0.0,\n",
       " 0.5435610413551331,\n",
       " 0.3167366683483124,\n",
       " -0.0006936198333278298,\n",
       " 0.0,\n",
       " 0.6073012948036194,\n",
       " 0.3813501000404358,\n",
       " -0.013705450110137463,\n",
       " 0.0,\n",
       " 0.6031025052070618,\n",
       " 0.42823001742362976,\n",
       " -0.03271153196692467,\n",
       " 0.0,\n",
       " 0.6026490926742554,\n",
       " 0.41958433389663696,\n",
       " -0.02973538637161255,\n",
       " 0.0,\n",
       " 0.5500493049621582,\n",
       " 0.40974539518356323,\n",
       " 0.007493152283132076,\n",
       " 0.0,\n",
       " 0.6306150555610657,\n",
       " 0.4059823751449585,\n",
       " -0.061135757714509964,\n",
       " 0.0,\n",
       " 0.5687011480331421,\n",
       " 0.3042486608028412,\n",
       " -0.022089974954724312,\n",
       " 0.0,\n",
       " 0.5536324977874756,\n",
       " 0.3080403804779053,\n",
       " -0.012707854621112347,\n",
       " 0.0,\n",
       " 0.5344551801681519,\n",
       " 0.2641703486442566,\n",
       " 0.02842986397445202,\n",
       " 0.0,\n",
       " 0.6174305081367493,\n",
       " 0.31675612926483154,\n",
       " -0.031799547374248505,\n",
       " 0.0,\n",
       " 0.6003484129905701,\n",
       " 0.3293614387512207,\n",
       " -0.006929963827133179,\n",
       " 0.0,\n",
       " 0.575939416885376,\n",
       " 0.48300373554229736,\n",
       " 0.021469762548804283,\n",
       " 0.0,\n",
       " 0.5320442318916321,\n",
       " 0.47911182045936584,\n",
       " 0.1133953407406807,\n",
       " 0.0,\n",
       " 0.6114310026168823,\n",
       " 0.4363939166069031,\n",
       " -0.027578840032219887,\n",
       " 0.0,\n",
       " 0.6212451457977295,\n",
       " 0.4419357180595398,\n",
       " -0.028274046257138252,\n",
       " 0.0,\n",
       " 0.5854929089546204,\n",
       " 0.48370957374572754,\n",
       " 0.02116326615214348,\n",
       " 0.0,\n",
       " 0.5914807319641113,\n",
       " 0.4845149517059326,\n",
       " 0.017991047352552414,\n",
       " 0.0,\n",
       " 0.5477228164672852,\n",
       " 0.29785722494125366,\n",
       " -0.008139949291944504,\n",
       " 0.0,\n",
       " 0.6022743582725525,\n",
       " 0.4323367476463318,\n",
       " -0.025617366656661034,\n",
       " 0.0,\n",
       " 0.5895822048187256,\n",
       " 0.3059953451156616,\n",
       " -0.028804896399378777,\n",
       " 0.0,\n",
       " 0.5873225927352905,\n",
       " 0.29390931129455566,\n",
       " -0.032612159848213196,\n",
       " 0.0,\n",
       " 0.576568067073822,\n",
       " 0.23304353654384613,\n",
       " -0.019327498972415924,\n",
       " 0.0,\n",
       " 0.5413579940795898,\n",
       " 0.2805390954017639,\n",
       " 0.007710471283644438,\n",
       " 0.0,\n",
       " 0.5831428170204163,\n",
       " 0.26229190826416016,\n",
       " -0.02642044797539711,\n",
       " 0.0,\n",
       " 0.5374040603637695,\n",
       " 0.30913299322128296,\n",
       " 0.008225361816585064,\n",
       " 0.0,\n",
       " 0.5313931703567505,\n",
       " 0.2991578280925751,\n",
       " 0.029772993177175522,\n",
       " 0.0,\n",
       " 0.62542724609375,\n",
       " 0.48313868045806885,\n",
       " -0.02059316448867321,\n",
       " 0.0,\n",
       " 0.6112897992134094,\n",
       " 0.4826517701148987,\n",
       " -0.012618398293852806,\n",
       " 0.0,\n",
       " 0.6013169288635254,\n",
       " 0.4818630814552307,\n",
       " -0.0023457331117242575,\n",
       " 0.0,\n",
       " 0.6140692830085754,\n",
       " 0.43858855962753296,\n",
       " -0.025124981999397278,\n",
       " 0.0,\n",
       " 0.5882874727249146,\n",
       " 0.4841172993183136,\n",
       " 0.01937819831073284,\n",
       " 0.0,\n",
       " 0.5944511294364929,\n",
       " 0.4945663809776306,\n",
       " 0.013826160691678524,\n",
       " 0.0,\n",
       " 0.5933898091316223,\n",
       " 0.4845311641693115,\n",
       " 0.017667725682258606,\n",
       " 0.0,\n",
       " 0.6182158589363098,\n",
       " 0.43608322739601135,\n",
       " -0.04447496682405472,\n",
       " 0.0,\n",
       " 0.6074694991111755,\n",
       " 0.4833451509475708,\n",
       " 0.001762628206051886,\n",
       " 0.0,\n",
       " 0.616698682308197,\n",
       " 0.4852854609489441,\n",
       " -0.0056304410099983215,\n",
       " 0.0,\n",
       " 0.6282044649124146,\n",
       " 0.4875071048736572,\n",
       " -0.011257405392825603,\n",
       " 0.0,\n",
       " 0.6243054866790771,\n",
       " 0.5425562858581543,\n",
       " 0.00497066555544734,\n",
       " 0.0,\n",
       " 0.6248722672462463,\n",
       " 0.5293871760368347,\n",
       " -0.005585391074419022,\n",
       " 0.0,\n",
       " 0.6256346106529236,\n",
       " 0.5214684009552002,\n",
       " -0.007409930694848299,\n",
       " 0.0,\n",
       " 0.6266108751296997,\n",
       " 0.51432204246521,\n",
       " -0.005164791364222765,\n",
       " 0.0,\n",
       " 0.6278752088546753,\n",
       " 0.5091869831085205,\n",
       " -0.003802694845944643,\n",
       " 0.0,\n",
       " 0.6067591309547424,\n",
       " 0.49935945868492126,\n",
       " 0.007139552850276232,\n",
       " 0.0,\n",
       " 0.6046227812767029,\n",
       " 0.5009925365447998,\n",
       " 0.005827012937515974,\n",
       " 0.0,\n",
       " 0.6017432808876038,\n",
       " 0.5043139457702637,\n",
       " 0.00501108868047595,\n",
       " 0.0,\n",
       " 0.599429726600647,\n",
       " 0.5084311366081238,\n",
       " 0.007650948129594326,\n",
       " 0.0,\n",
       " 0.5886383652687073,\n",
       " 0.46453049778938293,\n",
       " -0.0020717408042401075,\n",
       " 0.0,\n",
       " 0.5216926336288452,\n",
       " 0.4077301323413849,\n",
       " 0.12046822160482407,\n",
       " 0.0,\n",
       " 0.6415750980377197,\n",
       " 0.44884055852890015,\n",
       " -0.03983547165989876,\n",
       " 0.0,\n",
       " 0.6007659435272217,\n",
       " 0.4938824474811554,\n",
       " 0.013863051310181618,\n",
       " 0.0,\n",
       " 0.5975463390350342,\n",
       " 0.49373066425323486,\n",
       " 0.013216202147305012,\n",
       " 0.0,\n",
       " 0.625361979007721,\n",
       " 0.4486602246761322,\n",
       " -0.027509724721312523,\n",
       " 0.0,\n",
       " 0.6055650115013123,\n",
       " 0.4397038221359253,\n",
       " -0.016050279140472412,\n",
       " 0.0,\n",
       " 0.6233654022216797,\n",
       " 0.44549527764320374,\n",
       " -0.028344448655843735,\n",
       " 0.0,\n",
       " 0.5956248641014099,\n",
       " 0.38782480359077454,\n",
       " -0.008510319516062737,\n",
       " 0.0,\n",
       " 0.5768744349479675,\n",
       " 0.39551490545272827,\n",
       " -0.004212088882923126,\n",
       " 0.0,\n",
       " 0.6004523038864136,\n",
       " 0.4242889881134033,\n",
       " -0.022412920370697975,\n",
       " 0.0,\n",
       " 0.5504319667816162,\n",
       " 0.24548465013504028,\n",
       " 0.0030578088480979204,\n",
       " 0.0,\n",
       " 0.5576119422912598,\n",
       " 0.2675638794898987,\n",
       " -0.010559233836829662,\n",
       " 0.0,\n",
       " 0.5647066235542297,\n",
       " 0.29216524958610535,\n",
       " -0.0213337279856205,\n",
       " 0.0,\n",
       " 0.5952553153038025,\n",
       " 0.5167877078056335,\n",
       " 0.01602897420525551,\n",
       " 0.0,\n",
       " 0.6136123538017273,\n",
       " 0.2979715168476105,\n",
       " -0.03824053704738617,\n",
       " 0.0,\n",
       " 0.6100934743881226,\n",
       " 0.26156067848205566,\n",
       " -0.03556376323103905,\n",
       " 0.0,\n",
       " 0.6059194207191467,\n",
       " 0.22716857492923737,\n",
       " -0.03236032649874687,\n",
       " 0.0,\n",
       " 0.563808262348175,\n",
       " 0.35424891114234924,\n",
       " 0.005474421661347151,\n",
       " 0.0,\n",
       " 0.5383850336074829,\n",
       " 0.36639776825904846,\n",
       " 0.024017805233597755,\n",
       " 0.0,\n",
       " 0.6092816591262817,\n",
       " 0.35014674067497253,\n",
       " -0.0018431012285873294,\n",
       " 0.0,\n",
       " 0.5487183332443237,\n",
       " 0.33424848318099976,\n",
       " 0.008581032045185566,\n",
       " 0.0,\n",
       " 0.6152287125587463,\n",
       " 0.3735303282737732,\n",
       " -0.019119489938020706,\n",
       " 0.0,\n",
       " 0.6107994914054871,\n",
       " 0.42623957991600037,\n",
       " -0.044842008501291275,\n",
       " 0.0,\n",
       " 0.5271213054656982,\n",
       " 0.3752601444721222,\n",
       " 0.03822748735547066,\n",
       " 0.0,\n",
       " 0.5457128882408142,\n",
       " 0.37548261880874634,\n",
       " 0.015080371871590614,\n",
       " 0.0,\n",
       " 0.559491753578186,\n",
       " 0.38084056973457336,\n",
       " 0.005058578681200743,\n",
       " 0.0,\n",
       " 0.5805236101150513,\n",
       " 0.380102276802063,\n",
       " -0.0007358259172178805,\n",
       " 0.0,\n",
       " 0.5962783098220825,\n",
       " 0.3756336569786072,\n",
       " -0.00414532795548439,\n",
       " 0.0,\n",
       " 0.6075096130371094,\n",
       " 0.3701391816139221,\n",
       " -0.008277985267341137,\n",
       " 0.0,\n",
       " 0.63033127784729,\n",
       " 0.35693830251693726,\n",
       " -0.03466511145234108,\n",
       " 0.0,\n",
       " 0.5269883871078491,\n",
       " 0.4034513235092163,\n",
       " 0.0387779176235199,\n",
       " 0.0,\n",
       " 0.5401253700256348,\n",
       " 0.3313712179660797,\n",
       " 0.013307034969329834,\n",
       " 0.0,\n",
       " 0.6351363062858582,\n",
       " 0.446666419506073,\n",
       " -0.055022742599248886,\n",
       " 0.0,\n",
       " 0.6073098182678223,\n",
       " 0.39624732732772827,\n",
       " -0.01708589494228363,\n",
       " 0.0,\n",
       " 0.5188672542572021,\n",
       " 0.34471720457077026,\n",
       " 0.10311449319124222,\n",
       " 0.0,\n",
       " 0.615778386592865,\n",
       " 0.3636510670185089,\n",
       " -0.011348174884915352,\n",
       " 0.0,\n",
       " 0.5992721319198608,\n",
       " 0.42347460985183716,\n",
       " -0.010245131328701973,\n",
       " 0.0,\n",
       " 0.5542199611663818,\n",
       " 0.34282249212265015,\n",
       " 0.01305875089019537,\n",
       " 0.0,\n",
       " 0.6104283332824707,\n",
       " 0.41545534133911133,\n",
       " -0.04129921644926071,\n",
       " 0.0,\n",
       " 0.5246412754058838,\n",
       " 0.44228073954582214,\n",
       " 0.11969267576932907,\n",
       " 0.0,\n",
       " 0.6083244681358337,\n",
       " 0.3454565405845642,\n",
       " 0.00043040700256824493,\n",
       " 0.0,\n",
       " 0.6204179525375366,\n",
       " 0.40959852933883667,\n",
       " -0.053582701832056046,\n",
       " 0.0,\n",
       " 0.5524309277534485,\n",
       " 0.5171968936920166,\n",
       " 0.0609138123691082,\n",
       " 0.0,\n",
       " 0.5551139116287231,\n",
       " 0.5337009429931641,\n",
       " 0.08102305978536606,\n",
       " 0.0,\n",
       " 0.5186848640441895,\n",
       " 0.4073723256587982,\n",
       " 0.07974645495414734,\n",
       " 0.0,\n",
       " 0.5386106967926025,\n",
       " 0.4966280460357666,\n",
       " 0.07105112075805664,\n",
       " 0.0,\n",
       " 0.5255147814750671,\n",
       " 0.3214734196662903,\n",
       " 0.05087188258767128,\n",
       " 0.0,\n",
       " 0.5975344777107239,\n",
       " 0.5755147337913513,\n",
       " 0.030593208968639374,\n",
       " 0.0,\n",
       " 0.6366387009620667,\n",
       " 0.44810187816619873,\n",
       " -0.03905594348907471,\n",
       " 0.0,\n",
       " 0.5968607068061829,\n",
       " 0.4048115015029907,\n",
       " -0.011460760608315468,\n",
       " 0.0,\n",
       " 0.5290344953536987,\n",
       " 0.35054564476013184,\n",
       " 0.03831413388252258,\n",
       " 0.0,\n",
       " 0.5745168328285217,\n",
       " 0.34856903553009033,\n",
       " 0.0009338036761619151,\n",
       " 0.0,\n",
       " 0.584488034248352,\n",
       " 0.34925830364227295,\n",
       " -0.0017798824701458216,\n",
       " 0.0,\n",
       " 0.5915188193321228,\n",
       " 0.4958459436893463,\n",
       " 0.01594180427491665,\n",
       " 0.0,\n",
       " 0.5274906158447266,\n",
       " 0.4322394132614136,\n",
       " 0.0466165617108345,\n",
       " 0.0,\n",
       " 0.6178175210952759,\n",
       " 0.5982118844985962,\n",
       " 0.03409559279680252,\n",
       " 0.0,\n",
       " 0.5851908326148987,\n",
       " 0.5723434686660767,\n",
       " 0.05530683696269989,\n",
       " 0.0,\n",
       " 0.5713542103767395,\n",
       " 0.555709958076477,\n",
       " 0.06697876006364822,\n",
       " 0.0,\n",
       " 0.641245424747467,\n",
       " 0.26227736473083496,\n",
       " -0.03888292983174324,\n",
       " 0.0,\n",
       " 0.6414724588394165,\n",
       " 0.6021950244903564,\n",
       " 0.030787711963057518,\n",
       " 0.0,\n",
       " 0.5935191512107849,\n",
       " 0.34844088554382324,\n",
       " -0.002682216465473175,\n",
       " 0.0,\n",
       " 0.6017381548881531,\n",
       " 0.34662649035453796,\n",
       " -0.001497992780059576,\n",
       " 0.0,\n",
       " 0.6064594388008118,\n",
       " 0.34594109654426575,\n",
       " 0.0004404993378557265,\n",
       " 0.0,\n",
       " 0.5328391194343567,\n",
       " 0.3271922469139099,\n",
       " 0.024404605850577354,\n",
       " 0.0,\n",
       " 0.5985336899757385,\n",
       " 0.3381465673446655,\n",
       " -0.004217506852000952,\n",
       " 0.0,\n",
       " 0.5889760255813599,\n",
       " 0.33555570244789124,\n",
       " -0.006448016967624426,\n",
       " 0.0,\n",
       " 0.5794826745986938,\n",
       " 0.33509328961372375,\n",
       " -0.005755353253334761,\n",
       " 0.0,\n",
       " 0.5699535608291626,\n",
       " 0.33692318201065063,\n",
       " -0.002632063115015626,\n",
       " 0.0,\n",
       " 0.5638606548309326,\n",
       " 0.3396388590335846,\n",
       " 0.0014477348886430264,\n",
       " 0.0,\n",
       " 0.5203237533569336,\n",
       " 0.3125583529472351,\n",
       " 0.08039236813783646,\n",
       " 0.0,\n",
       " 0.5674845576286316,\n",
       " 0.3469879925251007,\n",
       " 0.004400740843266249,\n",
       " 0.0,\n",
       " 0.641873300075531,\n",
       " 0.4593798816204071,\n",
       " -0.02611767128109932,\n",
       " 0.0,\n",
       " 0.5993445515632629,\n",
       " 0.4587957262992859,\n",
       " -0.011962891556322575,\n",
       " 0.0,\n",
       " 0.6114081740379333,\n",
       " 0.43545976281166077,\n",
       " -0.03258655592799187,\n",
       " 0.0,\n",
       " 0.6238290667533875,\n",
       " 0.4589524567127228,\n",
       " -0.024379808455705643,\n",
       " 0.0,\n",
       " 0.6413552165031433,\n",
       " 0.335601270198822,\n",
       " -0.0334562323987484,\n",
       " 0.0,\n",
       " 0.5679079294204712,\n",
       " 0.5385656952857971,\n",
       " 0.053068265318870544,\n",
       " 0.0,\n",
       " 0.5823407173156738,\n",
       " 0.5567643046379089,\n",
       " 0.04282960295677185,\n",
       " 0.0,\n",
       " 0.6172447800636292,\n",
       " 0.5885579586029053,\n",
       " 0.01985718496143818,\n",
       " 0.0,\n",
       " 0.5427456498146057,\n",
       " 0.5100026726722717,\n",
       " 0.09806355834007263,\n",
       " 0.0,\n",
       " 0.6051338315010071,\n",
       " 0.3425094485282898,\n",
       " -0.0015311415772885084,\n",
       " 0.0,\n",
       " 0.6226533055305481,\n",
       " 0.3802827298641205,\n",
       " -0.03505582734942436,\n",
       " 0.0,\n",
       " 0.6414067149162292,\n",
       " 0.5926669836044312,\n",
       " 0.017033230513334274,\n",
       " 0.0,\n",
       " 0.5998560190200806,\n",
       " 0.5875277519226074,\n",
       " 0.042735692113637924,\n",
       " 0.0,\n",
       " 0.5214076042175293,\n",
       " 0.43907430768013,\n",
       " 0.0822228342294693,\n",
       " 0.0,\n",
       " 0.6162182092666626,\n",
       " 0.5049822330474854,\n",
       " 0.0011095893569290638,\n",
       " 0.0,\n",
       " 0.6141384840011597,\n",
       " 0.5085054636001587,\n",
       " -0.00020181240688543767,\n",
       " 0.0,\n",
       " 0.6121576428413391,\n",
       " 0.5140457153320312,\n",
       " -0.0013440059265121818,\n",
       " 0.0,\n",
       " 0.6105994582176208,\n",
       " 0.5211402773857117,\n",
       " 0.0009769356111064553,\n",
       " 0.0,\n",
       " 0.6075974106788635,\n",
       " 0.5318276882171631,\n",
       " 0.009677913039922714,\n",
       " 0.0,\n",
       " 0.5966506004333496,\n",
       " 0.4837307035923004,\n",
       " 0.00939925666898489,\n",
       " 0.0,\n",
       " 0.5928754210472107,\n",
       " 0.4821436107158661,\n",
       " 0.009666582569479942,\n",
       " 0.0,\n",
       " 0.589530348777771,\n",
       " 0.47969701886177063,\n",
       " 0.009341458790004253,\n",
       " 0.0,\n",
       " 0.5798019170761108,\n",
       " 0.47206562757492065,\n",
       " 0.00979672186076641,\n",
       " 0.0,\n",
       " 0.5404607653617859,\n",
       " 0.44042807817459106,\n",
       " 0.024568215012550354,\n",
       " 0.0,\n",
       " 0.6230316162109375,\n",
       " 0.36457955837249756,\n",
       " -0.026078393682837486,\n",
       " 0.0,\n",
       " 0.6170602440834045,\n",
       " 0.33679136633872986,\n",
       " -0.009086163714528084,\n",
       " 0.0,\n",
       " 0.6100941896438599,\n",
       " 0.338370144367218,\n",
       " -0.004242707975208759,\n",
       " 0.0,\n",
       " 0.5996995568275452,\n",
       " 0.4820602536201477,\n",
       " 0.010453923605382442,\n",
       " 0.0,\n",
       " 0.5402942299842834,\n",
       " 0.4753250181674957,\n",
       " 0.04726069048047066,\n",
       " 0.0,\n",
       " 0.6266233325004578,\n",
       " 0.33738431334495544,\n",
       " -0.02477777749300003,\n",
       " 0.0,\n",
       " 0.6034258008003235,\n",
       " 0.5442028641700745,\n",
       " 0.016563763841986656,\n",
       " 0.0,\n",
       " 0.641140341758728,\n",
       " 0.38736698031425476,\n",
       " -0.055992498993873596,\n",
       " 0.0,\n",
       " 0.6307445168495178,\n",
       " 0.37383463978767395,\n",
       " -0.04438428208231926,\n",
       " 0.0,\n",
       " 0.6412402987480164,\n",
       " 0.37115681171417236,\n",
       " -0.047520000487565994,\n",
       " 0.0,\n",
       " 0.614124059677124,\n",
       " 0.40195488929748535,\n",
       " -0.03241218999028206,\n",
       " 0.0,\n",
       " 0.6414932608604431,\n",
       " 0.577601432800293,\n",
       " 0.009509333409368992,\n",
       " 0.0,\n",
       " 0.6416165232658386,\n",
       " 0.559526264667511,\n",
       " 0.0069999173283576965,\n",
       " 0.0,\n",
       " 0.6218374967575073,\n",
       " 0.5565632581710815,\n",
       " 0.009907313622534275,\n",
       " 0.0,\n",
       " 0.5776373744010925,\n",
       " 0.5070957541465759,\n",
       " 0.02798657864332199,\n",
       " 0.0,\n",
       " 0.59009850025177,\n",
       " 0.4336857199668884,\n",
       " -0.005350345280021429,\n",
       " 0.0,\n",
       " 0.5894505381584167,\n",
       " 0.5273255705833435,\n",
       " 0.02342383936047554,\n",
       " 0.0,\n",
       " 0.5642127990722656,\n",
       " 0.4306485652923584,\n",
       " 0.00018561870092526078,\n",
       " 0.0,\n",
       " 0.579248309135437,\n",
       " 0.4469004273414612,\n",
       " 0.0005399479996412992,\n",
       " 0.0,\n",
       " 0.554749071598053,\n",
       " 0.4518010914325714,\n",
       " 0.014017023146152496,\n",
       " 0.0,\n",
       " 0.6186511516571045,\n",
       " 0.5736332535743713,\n",
       " 0.012880265712738037,\n",
       " 0.0,\n",
       " 0.6069582104682922,\n",
       " 0.40789011120796204,\n",
       " -0.02286115661263466,\n",
       " 0.0,\n",
       " 0.5698282718658447,\n",
       " 0.5204364657402039,\n",
       " 0.03912802413105965,\n",
       " 0.0,\n",
       " 0.5845655202865601,\n",
       " 0.5407536029815674,\n",
       " 0.033020034432411194,\n",
       " 0.0,\n",
       " 0.5675758719444275,\n",
       " 0.48654913902282715,\n",
       " 0.02594985067844391,\n",
       " 0.0,\n",
       " 0.5304019451141357,\n",
       " 0.4571857750415802,\n",
       " 0.05428856611251831,\n",
       " 0.0,\n",
       " 0.5544869899749756,\n",
       " 0.49114301800727844,\n",
       " 0.03621068596839905,\n",
       " 0.0,\n",
       " 0.5275427103042603,\n",
       " 0.4689490497112274,\n",
       " 0.08174615353345871,\n",
       " 0.0,\n",
       " 0.5699039101600647,\n",
       " 0.461635023355484,\n",
       " 0.010031135752797127,\n",
       " ...]"
      ]
     },
     "execution_count": 69,
     "metadata": {},
     "output_type": "execute_result"
    }
   ],
   "source": [
    "row"
   ]
  },
  {
   "cell_type": "markdown",
   "id": "2348eaf9-a544-4c69-911d-ec2d31ef7c33",
   "metadata": {},
   "source": [
    "# Train Custom Model Using Scikit Learn"
   ]
  },
  {
   "cell_type": "markdown",
   "id": "6136b3d2-2b81-419a-b8e9-76a035888df2",
   "metadata": {},
   "source": [
    "## Read in Collected Data and Process"
   ]
  },
  {
   "cell_type": "code",
   "execution_count": 73,
   "id": "c385f063-7123-4b31-b71a-52ad2eb16bb7",
   "metadata": {},
   "outputs": [],
   "source": [
    "import pandas as pd\n",
    "from sklearn.model_selection import train_test_split"
   ]
  },
  {
   "cell_type": "code",
   "execution_count": 74,
   "id": "9385e3d8-4273-40a9-a471-0e867c869c74",
   "metadata": {},
   "outputs": [],
   "source": [
    "df = pd.read_csv('coords.csv')"
   ]
  },
  {
   "cell_type": "code",
   "execution_count": 77,
   "id": "ec9ca192-6b66-4462-9448-b7b8722f8261",
   "metadata": {},
   "outputs": [
    {
     "data": {
      "text/html": [
       "<div>\n",
       "<style scoped>\n",
       "    .dataframe tbody tr th:only-of-type {\n",
       "        vertical-align: middle;\n",
       "    }\n",
       "\n",
       "    .dataframe tbody tr th {\n",
       "        vertical-align: top;\n",
       "    }\n",
       "\n",
       "    .dataframe thead th {\n",
       "        text-align: right;\n",
       "    }\n",
       "</style>\n",
       "<table border=\"1\" class=\"dataframe\">\n",
       "  <thead>\n",
       "    <tr style=\"text-align: right;\">\n",
       "      <th></th>\n",
       "      <th>class</th>\n",
       "      <th>x1</th>\n",
       "      <th>y1</th>\n",
       "      <th>z1</th>\n",
       "      <th>v1</th>\n",
       "      <th>x2</th>\n",
       "      <th>y2</th>\n",
       "      <th>z2</th>\n",
       "      <th>v2</th>\n",
       "      <th>x3</th>\n",
       "      <th>...</th>\n",
       "      <th>z499</th>\n",
       "      <th>v499</th>\n",
       "      <th>x500</th>\n",
       "      <th>y500</th>\n",
       "      <th>z500</th>\n",
       "      <th>v500</th>\n",
       "      <th>x501</th>\n",
       "      <th>y501</th>\n",
       "      <th>z501</th>\n",
       "      <th>v501</th>\n",
       "    </tr>\n",
       "  </thead>\n",
       "  <tbody>\n",
       "    <tr>\n",
       "      <th>0</th>\n",
       "      <td>Gratitude</td>\n",
       "      <td>0.663934</td>\n",
       "      <td>0.418876</td>\n",
       "      <td>-1.165922</td>\n",
       "      <td>0.999627</td>\n",
       "      <td>0.693369</td>\n",
       "      <td>0.337358</td>\n",
       "      <td>-1.115129</td>\n",
       "      <td>0.999039</td>\n",
       "      <td>0.710808</td>\n",
       "      <td>...</td>\n",
       "      <td>-0.009309</td>\n",
       "      <td>0.0</td>\n",
       "      <td>0.723751</td>\n",
       "      <td>0.333708</td>\n",
       "      <td>0.012754</td>\n",
       "      <td>0.0</td>\n",
       "      <td>0.729499</td>\n",
       "      <td>0.327776</td>\n",
       "      <td>0.013137</td>\n",
       "      <td>0.0</td>\n",
       "    </tr>\n",
       "    <tr>\n",
       "      <th>1</th>\n",
       "      <td>Gratitude</td>\n",
       "      <td>0.655895</td>\n",
       "      <td>0.422495</td>\n",
       "      <td>-1.267889</td>\n",
       "      <td>0.999630</td>\n",
       "      <td>0.685754</td>\n",
       "      <td>0.339042</td>\n",
       "      <td>-1.227019</td>\n",
       "      <td>0.999022</td>\n",
       "      <td>0.704151</td>\n",
       "      <td>...</td>\n",
       "      <td>-0.011008</td>\n",
       "      <td>0.0</td>\n",
       "      <td>0.710461</td>\n",
       "      <td>0.333826</td>\n",
       "      <td>0.007277</td>\n",
       "      <td>0.0</td>\n",
       "      <td>0.716031</td>\n",
       "      <td>0.328607</td>\n",
       "      <td>0.007224</td>\n",
       "      <td>0.0</td>\n",
       "    </tr>\n",
       "    <tr>\n",
       "      <th>2</th>\n",
       "      <td>Gratitude</td>\n",
       "      <td>0.653089</td>\n",
       "      <td>0.422849</td>\n",
       "      <td>-1.306893</td>\n",
       "      <td>0.999621</td>\n",
       "      <td>0.683211</td>\n",
       "      <td>0.339229</td>\n",
       "      <td>-1.260398</td>\n",
       "      <td>0.998981</td>\n",
       "      <td>0.701729</td>\n",
       "      <td>...</td>\n",
       "      <td>-0.010901</td>\n",
       "      <td>0.0</td>\n",
       "      <td>0.709618</td>\n",
       "      <td>0.331567</td>\n",
       "      <td>0.007412</td>\n",
       "      <td>0.0</td>\n",
       "      <td>0.714907</td>\n",
       "      <td>0.327035</td>\n",
       "      <td>0.007394</td>\n",
       "      <td>0.0</td>\n",
       "    </tr>\n",
       "    <tr>\n",
       "      <th>3</th>\n",
       "      <td>Gratitude</td>\n",
       "      <td>0.650724</td>\n",
       "      <td>0.424453</td>\n",
       "      <td>-1.389254</td>\n",
       "      <td>0.999602</td>\n",
       "      <td>0.680961</td>\n",
       "      <td>0.340376</td>\n",
       "      <td>-1.347143</td>\n",
       "      <td>0.998921</td>\n",
       "      <td>0.699745</td>\n",
       "      <td>...</td>\n",
       "      <td>-0.011685</td>\n",
       "      <td>0.0</td>\n",
       "      <td>0.710799</td>\n",
       "      <td>0.331433</td>\n",
       "      <td>0.006148</td>\n",
       "      <td>0.0</td>\n",
       "      <td>0.716121</td>\n",
       "      <td>0.327622</td>\n",
       "      <td>0.005927</td>\n",
       "      <td>0.0</td>\n",
       "    </tr>\n",
       "    <tr>\n",
       "      <th>4</th>\n",
       "      <td>Gratitude</td>\n",
       "      <td>0.647530</td>\n",
       "      <td>0.426094</td>\n",
       "      <td>-1.325662</td>\n",
       "      <td>0.999613</td>\n",
       "      <td>0.677903</td>\n",
       "      <td>0.340899</td>\n",
       "      <td>-1.280267</td>\n",
       "      <td>0.998946</td>\n",
       "      <td>0.697187</td>\n",
       "      <td>...</td>\n",
       "      <td>-0.012006</td>\n",
       "      <td>0.0</td>\n",
       "      <td>0.710134</td>\n",
       "      <td>0.331982</td>\n",
       "      <td>0.006184</td>\n",
       "      <td>0.0</td>\n",
       "      <td>0.715337</td>\n",
       "      <td>0.327721</td>\n",
       "      <td>0.006020</td>\n",
       "      <td>0.0</td>\n",
       "    </tr>\n",
       "  </tbody>\n",
       "</table>\n",
       "<p>5 rows × 2005 columns</p>\n",
       "</div>"
      ],
      "text/plain": [
       "       class        x1        y1        z1        v1        x2        y2  \\\n",
       "0  Gratitude  0.663934  0.418876 -1.165922  0.999627  0.693369  0.337358   \n",
       "1  Gratitude  0.655895  0.422495 -1.267889  0.999630  0.685754  0.339042   \n",
       "2  Gratitude  0.653089  0.422849 -1.306893  0.999621  0.683211  0.339229   \n",
       "3  Gratitude  0.650724  0.424453 -1.389254  0.999602  0.680961  0.340376   \n",
       "4  Gratitude  0.647530  0.426094 -1.325662  0.999613  0.677903  0.340899   \n",
       "\n",
       "         z2        v2        x3  ...      z499  v499      x500      y500  \\\n",
       "0 -1.115129  0.999039  0.710808  ... -0.009309   0.0  0.723751  0.333708   \n",
       "1 -1.227019  0.999022  0.704151  ... -0.011008   0.0  0.710461  0.333826   \n",
       "2 -1.260398  0.998981  0.701729  ... -0.010901   0.0  0.709618  0.331567   \n",
       "3 -1.347143  0.998921  0.699745  ... -0.011685   0.0  0.710799  0.331433   \n",
       "4 -1.280267  0.998946  0.697187  ... -0.012006   0.0  0.710134  0.331982   \n",
       "\n",
       "       z500  v500      x501      y501      z501  v501  \n",
       "0  0.012754   0.0  0.729499  0.327776  0.013137   0.0  \n",
       "1  0.007277   0.0  0.716031  0.328607  0.007224   0.0  \n",
       "2  0.007412   0.0  0.714907  0.327035  0.007394   0.0  \n",
       "3  0.006148   0.0  0.716121  0.327622  0.005927   0.0  \n",
       "4  0.006184   0.0  0.715337  0.327721  0.006020   0.0  \n",
       "\n",
       "[5 rows x 2005 columns]"
      ]
     },
     "execution_count": 77,
     "metadata": {},
     "output_type": "execute_result"
    }
   ],
   "source": [
    "df.head()"
   ]
  },
  {
   "cell_type": "code",
   "execution_count": 79,
   "id": "ec3165e4-b270-4d4a-b53e-650f09e74a9f",
   "metadata": {},
   "outputs": [
    {
     "data": {
      "text/html": [
       "<div>\n",
       "<style scoped>\n",
       "    .dataframe tbody tr th:only-of-type {\n",
       "        vertical-align: middle;\n",
       "    }\n",
       "\n",
       "    .dataframe tbody tr th {\n",
       "        vertical-align: top;\n",
       "    }\n",
       "\n",
       "    .dataframe thead th {\n",
       "        text-align: right;\n",
       "    }\n",
       "</style>\n",
       "<table border=\"1\" class=\"dataframe\">\n",
       "  <thead>\n",
       "    <tr style=\"text-align: right;\">\n",
       "      <th></th>\n",
       "      <th>class</th>\n",
       "      <th>x1</th>\n",
       "      <th>y1</th>\n",
       "      <th>z1</th>\n",
       "      <th>v1</th>\n",
       "      <th>x2</th>\n",
       "      <th>y2</th>\n",
       "      <th>z2</th>\n",
       "      <th>v2</th>\n",
       "      <th>x3</th>\n",
       "      <th>...</th>\n",
       "      <th>z499</th>\n",
       "      <th>v499</th>\n",
       "      <th>x500</th>\n",
       "      <th>y500</th>\n",
       "      <th>z500</th>\n",
       "      <th>v500</th>\n",
       "      <th>x501</th>\n",
       "      <th>y501</th>\n",
       "      <th>z501</th>\n",
       "      <th>v501</th>\n",
       "    </tr>\n",
       "  </thead>\n",
       "  <tbody>\n",
       "    <tr>\n",
       "      <th>563</th>\n",
       "      <td>Happy</td>\n",
       "      <td>0.664160</td>\n",
       "      <td>0.453735</td>\n",
       "      <td>-1.107279</td>\n",
       "      <td>0.999228</td>\n",
       "      <td>0.696045</td>\n",
       "      <td>0.369277</td>\n",
       "      <td>-1.066340</td>\n",
       "      <td>0.998122</td>\n",
       "      <td>0.713294</td>\n",
       "      <td>...</td>\n",
       "      <td>-0.018871</td>\n",
       "      <td>0.0</td>\n",
       "      <td>0.719549</td>\n",
       "      <td>0.338671</td>\n",
       "      <td>0.000434</td>\n",
       "      <td>0.0</td>\n",
       "      <td>0.725385</td>\n",
       "      <td>0.333200</td>\n",
       "      <td>0.000614</td>\n",
       "      <td>0.0</td>\n",
       "    </tr>\n",
       "    <tr>\n",
       "      <th>564</th>\n",
       "      <td>Happy</td>\n",
       "      <td>0.663838</td>\n",
       "      <td>0.453903</td>\n",
       "      <td>-1.165916</td>\n",
       "      <td>0.999228</td>\n",
       "      <td>0.695923</td>\n",
       "      <td>0.369516</td>\n",
       "      <td>-1.128322</td>\n",
       "      <td>0.998115</td>\n",
       "      <td>0.713199</td>\n",
       "      <td>...</td>\n",
       "      <td>-0.018087</td>\n",
       "      <td>0.0</td>\n",
       "      <td>0.722089</td>\n",
       "      <td>0.339580</td>\n",
       "      <td>0.000984</td>\n",
       "      <td>0.0</td>\n",
       "      <td>0.727988</td>\n",
       "      <td>0.333967</td>\n",
       "      <td>0.001229</td>\n",
       "      <td>0.0</td>\n",
       "    </tr>\n",
       "    <tr>\n",
       "      <th>565</th>\n",
       "      <td>Happy</td>\n",
       "      <td>0.661524</td>\n",
       "      <td>0.453916</td>\n",
       "      <td>-1.171573</td>\n",
       "      <td>0.999207</td>\n",
       "      <td>0.694121</td>\n",
       "      <td>0.369521</td>\n",
       "      <td>-1.134210</td>\n",
       "      <td>0.998072</td>\n",
       "      <td>0.712136</td>\n",
       "      <td>...</td>\n",
       "      <td>-0.017522</td>\n",
       "      <td>0.0</td>\n",
       "      <td>0.724352</td>\n",
       "      <td>0.339355</td>\n",
       "      <td>0.001595</td>\n",
       "      <td>0.0</td>\n",
       "      <td>0.730181</td>\n",
       "      <td>0.333882</td>\n",
       "      <td>0.001782</td>\n",
       "      <td>0.0</td>\n",
       "    </tr>\n",
       "    <tr>\n",
       "      <th>566</th>\n",
       "      <td>Happy</td>\n",
       "      <td>0.661623</td>\n",
       "      <td>0.453806</td>\n",
       "      <td>-1.157315</td>\n",
       "      <td>0.999211</td>\n",
       "      <td>0.694352</td>\n",
       "      <td>0.369407</td>\n",
       "      <td>-1.120730</td>\n",
       "      <td>0.998067</td>\n",
       "      <td>0.712327</td>\n",
       "      <td>...</td>\n",
       "      <td>-0.017638</td>\n",
       "      <td>0.0</td>\n",
       "      <td>0.726741</td>\n",
       "      <td>0.339679</td>\n",
       "      <td>0.002139</td>\n",
       "      <td>0.0</td>\n",
       "      <td>0.732620</td>\n",
       "      <td>0.334319</td>\n",
       "      <td>0.002344</td>\n",
       "      <td>0.0</td>\n",
       "    </tr>\n",
       "    <tr>\n",
       "      <th>567</th>\n",
       "      <td>Happy</td>\n",
       "      <td>0.662683</td>\n",
       "      <td>0.453208</td>\n",
       "      <td>-1.168150</td>\n",
       "      <td>0.999254</td>\n",
       "      <td>0.694858</td>\n",
       "      <td>0.368997</td>\n",
       "      <td>-1.125287</td>\n",
       "      <td>0.998174</td>\n",
       "      <td>0.712624</td>\n",
       "      <td>...</td>\n",
       "      <td>-0.016982</td>\n",
       "      <td>0.0</td>\n",
       "      <td>0.723698</td>\n",
       "      <td>0.341390</td>\n",
       "      <td>0.002258</td>\n",
       "      <td>0.0</td>\n",
       "      <td>0.729575</td>\n",
       "      <td>0.335945</td>\n",
       "      <td>0.002429</td>\n",
       "      <td>0.0</td>\n",
       "    </tr>\n",
       "  </tbody>\n",
       "</table>\n",
       "<p>5 rows × 2005 columns</p>\n",
       "</div>"
      ],
      "text/plain": [
       "     class        x1        y1        z1        v1        x2        y2  \\\n",
       "563  Happy  0.664160  0.453735 -1.107279  0.999228  0.696045  0.369277   \n",
       "564  Happy  0.663838  0.453903 -1.165916  0.999228  0.695923  0.369516   \n",
       "565  Happy  0.661524  0.453916 -1.171573  0.999207  0.694121  0.369521   \n",
       "566  Happy  0.661623  0.453806 -1.157315  0.999211  0.694352  0.369407   \n",
       "567  Happy  0.662683  0.453208 -1.168150  0.999254  0.694858  0.368997   \n",
       "\n",
       "           z2        v2        x3  ...      z499  v499      x500      y500  \\\n",
       "563 -1.066340  0.998122  0.713294  ... -0.018871   0.0  0.719549  0.338671   \n",
       "564 -1.128322  0.998115  0.713199  ... -0.018087   0.0  0.722089  0.339580   \n",
       "565 -1.134210  0.998072  0.712136  ... -0.017522   0.0  0.724352  0.339355   \n",
       "566 -1.120730  0.998067  0.712327  ... -0.017638   0.0  0.726741  0.339679   \n",
       "567 -1.125287  0.998174  0.712624  ... -0.016982   0.0  0.723698  0.341390   \n",
       "\n",
       "         z500  v500      x501      y501      z501  v501  \n",
       "563  0.000434   0.0  0.725385  0.333200  0.000614   0.0  \n",
       "564  0.000984   0.0  0.727988  0.333967  0.001229   0.0  \n",
       "565  0.001595   0.0  0.730181  0.333882  0.001782   0.0  \n",
       "566  0.002139   0.0  0.732620  0.334319  0.002344   0.0  \n",
       "567  0.002258   0.0  0.729575  0.335945  0.002429   0.0  \n",
       "\n",
       "[5 rows x 2005 columns]"
      ]
     },
     "execution_count": 79,
     "metadata": {},
     "output_type": "execute_result"
    }
   ],
   "source": [
    "df.tail()"
   ]
  },
  {
   "cell_type": "code",
   "execution_count": 81,
   "id": "0f1edd21-0152-4809-b4b2-ad77286e0f03",
   "metadata": {},
   "outputs": [
    {
     "data": {
      "text/html": [
       "<div>\n",
       "<style scoped>\n",
       "    .dataframe tbody tr th:only-of-type {\n",
       "        vertical-align: middle;\n",
       "    }\n",
       "\n",
       "    .dataframe tbody tr th {\n",
       "        vertical-align: top;\n",
       "    }\n",
       "\n",
       "    .dataframe thead th {\n",
       "        text-align: right;\n",
       "    }\n",
       "</style>\n",
       "<table border=\"1\" class=\"dataframe\">\n",
       "  <thead>\n",
       "    <tr style=\"text-align: right;\">\n",
       "      <th></th>\n",
       "      <th>class</th>\n",
       "      <th>x1</th>\n",
       "      <th>y1</th>\n",
       "      <th>z1</th>\n",
       "      <th>v1</th>\n",
       "      <th>x2</th>\n",
       "      <th>y2</th>\n",
       "      <th>z2</th>\n",
       "      <th>v2</th>\n",
       "      <th>x3</th>\n",
       "      <th>...</th>\n",
       "      <th>z499</th>\n",
       "      <th>v499</th>\n",
       "      <th>x500</th>\n",
       "      <th>y500</th>\n",
       "      <th>z500</th>\n",
       "      <th>v500</th>\n",
       "      <th>x501</th>\n",
       "      <th>y501</th>\n",
       "      <th>z501</th>\n",
       "      <th>v501</th>\n",
       "    </tr>\n",
       "  </thead>\n",
       "  <tbody>\n",
       "    <tr>\n",
       "      <th>178</th>\n",
       "      <td>Sad</td>\n",
       "      <td>0.632610</td>\n",
       "      <td>0.612840</td>\n",
       "      <td>-1.748241</td>\n",
       "      <td>0.979806</td>\n",
       "      <td>0.654964</td>\n",
       "      <td>0.525364</td>\n",
       "      <td>-1.747728</td>\n",
       "      <td>0.979608</td>\n",
       "      <td>0.701885</td>\n",
       "      <td>...</td>\n",
       "      <td>-0.043235</td>\n",
       "      <td>0.0</td>\n",
       "      <td>0.718201</td>\n",
       "      <td>0.535364</td>\n",
       "      <td>-0.029334</td>\n",
       "      <td>0.0</td>\n",
       "      <td>0.724377</td>\n",
       "      <td>0.524892</td>\n",
       "      <td>-0.030091</td>\n",
       "      <td>0.0</td>\n",
       "    </tr>\n",
       "    <tr>\n",
       "      <th>179</th>\n",
       "      <td>Sad</td>\n",
       "      <td>0.635285</td>\n",
       "      <td>0.617254</td>\n",
       "      <td>-1.581197</td>\n",
       "      <td>0.980782</td>\n",
       "      <td>0.665728</td>\n",
       "      <td>0.529272</td>\n",
       "      <td>-1.583013</td>\n",
       "      <td>0.979859</td>\n",
       "      <td>0.703784</td>\n",
       "      <td>...</td>\n",
       "      <td>-0.044318</td>\n",
       "      <td>0.0</td>\n",
       "      <td>0.717575</td>\n",
       "      <td>0.543441</td>\n",
       "      <td>-0.030307</td>\n",
       "      <td>0.0</td>\n",
       "      <td>0.723437</td>\n",
       "      <td>0.533382</td>\n",
       "      <td>-0.031016</td>\n",
       "      <td>0.0</td>\n",
       "    </tr>\n",
       "    <tr>\n",
       "      <th>180</th>\n",
       "      <td>Sad</td>\n",
       "      <td>0.645320</td>\n",
       "      <td>0.618969</td>\n",
       "      <td>-1.586039</td>\n",
       "      <td>0.981008</td>\n",
       "      <td>0.685133</td>\n",
       "      <td>0.529807</td>\n",
       "      <td>-1.585855</td>\n",
       "      <td>0.979412</td>\n",
       "      <td>0.707418</td>\n",
       "      <td>...</td>\n",
       "      <td>-0.039954</td>\n",
       "      <td>0.0</td>\n",
       "      <td>0.716249</td>\n",
       "      <td>0.546396</td>\n",
       "      <td>-0.024091</td>\n",
       "      <td>0.0</td>\n",
       "      <td>0.722066</td>\n",
       "      <td>0.537750</td>\n",
       "      <td>-0.024542</td>\n",
       "      <td>0.0</td>\n",
       "    </tr>\n",
       "    <tr>\n",
       "      <th>181</th>\n",
       "      <td>Sad</td>\n",
       "      <td>0.652828</td>\n",
       "      <td>0.611687</td>\n",
       "      <td>-1.616392</td>\n",
       "      <td>0.983735</td>\n",
       "      <td>0.693834</td>\n",
       "      <td>0.521238</td>\n",
       "      <td>-1.636901</td>\n",
       "      <td>0.981567</td>\n",
       "      <td>0.711856</td>\n",
       "      <td>...</td>\n",
       "      <td>-0.042962</td>\n",
       "      <td>0.0</td>\n",
       "      <td>0.712668</td>\n",
       "      <td>0.544672</td>\n",
       "      <td>-0.029376</td>\n",
       "      <td>0.0</td>\n",
       "      <td>0.719019</td>\n",
       "      <td>0.533472</td>\n",
       "      <td>-0.030037</td>\n",
       "      <td>0.0</td>\n",
       "    </tr>\n",
       "    <tr>\n",
       "      <th>182</th>\n",
       "      <td>Sad</td>\n",
       "      <td>0.689175</td>\n",
       "      <td>0.626357</td>\n",
       "      <td>-1.464521</td>\n",
       "      <td>0.987723</td>\n",
       "      <td>0.726658</td>\n",
       "      <td>0.523270</td>\n",
       "      <td>-1.479028</td>\n",
       "      <td>0.973764</td>\n",
       "      <td>0.742279</td>\n",
       "      <td>...</td>\n",
       "      <td>-0.041173</td>\n",
       "      <td>0.0</td>\n",
       "      <td>0.729229</td>\n",
       "      <td>0.551220</td>\n",
       "      <td>-0.023494</td>\n",
       "      <td>0.0</td>\n",
       "      <td>0.735302</td>\n",
       "      <td>0.539333</td>\n",
       "      <td>-0.023767</td>\n",
       "      <td>0.0</td>\n",
       "    </tr>\n",
       "    <tr>\n",
       "      <th>...</th>\n",
       "      <td>...</td>\n",
       "      <td>...</td>\n",
       "      <td>...</td>\n",
       "      <td>...</td>\n",
       "      <td>...</td>\n",
       "      <td>...</td>\n",
       "      <td>...</td>\n",
       "      <td>...</td>\n",
       "      <td>...</td>\n",
       "      <td>...</td>\n",
       "      <td>...</td>\n",
       "      <td>...</td>\n",
       "      <td>...</td>\n",
       "      <td>...</td>\n",
       "      <td>...</td>\n",
       "      <td>...</td>\n",
       "      <td>...</td>\n",
       "      <td>...</td>\n",
       "      <td>...</td>\n",
       "      <td>...</td>\n",
       "      <td>...</td>\n",
       "    </tr>\n",
       "    <tr>\n",
       "      <th>374</th>\n",
       "      <td>Sad</td>\n",
       "      <td>0.686639</td>\n",
       "      <td>0.589707</td>\n",
       "      <td>-1.872660</td>\n",
       "      <td>0.997626</td>\n",
       "      <td>0.726158</td>\n",
       "      <td>0.512015</td>\n",
       "      <td>-1.875755</td>\n",
       "      <td>0.993107</td>\n",
       "      <td>0.746113</td>\n",
       "      <td>...</td>\n",
       "      <td>-0.039625</td>\n",
       "      <td>0.0</td>\n",
       "      <td>0.749131</td>\n",
       "      <td>0.542815</td>\n",
       "      <td>-0.021713</td>\n",
       "      <td>0.0</td>\n",
       "      <td>0.754880</td>\n",
       "      <td>0.535382</td>\n",
       "      <td>-0.022096</td>\n",
       "      <td>0.0</td>\n",
       "    </tr>\n",
       "    <tr>\n",
       "      <th>375</th>\n",
       "      <td>Sad</td>\n",
       "      <td>0.686102</td>\n",
       "      <td>0.592158</td>\n",
       "      <td>-1.861141</td>\n",
       "      <td>0.997602</td>\n",
       "      <td>0.725423</td>\n",
       "      <td>0.514965</td>\n",
       "      <td>-1.866955</td>\n",
       "      <td>0.993096</td>\n",
       "      <td>0.745481</td>\n",
       "      <td>...</td>\n",
       "      <td>-0.035688</td>\n",
       "      <td>0.0</td>\n",
       "      <td>0.744905</td>\n",
       "      <td>0.545630</td>\n",
       "      <td>-0.016652</td>\n",
       "      <td>0.0</td>\n",
       "      <td>0.750581</td>\n",
       "      <td>0.538211</td>\n",
       "      <td>-0.016840</td>\n",
       "      <td>0.0</td>\n",
       "    </tr>\n",
       "    <tr>\n",
       "      <th>376</th>\n",
       "      <td>Sad</td>\n",
       "      <td>0.681606</td>\n",
       "      <td>0.593341</td>\n",
       "      <td>-1.828179</td>\n",
       "      <td>0.997733</td>\n",
       "      <td>0.722100</td>\n",
       "      <td>0.516775</td>\n",
       "      <td>-1.833119</td>\n",
       "      <td>0.993462</td>\n",
       "      <td>0.743033</td>\n",
       "      <td>...</td>\n",
       "      <td>-0.038459</td>\n",
       "      <td>0.0</td>\n",
       "      <td>0.747823</td>\n",
       "      <td>0.547007</td>\n",
       "      <td>-0.019126</td>\n",
       "      <td>0.0</td>\n",
       "      <td>0.753626</td>\n",
       "      <td>0.539602</td>\n",
       "      <td>-0.019385</td>\n",
       "      <td>0.0</td>\n",
       "    </tr>\n",
       "    <tr>\n",
       "      <th>377</th>\n",
       "      <td>Sad</td>\n",
       "      <td>0.682840</td>\n",
       "      <td>0.594698</td>\n",
       "      <td>-1.823095</td>\n",
       "      <td>0.997827</td>\n",
       "      <td>0.723160</td>\n",
       "      <td>0.519121</td>\n",
       "      <td>-1.827405</td>\n",
       "      <td>0.993739</td>\n",
       "      <td>0.743915</td>\n",
       "      <td>...</td>\n",
       "      <td>-0.036707</td>\n",
       "      <td>0.0</td>\n",
       "      <td>0.744206</td>\n",
       "      <td>0.545725</td>\n",
       "      <td>-0.018464</td>\n",
       "      <td>0.0</td>\n",
       "      <td>0.750005</td>\n",
       "      <td>0.538714</td>\n",
       "      <td>-0.018789</td>\n",
       "      <td>0.0</td>\n",
       "    </tr>\n",
       "    <tr>\n",
       "      <th>378</th>\n",
       "      <td>Sad</td>\n",
       "      <td>0.682685</td>\n",
       "      <td>0.599573</td>\n",
       "      <td>-1.844338</td>\n",
       "      <td>0.997962</td>\n",
       "      <td>0.723467</td>\n",
       "      <td>0.524126</td>\n",
       "      <td>-1.848871</td>\n",
       "      <td>0.994134</td>\n",
       "      <td>0.744456</td>\n",
       "      <td>...</td>\n",
       "      <td>-0.040774</td>\n",
       "      <td>0.0</td>\n",
       "      <td>0.748376</td>\n",
       "      <td>0.533598</td>\n",
       "      <td>-0.024439</td>\n",
       "      <td>0.0</td>\n",
       "      <td>0.754345</td>\n",
       "      <td>0.522781</td>\n",
       "      <td>-0.024938</td>\n",
       "      <td>0.0</td>\n",
       "    </tr>\n",
       "  </tbody>\n",
       "</table>\n",
       "<p>201 rows × 2005 columns</p>\n",
       "</div>"
      ],
      "text/plain": [
       "    class        x1        y1        z1        v1        x2        y2  \\\n",
       "178   Sad  0.632610  0.612840 -1.748241  0.979806  0.654964  0.525364   \n",
       "179   Sad  0.635285  0.617254 -1.581197  0.980782  0.665728  0.529272   \n",
       "180   Sad  0.645320  0.618969 -1.586039  0.981008  0.685133  0.529807   \n",
       "181   Sad  0.652828  0.611687 -1.616392  0.983735  0.693834  0.521238   \n",
       "182   Sad  0.689175  0.626357 -1.464521  0.987723  0.726658  0.523270   \n",
       "..    ...       ...       ...       ...       ...       ...       ...   \n",
       "374   Sad  0.686639  0.589707 -1.872660  0.997626  0.726158  0.512015   \n",
       "375   Sad  0.686102  0.592158 -1.861141  0.997602  0.725423  0.514965   \n",
       "376   Sad  0.681606  0.593341 -1.828179  0.997733  0.722100  0.516775   \n",
       "377   Sad  0.682840  0.594698 -1.823095  0.997827  0.723160  0.519121   \n",
       "378   Sad  0.682685  0.599573 -1.844338  0.997962  0.723467  0.524126   \n",
       "\n",
       "           z2        v2        x3  ...      z499  v499      x500      y500  \\\n",
       "178 -1.747728  0.979608  0.701885  ... -0.043235   0.0  0.718201  0.535364   \n",
       "179 -1.583013  0.979859  0.703784  ... -0.044318   0.0  0.717575  0.543441   \n",
       "180 -1.585855  0.979412  0.707418  ... -0.039954   0.0  0.716249  0.546396   \n",
       "181 -1.636901  0.981567  0.711856  ... -0.042962   0.0  0.712668  0.544672   \n",
       "182 -1.479028  0.973764  0.742279  ... -0.041173   0.0  0.729229  0.551220   \n",
       "..        ...       ...       ...  ...       ...   ...       ...       ...   \n",
       "374 -1.875755  0.993107  0.746113  ... -0.039625   0.0  0.749131  0.542815   \n",
       "375 -1.866955  0.993096  0.745481  ... -0.035688   0.0  0.744905  0.545630   \n",
       "376 -1.833119  0.993462  0.743033  ... -0.038459   0.0  0.747823  0.547007   \n",
       "377 -1.827405  0.993739  0.743915  ... -0.036707   0.0  0.744206  0.545725   \n",
       "378 -1.848871  0.994134  0.744456  ... -0.040774   0.0  0.748376  0.533598   \n",
       "\n",
       "         z500  v500      x501      y501      z501  v501  \n",
       "178 -0.029334   0.0  0.724377  0.524892 -0.030091   0.0  \n",
       "179 -0.030307   0.0  0.723437  0.533382 -0.031016   0.0  \n",
       "180 -0.024091   0.0  0.722066  0.537750 -0.024542   0.0  \n",
       "181 -0.029376   0.0  0.719019  0.533472 -0.030037   0.0  \n",
       "182 -0.023494   0.0  0.735302  0.539333 -0.023767   0.0  \n",
       "..        ...   ...       ...       ...       ...   ...  \n",
       "374 -0.021713   0.0  0.754880  0.535382 -0.022096   0.0  \n",
       "375 -0.016652   0.0  0.750581  0.538211 -0.016840   0.0  \n",
       "376 -0.019126   0.0  0.753626  0.539602 -0.019385   0.0  \n",
       "377 -0.018464   0.0  0.750005  0.538714 -0.018789   0.0  \n",
       "378 -0.024439   0.0  0.754345  0.522781 -0.024938   0.0  \n",
       "\n",
       "[201 rows x 2005 columns]"
      ]
     },
     "execution_count": 81,
     "metadata": {},
     "output_type": "execute_result"
    }
   ],
   "source": [
    "df[df['class']=='Sad']"
   ]
  },
  {
   "cell_type": "code",
   "execution_count": 83,
   "id": "563fee27-4514-4a57-815e-f1d7f2ffe161",
   "metadata": {},
   "outputs": [],
   "source": [
    "X = df.drop('class', axis=1) # features\n",
    "y = df['class'] # target value"
   ]
  },
  {
   "cell_type": "code",
   "execution_count": 85,
   "id": "79ae06f6-0930-4f5d-ab55-fde234e169a6",
   "metadata": {},
   "outputs": [],
   "source": [
    "X_train, X_test, y_train, y_test = train_test_split(X, y, test_size=0.3, random_state=1234)"
   ]
  },
  {
   "cell_type": "code",
   "execution_count": 87,
   "id": "d2b2dc8d-32d3-454b-ade0-3b288e0a3ed3",
   "metadata": {},
   "outputs": [
    {
     "data": {
      "text/plain": [
       "530        Happy\n",
       "166    Gratitude\n",
       "485        Happy\n",
       "66     Gratitude\n",
       "220          Sad\n",
       "         ...    \n",
       "305          Sad\n",
       "559        Happy\n",
       "285          Sad\n",
       "355          Sad\n",
       "329          Sad\n",
       "Name: class, Length: 171, dtype: object"
      ]
     },
     "execution_count": 87,
     "metadata": {},
     "output_type": "execute_result"
    }
   ],
   "source": [
    "y_test"
   ]
  },
  {
   "cell_type": "markdown",
   "id": "c4b9340c-7637-4e30-8fc4-432597c46eb1",
   "metadata": {},
   "source": [
    "# Train Machine Learning Classification Model"
   ]
  },
  {
   "cell_type": "code",
   "execution_count": 90,
   "id": "a447f4a2-b0cf-488e-8483-e5f1bad2951b",
   "metadata": {},
   "outputs": [],
   "source": [
    "from sklearn.pipeline import make_pipeline \n",
    "from sklearn.preprocessing import StandardScaler \n",
    "\n",
    "from sklearn.linear_model import LogisticRegression, RidgeClassifier\n",
    "from sklearn.ensemble import RandomForestClassifier, GradientBoostingClassifier"
   ]
  },
  {
   "cell_type": "code",
   "execution_count": 92,
   "id": "5987a687-4387-4ba6-8f43-39689110c068",
   "metadata": {},
   "outputs": [],
   "source": [
    "pipelines = {\n",
    "    'lr':make_pipeline(StandardScaler(), LogisticRegression()),  #[0]\n",
    "    'rc':make_pipeline(StandardScaler(), RidgeClassifier()),    #[1]\n",
    "    'rf':make_pipeline(StandardScaler(), RandomForestClassifier()), #[2]\n",
    "    'gb':make_pipeline(StandardScaler(), GradientBoostingClassifier()), #[3]\n",
    "}"
   ]
  },
  {
   "cell_type": "code",
   "execution_count": 94,
   "id": "bad3ecb4-dbff-4fe7-a455-d4ff0d279753",
   "metadata": {},
   "outputs": [
    {
     "data": {
      "text/plain": [
       "dict_keys(['lr', 'rc', 'rf', 'gb'])"
      ]
     },
     "execution_count": 94,
     "metadata": {},
     "output_type": "execute_result"
    }
   ],
   "source": [
    "pipelines.keys()"
   ]
  },
  {
   "cell_type": "code",
   "execution_count": 96,
   "id": "14a51421-81ed-4ca0-bf29-4ea33ca2ab8b",
   "metadata": {},
   "outputs": [
    {
     "data": {
      "text/html": [
       "<style>#sk-container-id-1 {\n",
       "  /* Definition of color scheme common for light and dark mode */\n",
       "  --sklearn-color-text: black;\n",
       "  --sklearn-color-line: gray;\n",
       "  /* Definition of color scheme for unfitted estimators */\n",
       "  --sklearn-color-unfitted-level-0: #fff5e6;\n",
       "  --sklearn-color-unfitted-level-1: #f6e4d2;\n",
       "  --sklearn-color-unfitted-level-2: #ffe0b3;\n",
       "  --sklearn-color-unfitted-level-3: chocolate;\n",
       "  /* Definition of color scheme for fitted estimators */\n",
       "  --sklearn-color-fitted-level-0: #f0f8ff;\n",
       "  --sklearn-color-fitted-level-1: #d4ebff;\n",
       "  --sklearn-color-fitted-level-2: #b3dbfd;\n",
       "  --sklearn-color-fitted-level-3: cornflowerblue;\n",
       "\n",
       "  /* Specific color for light theme */\n",
       "  --sklearn-color-text-on-default-background: var(--sg-text-color, var(--theme-code-foreground, var(--jp-content-font-color1, black)));\n",
       "  --sklearn-color-background: var(--sg-background-color, var(--theme-background, var(--jp-layout-color0, white)));\n",
       "  --sklearn-color-border-box: var(--sg-text-color, var(--theme-code-foreground, var(--jp-content-font-color1, black)));\n",
       "  --sklearn-color-icon: #696969;\n",
       "\n",
       "  @media (prefers-color-scheme: dark) {\n",
       "    /* Redefinition of color scheme for dark theme */\n",
       "    --sklearn-color-text-on-default-background: var(--sg-text-color, var(--theme-code-foreground, var(--jp-content-font-color1, white)));\n",
       "    --sklearn-color-background: var(--sg-background-color, var(--theme-background, var(--jp-layout-color0, #111)));\n",
       "    --sklearn-color-border-box: var(--sg-text-color, var(--theme-code-foreground, var(--jp-content-font-color1, white)));\n",
       "    --sklearn-color-icon: #878787;\n",
       "  }\n",
       "}\n",
       "\n",
       "#sk-container-id-1 {\n",
       "  color: var(--sklearn-color-text);\n",
       "}\n",
       "\n",
       "#sk-container-id-1 pre {\n",
       "  padding: 0;\n",
       "}\n",
       "\n",
       "#sk-container-id-1 input.sk-hidden--visually {\n",
       "  border: 0;\n",
       "  clip: rect(1px 1px 1px 1px);\n",
       "  clip: rect(1px, 1px, 1px, 1px);\n",
       "  height: 1px;\n",
       "  margin: -1px;\n",
       "  overflow: hidden;\n",
       "  padding: 0;\n",
       "  position: absolute;\n",
       "  width: 1px;\n",
       "}\n",
       "\n",
       "#sk-container-id-1 div.sk-dashed-wrapped {\n",
       "  border: 1px dashed var(--sklearn-color-line);\n",
       "  margin: 0 0.4em 0.5em 0.4em;\n",
       "  box-sizing: border-box;\n",
       "  padding-bottom: 0.4em;\n",
       "  background-color: var(--sklearn-color-background);\n",
       "}\n",
       "\n",
       "#sk-container-id-1 div.sk-container {\n",
       "  /* jupyter's `normalize.less` sets `[hidden] { display: none; }`\n",
       "     but bootstrap.min.css set `[hidden] { display: none !important; }`\n",
       "     so we also need the `!important` here to be able to override the\n",
       "     default hidden behavior on the sphinx rendered scikit-learn.org.\n",
       "     See: https://github.com/scikit-learn/scikit-learn/issues/21755 */\n",
       "  display: inline-block !important;\n",
       "  position: relative;\n",
       "}\n",
       "\n",
       "#sk-container-id-1 div.sk-text-repr-fallback {\n",
       "  display: none;\n",
       "}\n",
       "\n",
       "div.sk-parallel-item,\n",
       "div.sk-serial,\n",
       "div.sk-item {\n",
       "  /* draw centered vertical line to link estimators */\n",
       "  background-image: linear-gradient(var(--sklearn-color-text-on-default-background), var(--sklearn-color-text-on-default-background));\n",
       "  background-size: 2px 100%;\n",
       "  background-repeat: no-repeat;\n",
       "  background-position: center center;\n",
       "}\n",
       "\n",
       "/* Parallel-specific style estimator block */\n",
       "\n",
       "#sk-container-id-1 div.sk-parallel-item::after {\n",
       "  content: \"\";\n",
       "  width: 100%;\n",
       "  border-bottom: 2px solid var(--sklearn-color-text-on-default-background);\n",
       "  flex-grow: 1;\n",
       "}\n",
       "\n",
       "#sk-container-id-1 div.sk-parallel {\n",
       "  display: flex;\n",
       "  align-items: stretch;\n",
       "  justify-content: center;\n",
       "  background-color: var(--sklearn-color-background);\n",
       "  position: relative;\n",
       "}\n",
       "\n",
       "#sk-container-id-1 div.sk-parallel-item {\n",
       "  display: flex;\n",
       "  flex-direction: column;\n",
       "}\n",
       "\n",
       "#sk-container-id-1 div.sk-parallel-item:first-child::after {\n",
       "  align-self: flex-end;\n",
       "  width: 50%;\n",
       "}\n",
       "\n",
       "#sk-container-id-1 div.sk-parallel-item:last-child::after {\n",
       "  align-self: flex-start;\n",
       "  width: 50%;\n",
       "}\n",
       "\n",
       "#sk-container-id-1 div.sk-parallel-item:only-child::after {\n",
       "  width: 0;\n",
       "}\n",
       "\n",
       "/* Serial-specific style estimator block */\n",
       "\n",
       "#sk-container-id-1 div.sk-serial {\n",
       "  display: flex;\n",
       "  flex-direction: column;\n",
       "  align-items: center;\n",
       "  background-color: var(--sklearn-color-background);\n",
       "  padding-right: 1em;\n",
       "  padding-left: 1em;\n",
       "}\n",
       "\n",
       "\n",
       "/* Toggleable style: style used for estimator/Pipeline/ColumnTransformer box that is\n",
       "clickable and can be expanded/collapsed.\n",
       "- Pipeline and ColumnTransformer use this feature and define the default style\n",
       "- Estimators will overwrite some part of the style using the `sk-estimator` class\n",
       "*/\n",
       "\n",
       "/* Pipeline and ColumnTransformer style (default) */\n",
       "\n",
       "#sk-container-id-1 div.sk-toggleable {\n",
       "  /* Default theme specific background. It is overwritten whether we have a\n",
       "  specific estimator or a Pipeline/ColumnTransformer */\n",
       "  background-color: var(--sklearn-color-background);\n",
       "}\n",
       "\n",
       "/* Toggleable label */\n",
       "#sk-container-id-1 label.sk-toggleable__label {\n",
       "  cursor: pointer;\n",
       "  display: block;\n",
       "  width: 100%;\n",
       "  margin-bottom: 0;\n",
       "  padding: 0.5em;\n",
       "  box-sizing: border-box;\n",
       "  text-align: center;\n",
       "}\n",
       "\n",
       "#sk-container-id-1 label.sk-toggleable__label-arrow:before {\n",
       "  /* Arrow on the left of the label */\n",
       "  content: \"▸\";\n",
       "  float: left;\n",
       "  margin-right: 0.25em;\n",
       "  color: var(--sklearn-color-icon);\n",
       "}\n",
       "\n",
       "#sk-container-id-1 label.sk-toggleable__label-arrow:hover:before {\n",
       "  color: var(--sklearn-color-text);\n",
       "}\n",
       "\n",
       "/* Toggleable content - dropdown */\n",
       "\n",
       "#sk-container-id-1 div.sk-toggleable__content {\n",
       "  max-height: 0;\n",
       "  max-width: 0;\n",
       "  overflow: hidden;\n",
       "  text-align: left;\n",
       "  /* unfitted */\n",
       "  background-color: var(--sklearn-color-unfitted-level-0);\n",
       "}\n",
       "\n",
       "#sk-container-id-1 div.sk-toggleable__content.fitted {\n",
       "  /* fitted */\n",
       "  background-color: var(--sklearn-color-fitted-level-0);\n",
       "}\n",
       "\n",
       "#sk-container-id-1 div.sk-toggleable__content pre {\n",
       "  margin: 0.2em;\n",
       "  border-radius: 0.25em;\n",
       "  color: var(--sklearn-color-text);\n",
       "  /* unfitted */\n",
       "  background-color: var(--sklearn-color-unfitted-level-0);\n",
       "}\n",
       "\n",
       "#sk-container-id-1 div.sk-toggleable__content.fitted pre {\n",
       "  /* unfitted */\n",
       "  background-color: var(--sklearn-color-fitted-level-0);\n",
       "}\n",
       "\n",
       "#sk-container-id-1 input.sk-toggleable__control:checked~div.sk-toggleable__content {\n",
       "  /* Expand drop-down */\n",
       "  max-height: 200px;\n",
       "  max-width: 100%;\n",
       "  overflow: auto;\n",
       "}\n",
       "\n",
       "#sk-container-id-1 input.sk-toggleable__control:checked~label.sk-toggleable__label-arrow:before {\n",
       "  content: \"▾\";\n",
       "}\n",
       "\n",
       "/* Pipeline/ColumnTransformer-specific style */\n",
       "\n",
       "#sk-container-id-1 div.sk-label input.sk-toggleable__control:checked~label.sk-toggleable__label {\n",
       "  color: var(--sklearn-color-text);\n",
       "  background-color: var(--sklearn-color-unfitted-level-2);\n",
       "}\n",
       "\n",
       "#sk-container-id-1 div.sk-label.fitted input.sk-toggleable__control:checked~label.sk-toggleable__label {\n",
       "  background-color: var(--sklearn-color-fitted-level-2);\n",
       "}\n",
       "\n",
       "/* Estimator-specific style */\n",
       "\n",
       "/* Colorize estimator box */\n",
       "#sk-container-id-1 div.sk-estimator input.sk-toggleable__control:checked~label.sk-toggleable__label {\n",
       "  /* unfitted */\n",
       "  background-color: var(--sklearn-color-unfitted-level-2);\n",
       "}\n",
       "\n",
       "#sk-container-id-1 div.sk-estimator.fitted input.sk-toggleable__control:checked~label.sk-toggleable__label {\n",
       "  /* fitted */\n",
       "  background-color: var(--sklearn-color-fitted-level-2);\n",
       "}\n",
       "\n",
       "#sk-container-id-1 div.sk-label label.sk-toggleable__label,\n",
       "#sk-container-id-1 div.sk-label label {\n",
       "  /* The background is the default theme color */\n",
       "  color: var(--sklearn-color-text-on-default-background);\n",
       "}\n",
       "\n",
       "/* On hover, darken the color of the background */\n",
       "#sk-container-id-1 div.sk-label:hover label.sk-toggleable__label {\n",
       "  color: var(--sklearn-color-text);\n",
       "  background-color: var(--sklearn-color-unfitted-level-2);\n",
       "}\n",
       "\n",
       "/* Label box, darken color on hover, fitted */\n",
       "#sk-container-id-1 div.sk-label.fitted:hover label.sk-toggleable__label.fitted {\n",
       "  color: var(--sklearn-color-text);\n",
       "  background-color: var(--sklearn-color-fitted-level-2);\n",
       "}\n",
       "\n",
       "/* Estimator label */\n",
       "\n",
       "#sk-container-id-1 div.sk-label label {\n",
       "  font-family: monospace;\n",
       "  font-weight: bold;\n",
       "  display: inline-block;\n",
       "  line-height: 1.2em;\n",
       "}\n",
       "\n",
       "#sk-container-id-1 div.sk-label-container {\n",
       "  text-align: center;\n",
       "}\n",
       "\n",
       "/* Estimator-specific */\n",
       "#sk-container-id-1 div.sk-estimator {\n",
       "  font-family: monospace;\n",
       "  border: 1px dotted var(--sklearn-color-border-box);\n",
       "  border-radius: 0.25em;\n",
       "  box-sizing: border-box;\n",
       "  margin-bottom: 0.5em;\n",
       "  /* unfitted */\n",
       "  background-color: var(--sklearn-color-unfitted-level-0);\n",
       "}\n",
       "\n",
       "#sk-container-id-1 div.sk-estimator.fitted {\n",
       "  /* fitted */\n",
       "  background-color: var(--sklearn-color-fitted-level-0);\n",
       "}\n",
       "\n",
       "/* on hover */\n",
       "#sk-container-id-1 div.sk-estimator:hover {\n",
       "  /* unfitted */\n",
       "  background-color: var(--sklearn-color-unfitted-level-2);\n",
       "}\n",
       "\n",
       "#sk-container-id-1 div.sk-estimator.fitted:hover {\n",
       "  /* fitted */\n",
       "  background-color: var(--sklearn-color-fitted-level-2);\n",
       "}\n",
       "\n",
       "/* Specification for estimator info (e.g. \"i\" and \"?\") */\n",
       "\n",
       "/* Common style for \"i\" and \"?\" */\n",
       "\n",
       ".sk-estimator-doc-link,\n",
       "a:link.sk-estimator-doc-link,\n",
       "a:visited.sk-estimator-doc-link {\n",
       "  float: right;\n",
       "  font-size: smaller;\n",
       "  line-height: 1em;\n",
       "  font-family: monospace;\n",
       "  background-color: var(--sklearn-color-background);\n",
       "  border-radius: 1em;\n",
       "  height: 1em;\n",
       "  width: 1em;\n",
       "  text-decoration: none !important;\n",
       "  margin-left: 1ex;\n",
       "  /* unfitted */\n",
       "  border: var(--sklearn-color-unfitted-level-1) 1pt solid;\n",
       "  color: var(--sklearn-color-unfitted-level-1);\n",
       "}\n",
       "\n",
       ".sk-estimator-doc-link.fitted,\n",
       "a:link.sk-estimator-doc-link.fitted,\n",
       "a:visited.sk-estimator-doc-link.fitted {\n",
       "  /* fitted */\n",
       "  border: var(--sklearn-color-fitted-level-1) 1pt solid;\n",
       "  color: var(--sklearn-color-fitted-level-1);\n",
       "}\n",
       "\n",
       "/* On hover */\n",
       "div.sk-estimator:hover .sk-estimator-doc-link:hover,\n",
       ".sk-estimator-doc-link:hover,\n",
       "div.sk-label-container:hover .sk-estimator-doc-link:hover,\n",
       ".sk-estimator-doc-link:hover {\n",
       "  /* unfitted */\n",
       "  background-color: var(--sklearn-color-unfitted-level-3);\n",
       "  color: var(--sklearn-color-background);\n",
       "  text-decoration: none;\n",
       "}\n",
       "\n",
       "div.sk-estimator.fitted:hover .sk-estimator-doc-link.fitted:hover,\n",
       ".sk-estimator-doc-link.fitted:hover,\n",
       "div.sk-label-container:hover .sk-estimator-doc-link.fitted:hover,\n",
       ".sk-estimator-doc-link.fitted:hover {\n",
       "  /* fitted */\n",
       "  background-color: var(--sklearn-color-fitted-level-3);\n",
       "  color: var(--sklearn-color-background);\n",
       "  text-decoration: none;\n",
       "}\n",
       "\n",
       "/* Span, style for the box shown on hovering the info icon */\n",
       ".sk-estimator-doc-link span {\n",
       "  display: none;\n",
       "  z-index: 9999;\n",
       "  position: relative;\n",
       "  font-weight: normal;\n",
       "  right: .2ex;\n",
       "  padding: .5ex;\n",
       "  margin: .5ex;\n",
       "  width: min-content;\n",
       "  min-width: 20ex;\n",
       "  max-width: 50ex;\n",
       "  color: var(--sklearn-color-text);\n",
       "  box-shadow: 2pt 2pt 4pt #999;\n",
       "  /* unfitted */\n",
       "  background: var(--sklearn-color-unfitted-level-0);\n",
       "  border: .5pt solid var(--sklearn-color-unfitted-level-3);\n",
       "}\n",
       "\n",
       ".sk-estimator-doc-link.fitted span {\n",
       "  /* fitted */\n",
       "  background: var(--sklearn-color-fitted-level-0);\n",
       "  border: var(--sklearn-color-fitted-level-3);\n",
       "}\n",
       "\n",
       ".sk-estimator-doc-link:hover span {\n",
       "  display: block;\n",
       "}\n",
       "\n",
       "/* \"?\"-specific style due to the `<a>` HTML tag */\n",
       "\n",
       "#sk-container-id-1 a.estimator_doc_link {\n",
       "  float: right;\n",
       "  font-size: 1rem;\n",
       "  line-height: 1em;\n",
       "  font-family: monospace;\n",
       "  background-color: var(--sklearn-color-background);\n",
       "  border-radius: 1rem;\n",
       "  height: 1rem;\n",
       "  width: 1rem;\n",
       "  text-decoration: none;\n",
       "  /* unfitted */\n",
       "  color: var(--sklearn-color-unfitted-level-1);\n",
       "  border: var(--sklearn-color-unfitted-level-1) 1pt solid;\n",
       "}\n",
       "\n",
       "#sk-container-id-1 a.estimator_doc_link.fitted {\n",
       "  /* fitted */\n",
       "  border: var(--sklearn-color-fitted-level-1) 1pt solid;\n",
       "  color: var(--sklearn-color-fitted-level-1);\n",
       "}\n",
       "\n",
       "/* On hover */\n",
       "#sk-container-id-1 a.estimator_doc_link:hover {\n",
       "  /* unfitted */\n",
       "  background-color: var(--sklearn-color-unfitted-level-3);\n",
       "  color: var(--sklearn-color-background);\n",
       "  text-decoration: none;\n",
       "}\n",
       "\n",
       "#sk-container-id-1 a.estimator_doc_link.fitted:hover {\n",
       "  /* fitted */\n",
       "  background-color: var(--sklearn-color-fitted-level-3);\n",
       "}\n",
       "</style><div id=\"sk-container-id-1\" class=\"sk-top-container\"><div class=\"sk-text-repr-fallback\"><pre>Pipeline(steps=[(&#x27;standardscaler&#x27;, StandardScaler()),\n",
       "                (&#x27;logisticregression&#x27;, LogisticRegression())])</pre><b>In a Jupyter environment, please rerun this cell to show the HTML representation or trust the notebook. <br />On GitHub, the HTML representation is unable to render, please try loading this page with nbviewer.org.</b></div><div class=\"sk-container\" hidden><div class=\"sk-item sk-dashed-wrapped\"><div class=\"sk-label-container\"><div class=\"sk-label  sk-toggleable\"><input class=\"sk-toggleable__control sk-hidden--visually\" id=\"sk-estimator-id-1\" type=\"checkbox\" ><label for=\"sk-estimator-id-1\" class=\"sk-toggleable__label  sk-toggleable__label-arrow \">&nbsp;&nbsp;Pipeline<a class=\"sk-estimator-doc-link \" rel=\"noreferrer\" target=\"_blank\" href=\"https://scikit-learn.org/1.5/modules/generated/sklearn.pipeline.Pipeline.html\">?<span>Documentation for Pipeline</span></a><span class=\"sk-estimator-doc-link \">i<span>Not fitted</span></span></label><div class=\"sk-toggleable__content \"><pre>Pipeline(steps=[(&#x27;standardscaler&#x27;, StandardScaler()),\n",
       "                (&#x27;logisticregression&#x27;, LogisticRegression())])</pre></div> </div></div><div class=\"sk-serial\"><div class=\"sk-item\"><div class=\"sk-estimator  sk-toggleable\"><input class=\"sk-toggleable__control sk-hidden--visually\" id=\"sk-estimator-id-2\" type=\"checkbox\" ><label for=\"sk-estimator-id-2\" class=\"sk-toggleable__label  sk-toggleable__label-arrow \">&nbsp;StandardScaler<a class=\"sk-estimator-doc-link \" rel=\"noreferrer\" target=\"_blank\" href=\"https://scikit-learn.org/1.5/modules/generated/sklearn.preprocessing.StandardScaler.html\">?<span>Documentation for StandardScaler</span></a></label><div class=\"sk-toggleable__content \"><pre>StandardScaler()</pre></div> </div></div><div class=\"sk-item\"><div class=\"sk-estimator  sk-toggleable\"><input class=\"sk-toggleable__control sk-hidden--visually\" id=\"sk-estimator-id-3\" type=\"checkbox\" ><label for=\"sk-estimator-id-3\" class=\"sk-toggleable__label  sk-toggleable__label-arrow \">&nbsp;LogisticRegression<a class=\"sk-estimator-doc-link \" rel=\"noreferrer\" target=\"_blank\" href=\"https://scikit-learn.org/1.5/modules/generated/sklearn.linear_model.LogisticRegression.html\">?<span>Documentation for LogisticRegression</span></a></label><div class=\"sk-toggleable__content \"><pre>LogisticRegression()</pre></div> </div></div></div></div></div></div>"
      ],
      "text/plain": [
       "Pipeline(steps=[('standardscaler', StandardScaler()),\n",
       "                ('logisticregression', LogisticRegression())])"
      ]
     },
     "execution_count": 96,
     "metadata": {},
     "output_type": "execute_result"
    }
   ],
   "source": [
    "list(pipelines.values())[0]"
   ]
  },
  {
   "cell_type": "code",
   "execution_count": 98,
   "id": "13c76a89-b768-4159-a0c7-c9b7adba2214",
   "metadata": {},
   "outputs": [],
   "source": [
    "fit_models = {}\n",
    "for algo, pipeline in pipelines.items():\n",
    "    model = pipeline.fit(X_train, y_train)\n",
    "    fit_models[algo] = model"
   ]
  },
  {
   "cell_type": "code",
   "execution_count": 100,
   "id": "145e0fa7-e5f0-432b-b0f0-c1ca0402f85b",
   "metadata": {},
   "outputs": [
    {
     "data": {
      "text/plain": [
       "{'lr': Pipeline(steps=[('standardscaler', StandardScaler()),\n",
       "                 ('logisticregression', LogisticRegression())]),\n",
       " 'rc': Pipeline(steps=[('standardscaler', StandardScaler()),\n",
       "                 ('ridgeclassifier', RidgeClassifier())]),\n",
       " 'rf': Pipeline(steps=[('standardscaler', StandardScaler()),\n",
       "                 ('randomforestclassifier', RandomForestClassifier())]),\n",
       " 'gb': Pipeline(steps=[('standardscaler', StandardScaler()),\n",
       "                 ('gradientboostingclassifier', GradientBoostingClassifier())])}"
      ]
     },
     "execution_count": 100,
     "metadata": {},
     "output_type": "execute_result"
    }
   ],
   "source": [
    "fit_models"
   ]
  },
  {
   "cell_type": "code",
   "execution_count": 102,
   "id": "8dffdc39-2278-4da8-803d-abcec082968f",
   "metadata": {},
   "outputs": [
    {
     "data": {
      "text/plain": [
       "array(['Happy', 'Gratitude', 'Happy', 'Gratitude', 'Sad', 'Sad', 'Happy',\n",
       "       'Happy', 'Gratitude', 'Sad', 'Sad', 'Happy', 'Sad', 'Gratitude',\n",
       "       'Sad', 'Gratitude', 'Sad', 'Happy', 'Sad', 'Gratitude', 'Sad',\n",
       "       'Gratitude', 'Sad', 'Happy', 'Sad', 'Happy', 'Gratitude', 'Sad',\n",
       "       'Gratitude', 'Sad', 'Happy', 'Sad', 'Happy', 'Happy', 'Sad',\n",
       "       'Gratitude', 'Sad', 'Sad', 'Sad', 'Sad', 'Happy', 'Happy',\n",
       "       'Gratitude', 'Sad', 'Sad', 'Sad', 'Happy', 'Gratitude', 'Happy',\n",
       "       'Happy', 'Gratitude', 'Gratitude', 'Happy', 'Happy', 'Happy',\n",
       "       'Gratitude', 'Happy', 'Sad', 'Gratitude', 'Sad', 'Gratitude',\n",
       "       'Happy', 'Happy', 'Sad', 'Gratitude', 'Gratitude', 'Sad', 'Happy',\n",
       "       'Sad', 'Gratitude', 'Gratitude', 'Happy', 'Gratitude', 'Gratitude',\n",
       "       'Sad', 'Happy', 'Sad', 'Gratitude', 'Happy', 'Gratitude', 'Sad',\n",
       "       'Happy', 'Happy', 'Gratitude', 'Sad', 'Gratitude', 'Gratitude',\n",
       "       'Sad', 'Sad', 'Happy', 'Gratitude', 'Sad', 'Happy', 'Sad', 'Sad',\n",
       "       'Happy', 'Gratitude', 'Happy', 'Gratitude', 'Sad', 'Sad',\n",
       "       'Gratitude', 'Happy', 'Sad', 'Sad', 'Happy', 'Sad', 'Gratitude',\n",
       "       'Sad', 'Gratitude', 'Gratitude', 'Gratitude', 'Gratitude', 'Happy',\n",
       "       'Happy', 'Happy', 'Gratitude', 'Gratitude', 'Happy', 'Happy',\n",
       "       'Happy', 'Sad', 'Happy', 'Sad', 'Sad', 'Sad', 'Gratitude', 'Happy',\n",
       "       'Sad', 'Happy', 'Happy', 'Sad', 'Sad', 'Sad', 'Happy', 'Happy',\n",
       "       'Happy', 'Sad', 'Gratitude', 'Sad', 'Sad', 'Sad', 'Happy', 'Sad',\n",
       "       'Gratitude', 'Happy', 'Gratitude', 'Sad', 'Gratitude', 'Sad',\n",
       "       'Gratitude', 'Sad', 'Gratitude', 'Gratitude', 'Gratitude', 'Sad',\n",
       "       'Happy', 'Happy', 'Sad', 'Sad', 'Happy', 'Sad', 'Gratitude',\n",
       "       'Happy', 'Happy', 'Gratitude', 'Sad', 'Happy', 'Sad', 'Sad', 'Sad'],\n",
       "      dtype='<U9')"
      ]
     },
     "execution_count": 102,
     "metadata": {},
     "output_type": "execute_result"
    }
   ],
   "source": [
    "fit_models['rc'].predict(X_test)"
   ]
  },
  {
   "cell_type": "code",
   "execution_count": 104,
   "id": "18b47836-72e0-40f2-92c9-228548e44021",
   "metadata": {},
   "outputs": [
    {
     "data": {
      "text/plain": [
       "array(['Happy', 'Gratitude', 'Happy', 'Gratitude', 'Sad', 'Sad', 'Happy',\n",
       "       'Happy', 'Gratitude', 'Sad', 'Sad', 'Happy', 'Sad', 'Gratitude',\n",
       "       'Sad', 'Gratitude', 'Sad', 'Happy', 'Sad', 'Gratitude', 'Sad',\n",
       "       'Gratitude', 'Sad', 'Happy', 'Sad', 'Happy', 'Gratitude', 'Sad',\n",
       "       'Gratitude', 'Sad', 'Happy', 'Sad', 'Happy', 'Happy', 'Sad',\n",
       "       'Gratitude', 'Sad', 'Sad', 'Sad', 'Sad', 'Happy', 'Happy',\n",
       "       'Gratitude', 'Sad', 'Sad', 'Sad', 'Happy', 'Gratitude', 'Happy',\n",
       "       'Happy', 'Gratitude', 'Gratitude', 'Happy', 'Happy', 'Happy',\n",
       "       'Gratitude', 'Happy', 'Sad', 'Gratitude', 'Sad', 'Gratitude',\n",
       "       'Happy', 'Happy', 'Sad', 'Gratitude', 'Gratitude', 'Sad', 'Happy',\n",
       "       'Sad', 'Gratitude', 'Gratitude', 'Happy', 'Sad', 'Gratitude',\n",
       "       'Sad', 'Happy', 'Sad', 'Gratitude', 'Happy', 'Gratitude', 'Sad',\n",
       "       'Happy', 'Happy', 'Gratitude', 'Sad', 'Gratitude', 'Gratitude',\n",
       "       'Sad', 'Sad', 'Happy', 'Gratitude', 'Sad', 'Happy', 'Sad', 'Sad',\n",
       "       'Happy', 'Gratitude', 'Happy', 'Gratitude', 'Sad', 'Sad',\n",
       "       'Gratitude', 'Happy', 'Sad', 'Sad', 'Happy', 'Sad', 'Gratitude',\n",
       "       'Sad', 'Gratitude', 'Gratitude', 'Gratitude', 'Gratitude', 'Happy',\n",
       "       'Happy', 'Happy', 'Gratitude', 'Gratitude', 'Happy', 'Happy',\n",
       "       'Happy', 'Sad', 'Happy', 'Sad', 'Sad', 'Sad', 'Gratitude', 'Happy',\n",
       "       'Sad', 'Happy', 'Happy', 'Sad', 'Sad', 'Sad', 'Happy', 'Happy',\n",
       "       'Happy', 'Sad', 'Gratitude', 'Sad', 'Sad', 'Sad', 'Happy', 'Sad',\n",
       "       'Gratitude', 'Happy', 'Gratitude', 'Sad', 'Gratitude', 'Sad',\n",
       "       'Gratitude', 'Sad', 'Gratitude', 'Gratitude', 'Gratitude', 'Sad',\n",
       "       'Happy', 'Happy', 'Sad', 'Sad', 'Happy', 'Sad', 'Gratitude',\n",
       "       'Happy', 'Happy', 'Gratitude', 'Sad', 'Happy', 'Sad', 'Sad', 'Sad'],\n",
       "      dtype=object)"
      ]
     },
     "execution_count": 104,
     "metadata": {},
     "output_type": "execute_result"
    }
   ],
   "source": [
    "fit_models['rf'].predict(X_test)"
   ]
  },
  {
   "cell_type": "code",
   "execution_count": 106,
   "id": "171d4093-2fcb-4634-acd9-9895212398d2",
   "metadata": {},
   "outputs": [
    {
     "data": {
      "text/plain": [
       "array(['Happy', 'Gratitude', 'Happy', 'Gratitude', 'Sad', 'Sad', 'Happy',\n",
       "       'Happy', 'Gratitude', 'Sad', 'Sad', 'Happy', 'Sad', 'Gratitude',\n",
       "       'Sad', 'Gratitude', 'Sad', 'Happy', 'Sad', 'Gratitude', 'Sad',\n",
       "       'Gratitude', 'Sad', 'Happy', 'Sad', 'Happy', 'Gratitude', 'Sad',\n",
       "       'Gratitude', 'Sad', 'Happy', 'Sad', 'Happy', 'Happy', 'Sad',\n",
       "       'Gratitude', 'Sad', 'Sad', 'Sad', 'Sad', 'Happy', 'Happy',\n",
       "       'Gratitude', 'Sad', 'Sad', 'Sad', 'Happy', 'Gratitude', 'Happy',\n",
       "       'Happy', 'Gratitude', 'Gratitude', 'Happy', 'Happy', 'Happy',\n",
       "       'Gratitude', 'Happy', 'Sad', 'Gratitude', 'Sad', 'Gratitude',\n",
       "       'Happy', 'Happy', 'Sad', 'Gratitude', 'Gratitude', 'Sad', 'Happy',\n",
       "       'Sad', 'Gratitude', 'Gratitude', 'Happy', 'Gratitude', 'Gratitude',\n",
       "       'Sad', 'Happy', 'Sad', 'Gratitude', 'Happy', 'Gratitude', 'Sad',\n",
       "       'Happy', 'Happy', 'Gratitude', 'Sad', 'Gratitude', 'Gratitude',\n",
       "       'Sad', 'Sad', 'Happy', 'Gratitude', 'Sad', 'Happy', 'Sad', 'Sad',\n",
       "       'Happy', 'Gratitude', 'Happy', 'Gratitude', 'Sad', 'Sad',\n",
       "       'Gratitude', 'Happy', 'Sad', 'Sad', 'Happy', 'Sad', 'Gratitude',\n",
       "       'Sad', 'Gratitude', 'Gratitude', 'Gratitude', 'Gratitude', 'Happy',\n",
       "       'Happy', 'Happy', 'Gratitude', 'Gratitude', 'Happy', 'Happy',\n",
       "       'Happy', 'Sad', 'Happy', 'Sad', 'Sad', 'Sad', 'Gratitude', 'Happy',\n",
       "       'Sad', 'Happy', 'Happy', 'Sad', 'Sad', 'Sad', 'Happy', 'Happy',\n",
       "       'Happy', 'Sad', 'Gratitude', 'Sad', 'Sad', 'Sad', 'Happy', 'Sad',\n",
       "       'Gratitude', 'Happy', 'Gratitude', 'Sad', 'Gratitude', 'Sad',\n",
       "       'Gratitude', 'Sad', 'Gratitude', 'Gratitude', 'Gratitude', 'Sad',\n",
       "       'Happy', 'Happy', 'Sad', 'Sad', 'Happy', 'Sad', 'Gratitude',\n",
       "       'Happy', 'Happy', 'Gratitude', 'Sad', 'Happy', 'Sad', 'Sad', 'Sad'],\n",
       "      dtype=object)"
      ]
     },
     "execution_count": 106,
     "metadata": {},
     "output_type": "execute_result"
    }
   ],
   "source": [
    "fit_models['lr'].predict(X_test)"
   ]
  },
  {
   "cell_type": "code",
   "execution_count": 108,
   "id": "166aa864-9eec-490d-b38f-e6846700a1ef",
   "metadata": {},
   "outputs": [
    {
     "data": {
      "text/plain": [
       "array(['Happy', 'Gratitude', 'Happy', 'Gratitude', 'Sad', 'Sad', 'Happy',\n",
       "       'Happy', 'Gratitude', 'Sad', 'Sad', 'Happy', 'Sad', 'Gratitude',\n",
       "       'Sad', 'Gratitude', 'Sad', 'Happy', 'Sad', 'Gratitude', 'Sad',\n",
       "       'Gratitude', 'Sad', 'Happy', 'Sad', 'Happy', 'Gratitude', 'Sad',\n",
       "       'Gratitude', 'Sad', 'Happy', 'Sad', 'Happy', 'Happy', 'Sad',\n",
       "       'Gratitude', 'Sad', 'Sad', 'Sad', 'Sad', 'Happy', 'Happy',\n",
       "       'Gratitude', 'Sad', 'Sad', 'Sad', 'Happy', 'Gratitude', 'Happy',\n",
       "       'Happy', 'Gratitude', 'Gratitude', 'Happy', 'Happy', 'Happy',\n",
       "       'Gratitude', 'Happy', 'Sad', 'Gratitude', 'Sad', 'Gratitude',\n",
       "       'Happy', 'Happy', 'Sad', 'Gratitude', 'Gratitude', 'Sad', 'Happy',\n",
       "       'Sad', 'Gratitude', 'Gratitude', 'Happy', 'Gratitude', 'Gratitude',\n",
       "       'Sad', 'Happy', 'Sad', 'Gratitude', 'Happy', 'Gratitude', 'Sad',\n",
       "       'Happy', 'Happy', 'Gratitude', 'Sad', 'Gratitude', 'Gratitude',\n",
       "       'Sad', 'Sad', 'Happy', 'Gratitude', 'Sad', 'Happy', 'Sad', 'Sad',\n",
       "       'Happy', 'Gratitude', 'Happy', 'Gratitude', 'Sad', 'Sad',\n",
       "       'Gratitude', 'Happy', 'Sad', 'Sad', 'Happy', 'Sad', 'Gratitude',\n",
       "       'Sad', 'Gratitude', 'Gratitude', 'Gratitude', 'Gratitude', 'Happy',\n",
       "       'Happy', 'Happy', 'Gratitude', 'Gratitude', 'Happy', 'Happy',\n",
       "       'Happy', 'Sad', 'Happy', 'Sad', 'Sad', 'Sad', 'Gratitude', 'Happy',\n",
       "       'Sad', 'Happy', 'Happy', 'Sad', 'Sad', 'Sad', 'Happy', 'Happy',\n",
       "       'Happy', 'Sad', 'Gratitude', 'Sad', 'Sad', 'Sad', 'Happy', 'Sad',\n",
       "       'Gratitude', 'Happy', 'Gratitude', 'Sad', 'Gratitude', 'Sad',\n",
       "       'Gratitude', 'Sad', 'Gratitude', 'Gratitude', 'Gratitude', 'Sad',\n",
       "       'Happy', 'Happy', 'Sad', 'Sad', 'Happy', 'Sad', 'Gratitude',\n",
       "       'Happy', 'Happy', 'Gratitude', 'Sad', 'Happy', 'Sad', 'Sad', 'Sad'],\n",
       "      dtype=object)"
      ]
     },
     "execution_count": 108,
     "metadata": {},
     "output_type": "execute_result"
    }
   ],
   "source": [
    "fit_models['gb'].predict(X_test)"
   ]
  },
  {
   "cell_type": "markdown",
   "id": "edd658a5-4f13-4fb1-90a0-64b9f1b09314",
   "metadata": {},
   "source": [
    "# Evaluate and Serialize Model"
   ]
  },
  {
   "cell_type": "code",
   "execution_count": 111,
   "id": "adc2a475-4b1c-4db2-a137-5eee0fbc0bae",
   "metadata": {},
   "outputs": [],
   "source": [
    "from sklearn.metrics import accuracy_score # Accuracy metrics \n",
    "import pickle "
   ]
  },
  {
   "cell_type": "code",
   "execution_count": 113,
   "id": "80b1137f-2ea4-4ad1-9018-c7cf90cf7e81",
   "metadata": {},
   "outputs": [
    {
     "name": "stdout",
     "output_type": "stream",
     "text": [
      "lr 1.0\n",
      "rc 1.0\n",
      "rf 0.9941520467836257\n",
      "gb 1.0\n"
     ]
    }
   ],
   "source": [
    "for algo, model in fit_models.items():\n",
    "    yhat = model.predict(X_test)\n",
    "    print(algo, accuracy_score(y_test, yhat))"
   ]
  },
  {
   "cell_type": "code",
   "execution_count": 115,
   "id": "9650b0f3-5388-467d-8fa8-bd5244c07c71",
   "metadata": {},
   "outputs": [
    {
     "data": {
      "text/plain": [
       "array(['Happy', 'Gratitude', 'Happy', 'Gratitude', 'Sad', 'Sad', 'Happy',\n",
       "       'Happy', 'Gratitude', 'Sad', 'Sad', 'Happy', 'Sad', 'Gratitude',\n",
       "       'Sad', 'Gratitude', 'Sad', 'Happy', 'Sad', 'Gratitude', 'Sad',\n",
       "       'Gratitude', 'Sad', 'Happy', 'Sad', 'Happy', 'Gratitude', 'Sad',\n",
       "       'Gratitude', 'Sad', 'Happy', 'Sad', 'Happy', 'Happy', 'Sad',\n",
       "       'Gratitude', 'Sad', 'Sad', 'Sad', 'Sad', 'Happy', 'Happy',\n",
       "       'Gratitude', 'Sad', 'Sad', 'Sad', 'Happy', 'Gratitude', 'Happy',\n",
       "       'Happy', 'Gratitude', 'Gratitude', 'Happy', 'Happy', 'Happy',\n",
       "       'Gratitude', 'Happy', 'Sad', 'Gratitude', 'Sad', 'Gratitude',\n",
       "       'Happy', 'Happy', 'Sad', 'Gratitude', 'Gratitude', 'Sad', 'Happy',\n",
       "       'Sad', 'Gratitude', 'Gratitude', 'Happy', 'Sad', 'Gratitude',\n",
       "       'Sad', 'Happy', 'Sad', 'Gratitude', 'Happy', 'Gratitude', 'Sad',\n",
       "       'Happy', 'Happy', 'Gratitude', 'Sad', 'Gratitude', 'Gratitude',\n",
       "       'Sad', 'Sad', 'Happy', 'Gratitude', 'Sad', 'Happy', 'Sad', 'Sad',\n",
       "       'Happy', 'Gratitude', 'Happy', 'Gratitude', 'Sad', 'Sad',\n",
       "       'Gratitude', 'Happy', 'Sad', 'Sad', 'Happy', 'Sad', 'Gratitude',\n",
       "       'Sad', 'Gratitude', 'Gratitude', 'Gratitude', 'Gratitude', 'Happy',\n",
       "       'Happy', 'Happy', 'Gratitude', 'Gratitude', 'Happy', 'Happy',\n",
       "       'Happy', 'Sad', 'Happy', 'Sad', 'Sad', 'Sad', 'Gratitude', 'Happy',\n",
       "       'Sad', 'Happy', 'Happy', 'Sad', 'Sad', 'Sad', 'Happy', 'Happy',\n",
       "       'Happy', 'Sad', 'Gratitude', 'Sad', 'Sad', 'Sad', 'Happy', 'Sad',\n",
       "       'Gratitude', 'Happy', 'Gratitude', 'Sad', 'Gratitude', 'Sad',\n",
       "       'Gratitude', 'Sad', 'Gratitude', 'Gratitude', 'Gratitude', 'Sad',\n",
       "       'Happy', 'Happy', 'Sad', 'Sad', 'Happy', 'Sad', 'Gratitude',\n",
       "       'Happy', 'Happy', 'Gratitude', 'Sad', 'Happy', 'Sad', 'Sad', 'Sad'],\n",
       "      dtype=object)"
      ]
     },
     "execution_count": 115,
     "metadata": {},
     "output_type": "execute_result"
    }
   ],
   "source": [
    "fit_models['rf'].predict(X_test)"
   ]
  },
  {
   "cell_type": "code",
   "execution_count": 117,
   "id": "0bc3961b-38e6-4db7-8511-277491486692",
   "metadata": {},
   "outputs": [
    {
     "data": {
      "text/plain": [
       "530        Happy\n",
       "166    Gratitude\n",
       "485        Happy\n",
       "66     Gratitude\n",
       "220          Sad\n",
       "         ...    \n",
       "305          Sad\n",
       "559        Happy\n",
       "285          Sad\n",
       "355          Sad\n",
       "329          Sad\n",
       "Name: class, Length: 171, dtype: object"
      ]
     },
     "execution_count": 117,
     "metadata": {},
     "output_type": "execute_result"
    }
   ],
   "source": [
    "y_test"
   ]
  },
  {
   "cell_type": "code",
   "execution_count": 119,
   "id": "2e9a8bc6-82a3-4b43-8825-f61594535a3a",
   "metadata": {},
   "outputs": [],
   "source": [
    "with open('body_language.pkl', 'wb') as f:\n",
    "    pickle.dump(fit_models['rf'], f)"
   ]
  },
  {
   "cell_type": "markdown",
   "id": "6ef23f5e-57ca-4d62-8ecd-36dad1be9a31",
   "metadata": {},
   "source": [
    "#  Make Detections with Model"
   ]
  },
  {
   "cell_type": "code",
   "execution_count": 122,
   "id": "8f608a12-98b7-4695-8385-08fd06df9a7d",
   "metadata": {},
   "outputs": [],
   "source": [
    "with open('body_language.pkl', 'rb') as f:\n",
    "    model = pickle.load(f)"
   ]
  },
  {
   "cell_type": "code",
   "execution_count": 124,
   "id": "9ed5b750-a6a4-4b8d-bb51-ed0db7ed6350",
   "metadata": {},
   "outputs": [
    {
     "data": {
      "text/html": [
       "<style>#sk-container-id-2 {\n",
       "  /* Definition of color scheme common for light and dark mode */\n",
       "  --sklearn-color-text: black;\n",
       "  --sklearn-color-line: gray;\n",
       "  /* Definition of color scheme for unfitted estimators */\n",
       "  --sklearn-color-unfitted-level-0: #fff5e6;\n",
       "  --sklearn-color-unfitted-level-1: #f6e4d2;\n",
       "  --sklearn-color-unfitted-level-2: #ffe0b3;\n",
       "  --sklearn-color-unfitted-level-3: chocolate;\n",
       "  /* Definition of color scheme for fitted estimators */\n",
       "  --sklearn-color-fitted-level-0: #f0f8ff;\n",
       "  --sklearn-color-fitted-level-1: #d4ebff;\n",
       "  --sklearn-color-fitted-level-2: #b3dbfd;\n",
       "  --sklearn-color-fitted-level-3: cornflowerblue;\n",
       "\n",
       "  /* Specific color for light theme */\n",
       "  --sklearn-color-text-on-default-background: var(--sg-text-color, var(--theme-code-foreground, var(--jp-content-font-color1, black)));\n",
       "  --sklearn-color-background: var(--sg-background-color, var(--theme-background, var(--jp-layout-color0, white)));\n",
       "  --sklearn-color-border-box: var(--sg-text-color, var(--theme-code-foreground, var(--jp-content-font-color1, black)));\n",
       "  --sklearn-color-icon: #696969;\n",
       "\n",
       "  @media (prefers-color-scheme: dark) {\n",
       "    /* Redefinition of color scheme for dark theme */\n",
       "    --sklearn-color-text-on-default-background: var(--sg-text-color, var(--theme-code-foreground, var(--jp-content-font-color1, white)));\n",
       "    --sklearn-color-background: var(--sg-background-color, var(--theme-background, var(--jp-layout-color0, #111)));\n",
       "    --sklearn-color-border-box: var(--sg-text-color, var(--theme-code-foreground, var(--jp-content-font-color1, white)));\n",
       "    --sklearn-color-icon: #878787;\n",
       "  }\n",
       "}\n",
       "\n",
       "#sk-container-id-2 {\n",
       "  color: var(--sklearn-color-text);\n",
       "}\n",
       "\n",
       "#sk-container-id-2 pre {\n",
       "  padding: 0;\n",
       "}\n",
       "\n",
       "#sk-container-id-2 input.sk-hidden--visually {\n",
       "  border: 0;\n",
       "  clip: rect(1px 1px 1px 1px);\n",
       "  clip: rect(1px, 1px, 1px, 1px);\n",
       "  height: 1px;\n",
       "  margin: -1px;\n",
       "  overflow: hidden;\n",
       "  padding: 0;\n",
       "  position: absolute;\n",
       "  width: 1px;\n",
       "}\n",
       "\n",
       "#sk-container-id-2 div.sk-dashed-wrapped {\n",
       "  border: 1px dashed var(--sklearn-color-line);\n",
       "  margin: 0 0.4em 0.5em 0.4em;\n",
       "  box-sizing: border-box;\n",
       "  padding-bottom: 0.4em;\n",
       "  background-color: var(--sklearn-color-background);\n",
       "}\n",
       "\n",
       "#sk-container-id-2 div.sk-container {\n",
       "  /* jupyter's `normalize.less` sets `[hidden] { display: none; }`\n",
       "     but bootstrap.min.css set `[hidden] { display: none !important; }`\n",
       "     so we also need the `!important` here to be able to override the\n",
       "     default hidden behavior on the sphinx rendered scikit-learn.org.\n",
       "     See: https://github.com/scikit-learn/scikit-learn/issues/21755 */\n",
       "  display: inline-block !important;\n",
       "  position: relative;\n",
       "}\n",
       "\n",
       "#sk-container-id-2 div.sk-text-repr-fallback {\n",
       "  display: none;\n",
       "}\n",
       "\n",
       "div.sk-parallel-item,\n",
       "div.sk-serial,\n",
       "div.sk-item {\n",
       "  /* draw centered vertical line to link estimators */\n",
       "  background-image: linear-gradient(var(--sklearn-color-text-on-default-background), var(--sklearn-color-text-on-default-background));\n",
       "  background-size: 2px 100%;\n",
       "  background-repeat: no-repeat;\n",
       "  background-position: center center;\n",
       "}\n",
       "\n",
       "/* Parallel-specific style estimator block */\n",
       "\n",
       "#sk-container-id-2 div.sk-parallel-item::after {\n",
       "  content: \"\";\n",
       "  width: 100%;\n",
       "  border-bottom: 2px solid var(--sklearn-color-text-on-default-background);\n",
       "  flex-grow: 1;\n",
       "}\n",
       "\n",
       "#sk-container-id-2 div.sk-parallel {\n",
       "  display: flex;\n",
       "  align-items: stretch;\n",
       "  justify-content: center;\n",
       "  background-color: var(--sklearn-color-background);\n",
       "  position: relative;\n",
       "}\n",
       "\n",
       "#sk-container-id-2 div.sk-parallel-item {\n",
       "  display: flex;\n",
       "  flex-direction: column;\n",
       "}\n",
       "\n",
       "#sk-container-id-2 div.sk-parallel-item:first-child::after {\n",
       "  align-self: flex-end;\n",
       "  width: 50%;\n",
       "}\n",
       "\n",
       "#sk-container-id-2 div.sk-parallel-item:last-child::after {\n",
       "  align-self: flex-start;\n",
       "  width: 50%;\n",
       "}\n",
       "\n",
       "#sk-container-id-2 div.sk-parallel-item:only-child::after {\n",
       "  width: 0;\n",
       "}\n",
       "\n",
       "/* Serial-specific style estimator block */\n",
       "\n",
       "#sk-container-id-2 div.sk-serial {\n",
       "  display: flex;\n",
       "  flex-direction: column;\n",
       "  align-items: center;\n",
       "  background-color: var(--sklearn-color-background);\n",
       "  padding-right: 1em;\n",
       "  padding-left: 1em;\n",
       "}\n",
       "\n",
       "\n",
       "/* Toggleable style: style used for estimator/Pipeline/ColumnTransformer box that is\n",
       "clickable and can be expanded/collapsed.\n",
       "- Pipeline and ColumnTransformer use this feature and define the default style\n",
       "- Estimators will overwrite some part of the style using the `sk-estimator` class\n",
       "*/\n",
       "\n",
       "/* Pipeline and ColumnTransformer style (default) */\n",
       "\n",
       "#sk-container-id-2 div.sk-toggleable {\n",
       "  /* Default theme specific background. It is overwritten whether we have a\n",
       "  specific estimator or a Pipeline/ColumnTransformer */\n",
       "  background-color: var(--sklearn-color-background);\n",
       "}\n",
       "\n",
       "/* Toggleable label */\n",
       "#sk-container-id-2 label.sk-toggleable__label {\n",
       "  cursor: pointer;\n",
       "  display: block;\n",
       "  width: 100%;\n",
       "  margin-bottom: 0;\n",
       "  padding: 0.5em;\n",
       "  box-sizing: border-box;\n",
       "  text-align: center;\n",
       "}\n",
       "\n",
       "#sk-container-id-2 label.sk-toggleable__label-arrow:before {\n",
       "  /* Arrow on the left of the label */\n",
       "  content: \"▸\";\n",
       "  float: left;\n",
       "  margin-right: 0.25em;\n",
       "  color: var(--sklearn-color-icon);\n",
       "}\n",
       "\n",
       "#sk-container-id-2 label.sk-toggleable__label-arrow:hover:before {\n",
       "  color: var(--sklearn-color-text);\n",
       "}\n",
       "\n",
       "/* Toggleable content - dropdown */\n",
       "\n",
       "#sk-container-id-2 div.sk-toggleable__content {\n",
       "  max-height: 0;\n",
       "  max-width: 0;\n",
       "  overflow: hidden;\n",
       "  text-align: left;\n",
       "  /* unfitted */\n",
       "  background-color: var(--sklearn-color-unfitted-level-0);\n",
       "}\n",
       "\n",
       "#sk-container-id-2 div.sk-toggleable__content.fitted {\n",
       "  /* fitted */\n",
       "  background-color: var(--sklearn-color-fitted-level-0);\n",
       "}\n",
       "\n",
       "#sk-container-id-2 div.sk-toggleable__content pre {\n",
       "  margin: 0.2em;\n",
       "  border-radius: 0.25em;\n",
       "  color: var(--sklearn-color-text);\n",
       "  /* unfitted */\n",
       "  background-color: var(--sklearn-color-unfitted-level-0);\n",
       "}\n",
       "\n",
       "#sk-container-id-2 div.sk-toggleable__content.fitted pre {\n",
       "  /* unfitted */\n",
       "  background-color: var(--sklearn-color-fitted-level-0);\n",
       "}\n",
       "\n",
       "#sk-container-id-2 input.sk-toggleable__control:checked~div.sk-toggleable__content {\n",
       "  /* Expand drop-down */\n",
       "  max-height: 200px;\n",
       "  max-width: 100%;\n",
       "  overflow: auto;\n",
       "}\n",
       "\n",
       "#sk-container-id-2 input.sk-toggleable__control:checked~label.sk-toggleable__label-arrow:before {\n",
       "  content: \"▾\";\n",
       "}\n",
       "\n",
       "/* Pipeline/ColumnTransformer-specific style */\n",
       "\n",
       "#sk-container-id-2 div.sk-label input.sk-toggleable__control:checked~label.sk-toggleable__label {\n",
       "  color: var(--sklearn-color-text);\n",
       "  background-color: var(--sklearn-color-unfitted-level-2);\n",
       "}\n",
       "\n",
       "#sk-container-id-2 div.sk-label.fitted input.sk-toggleable__control:checked~label.sk-toggleable__label {\n",
       "  background-color: var(--sklearn-color-fitted-level-2);\n",
       "}\n",
       "\n",
       "/* Estimator-specific style */\n",
       "\n",
       "/* Colorize estimator box */\n",
       "#sk-container-id-2 div.sk-estimator input.sk-toggleable__control:checked~label.sk-toggleable__label {\n",
       "  /* unfitted */\n",
       "  background-color: var(--sklearn-color-unfitted-level-2);\n",
       "}\n",
       "\n",
       "#sk-container-id-2 div.sk-estimator.fitted input.sk-toggleable__control:checked~label.sk-toggleable__label {\n",
       "  /* fitted */\n",
       "  background-color: var(--sklearn-color-fitted-level-2);\n",
       "}\n",
       "\n",
       "#sk-container-id-2 div.sk-label label.sk-toggleable__label,\n",
       "#sk-container-id-2 div.sk-label label {\n",
       "  /* The background is the default theme color */\n",
       "  color: var(--sklearn-color-text-on-default-background);\n",
       "}\n",
       "\n",
       "/* On hover, darken the color of the background */\n",
       "#sk-container-id-2 div.sk-label:hover label.sk-toggleable__label {\n",
       "  color: var(--sklearn-color-text);\n",
       "  background-color: var(--sklearn-color-unfitted-level-2);\n",
       "}\n",
       "\n",
       "/* Label box, darken color on hover, fitted */\n",
       "#sk-container-id-2 div.sk-label.fitted:hover label.sk-toggleable__label.fitted {\n",
       "  color: var(--sklearn-color-text);\n",
       "  background-color: var(--sklearn-color-fitted-level-2);\n",
       "}\n",
       "\n",
       "/* Estimator label */\n",
       "\n",
       "#sk-container-id-2 div.sk-label label {\n",
       "  font-family: monospace;\n",
       "  font-weight: bold;\n",
       "  display: inline-block;\n",
       "  line-height: 1.2em;\n",
       "}\n",
       "\n",
       "#sk-container-id-2 div.sk-label-container {\n",
       "  text-align: center;\n",
       "}\n",
       "\n",
       "/* Estimator-specific */\n",
       "#sk-container-id-2 div.sk-estimator {\n",
       "  font-family: monospace;\n",
       "  border: 1px dotted var(--sklearn-color-border-box);\n",
       "  border-radius: 0.25em;\n",
       "  box-sizing: border-box;\n",
       "  margin-bottom: 0.5em;\n",
       "  /* unfitted */\n",
       "  background-color: var(--sklearn-color-unfitted-level-0);\n",
       "}\n",
       "\n",
       "#sk-container-id-2 div.sk-estimator.fitted {\n",
       "  /* fitted */\n",
       "  background-color: var(--sklearn-color-fitted-level-0);\n",
       "}\n",
       "\n",
       "/* on hover */\n",
       "#sk-container-id-2 div.sk-estimator:hover {\n",
       "  /* unfitted */\n",
       "  background-color: var(--sklearn-color-unfitted-level-2);\n",
       "}\n",
       "\n",
       "#sk-container-id-2 div.sk-estimator.fitted:hover {\n",
       "  /* fitted */\n",
       "  background-color: var(--sklearn-color-fitted-level-2);\n",
       "}\n",
       "\n",
       "/* Specification for estimator info (e.g. \"i\" and \"?\") */\n",
       "\n",
       "/* Common style for \"i\" and \"?\" */\n",
       "\n",
       ".sk-estimator-doc-link,\n",
       "a:link.sk-estimator-doc-link,\n",
       "a:visited.sk-estimator-doc-link {\n",
       "  float: right;\n",
       "  font-size: smaller;\n",
       "  line-height: 1em;\n",
       "  font-family: monospace;\n",
       "  background-color: var(--sklearn-color-background);\n",
       "  border-radius: 1em;\n",
       "  height: 1em;\n",
       "  width: 1em;\n",
       "  text-decoration: none !important;\n",
       "  margin-left: 1ex;\n",
       "  /* unfitted */\n",
       "  border: var(--sklearn-color-unfitted-level-1) 1pt solid;\n",
       "  color: var(--sklearn-color-unfitted-level-1);\n",
       "}\n",
       "\n",
       ".sk-estimator-doc-link.fitted,\n",
       "a:link.sk-estimator-doc-link.fitted,\n",
       "a:visited.sk-estimator-doc-link.fitted {\n",
       "  /* fitted */\n",
       "  border: var(--sklearn-color-fitted-level-1) 1pt solid;\n",
       "  color: var(--sklearn-color-fitted-level-1);\n",
       "}\n",
       "\n",
       "/* On hover */\n",
       "div.sk-estimator:hover .sk-estimator-doc-link:hover,\n",
       ".sk-estimator-doc-link:hover,\n",
       "div.sk-label-container:hover .sk-estimator-doc-link:hover,\n",
       ".sk-estimator-doc-link:hover {\n",
       "  /* unfitted */\n",
       "  background-color: var(--sklearn-color-unfitted-level-3);\n",
       "  color: var(--sklearn-color-background);\n",
       "  text-decoration: none;\n",
       "}\n",
       "\n",
       "div.sk-estimator.fitted:hover .sk-estimator-doc-link.fitted:hover,\n",
       ".sk-estimator-doc-link.fitted:hover,\n",
       "div.sk-label-container:hover .sk-estimator-doc-link.fitted:hover,\n",
       ".sk-estimator-doc-link.fitted:hover {\n",
       "  /* fitted */\n",
       "  background-color: var(--sklearn-color-fitted-level-3);\n",
       "  color: var(--sklearn-color-background);\n",
       "  text-decoration: none;\n",
       "}\n",
       "\n",
       "/* Span, style for the box shown on hovering the info icon */\n",
       ".sk-estimator-doc-link span {\n",
       "  display: none;\n",
       "  z-index: 9999;\n",
       "  position: relative;\n",
       "  font-weight: normal;\n",
       "  right: .2ex;\n",
       "  padding: .5ex;\n",
       "  margin: .5ex;\n",
       "  width: min-content;\n",
       "  min-width: 20ex;\n",
       "  max-width: 50ex;\n",
       "  color: var(--sklearn-color-text);\n",
       "  box-shadow: 2pt 2pt 4pt #999;\n",
       "  /* unfitted */\n",
       "  background: var(--sklearn-color-unfitted-level-0);\n",
       "  border: .5pt solid var(--sklearn-color-unfitted-level-3);\n",
       "}\n",
       "\n",
       ".sk-estimator-doc-link.fitted span {\n",
       "  /* fitted */\n",
       "  background: var(--sklearn-color-fitted-level-0);\n",
       "  border: var(--sklearn-color-fitted-level-3);\n",
       "}\n",
       "\n",
       ".sk-estimator-doc-link:hover span {\n",
       "  display: block;\n",
       "}\n",
       "\n",
       "/* \"?\"-specific style due to the `<a>` HTML tag */\n",
       "\n",
       "#sk-container-id-2 a.estimator_doc_link {\n",
       "  float: right;\n",
       "  font-size: 1rem;\n",
       "  line-height: 1em;\n",
       "  font-family: monospace;\n",
       "  background-color: var(--sklearn-color-background);\n",
       "  border-radius: 1rem;\n",
       "  height: 1rem;\n",
       "  width: 1rem;\n",
       "  text-decoration: none;\n",
       "  /* unfitted */\n",
       "  color: var(--sklearn-color-unfitted-level-1);\n",
       "  border: var(--sklearn-color-unfitted-level-1) 1pt solid;\n",
       "}\n",
       "\n",
       "#sk-container-id-2 a.estimator_doc_link.fitted {\n",
       "  /* fitted */\n",
       "  border: var(--sklearn-color-fitted-level-1) 1pt solid;\n",
       "  color: var(--sklearn-color-fitted-level-1);\n",
       "}\n",
       "\n",
       "/* On hover */\n",
       "#sk-container-id-2 a.estimator_doc_link:hover {\n",
       "  /* unfitted */\n",
       "  background-color: var(--sklearn-color-unfitted-level-3);\n",
       "  color: var(--sklearn-color-background);\n",
       "  text-decoration: none;\n",
       "}\n",
       "\n",
       "#sk-container-id-2 a.estimator_doc_link.fitted:hover {\n",
       "  /* fitted */\n",
       "  background-color: var(--sklearn-color-fitted-level-3);\n",
       "}\n",
       "</style><div id=\"sk-container-id-2\" class=\"sk-top-container\"><div class=\"sk-text-repr-fallback\"><pre>Pipeline(steps=[(&#x27;standardscaler&#x27;, StandardScaler()),\n",
       "                (&#x27;randomforestclassifier&#x27;, RandomForestClassifier())])</pre><b>In a Jupyter environment, please rerun this cell to show the HTML representation or trust the notebook. <br />On GitHub, the HTML representation is unable to render, please try loading this page with nbviewer.org.</b></div><div class=\"sk-container\" hidden><div class=\"sk-item sk-dashed-wrapped\"><div class=\"sk-label-container\"><div class=\"sk-label fitted sk-toggleable\"><input class=\"sk-toggleable__control sk-hidden--visually\" id=\"sk-estimator-id-4\" type=\"checkbox\" ><label for=\"sk-estimator-id-4\" class=\"sk-toggleable__label fitted sk-toggleable__label-arrow fitted\">&nbsp;&nbsp;Pipeline<a class=\"sk-estimator-doc-link fitted\" rel=\"noreferrer\" target=\"_blank\" href=\"https://scikit-learn.org/1.5/modules/generated/sklearn.pipeline.Pipeline.html\">?<span>Documentation for Pipeline</span></a><span class=\"sk-estimator-doc-link fitted\">i<span>Fitted</span></span></label><div class=\"sk-toggleable__content fitted\"><pre>Pipeline(steps=[(&#x27;standardscaler&#x27;, StandardScaler()),\n",
       "                (&#x27;randomforestclassifier&#x27;, RandomForestClassifier())])</pre></div> </div></div><div class=\"sk-serial\"><div class=\"sk-item\"><div class=\"sk-estimator fitted sk-toggleable\"><input class=\"sk-toggleable__control sk-hidden--visually\" id=\"sk-estimator-id-5\" type=\"checkbox\" ><label for=\"sk-estimator-id-5\" class=\"sk-toggleable__label fitted sk-toggleable__label-arrow fitted\">&nbsp;StandardScaler<a class=\"sk-estimator-doc-link fitted\" rel=\"noreferrer\" target=\"_blank\" href=\"https://scikit-learn.org/1.5/modules/generated/sklearn.preprocessing.StandardScaler.html\">?<span>Documentation for StandardScaler</span></a></label><div class=\"sk-toggleable__content fitted\"><pre>StandardScaler()</pre></div> </div></div><div class=\"sk-item\"><div class=\"sk-estimator fitted sk-toggleable\"><input class=\"sk-toggleable__control sk-hidden--visually\" id=\"sk-estimator-id-6\" type=\"checkbox\" ><label for=\"sk-estimator-id-6\" class=\"sk-toggleable__label fitted sk-toggleable__label-arrow fitted\">&nbsp;RandomForestClassifier<a class=\"sk-estimator-doc-link fitted\" rel=\"noreferrer\" target=\"_blank\" href=\"https://scikit-learn.org/1.5/modules/generated/sklearn.ensemble.RandomForestClassifier.html\">?<span>Documentation for RandomForestClassifier</span></a></label><div class=\"sk-toggleable__content fitted\"><pre>RandomForestClassifier()</pre></div> </div></div></div></div></div></div>"
      ],
      "text/plain": [
       "Pipeline(steps=[('standardscaler', StandardScaler()),\n",
       "                ('randomforestclassifier', RandomForestClassifier())])"
      ]
     },
     "execution_count": 124,
     "metadata": {},
     "output_type": "execute_result"
    }
   ],
   "source": [
    "model"
   ]
  },
  {
   "cell_type": "code",
   "execution_count": 128,
   "id": "29b46fa4-8d09-4306-a0e6-86492537c508",
   "metadata": {},
   "outputs": [
    {
     "name": "stderr",
     "output_type": "stream",
     "text": [
      "C:\\Users\\debar\\anaconda3\\envs\\py39\\lib\\site-packages\\sklearn\\base.py:493: UserWarning: X does not have valid feature names, but StandardScaler was fitted with feature names\n",
      "  warnings.warn(\n",
      "C:\\Users\\debar\\anaconda3\\envs\\py39\\lib\\site-packages\\sklearn\\base.py:493: UserWarning: X does not have valid feature names, but StandardScaler was fitted with feature names\n",
      "  warnings.warn(\n"
     ]
    },
    {
     "name": "stdout",
     "output_type": "stream",
     "text": [
      "Gratitude [0.47 0.4  0.13]\n"
     ]
    },
    {
     "name": "stderr",
     "output_type": "stream",
     "text": [
      "C:\\Users\\debar\\anaconda3\\envs\\py39\\lib\\site-packages\\sklearn\\base.py:493: UserWarning: X does not have valid feature names, but StandardScaler was fitted with feature names\n",
      "  warnings.warn(\n",
      "C:\\Users\\debar\\anaconda3\\envs\\py39\\lib\\site-packages\\sklearn\\base.py:493: UserWarning: X does not have valid feature names, but StandardScaler was fitted with feature names\n",
      "  warnings.warn(\n",
      "C:\\Users\\debar\\anaconda3\\envs\\py39\\lib\\site-packages\\sklearn\\base.py:493: UserWarning: X does not have valid feature names, but StandardScaler was fitted with feature names\n",
      "  warnings.warn(\n",
      "C:\\Users\\debar\\anaconda3\\envs\\py39\\lib\\site-packages\\sklearn\\base.py:493: UserWarning: X does not have valid feature names, but StandardScaler was fitted with feature names\n",
      "  warnings.warn(\n"
     ]
    },
    {
     "name": "stdout",
     "output_type": "stream",
     "text": [
      "Gratitude [0.52 0.35 0.13]\n",
      "Gratitude [0.47 0.39 0.14]\n"
     ]
    },
    {
     "name": "stderr",
     "output_type": "stream",
     "text": [
      "C:\\Users\\debar\\anaconda3\\envs\\py39\\lib\\site-packages\\sklearn\\base.py:493: UserWarning: X does not have valid feature names, but StandardScaler was fitted with feature names\n",
      "  warnings.warn(\n",
      "C:\\Users\\debar\\anaconda3\\envs\\py39\\lib\\site-packages\\sklearn\\base.py:493: UserWarning: X does not have valid feature names, but StandardScaler was fitted with feature names\n",
      "  warnings.warn(\n",
      "C:\\Users\\debar\\anaconda3\\envs\\py39\\lib\\site-packages\\sklearn\\base.py:493: UserWarning: X does not have valid feature names, but StandardScaler was fitted with feature names\n",
      "  warnings.warn(\n",
      "C:\\Users\\debar\\anaconda3\\envs\\py39\\lib\\site-packages\\sklearn\\base.py:493: UserWarning: X does not have valid feature names, but StandardScaler was fitted with feature names\n",
      "  warnings.warn(\n"
     ]
    },
    {
     "name": "stdout",
     "output_type": "stream",
     "text": [
      "Gratitude [0.6  0.28 0.12]\n",
      "Gratitude [0.64 0.23 0.13]\n"
     ]
    },
    {
     "name": "stderr",
     "output_type": "stream",
     "text": [
      "C:\\Users\\debar\\anaconda3\\envs\\py39\\lib\\site-packages\\sklearn\\base.py:493: UserWarning: X does not have valid feature names, but StandardScaler was fitted with feature names\n",
      "  warnings.warn(\n",
      "C:\\Users\\debar\\anaconda3\\envs\\py39\\lib\\site-packages\\sklearn\\base.py:493: UserWarning: X does not have valid feature names, but StandardScaler was fitted with feature names\n",
      "  warnings.warn(\n",
      "C:\\Users\\debar\\anaconda3\\envs\\py39\\lib\\site-packages\\sklearn\\base.py:493: UserWarning: X does not have valid feature names, but StandardScaler was fitted with feature names\n",
      "  warnings.warn(\n",
      "C:\\Users\\debar\\anaconda3\\envs\\py39\\lib\\site-packages\\sklearn\\base.py:493: UserWarning: X does not have valid feature names, but StandardScaler was fitted with feature names\n",
      "  warnings.warn(\n"
     ]
    },
    {
     "name": "stdout",
     "output_type": "stream",
     "text": [
      "Gratitude [0.63 0.27 0.1 ]\n",
      "Gratitude [0.63 0.28 0.09]\n"
     ]
    },
    {
     "name": "stderr",
     "output_type": "stream",
     "text": [
      "C:\\Users\\debar\\anaconda3\\envs\\py39\\lib\\site-packages\\sklearn\\base.py:493: UserWarning: X does not have valid feature names, but StandardScaler was fitted with feature names\n",
      "  warnings.warn(\n",
      "C:\\Users\\debar\\anaconda3\\envs\\py39\\lib\\site-packages\\sklearn\\base.py:493: UserWarning: X does not have valid feature names, but StandardScaler was fitted with feature names\n",
      "  warnings.warn(\n",
      "C:\\Users\\debar\\anaconda3\\envs\\py39\\lib\\site-packages\\sklearn\\base.py:493: UserWarning: X does not have valid feature names, but StandardScaler was fitted with feature names\n",
      "  warnings.warn(\n",
      "C:\\Users\\debar\\anaconda3\\envs\\py39\\lib\\site-packages\\sklearn\\base.py:493: UserWarning: X does not have valid feature names, but StandardScaler was fitted with feature names\n",
      "  warnings.warn(\n"
     ]
    },
    {
     "name": "stdout",
     "output_type": "stream",
     "text": [
      "Gratitude [0.61 0.34 0.05]\n",
      "Gratitude [0.49 0.49 0.02]\n"
     ]
    },
    {
     "name": "stderr",
     "output_type": "stream",
     "text": [
      "C:\\Users\\debar\\anaconda3\\envs\\py39\\lib\\site-packages\\sklearn\\base.py:493: UserWarning: X does not have valid feature names, but StandardScaler was fitted with feature names\n",
      "  warnings.warn(\n",
      "C:\\Users\\debar\\anaconda3\\envs\\py39\\lib\\site-packages\\sklearn\\base.py:493: UserWarning: X does not have valid feature names, but StandardScaler was fitted with feature names\n",
      "  warnings.warn(\n",
      "C:\\Users\\debar\\anaconda3\\envs\\py39\\lib\\site-packages\\sklearn\\base.py:493: UserWarning: X does not have valid feature names, but StandardScaler was fitted with feature names\n",
      "  warnings.warn(\n",
      "C:\\Users\\debar\\anaconda3\\envs\\py39\\lib\\site-packages\\sklearn\\base.py:493: UserWarning: X does not have valid feature names, but StandardScaler was fitted with feature names\n",
      "  warnings.warn(\n"
     ]
    },
    {
     "name": "stdout",
     "output_type": "stream",
     "text": [
      "Gratitude [0.58 0.41 0.01]\n",
      "Gratitude [0.54 0.35 0.11]\n"
     ]
    },
    {
     "name": "stderr",
     "output_type": "stream",
     "text": [
      "C:\\Users\\debar\\anaconda3\\envs\\py39\\lib\\site-packages\\sklearn\\base.py:493: UserWarning: X does not have valid feature names, but StandardScaler was fitted with feature names\n",
      "  warnings.warn(\n",
      "C:\\Users\\debar\\anaconda3\\envs\\py39\\lib\\site-packages\\sklearn\\base.py:493: UserWarning: X does not have valid feature names, but StandardScaler was fitted with feature names\n",
      "  warnings.warn(\n",
      "C:\\Users\\debar\\anaconda3\\envs\\py39\\lib\\site-packages\\sklearn\\base.py:493: UserWarning: X does not have valid feature names, but StandardScaler was fitted with feature names\n",
      "  warnings.warn(\n",
      "C:\\Users\\debar\\anaconda3\\envs\\py39\\lib\\site-packages\\sklearn\\base.py:493: UserWarning: X does not have valid feature names, but StandardScaler was fitted with feature names\n",
      "  warnings.warn(\n"
     ]
    },
    {
     "name": "stdout",
     "output_type": "stream",
     "text": [
      "Gratitude [0.71 0.18 0.11]\n",
      "Gratitude [0.77 0.13 0.1 ]\n"
     ]
    },
    {
     "name": "stderr",
     "output_type": "stream",
     "text": [
      "C:\\Users\\debar\\anaconda3\\envs\\py39\\lib\\site-packages\\sklearn\\base.py:493: UserWarning: X does not have valid feature names, but StandardScaler was fitted with feature names\n",
      "  warnings.warn(\n",
      "C:\\Users\\debar\\anaconda3\\envs\\py39\\lib\\site-packages\\sklearn\\base.py:493: UserWarning: X does not have valid feature names, but StandardScaler was fitted with feature names\n",
      "  warnings.warn(\n",
      "C:\\Users\\debar\\anaconda3\\envs\\py39\\lib\\site-packages\\sklearn\\base.py:493: UserWarning: X does not have valid feature names, but StandardScaler was fitted with feature names\n",
      "  warnings.warn(\n",
      "C:\\Users\\debar\\anaconda3\\envs\\py39\\lib\\site-packages\\sklearn\\base.py:493: UserWarning: X does not have valid feature names, but StandardScaler was fitted with feature names\n",
      "  warnings.warn(\n"
     ]
    },
    {
     "name": "stdout",
     "output_type": "stream",
     "text": [
      "Gratitude [0.93 0.07 0.  ]\n",
      "Gratitude [0.95 0.05 0.  ]\n"
     ]
    },
    {
     "name": "stderr",
     "output_type": "stream",
     "text": [
      "C:\\Users\\debar\\anaconda3\\envs\\py39\\lib\\site-packages\\sklearn\\base.py:493: UserWarning: X does not have valid feature names, but StandardScaler was fitted with feature names\n",
      "  warnings.warn(\n",
      "C:\\Users\\debar\\anaconda3\\envs\\py39\\lib\\site-packages\\sklearn\\base.py:493: UserWarning: X does not have valid feature names, but StandardScaler was fitted with feature names\n",
      "  warnings.warn(\n",
      "C:\\Users\\debar\\anaconda3\\envs\\py39\\lib\\site-packages\\sklearn\\base.py:493: UserWarning: X does not have valid feature names, but StandardScaler was fitted with feature names\n",
      "  warnings.warn(\n",
      "C:\\Users\\debar\\anaconda3\\envs\\py39\\lib\\site-packages\\sklearn\\base.py:493: UserWarning: X does not have valid feature names, but StandardScaler was fitted with feature names\n",
      "  warnings.warn(\n"
     ]
    },
    {
     "name": "stdout",
     "output_type": "stream",
     "text": [
      "Gratitude [0.97 0.03 0.  ]\n",
      "Gratitude [0.96 0.04 0.  ]\n"
     ]
    },
    {
     "name": "stderr",
     "output_type": "stream",
     "text": [
      "C:\\Users\\debar\\anaconda3\\envs\\py39\\lib\\site-packages\\sklearn\\base.py:493: UserWarning: X does not have valid feature names, but StandardScaler was fitted with feature names\n",
      "  warnings.warn(\n",
      "C:\\Users\\debar\\anaconda3\\envs\\py39\\lib\\site-packages\\sklearn\\base.py:493: UserWarning: X does not have valid feature names, but StandardScaler was fitted with feature names\n",
      "  warnings.warn(\n",
      "C:\\Users\\debar\\anaconda3\\envs\\py39\\lib\\site-packages\\sklearn\\base.py:493: UserWarning: X does not have valid feature names, but StandardScaler was fitted with feature names\n",
      "  warnings.warn(\n",
      "C:\\Users\\debar\\anaconda3\\envs\\py39\\lib\\site-packages\\sklearn\\base.py:493: UserWarning: X does not have valid feature names, but StandardScaler was fitted with feature names\n",
      "  warnings.warn(\n"
     ]
    },
    {
     "name": "stdout",
     "output_type": "stream",
     "text": [
      "Gratitude [0.96 0.04 0.  ]\n",
      "Gratitude [0.9 0.1 0. ]\n"
     ]
    },
    {
     "name": "stderr",
     "output_type": "stream",
     "text": [
      "C:\\Users\\debar\\anaconda3\\envs\\py39\\lib\\site-packages\\sklearn\\base.py:493: UserWarning: X does not have valid feature names, but StandardScaler was fitted with feature names\n",
      "  warnings.warn(\n",
      "C:\\Users\\debar\\anaconda3\\envs\\py39\\lib\\site-packages\\sklearn\\base.py:493: UserWarning: X does not have valid feature names, but StandardScaler was fitted with feature names\n",
      "  warnings.warn(\n",
      "C:\\Users\\debar\\anaconda3\\envs\\py39\\lib\\site-packages\\sklearn\\base.py:493: UserWarning: X does not have valid feature names, but StandardScaler was fitted with feature names\n",
      "  warnings.warn(\n",
      "C:\\Users\\debar\\anaconda3\\envs\\py39\\lib\\site-packages\\sklearn\\base.py:493: UserWarning: X does not have valid feature names, but StandardScaler was fitted with feature names\n",
      "  warnings.warn(\n"
     ]
    },
    {
     "name": "stdout",
     "output_type": "stream",
     "text": [
      "Gratitude [0.92 0.08 0.  ]\n",
      "Gratitude [0.9 0.1 0. ]\n"
     ]
    },
    {
     "name": "stderr",
     "output_type": "stream",
     "text": [
      "C:\\Users\\debar\\anaconda3\\envs\\py39\\lib\\site-packages\\sklearn\\base.py:493: UserWarning: X does not have valid feature names, but StandardScaler was fitted with feature names\n",
      "  warnings.warn(\n",
      "C:\\Users\\debar\\anaconda3\\envs\\py39\\lib\\site-packages\\sklearn\\base.py:493: UserWarning: X does not have valid feature names, but StandardScaler was fitted with feature names\n",
      "  warnings.warn(\n",
      "C:\\Users\\debar\\anaconda3\\envs\\py39\\lib\\site-packages\\sklearn\\base.py:493: UserWarning: X does not have valid feature names, but StandardScaler was fitted with feature names\n",
      "  warnings.warn(\n",
      "C:\\Users\\debar\\anaconda3\\envs\\py39\\lib\\site-packages\\sklearn\\base.py:493: UserWarning: X does not have valid feature names, but StandardScaler was fitted with feature names\n",
      "  warnings.warn(\n"
     ]
    },
    {
     "name": "stdout",
     "output_type": "stream",
     "text": [
      "Gratitude [0.9 0.1 0. ]\n",
      "Gratitude [0.89 0.11 0.  ]\n"
     ]
    },
    {
     "name": "stderr",
     "output_type": "stream",
     "text": [
      "C:\\Users\\debar\\anaconda3\\envs\\py39\\lib\\site-packages\\sklearn\\base.py:493: UserWarning: X does not have valid feature names, but StandardScaler was fitted with feature names\n",
      "  warnings.warn(\n",
      "C:\\Users\\debar\\anaconda3\\envs\\py39\\lib\\site-packages\\sklearn\\base.py:493: UserWarning: X does not have valid feature names, but StandardScaler was fitted with feature names\n",
      "  warnings.warn(\n",
      "C:\\Users\\debar\\anaconda3\\envs\\py39\\lib\\site-packages\\sklearn\\base.py:493: UserWarning: X does not have valid feature names, but StandardScaler was fitted with feature names\n",
      "  warnings.warn(\n",
      "C:\\Users\\debar\\anaconda3\\envs\\py39\\lib\\site-packages\\sklearn\\base.py:493: UserWarning: X does not have valid feature names, but StandardScaler was fitted with feature names\n",
      "  warnings.warn(\n"
     ]
    },
    {
     "name": "stdout",
     "output_type": "stream",
     "text": [
      "Gratitude [0.89 0.11 0.  ]\n",
      "Gratitude [0.9 0.1 0. ]\n"
     ]
    },
    {
     "name": "stderr",
     "output_type": "stream",
     "text": [
      "C:\\Users\\debar\\anaconda3\\envs\\py39\\lib\\site-packages\\sklearn\\base.py:493: UserWarning: X does not have valid feature names, but StandardScaler was fitted with feature names\n",
      "  warnings.warn(\n",
      "C:\\Users\\debar\\anaconda3\\envs\\py39\\lib\\site-packages\\sklearn\\base.py:493: UserWarning: X does not have valid feature names, but StandardScaler was fitted with feature names\n",
      "  warnings.warn(\n",
      "C:\\Users\\debar\\anaconda3\\envs\\py39\\lib\\site-packages\\sklearn\\base.py:493: UserWarning: X does not have valid feature names, but StandardScaler was fitted with feature names\n",
      "  warnings.warn(\n",
      "C:\\Users\\debar\\anaconda3\\envs\\py39\\lib\\site-packages\\sklearn\\base.py:493: UserWarning: X does not have valid feature names, but StandardScaler was fitted with feature names\n",
      "  warnings.warn(\n"
     ]
    },
    {
     "name": "stdout",
     "output_type": "stream",
     "text": [
      "Gratitude [0.9 0.1 0. ]\n",
      "Gratitude [0.91 0.09 0.  ]\n"
     ]
    },
    {
     "name": "stderr",
     "output_type": "stream",
     "text": [
      "C:\\Users\\debar\\anaconda3\\envs\\py39\\lib\\site-packages\\sklearn\\base.py:493: UserWarning: X does not have valid feature names, but StandardScaler was fitted with feature names\n",
      "  warnings.warn(\n",
      "C:\\Users\\debar\\anaconda3\\envs\\py39\\lib\\site-packages\\sklearn\\base.py:493: UserWarning: X does not have valid feature names, but StandardScaler was fitted with feature names\n",
      "  warnings.warn(\n",
      "C:\\Users\\debar\\anaconda3\\envs\\py39\\lib\\site-packages\\sklearn\\base.py:493: UserWarning: X does not have valid feature names, but StandardScaler was fitted with feature names\n",
      "  warnings.warn(\n",
      "C:\\Users\\debar\\anaconda3\\envs\\py39\\lib\\site-packages\\sklearn\\base.py:493: UserWarning: X does not have valid feature names, but StandardScaler was fitted with feature names\n",
      "  warnings.warn(\n"
     ]
    },
    {
     "name": "stdout",
     "output_type": "stream",
     "text": [
      "Gratitude [0.91 0.09 0.  ]\n",
      "Gratitude [0.91 0.09 0.  ]\n"
     ]
    },
    {
     "name": "stderr",
     "output_type": "stream",
     "text": [
      "C:\\Users\\debar\\anaconda3\\envs\\py39\\lib\\site-packages\\sklearn\\base.py:493: UserWarning: X does not have valid feature names, but StandardScaler was fitted with feature names\n",
      "  warnings.warn(\n",
      "C:\\Users\\debar\\anaconda3\\envs\\py39\\lib\\site-packages\\sklearn\\base.py:493: UserWarning: X does not have valid feature names, but StandardScaler was fitted with feature names\n",
      "  warnings.warn(\n",
      "C:\\Users\\debar\\anaconda3\\envs\\py39\\lib\\site-packages\\sklearn\\base.py:493: UserWarning: X does not have valid feature names, but StandardScaler was fitted with feature names\n",
      "  warnings.warn(\n",
      "C:\\Users\\debar\\anaconda3\\envs\\py39\\lib\\site-packages\\sklearn\\base.py:493: UserWarning: X does not have valid feature names, but StandardScaler was fitted with feature names\n",
      "  warnings.warn(\n"
     ]
    },
    {
     "name": "stdout",
     "output_type": "stream",
     "text": [
      "Gratitude [0.91 0.09 0.  ]\n",
      "Gratitude [0.9 0.1 0. ]\n"
     ]
    },
    {
     "name": "stderr",
     "output_type": "stream",
     "text": [
      "C:\\Users\\debar\\anaconda3\\envs\\py39\\lib\\site-packages\\sklearn\\base.py:493: UserWarning: X does not have valid feature names, but StandardScaler was fitted with feature names\n",
      "  warnings.warn(\n",
      "C:\\Users\\debar\\anaconda3\\envs\\py39\\lib\\site-packages\\sklearn\\base.py:493: UserWarning: X does not have valid feature names, but StandardScaler was fitted with feature names\n",
      "  warnings.warn(\n",
      "C:\\Users\\debar\\anaconda3\\envs\\py39\\lib\\site-packages\\sklearn\\base.py:493: UserWarning: X does not have valid feature names, but StandardScaler was fitted with feature names\n",
      "  warnings.warn(\n",
      "C:\\Users\\debar\\anaconda3\\envs\\py39\\lib\\site-packages\\sklearn\\base.py:493: UserWarning: X does not have valid feature names, but StandardScaler was fitted with feature names\n",
      "  warnings.warn(\n"
     ]
    },
    {
     "name": "stdout",
     "output_type": "stream",
     "text": [
      "Gratitude [0.9 0.1 0. ]\n",
      "Gratitude [0.9 0.1 0. ]\n"
     ]
    },
    {
     "name": "stderr",
     "output_type": "stream",
     "text": [
      "C:\\Users\\debar\\anaconda3\\envs\\py39\\lib\\site-packages\\sklearn\\base.py:493: UserWarning: X does not have valid feature names, but StandardScaler was fitted with feature names\n",
      "  warnings.warn(\n",
      "C:\\Users\\debar\\anaconda3\\envs\\py39\\lib\\site-packages\\sklearn\\base.py:493: UserWarning: X does not have valid feature names, but StandardScaler was fitted with feature names\n",
      "  warnings.warn(\n",
      "C:\\Users\\debar\\anaconda3\\envs\\py39\\lib\\site-packages\\sklearn\\base.py:493: UserWarning: X does not have valid feature names, but StandardScaler was fitted with feature names\n",
      "  warnings.warn(\n",
      "C:\\Users\\debar\\anaconda3\\envs\\py39\\lib\\site-packages\\sklearn\\base.py:493: UserWarning: X does not have valid feature names, but StandardScaler was fitted with feature names\n",
      "  warnings.warn(\n"
     ]
    },
    {
     "name": "stdout",
     "output_type": "stream",
     "text": [
      "Gratitude [0.9 0.1 0. ]\n",
      "Gratitude [0.99 0.01 0.  ]\n"
     ]
    },
    {
     "name": "stderr",
     "output_type": "stream",
     "text": [
      "C:\\Users\\debar\\anaconda3\\envs\\py39\\lib\\site-packages\\sklearn\\base.py:493: UserWarning: X does not have valid feature names, but StandardScaler was fitted with feature names\n",
      "  warnings.warn(\n",
      "C:\\Users\\debar\\anaconda3\\envs\\py39\\lib\\site-packages\\sklearn\\base.py:493: UserWarning: X does not have valid feature names, but StandardScaler was fitted with feature names\n",
      "  warnings.warn(\n",
      "C:\\Users\\debar\\anaconda3\\envs\\py39\\lib\\site-packages\\sklearn\\base.py:493: UserWarning: X does not have valid feature names, but StandardScaler was fitted with feature names\n",
      "  warnings.warn(\n",
      "C:\\Users\\debar\\anaconda3\\envs\\py39\\lib\\site-packages\\sklearn\\base.py:493: UserWarning: X does not have valid feature names, but StandardScaler was fitted with feature names\n",
      "  warnings.warn(\n"
     ]
    },
    {
     "name": "stdout",
     "output_type": "stream",
     "text": [
      "Gratitude [1. 0. 0.]\n",
      "Gratitude [0.99 0.01 0.  ]\n"
     ]
    },
    {
     "name": "stderr",
     "output_type": "stream",
     "text": [
      "C:\\Users\\debar\\anaconda3\\envs\\py39\\lib\\site-packages\\sklearn\\base.py:493: UserWarning: X does not have valid feature names, but StandardScaler was fitted with feature names\n",
      "  warnings.warn(\n",
      "C:\\Users\\debar\\anaconda3\\envs\\py39\\lib\\site-packages\\sklearn\\base.py:493: UserWarning: X does not have valid feature names, but StandardScaler was fitted with feature names\n",
      "  warnings.warn(\n",
      "C:\\Users\\debar\\anaconda3\\envs\\py39\\lib\\site-packages\\sklearn\\base.py:493: UserWarning: X does not have valid feature names, but StandardScaler was fitted with feature names\n",
      "  warnings.warn(\n",
      "C:\\Users\\debar\\anaconda3\\envs\\py39\\lib\\site-packages\\sklearn\\base.py:493: UserWarning: X does not have valid feature names, but StandardScaler was fitted with feature names\n",
      "  warnings.warn(\n"
     ]
    },
    {
     "name": "stdout",
     "output_type": "stream",
     "text": [
      "Gratitude [0.99 0.01 0.  ]\n",
      "Gratitude [0.99 0.01 0.  ]\n"
     ]
    },
    {
     "name": "stderr",
     "output_type": "stream",
     "text": [
      "C:\\Users\\debar\\anaconda3\\envs\\py39\\lib\\site-packages\\sklearn\\base.py:493: UserWarning: X does not have valid feature names, but StandardScaler was fitted with feature names\n",
      "  warnings.warn(\n",
      "C:\\Users\\debar\\anaconda3\\envs\\py39\\lib\\site-packages\\sklearn\\base.py:493: UserWarning: X does not have valid feature names, but StandardScaler was fitted with feature names\n",
      "  warnings.warn(\n",
      "C:\\Users\\debar\\anaconda3\\envs\\py39\\lib\\site-packages\\sklearn\\base.py:493: UserWarning: X does not have valid feature names, but StandardScaler was fitted with feature names\n",
      "  warnings.warn(\n",
      "C:\\Users\\debar\\anaconda3\\envs\\py39\\lib\\site-packages\\sklearn\\base.py:493: UserWarning: X does not have valid feature names, but StandardScaler was fitted with feature names\n",
      "  warnings.warn(\n"
     ]
    },
    {
     "name": "stdout",
     "output_type": "stream",
     "text": [
      "Gratitude [0.99 0.01 0.  ]\n",
      "Gratitude [0.91 0.09 0.  ]\n"
     ]
    },
    {
     "name": "stderr",
     "output_type": "stream",
     "text": [
      "C:\\Users\\debar\\anaconda3\\envs\\py39\\lib\\site-packages\\sklearn\\base.py:493: UserWarning: X does not have valid feature names, but StandardScaler was fitted with feature names\n",
      "  warnings.warn(\n",
      "C:\\Users\\debar\\anaconda3\\envs\\py39\\lib\\site-packages\\sklearn\\base.py:493: UserWarning: X does not have valid feature names, but StandardScaler was fitted with feature names\n",
      "  warnings.warn(\n",
      "C:\\Users\\debar\\anaconda3\\envs\\py39\\lib\\site-packages\\sklearn\\base.py:493: UserWarning: X does not have valid feature names, but StandardScaler was fitted with feature names\n",
      "  warnings.warn(\n",
      "C:\\Users\\debar\\anaconda3\\envs\\py39\\lib\\site-packages\\sklearn\\base.py:493: UserWarning: X does not have valid feature names, but StandardScaler was fitted with feature names\n",
      "  warnings.warn(\n"
     ]
    },
    {
     "name": "stdout",
     "output_type": "stream",
     "text": [
      "Gratitude [0.99 0.01 0.  ]\n",
      "Gratitude [1. 0. 0.]\n"
     ]
    },
    {
     "name": "stderr",
     "output_type": "stream",
     "text": [
      "C:\\Users\\debar\\anaconda3\\envs\\py39\\lib\\site-packages\\sklearn\\base.py:493: UserWarning: X does not have valid feature names, but StandardScaler was fitted with feature names\n",
      "  warnings.warn(\n",
      "C:\\Users\\debar\\anaconda3\\envs\\py39\\lib\\site-packages\\sklearn\\base.py:493: UserWarning: X does not have valid feature names, but StandardScaler was fitted with feature names\n",
      "  warnings.warn(\n",
      "C:\\Users\\debar\\anaconda3\\envs\\py39\\lib\\site-packages\\sklearn\\base.py:493: UserWarning: X does not have valid feature names, but StandardScaler was fitted with feature names\n",
      "  warnings.warn(\n",
      "C:\\Users\\debar\\anaconda3\\envs\\py39\\lib\\site-packages\\sklearn\\base.py:493: UserWarning: X does not have valid feature names, but StandardScaler was fitted with feature names\n",
      "  warnings.warn(\n"
     ]
    },
    {
     "name": "stdout",
     "output_type": "stream",
     "text": [
      "Gratitude [1. 0. 0.]\n",
      "Gratitude [1. 0. 0.]\n"
     ]
    },
    {
     "name": "stderr",
     "output_type": "stream",
     "text": [
      "C:\\Users\\debar\\anaconda3\\envs\\py39\\lib\\site-packages\\sklearn\\base.py:493: UserWarning: X does not have valid feature names, but StandardScaler was fitted with feature names\n",
      "  warnings.warn(\n",
      "C:\\Users\\debar\\anaconda3\\envs\\py39\\lib\\site-packages\\sklearn\\base.py:493: UserWarning: X does not have valid feature names, but StandardScaler was fitted with feature names\n",
      "  warnings.warn(\n",
      "C:\\Users\\debar\\anaconda3\\envs\\py39\\lib\\site-packages\\sklearn\\base.py:493: UserWarning: X does not have valid feature names, but StandardScaler was fitted with feature names\n",
      "  warnings.warn(\n",
      "C:\\Users\\debar\\anaconda3\\envs\\py39\\lib\\site-packages\\sklearn\\base.py:493: UserWarning: X does not have valid feature names, but StandardScaler was fitted with feature names\n",
      "  warnings.warn(\n"
     ]
    },
    {
     "name": "stdout",
     "output_type": "stream",
     "text": [
      "Gratitude [1. 0. 0.]\n",
      "Gratitude [1. 0. 0.]\n"
     ]
    },
    {
     "name": "stderr",
     "output_type": "stream",
     "text": [
      "C:\\Users\\debar\\anaconda3\\envs\\py39\\lib\\site-packages\\sklearn\\base.py:493: UserWarning: X does not have valid feature names, but StandardScaler was fitted with feature names\n",
      "  warnings.warn(\n",
      "C:\\Users\\debar\\anaconda3\\envs\\py39\\lib\\site-packages\\sklearn\\base.py:493: UserWarning: X does not have valid feature names, but StandardScaler was fitted with feature names\n",
      "  warnings.warn(\n",
      "C:\\Users\\debar\\anaconda3\\envs\\py39\\lib\\site-packages\\sklearn\\base.py:493: UserWarning: X does not have valid feature names, but StandardScaler was fitted with feature names\n",
      "  warnings.warn(\n",
      "C:\\Users\\debar\\anaconda3\\envs\\py39\\lib\\site-packages\\sklearn\\base.py:493: UserWarning: X does not have valid feature names, but StandardScaler was fitted with feature names\n",
      "  warnings.warn(\n"
     ]
    },
    {
     "name": "stdout",
     "output_type": "stream",
     "text": [
      "Gratitude [1. 0. 0.]\n",
      "Gratitude [1. 0. 0.]\n"
     ]
    },
    {
     "name": "stderr",
     "output_type": "stream",
     "text": [
      "C:\\Users\\debar\\anaconda3\\envs\\py39\\lib\\site-packages\\sklearn\\base.py:493: UserWarning: X does not have valid feature names, but StandardScaler was fitted with feature names\n",
      "  warnings.warn(\n",
      "C:\\Users\\debar\\anaconda3\\envs\\py39\\lib\\site-packages\\sklearn\\base.py:493: UserWarning: X does not have valid feature names, but StandardScaler was fitted with feature names\n",
      "  warnings.warn(\n",
      "C:\\Users\\debar\\anaconda3\\envs\\py39\\lib\\site-packages\\sklearn\\base.py:493: UserWarning: X does not have valid feature names, but StandardScaler was fitted with feature names\n",
      "  warnings.warn(\n",
      "C:\\Users\\debar\\anaconda3\\envs\\py39\\lib\\site-packages\\sklearn\\base.py:493: UserWarning: X does not have valid feature names, but StandardScaler was fitted with feature names\n",
      "  warnings.warn(\n"
     ]
    },
    {
     "name": "stdout",
     "output_type": "stream",
     "text": [
      "Gratitude [1. 0. 0.]\n",
      "Gratitude [1. 0. 0.]\n"
     ]
    },
    {
     "name": "stderr",
     "output_type": "stream",
     "text": [
      "C:\\Users\\debar\\anaconda3\\envs\\py39\\lib\\site-packages\\sklearn\\base.py:493: UserWarning: X does not have valid feature names, but StandardScaler was fitted with feature names\n",
      "  warnings.warn(\n",
      "C:\\Users\\debar\\anaconda3\\envs\\py39\\lib\\site-packages\\sklearn\\base.py:493: UserWarning: X does not have valid feature names, but StandardScaler was fitted with feature names\n",
      "  warnings.warn(\n",
      "C:\\Users\\debar\\anaconda3\\envs\\py39\\lib\\site-packages\\sklearn\\base.py:493: UserWarning: X does not have valid feature names, but StandardScaler was fitted with feature names\n",
      "  warnings.warn(\n",
      "C:\\Users\\debar\\anaconda3\\envs\\py39\\lib\\site-packages\\sklearn\\base.py:493: UserWarning: X does not have valid feature names, but StandardScaler was fitted with feature names\n",
      "  warnings.warn(\n"
     ]
    },
    {
     "name": "stdout",
     "output_type": "stream",
     "text": [
      "Gratitude [1. 0. 0.]\n",
      "Gratitude [1. 0. 0.]\n"
     ]
    },
    {
     "name": "stderr",
     "output_type": "stream",
     "text": [
      "C:\\Users\\debar\\anaconda3\\envs\\py39\\lib\\site-packages\\sklearn\\base.py:493: UserWarning: X does not have valid feature names, but StandardScaler was fitted with feature names\n",
      "  warnings.warn(\n",
      "C:\\Users\\debar\\anaconda3\\envs\\py39\\lib\\site-packages\\sklearn\\base.py:493: UserWarning: X does not have valid feature names, but StandardScaler was fitted with feature names\n",
      "  warnings.warn(\n",
      "C:\\Users\\debar\\anaconda3\\envs\\py39\\lib\\site-packages\\sklearn\\base.py:493: UserWarning: X does not have valid feature names, but StandardScaler was fitted with feature names\n",
      "  warnings.warn(\n",
      "C:\\Users\\debar\\anaconda3\\envs\\py39\\lib\\site-packages\\sklearn\\base.py:493: UserWarning: X does not have valid feature names, but StandardScaler was fitted with feature names\n",
      "  warnings.warn(\n"
     ]
    },
    {
     "name": "stdout",
     "output_type": "stream",
     "text": [
      "Gratitude [1. 0. 0.]\n",
      "Gratitude [1. 0. 0.]\n"
     ]
    },
    {
     "name": "stderr",
     "output_type": "stream",
     "text": [
      "C:\\Users\\debar\\anaconda3\\envs\\py39\\lib\\site-packages\\sklearn\\base.py:493: UserWarning: X does not have valid feature names, but StandardScaler was fitted with feature names\n",
      "  warnings.warn(\n",
      "C:\\Users\\debar\\anaconda3\\envs\\py39\\lib\\site-packages\\sklearn\\base.py:493: UserWarning: X does not have valid feature names, but StandardScaler was fitted with feature names\n",
      "  warnings.warn(\n",
      "C:\\Users\\debar\\anaconda3\\envs\\py39\\lib\\site-packages\\sklearn\\base.py:493: UserWarning: X does not have valid feature names, but StandardScaler was fitted with feature names\n",
      "  warnings.warn(\n",
      "C:\\Users\\debar\\anaconda3\\envs\\py39\\lib\\site-packages\\sklearn\\base.py:493: UserWarning: X does not have valid feature names, but StandardScaler was fitted with feature names\n",
      "  warnings.warn(\n"
     ]
    },
    {
     "name": "stdout",
     "output_type": "stream",
     "text": [
      "Gratitude [1. 0. 0.]\n",
      "Gratitude [1. 0. 0.]\n"
     ]
    },
    {
     "name": "stderr",
     "output_type": "stream",
     "text": [
      "C:\\Users\\debar\\anaconda3\\envs\\py39\\lib\\site-packages\\sklearn\\base.py:493: UserWarning: X does not have valid feature names, but StandardScaler was fitted with feature names\n",
      "  warnings.warn(\n",
      "C:\\Users\\debar\\anaconda3\\envs\\py39\\lib\\site-packages\\sklearn\\base.py:493: UserWarning: X does not have valid feature names, but StandardScaler was fitted with feature names\n",
      "  warnings.warn(\n",
      "C:\\Users\\debar\\anaconda3\\envs\\py39\\lib\\site-packages\\sklearn\\base.py:493: UserWarning: X does not have valid feature names, but StandardScaler was fitted with feature names\n",
      "  warnings.warn(\n",
      "C:\\Users\\debar\\anaconda3\\envs\\py39\\lib\\site-packages\\sklearn\\base.py:493: UserWarning: X does not have valid feature names, but StandardScaler was fitted with feature names\n",
      "  warnings.warn(\n"
     ]
    },
    {
     "name": "stdout",
     "output_type": "stream",
     "text": [
      "Gratitude [1. 0. 0.]\n",
      "Gratitude [1. 0. 0.]\n"
     ]
    },
    {
     "name": "stderr",
     "output_type": "stream",
     "text": [
      "C:\\Users\\debar\\anaconda3\\envs\\py39\\lib\\site-packages\\sklearn\\base.py:493: UserWarning: X does not have valid feature names, but StandardScaler was fitted with feature names\n",
      "  warnings.warn(\n",
      "C:\\Users\\debar\\anaconda3\\envs\\py39\\lib\\site-packages\\sklearn\\base.py:493: UserWarning: X does not have valid feature names, but StandardScaler was fitted with feature names\n",
      "  warnings.warn(\n",
      "C:\\Users\\debar\\anaconda3\\envs\\py39\\lib\\site-packages\\sklearn\\base.py:493: UserWarning: X does not have valid feature names, but StandardScaler was fitted with feature names\n",
      "  warnings.warn(\n",
      "C:\\Users\\debar\\anaconda3\\envs\\py39\\lib\\site-packages\\sklearn\\base.py:493: UserWarning: X does not have valid feature names, but StandardScaler was fitted with feature names\n",
      "  warnings.warn(\n"
     ]
    },
    {
     "name": "stdout",
     "output_type": "stream",
     "text": [
      "Gratitude [1. 0. 0.]\n",
      "Gratitude [0.99 0.01 0.  ]\n"
     ]
    },
    {
     "name": "stderr",
     "output_type": "stream",
     "text": [
      "C:\\Users\\debar\\anaconda3\\envs\\py39\\lib\\site-packages\\sklearn\\base.py:493: UserWarning: X does not have valid feature names, but StandardScaler was fitted with feature names\n",
      "  warnings.warn(\n",
      "C:\\Users\\debar\\anaconda3\\envs\\py39\\lib\\site-packages\\sklearn\\base.py:493: UserWarning: X does not have valid feature names, but StandardScaler was fitted with feature names\n",
      "  warnings.warn(\n",
      "C:\\Users\\debar\\anaconda3\\envs\\py39\\lib\\site-packages\\sklearn\\base.py:493: UserWarning: X does not have valid feature names, but StandardScaler was fitted with feature names\n",
      "  warnings.warn(\n",
      "C:\\Users\\debar\\anaconda3\\envs\\py39\\lib\\site-packages\\sklearn\\base.py:493: UserWarning: X does not have valid feature names, but StandardScaler was fitted with feature names\n",
      "  warnings.warn(\n"
     ]
    },
    {
     "name": "stdout",
     "output_type": "stream",
     "text": [
      "Gratitude [0.94 0.06 0.  ]\n",
      "Gratitude [0.91 0.09 0.  ]\n"
     ]
    },
    {
     "name": "stderr",
     "output_type": "stream",
     "text": [
      "C:\\Users\\debar\\anaconda3\\envs\\py39\\lib\\site-packages\\sklearn\\base.py:493: UserWarning: X does not have valid feature names, but StandardScaler was fitted with feature names\n",
      "  warnings.warn(\n",
      "C:\\Users\\debar\\anaconda3\\envs\\py39\\lib\\site-packages\\sklearn\\base.py:493: UserWarning: X does not have valid feature names, but StandardScaler was fitted with feature names\n",
      "  warnings.warn(\n",
      "C:\\Users\\debar\\anaconda3\\envs\\py39\\lib\\site-packages\\sklearn\\base.py:493: UserWarning: X does not have valid feature names, but StandardScaler was fitted with feature names\n",
      "  warnings.warn(\n",
      "C:\\Users\\debar\\anaconda3\\envs\\py39\\lib\\site-packages\\sklearn\\base.py:493: UserWarning: X does not have valid feature names, but StandardScaler was fitted with feature names\n",
      "  warnings.warn(\n"
     ]
    },
    {
     "name": "stdout",
     "output_type": "stream",
     "text": [
      "Gratitude [0.9 0.1 0. ]\n",
      "Gratitude [0.83 0.17 0.  ]\n"
     ]
    },
    {
     "name": "stderr",
     "output_type": "stream",
     "text": [
      "C:\\Users\\debar\\anaconda3\\envs\\py39\\lib\\site-packages\\sklearn\\base.py:493: UserWarning: X does not have valid feature names, but StandardScaler was fitted with feature names\n",
      "  warnings.warn(\n",
      "C:\\Users\\debar\\anaconda3\\envs\\py39\\lib\\site-packages\\sklearn\\base.py:493: UserWarning: X does not have valid feature names, but StandardScaler was fitted with feature names\n",
      "  warnings.warn(\n",
      "C:\\Users\\debar\\anaconda3\\envs\\py39\\lib\\site-packages\\sklearn\\base.py:493: UserWarning: X does not have valid feature names, but StandardScaler was fitted with feature names\n",
      "  warnings.warn(\n",
      "C:\\Users\\debar\\anaconda3\\envs\\py39\\lib\\site-packages\\sklearn\\base.py:493: UserWarning: X does not have valid feature names, but StandardScaler was fitted with feature names\n",
      "  warnings.warn(\n"
     ]
    },
    {
     "name": "stdout",
     "output_type": "stream",
     "text": [
      "Gratitude [0.85 0.15 0.  ]\n",
      "Gratitude [0.87 0.13 0.  ]\n"
     ]
    },
    {
     "name": "stderr",
     "output_type": "stream",
     "text": [
      "C:\\Users\\debar\\anaconda3\\envs\\py39\\lib\\site-packages\\sklearn\\base.py:493: UserWarning: X does not have valid feature names, but StandardScaler was fitted with feature names\n",
      "  warnings.warn(\n",
      "C:\\Users\\debar\\anaconda3\\envs\\py39\\lib\\site-packages\\sklearn\\base.py:493: UserWarning: X does not have valid feature names, but StandardScaler was fitted with feature names\n",
      "  warnings.warn(\n",
      "C:\\Users\\debar\\anaconda3\\envs\\py39\\lib\\site-packages\\sklearn\\base.py:493: UserWarning: X does not have valid feature names, but StandardScaler was fitted with feature names\n",
      "  warnings.warn(\n",
      "C:\\Users\\debar\\anaconda3\\envs\\py39\\lib\\site-packages\\sklearn\\base.py:493: UserWarning: X does not have valid feature names, but StandardScaler was fitted with feature names\n",
      "  warnings.warn(\n"
     ]
    },
    {
     "name": "stdout",
     "output_type": "stream",
     "text": [
      "Gratitude [0.89 0.11 0.  ]\n",
      "Gratitude [0.88 0.12 0.  ]\n"
     ]
    },
    {
     "name": "stderr",
     "output_type": "stream",
     "text": [
      "C:\\Users\\debar\\anaconda3\\envs\\py39\\lib\\site-packages\\sklearn\\base.py:493: UserWarning: X does not have valid feature names, but StandardScaler was fitted with feature names\n",
      "  warnings.warn(\n",
      "C:\\Users\\debar\\anaconda3\\envs\\py39\\lib\\site-packages\\sklearn\\base.py:493: UserWarning: X does not have valid feature names, but StandardScaler was fitted with feature names\n",
      "  warnings.warn(\n",
      "C:\\Users\\debar\\anaconda3\\envs\\py39\\lib\\site-packages\\sklearn\\base.py:493: UserWarning: X does not have valid feature names, but StandardScaler was fitted with feature names\n",
      "  warnings.warn(\n",
      "C:\\Users\\debar\\anaconda3\\envs\\py39\\lib\\site-packages\\sklearn\\base.py:493: UserWarning: X does not have valid feature names, but StandardScaler was fitted with feature names\n",
      "  warnings.warn(\n"
     ]
    },
    {
     "name": "stdout",
     "output_type": "stream",
     "text": [
      "Gratitude [0.86 0.14 0.  ]\n",
      "Gratitude [0.81 0.19 0.  ]\n"
     ]
    },
    {
     "name": "stderr",
     "output_type": "stream",
     "text": [
      "C:\\Users\\debar\\anaconda3\\envs\\py39\\lib\\site-packages\\sklearn\\base.py:493: UserWarning: X does not have valid feature names, but StandardScaler was fitted with feature names\n",
      "  warnings.warn(\n",
      "C:\\Users\\debar\\anaconda3\\envs\\py39\\lib\\site-packages\\sklearn\\base.py:493: UserWarning: X does not have valid feature names, but StandardScaler was fitted with feature names\n",
      "  warnings.warn(\n",
      "C:\\Users\\debar\\anaconda3\\envs\\py39\\lib\\site-packages\\sklearn\\base.py:493: UserWarning: X does not have valid feature names, but StandardScaler was fitted with feature names\n",
      "  warnings.warn(\n",
      "C:\\Users\\debar\\anaconda3\\envs\\py39\\lib\\site-packages\\sklearn\\base.py:493: UserWarning: X does not have valid feature names, but StandardScaler was fitted with feature names\n",
      "  warnings.warn(\n"
     ]
    },
    {
     "name": "stdout",
     "output_type": "stream",
     "text": [
      "Gratitude [0.8 0.2 0. ]\n",
      "Gratitude [0.79 0.21 0.  ]\n"
     ]
    },
    {
     "name": "stderr",
     "output_type": "stream",
     "text": [
      "C:\\Users\\debar\\anaconda3\\envs\\py39\\lib\\site-packages\\sklearn\\base.py:493: UserWarning: X does not have valid feature names, but StandardScaler was fitted with feature names\n",
      "  warnings.warn(\n",
      "C:\\Users\\debar\\anaconda3\\envs\\py39\\lib\\site-packages\\sklearn\\base.py:493: UserWarning: X does not have valid feature names, but StandardScaler was fitted with feature names\n",
      "  warnings.warn(\n",
      "C:\\Users\\debar\\anaconda3\\envs\\py39\\lib\\site-packages\\sklearn\\base.py:493: UserWarning: X does not have valid feature names, but StandardScaler was fitted with feature names\n",
      "  warnings.warn(\n",
      "C:\\Users\\debar\\anaconda3\\envs\\py39\\lib\\site-packages\\sklearn\\base.py:493: UserWarning: X does not have valid feature names, but StandardScaler was fitted with feature names\n",
      "  warnings.warn(\n"
     ]
    },
    {
     "name": "stdout",
     "output_type": "stream",
     "text": [
      "Gratitude [0.79 0.21 0.  ]\n",
      "Gratitude [0.82 0.18 0.  ]\n"
     ]
    },
    {
     "name": "stderr",
     "output_type": "stream",
     "text": [
      "C:\\Users\\debar\\anaconda3\\envs\\py39\\lib\\site-packages\\sklearn\\base.py:493: UserWarning: X does not have valid feature names, but StandardScaler was fitted with feature names\n",
      "  warnings.warn(\n",
      "C:\\Users\\debar\\anaconda3\\envs\\py39\\lib\\site-packages\\sklearn\\base.py:493: UserWarning: X does not have valid feature names, but StandardScaler was fitted with feature names\n",
      "  warnings.warn(\n",
      "C:\\Users\\debar\\anaconda3\\envs\\py39\\lib\\site-packages\\sklearn\\base.py:493: UserWarning: X does not have valid feature names, but StandardScaler was fitted with feature names\n",
      "  warnings.warn(\n",
      "C:\\Users\\debar\\anaconda3\\envs\\py39\\lib\\site-packages\\sklearn\\base.py:493: UserWarning: X does not have valid feature names, but StandardScaler was fitted with feature names\n",
      "  warnings.warn(\n"
     ]
    },
    {
     "name": "stdout",
     "output_type": "stream",
     "text": [
      "Gratitude [0.8 0.2 0. ]\n",
      "Gratitude [0.77 0.23 0.  ]\n"
     ]
    },
    {
     "name": "stderr",
     "output_type": "stream",
     "text": [
      "C:\\Users\\debar\\anaconda3\\envs\\py39\\lib\\site-packages\\sklearn\\base.py:493: UserWarning: X does not have valid feature names, but StandardScaler was fitted with feature names\n",
      "  warnings.warn(\n",
      "C:\\Users\\debar\\anaconda3\\envs\\py39\\lib\\site-packages\\sklearn\\base.py:493: UserWarning: X does not have valid feature names, but StandardScaler was fitted with feature names\n",
      "  warnings.warn(\n",
      "C:\\Users\\debar\\anaconda3\\envs\\py39\\lib\\site-packages\\sklearn\\base.py:493: UserWarning: X does not have valid feature names, but StandardScaler was fitted with feature names\n",
      "  warnings.warn(\n",
      "C:\\Users\\debar\\anaconda3\\envs\\py39\\lib\\site-packages\\sklearn\\base.py:493: UserWarning: X does not have valid feature names, but StandardScaler was fitted with feature names\n",
      "  warnings.warn(\n"
     ]
    },
    {
     "name": "stdout",
     "output_type": "stream",
     "text": [
      "Gratitude [0.79 0.21 0.  ]\n",
      "Gratitude [0.78 0.22 0.  ]\n"
     ]
    },
    {
     "name": "stderr",
     "output_type": "stream",
     "text": [
      "C:\\Users\\debar\\anaconda3\\envs\\py39\\lib\\site-packages\\sklearn\\base.py:493: UserWarning: X does not have valid feature names, but StandardScaler was fitted with feature names\n",
      "  warnings.warn(\n",
      "C:\\Users\\debar\\anaconda3\\envs\\py39\\lib\\site-packages\\sklearn\\base.py:493: UserWarning: X does not have valid feature names, but StandardScaler was fitted with feature names\n",
      "  warnings.warn(\n",
      "C:\\Users\\debar\\anaconda3\\envs\\py39\\lib\\site-packages\\sklearn\\base.py:493: UserWarning: X does not have valid feature names, but StandardScaler was fitted with feature names\n",
      "  warnings.warn(\n",
      "C:\\Users\\debar\\anaconda3\\envs\\py39\\lib\\site-packages\\sklearn\\base.py:493: UserWarning: X does not have valid feature names, but StandardScaler was fitted with feature names\n",
      "  warnings.warn(\n"
     ]
    },
    {
     "name": "stdout",
     "output_type": "stream",
     "text": [
      "Gratitude [0.77 0.23 0.  ]\n",
      "Gratitude [0.77 0.23 0.  ]\n"
     ]
    },
    {
     "name": "stderr",
     "output_type": "stream",
     "text": [
      "C:\\Users\\debar\\anaconda3\\envs\\py39\\lib\\site-packages\\sklearn\\base.py:493: UserWarning: X does not have valid feature names, but StandardScaler was fitted with feature names\n",
      "  warnings.warn(\n",
      "C:\\Users\\debar\\anaconda3\\envs\\py39\\lib\\site-packages\\sklearn\\base.py:493: UserWarning: X does not have valid feature names, but StandardScaler was fitted with feature names\n",
      "  warnings.warn(\n",
      "C:\\Users\\debar\\anaconda3\\envs\\py39\\lib\\site-packages\\sklearn\\base.py:493: UserWarning: X does not have valid feature names, but StandardScaler was fitted with feature names\n",
      "  warnings.warn(\n",
      "C:\\Users\\debar\\anaconda3\\envs\\py39\\lib\\site-packages\\sklearn\\base.py:493: UserWarning: X does not have valid feature names, but StandardScaler was fitted with feature names\n",
      "  warnings.warn(\n"
     ]
    },
    {
     "name": "stdout",
     "output_type": "stream",
     "text": [
      "Gratitude [0.79 0.21 0.  ]\n",
      "Gratitude [0.76 0.24 0.  ]\n"
     ]
    },
    {
     "name": "stderr",
     "output_type": "stream",
     "text": [
      "C:\\Users\\debar\\anaconda3\\envs\\py39\\lib\\site-packages\\sklearn\\base.py:493: UserWarning: X does not have valid feature names, but StandardScaler was fitted with feature names\n",
      "  warnings.warn(\n",
      "C:\\Users\\debar\\anaconda3\\envs\\py39\\lib\\site-packages\\sklearn\\base.py:493: UserWarning: X does not have valid feature names, but StandardScaler was fitted with feature names\n",
      "  warnings.warn(\n",
      "C:\\Users\\debar\\anaconda3\\envs\\py39\\lib\\site-packages\\sklearn\\base.py:493: UserWarning: X does not have valid feature names, but StandardScaler was fitted with feature names\n",
      "  warnings.warn(\n",
      "C:\\Users\\debar\\anaconda3\\envs\\py39\\lib\\site-packages\\sklearn\\base.py:493: UserWarning: X does not have valid feature names, but StandardScaler was fitted with feature names\n",
      "  warnings.warn(\n"
     ]
    },
    {
     "name": "stdout",
     "output_type": "stream",
     "text": [
      "Gratitude [0.81 0.19 0.  ]\n",
      "Gratitude [0.82 0.18 0.  ]\n"
     ]
    },
    {
     "name": "stderr",
     "output_type": "stream",
     "text": [
      "C:\\Users\\debar\\anaconda3\\envs\\py39\\lib\\site-packages\\sklearn\\base.py:493: UserWarning: X does not have valid feature names, but StandardScaler was fitted with feature names\n",
      "  warnings.warn(\n",
      "C:\\Users\\debar\\anaconda3\\envs\\py39\\lib\\site-packages\\sklearn\\base.py:493: UserWarning: X does not have valid feature names, but StandardScaler was fitted with feature names\n",
      "  warnings.warn(\n",
      "C:\\Users\\debar\\anaconda3\\envs\\py39\\lib\\site-packages\\sklearn\\base.py:493: UserWarning: X does not have valid feature names, but StandardScaler was fitted with feature names\n",
      "  warnings.warn(\n",
      "C:\\Users\\debar\\anaconda3\\envs\\py39\\lib\\site-packages\\sklearn\\base.py:493: UserWarning: X does not have valid feature names, but StandardScaler was fitted with feature names\n",
      "  warnings.warn(\n"
     ]
    },
    {
     "name": "stdout",
     "output_type": "stream",
     "text": [
      "Gratitude [0.85 0.15 0.  ]\n",
      "Gratitude [0.9 0.1 0. ]\n"
     ]
    },
    {
     "name": "stderr",
     "output_type": "stream",
     "text": [
      "C:\\Users\\debar\\anaconda3\\envs\\py39\\lib\\site-packages\\sklearn\\base.py:493: UserWarning: X does not have valid feature names, but StandardScaler was fitted with feature names\n",
      "  warnings.warn(\n",
      "C:\\Users\\debar\\anaconda3\\envs\\py39\\lib\\site-packages\\sklearn\\base.py:493: UserWarning: X does not have valid feature names, but StandardScaler was fitted with feature names\n",
      "  warnings.warn(\n",
      "C:\\Users\\debar\\anaconda3\\envs\\py39\\lib\\site-packages\\sklearn\\base.py:493: UserWarning: X does not have valid feature names, but StandardScaler was fitted with feature names\n",
      "  warnings.warn(\n",
      "C:\\Users\\debar\\anaconda3\\envs\\py39\\lib\\site-packages\\sklearn\\base.py:493: UserWarning: X does not have valid feature names, but StandardScaler was fitted with feature names\n",
      "  warnings.warn(\n"
     ]
    },
    {
     "name": "stdout",
     "output_type": "stream",
     "text": [
      "Gratitude [0.91 0.09 0.  ]\n",
      "Gratitude [0.89 0.11 0.  ]\n"
     ]
    },
    {
     "name": "stderr",
     "output_type": "stream",
     "text": [
      "C:\\Users\\debar\\anaconda3\\envs\\py39\\lib\\site-packages\\sklearn\\base.py:493: UserWarning: X does not have valid feature names, but StandardScaler was fitted with feature names\n",
      "  warnings.warn(\n",
      "C:\\Users\\debar\\anaconda3\\envs\\py39\\lib\\site-packages\\sklearn\\base.py:493: UserWarning: X does not have valid feature names, but StandardScaler was fitted with feature names\n",
      "  warnings.warn(\n",
      "C:\\Users\\debar\\anaconda3\\envs\\py39\\lib\\site-packages\\sklearn\\base.py:493: UserWarning: X does not have valid feature names, but StandardScaler was fitted with feature names\n",
      "  warnings.warn(\n",
      "C:\\Users\\debar\\anaconda3\\envs\\py39\\lib\\site-packages\\sklearn\\base.py:493: UserWarning: X does not have valid feature names, but StandardScaler was fitted with feature names\n",
      "  warnings.warn(\n"
     ]
    },
    {
     "name": "stdout",
     "output_type": "stream",
     "text": [
      "Gratitude [0.92 0.08 0.  ]\n",
      "Gratitude [0.92 0.08 0.  ]\n"
     ]
    },
    {
     "name": "stderr",
     "output_type": "stream",
     "text": [
      "C:\\Users\\debar\\anaconda3\\envs\\py39\\lib\\site-packages\\sklearn\\base.py:493: UserWarning: X does not have valid feature names, but StandardScaler was fitted with feature names\n",
      "  warnings.warn(\n",
      "C:\\Users\\debar\\anaconda3\\envs\\py39\\lib\\site-packages\\sklearn\\base.py:493: UserWarning: X does not have valid feature names, but StandardScaler was fitted with feature names\n",
      "  warnings.warn(\n",
      "C:\\Users\\debar\\anaconda3\\envs\\py39\\lib\\site-packages\\sklearn\\base.py:493: UserWarning: X does not have valid feature names, but StandardScaler was fitted with feature names\n",
      "  warnings.warn(\n",
      "C:\\Users\\debar\\anaconda3\\envs\\py39\\lib\\site-packages\\sklearn\\base.py:493: UserWarning: X does not have valid feature names, but StandardScaler was fitted with feature names\n",
      "  warnings.warn(\n"
     ]
    },
    {
     "name": "stdout",
     "output_type": "stream",
     "text": [
      "Gratitude [0.93 0.07 0.  ]\n",
      "Gratitude [0.92 0.08 0.  ]\n"
     ]
    },
    {
     "name": "stderr",
     "output_type": "stream",
     "text": [
      "C:\\Users\\debar\\anaconda3\\envs\\py39\\lib\\site-packages\\sklearn\\base.py:493: UserWarning: X does not have valid feature names, but StandardScaler was fitted with feature names\n",
      "  warnings.warn(\n",
      "C:\\Users\\debar\\anaconda3\\envs\\py39\\lib\\site-packages\\sklearn\\base.py:493: UserWarning: X does not have valid feature names, but StandardScaler was fitted with feature names\n",
      "  warnings.warn(\n",
      "C:\\Users\\debar\\anaconda3\\envs\\py39\\lib\\site-packages\\sklearn\\base.py:493: UserWarning: X does not have valid feature names, but StandardScaler was fitted with feature names\n",
      "  warnings.warn(\n",
      "C:\\Users\\debar\\anaconda3\\envs\\py39\\lib\\site-packages\\sklearn\\base.py:493: UserWarning: X does not have valid feature names, but StandardScaler was fitted with feature names\n",
      "  warnings.warn(\n"
     ]
    },
    {
     "name": "stdout",
     "output_type": "stream",
     "text": [
      "Gratitude [0.94 0.06 0.  ]\n",
      "Gratitude [0.94 0.06 0.  ]\n"
     ]
    },
    {
     "name": "stderr",
     "output_type": "stream",
     "text": [
      "C:\\Users\\debar\\anaconda3\\envs\\py39\\lib\\site-packages\\sklearn\\base.py:493: UserWarning: X does not have valid feature names, but StandardScaler was fitted with feature names\n",
      "  warnings.warn(\n",
      "C:\\Users\\debar\\anaconda3\\envs\\py39\\lib\\site-packages\\sklearn\\base.py:493: UserWarning: X does not have valid feature names, but StandardScaler was fitted with feature names\n",
      "  warnings.warn(\n",
      "C:\\Users\\debar\\anaconda3\\envs\\py39\\lib\\site-packages\\sklearn\\base.py:493: UserWarning: X does not have valid feature names, but StandardScaler was fitted with feature names\n",
      "  warnings.warn(\n",
      "C:\\Users\\debar\\anaconda3\\envs\\py39\\lib\\site-packages\\sklearn\\base.py:493: UserWarning: X does not have valid feature names, but StandardScaler was fitted with feature names\n",
      "  warnings.warn(\n"
     ]
    },
    {
     "name": "stdout",
     "output_type": "stream",
     "text": [
      "Gratitude [0.92 0.08 0.  ]\n",
      "Gratitude [0.91 0.09 0.  ]\n"
     ]
    },
    {
     "name": "stderr",
     "output_type": "stream",
     "text": [
      "C:\\Users\\debar\\anaconda3\\envs\\py39\\lib\\site-packages\\sklearn\\base.py:493: UserWarning: X does not have valid feature names, but StandardScaler was fitted with feature names\n",
      "  warnings.warn(\n",
      "C:\\Users\\debar\\anaconda3\\envs\\py39\\lib\\site-packages\\sklearn\\base.py:493: UserWarning: X does not have valid feature names, but StandardScaler was fitted with feature names\n",
      "  warnings.warn(\n",
      "C:\\Users\\debar\\anaconda3\\envs\\py39\\lib\\site-packages\\sklearn\\base.py:493: UserWarning: X does not have valid feature names, but StandardScaler was fitted with feature names\n",
      "  warnings.warn(\n",
      "C:\\Users\\debar\\anaconda3\\envs\\py39\\lib\\site-packages\\sklearn\\base.py:493: UserWarning: X does not have valid feature names, but StandardScaler was fitted with feature names\n",
      "  warnings.warn(\n"
     ]
    },
    {
     "name": "stdout",
     "output_type": "stream",
     "text": [
      "Gratitude [0.88 0.12 0.  ]\n",
      "Gratitude [0.83 0.17 0.  ]\n"
     ]
    },
    {
     "name": "stderr",
     "output_type": "stream",
     "text": [
      "C:\\Users\\debar\\anaconda3\\envs\\py39\\lib\\site-packages\\sklearn\\base.py:493: UserWarning: X does not have valid feature names, but StandardScaler was fitted with feature names\n",
      "  warnings.warn(\n",
      "C:\\Users\\debar\\anaconda3\\envs\\py39\\lib\\site-packages\\sklearn\\base.py:493: UserWarning: X does not have valid feature names, but StandardScaler was fitted with feature names\n",
      "  warnings.warn(\n",
      "C:\\Users\\debar\\anaconda3\\envs\\py39\\lib\\site-packages\\sklearn\\base.py:493: UserWarning: X does not have valid feature names, but StandardScaler was fitted with feature names\n",
      "  warnings.warn(\n",
      "C:\\Users\\debar\\anaconda3\\envs\\py39\\lib\\site-packages\\sklearn\\base.py:493: UserWarning: X does not have valid feature names, but StandardScaler was fitted with feature names\n",
      "  warnings.warn(\n"
     ]
    },
    {
     "name": "stdout",
     "output_type": "stream",
     "text": [
      "Gratitude [0.83 0.17 0.  ]\n",
      "Gratitude [0.83 0.17 0.  ]\n"
     ]
    },
    {
     "name": "stderr",
     "output_type": "stream",
     "text": [
      "C:\\Users\\debar\\anaconda3\\envs\\py39\\lib\\site-packages\\sklearn\\base.py:493: UserWarning: X does not have valid feature names, but StandardScaler was fitted with feature names\n",
      "  warnings.warn(\n",
      "C:\\Users\\debar\\anaconda3\\envs\\py39\\lib\\site-packages\\sklearn\\base.py:493: UserWarning: X does not have valid feature names, but StandardScaler was fitted with feature names\n",
      "  warnings.warn(\n",
      "C:\\Users\\debar\\anaconda3\\envs\\py39\\lib\\site-packages\\sklearn\\base.py:493: UserWarning: X does not have valid feature names, but StandardScaler was fitted with feature names\n",
      "  warnings.warn(\n",
      "C:\\Users\\debar\\anaconda3\\envs\\py39\\lib\\site-packages\\sklearn\\base.py:493: UserWarning: X does not have valid feature names, but StandardScaler was fitted with feature names\n",
      "  warnings.warn(\n"
     ]
    },
    {
     "name": "stdout",
     "output_type": "stream",
     "text": [
      "Gratitude [0.83 0.17 0.  ]\n",
      "Gratitude [0.81 0.19 0.  ]\n"
     ]
    },
    {
     "name": "stderr",
     "output_type": "stream",
     "text": [
      "C:\\Users\\debar\\anaconda3\\envs\\py39\\lib\\site-packages\\sklearn\\base.py:493: UserWarning: X does not have valid feature names, but StandardScaler was fitted with feature names\n",
      "  warnings.warn(\n",
      "C:\\Users\\debar\\anaconda3\\envs\\py39\\lib\\site-packages\\sklearn\\base.py:493: UserWarning: X does not have valid feature names, but StandardScaler was fitted with feature names\n",
      "  warnings.warn(\n",
      "C:\\Users\\debar\\anaconda3\\envs\\py39\\lib\\site-packages\\sklearn\\base.py:493: UserWarning: X does not have valid feature names, but StandardScaler was fitted with feature names\n",
      "  warnings.warn(\n",
      "C:\\Users\\debar\\anaconda3\\envs\\py39\\lib\\site-packages\\sklearn\\base.py:493: UserWarning: X does not have valid feature names, but StandardScaler was fitted with feature names\n",
      "  warnings.warn(\n"
     ]
    },
    {
     "name": "stdout",
     "output_type": "stream",
     "text": [
      "Gratitude [0.83 0.17 0.  ]\n",
      "Gratitude [0.79 0.21 0.  ]\n"
     ]
    },
    {
     "name": "stderr",
     "output_type": "stream",
     "text": [
      "C:\\Users\\debar\\anaconda3\\envs\\py39\\lib\\site-packages\\sklearn\\base.py:493: UserWarning: X does not have valid feature names, but StandardScaler was fitted with feature names\n",
      "  warnings.warn(\n",
      "C:\\Users\\debar\\anaconda3\\envs\\py39\\lib\\site-packages\\sklearn\\base.py:493: UserWarning: X does not have valid feature names, but StandardScaler was fitted with feature names\n",
      "  warnings.warn(\n",
      "C:\\Users\\debar\\anaconda3\\envs\\py39\\lib\\site-packages\\sklearn\\base.py:493: UserWarning: X does not have valid feature names, but StandardScaler was fitted with feature names\n",
      "  warnings.warn(\n",
      "C:\\Users\\debar\\anaconda3\\envs\\py39\\lib\\site-packages\\sklearn\\base.py:493: UserWarning: X does not have valid feature names, but StandardScaler was fitted with feature names\n",
      "  warnings.warn(\n"
     ]
    },
    {
     "name": "stdout",
     "output_type": "stream",
     "text": [
      "Gratitude [0.75 0.25 0.  ]\n",
      "Gratitude [0.67 0.33 0.  ]\n"
     ]
    },
    {
     "name": "stderr",
     "output_type": "stream",
     "text": [
      "C:\\Users\\debar\\anaconda3\\envs\\py39\\lib\\site-packages\\sklearn\\base.py:493: UserWarning: X does not have valid feature names, but StandardScaler was fitted with feature names\n",
      "  warnings.warn(\n",
      "C:\\Users\\debar\\anaconda3\\envs\\py39\\lib\\site-packages\\sklearn\\base.py:493: UserWarning: X does not have valid feature names, but StandardScaler was fitted with feature names\n",
      "  warnings.warn(\n",
      "C:\\Users\\debar\\anaconda3\\envs\\py39\\lib\\site-packages\\sklearn\\base.py:493: UserWarning: X does not have valid feature names, but StandardScaler was fitted with feature names\n",
      "  warnings.warn(\n",
      "C:\\Users\\debar\\anaconda3\\envs\\py39\\lib\\site-packages\\sklearn\\base.py:493: UserWarning: X does not have valid feature names, but StandardScaler was fitted with feature names\n",
      "  warnings.warn(\n"
     ]
    },
    {
     "name": "stdout",
     "output_type": "stream",
     "text": [
      "Gratitude [0.67 0.33 0.  ]\n",
      "Gratitude [0.68 0.32 0.  ]\n"
     ]
    },
    {
     "name": "stderr",
     "output_type": "stream",
     "text": [
      "C:\\Users\\debar\\anaconda3\\envs\\py39\\lib\\site-packages\\sklearn\\base.py:493: UserWarning: X does not have valid feature names, but StandardScaler was fitted with feature names\n",
      "  warnings.warn(\n",
      "C:\\Users\\debar\\anaconda3\\envs\\py39\\lib\\site-packages\\sklearn\\base.py:493: UserWarning: X does not have valid feature names, but StandardScaler was fitted with feature names\n",
      "  warnings.warn(\n",
      "C:\\Users\\debar\\anaconda3\\envs\\py39\\lib\\site-packages\\sklearn\\base.py:493: UserWarning: X does not have valid feature names, but StandardScaler was fitted with feature names\n",
      "  warnings.warn(\n",
      "C:\\Users\\debar\\anaconda3\\envs\\py39\\lib\\site-packages\\sklearn\\base.py:493: UserWarning: X does not have valid feature names, but StandardScaler was fitted with feature names\n",
      "  warnings.warn(\n"
     ]
    },
    {
     "name": "stdout",
     "output_type": "stream",
     "text": [
      "Gratitude [0.66 0.34 0.  ]\n",
      "Gratitude [0.69 0.31 0.  ]\n"
     ]
    },
    {
     "name": "stderr",
     "output_type": "stream",
     "text": [
      "C:\\Users\\debar\\anaconda3\\envs\\py39\\lib\\site-packages\\sklearn\\base.py:493: UserWarning: X does not have valid feature names, but StandardScaler was fitted with feature names\n",
      "  warnings.warn(\n",
      "C:\\Users\\debar\\anaconda3\\envs\\py39\\lib\\site-packages\\sklearn\\base.py:493: UserWarning: X does not have valid feature names, but StandardScaler was fitted with feature names\n",
      "  warnings.warn(\n",
      "C:\\Users\\debar\\anaconda3\\envs\\py39\\lib\\site-packages\\sklearn\\base.py:493: UserWarning: X does not have valid feature names, but StandardScaler was fitted with feature names\n",
      "  warnings.warn(\n",
      "C:\\Users\\debar\\anaconda3\\envs\\py39\\lib\\site-packages\\sklearn\\base.py:493: UserWarning: X does not have valid feature names, but StandardScaler was fitted with feature names\n",
      "  warnings.warn(\n"
     ]
    },
    {
     "name": "stdout",
     "output_type": "stream",
     "text": [
      "Gratitude [0.8 0.2 0. ]\n",
      "Gratitude [0.83 0.17 0.  ]\n"
     ]
    },
    {
     "name": "stderr",
     "output_type": "stream",
     "text": [
      "C:\\Users\\debar\\anaconda3\\envs\\py39\\lib\\site-packages\\sklearn\\base.py:493: UserWarning: X does not have valid feature names, but StandardScaler was fitted with feature names\n",
      "  warnings.warn(\n",
      "C:\\Users\\debar\\anaconda3\\envs\\py39\\lib\\site-packages\\sklearn\\base.py:493: UserWarning: X does not have valid feature names, but StandardScaler was fitted with feature names\n",
      "  warnings.warn(\n",
      "C:\\Users\\debar\\anaconda3\\envs\\py39\\lib\\site-packages\\sklearn\\base.py:493: UserWarning: X does not have valid feature names, but StandardScaler was fitted with feature names\n",
      "  warnings.warn(\n",
      "C:\\Users\\debar\\anaconda3\\envs\\py39\\lib\\site-packages\\sklearn\\base.py:493: UserWarning: X does not have valid feature names, but StandardScaler was fitted with feature names\n",
      "  warnings.warn(\n"
     ]
    },
    {
     "name": "stdout",
     "output_type": "stream",
     "text": [
      "Gratitude [0.8 0.2 0. ]\n",
      "Gratitude [0.85 0.15 0.  ]\n"
     ]
    },
    {
     "name": "stderr",
     "output_type": "stream",
     "text": [
      "C:\\Users\\debar\\anaconda3\\envs\\py39\\lib\\site-packages\\sklearn\\base.py:493: UserWarning: X does not have valid feature names, but StandardScaler was fitted with feature names\n",
      "  warnings.warn(\n",
      "C:\\Users\\debar\\anaconda3\\envs\\py39\\lib\\site-packages\\sklearn\\base.py:493: UserWarning: X does not have valid feature names, but StandardScaler was fitted with feature names\n",
      "  warnings.warn(\n",
      "C:\\Users\\debar\\anaconda3\\envs\\py39\\lib\\site-packages\\sklearn\\base.py:493: UserWarning: X does not have valid feature names, but StandardScaler was fitted with feature names\n",
      "  warnings.warn(\n",
      "C:\\Users\\debar\\anaconda3\\envs\\py39\\lib\\site-packages\\sklearn\\base.py:493: UserWarning: X does not have valid feature names, but StandardScaler was fitted with feature names\n",
      "  warnings.warn(\n"
     ]
    },
    {
     "name": "stdout",
     "output_type": "stream",
     "text": [
      "Gratitude [0.83 0.17 0.  ]\n",
      "Gratitude [0.81 0.19 0.  ]\n"
     ]
    },
    {
     "name": "stderr",
     "output_type": "stream",
     "text": [
      "C:\\Users\\debar\\anaconda3\\envs\\py39\\lib\\site-packages\\sklearn\\base.py:493: UserWarning: X does not have valid feature names, but StandardScaler was fitted with feature names\n",
      "  warnings.warn(\n",
      "C:\\Users\\debar\\anaconda3\\envs\\py39\\lib\\site-packages\\sklearn\\base.py:493: UserWarning: X does not have valid feature names, but StandardScaler was fitted with feature names\n",
      "  warnings.warn(\n",
      "C:\\Users\\debar\\anaconda3\\envs\\py39\\lib\\site-packages\\sklearn\\base.py:493: UserWarning: X does not have valid feature names, but StandardScaler was fitted with feature names\n",
      "  warnings.warn(\n",
      "C:\\Users\\debar\\anaconda3\\envs\\py39\\lib\\site-packages\\sklearn\\base.py:493: UserWarning: X does not have valid feature names, but StandardScaler was fitted with feature names\n",
      "  warnings.warn(\n"
     ]
    },
    {
     "name": "stdout",
     "output_type": "stream",
     "text": [
      "Gratitude [0.79 0.21 0.  ]\n",
      "Gratitude [0.75 0.25 0.  ]\n"
     ]
    },
    {
     "name": "stderr",
     "output_type": "stream",
     "text": [
      "C:\\Users\\debar\\anaconda3\\envs\\py39\\lib\\site-packages\\sklearn\\base.py:493: UserWarning: X does not have valid feature names, but StandardScaler was fitted with feature names\n",
      "  warnings.warn(\n",
      "C:\\Users\\debar\\anaconda3\\envs\\py39\\lib\\site-packages\\sklearn\\base.py:493: UserWarning: X does not have valid feature names, but StandardScaler was fitted with feature names\n",
      "  warnings.warn(\n",
      "C:\\Users\\debar\\anaconda3\\envs\\py39\\lib\\site-packages\\sklearn\\base.py:493: UserWarning: X does not have valid feature names, but StandardScaler was fitted with feature names\n",
      "  warnings.warn(\n",
      "C:\\Users\\debar\\anaconda3\\envs\\py39\\lib\\site-packages\\sklearn\\base.py:493: UserWarning: X does not have valid feature names, but StandardScaler was fitted with feature names\n",
      "  warnings.warn(\n"
     ]
    },
    {
     "name": "stdout",
     "output_type": "stream",
     "text": [
      "Gratitude [0.74 0.26 0.  ]\n",
      "Gratitude [0.72 0.28 0.  ]\n"
     ]
    },
    {
     "name": "stderr",
     "output_type": "stream",
     "text": [
      "C:\\Users\\debar\\anaconda3\\envs\\py39\\lib\\site-packages\\sklearn\\base.py:493: UserWarning: X does not have valid feature names, but StandardScaler was fitted with feature names\n",
      "  warnings.warn(\n",
      "C:\\Users\\debar\\anaconda3\\envs\\py39\\lib\\site-packages\\sklearn\\base.py:493: UserWarning: X does not have valid feature names, but StandardScaler was fitted with feature names\n",
      "  warnings.warn(\n",
      "C:\\Users\\debar\\anaconda3\\envs\\py39\\lib\\site-packages\\sklearn\\base.py:493: UserWarning: X does not have valid feature names, but StandardScaler was fitted with feature names\n",
      "  warnings.warn(\n",
      "C:\\Users\\debar\\anaconda3\\envs\\py39\\lib\\site-packages\\sklearn\\base.py:493: UserWarning: X does not have valid feature names, but StandardScaler was fitted with feature names\n",
      "  warnings.warn(\n"
     ]
    },
    {
     "name": "stdout",
     "output_type": "stream",
     "text": [
      "Gratitude [0.7 0.3 0. ]\n",
      "Gratitude [0.7 0.3 0. ]\n"
     ]
    },
    {
     "name": "stderr",
     "output_type": "stream",
     "text": [
      "C:\\Users\\debar\\anaconda3\\envs\\py39\\lib\\site-packages\\sklearn\\base.py:493: UserWarning: X does not have valid feature names, but StandardScaler was fitted with feature names\n",
      "  warnings.warn(\n",
      "C:\\Users\\debar\\anaconda3\\envs\\py39\\lib\\site-packages\\sklearn\\base.py:493: UserWarning: X does not have valid feature names, but StandardScaler was fitted with feature names\n",
      "  warnings.warn(\n",
      "C:\\Users\\debar\\anaconda3\\envs\\py39\\lib\\site-packages\\sklearn\\base.py:493: UserWarning: X does not have valid feature names, but StandardScaler was fitted with feature names\n",
      "  warnings.warn(\n",
      "C:\\Users\\debar\\anaconda3\\envs\\py39\\lib\\site-packages\\sklearn\\base.py:493: UserWarning: X does not have valid feature names, but StandardScaler was fitted with feature names\n",
      "  warnings.warn(\n"
     ]
    },
    {
     "name": "stdout",
     "output_type": "stream",
     "text": [
      "Gratitude [0.68 0.32 0.  ]\n",
      "Gratitude [0.54 0.46 0.  ]\n"
     ]
    },
    {
     "name": "stderr",
     "output_type": "stream",
     "text": [
      "C:\\Users\\debar\\anaconda3\\envs\\py39\\lib\\site-packages\\sklearn\\base.py:493: UserWarning: X does not have valid feature names, but StandardScaler was fitted with feature names\n",
      "  warnings.warn(\n",
      "C:\\Users\\debar\\anaconda3\\envs\\py39\\lib\\site-packages\\sklearn\\base.py:493: UserWarning: X does not have valid feature names, but StandardScaler was fitted with feature names\n",
      "  warnings.warn(\n",
      "C:\\Users\\debar\\anaconda3\\envs\\py39\\lib\\site-packages\\sklearn\\base.py:493: UserWarning: X does not have valid feature names, but StandardScaler was fitted with feature names\n",
      "  warnings.warn(\n",
      "C:\\Users\\debar\\anaconda3\\envs\\py39\\lib\\site-packages\\sklearn\\base.py:493: UserWarning: X does not have valid feature names, but StandardScaler was fitted with feature names\n",
      "  warnings.warn(\n"
     ]
    },
    {
     "name": "stdout",
     "output_type": "stream",
     "text": [
      "Happy [0.43 0.57 0.  ]\n",
      "Gratitude [0.53 0.45 0.02]\n"
     ]
    },
    {
     "name": "stderr",
     "output_type": "stream",
     "text": [
      "C:\\Users\\debar\\anaconda3\\envs\\py39\\lib\\site-packages\\sklearn\\base.py:493: UserWarning: X does not have valid feature names, but StandardScaler was fitted with feature names\n",
      "  warnings.warn(\n",
      "C:\\Users\\debar\\anaconda3\\envs\\py39\\lib\\site-packages\\sklearn\\base.py:493: UserWarning: X does not have valid feature names, but StandardScaler was fitted with feature names\n",
      "  warnings.warn(\n",
      "C:\\Users\\debar\\anaconda3\\envs\\py39\\lib\\site-packages\\sklearn\\base.py:493: UserWarning: X does not have valid feature names, but StandardScaler was fitted with feature names\n",
      "  warnings.warn(\n",
      "C:\\Users\\debar\\anaconda3\\envs\\py39\\lib\\site-packages\\sklearn\\base.py:493: UserWarning: X does not have valid feature names, but StandardScaler was fitted with feature names\n",
      "  warnings.warn(\n"
     ]
    },
    {
     "name": "stdout",
     "output_type": "stream",
     "text": [
      "Happy [0.44 0.45 0.11]\n",
      "Gratitude [0.43 0.43 0.14]\n"
     ]
    },
    {
     "name": "stderr",
     "output_type": "stream",
     "text": [
      "C:\\Users\\debar\\anaconda3\\envs\\py39\\lib\\site-packages\\sklearn\\base.py:493: UserWarning: X does not have valid feature names, but StandardScaler was fitted with feature names\n",
      "  warnings.warn(\n",
      "C:\\Users\\debar\\anaconda3\\envs\\py39\\lib\\site-packages\\sklearn\\base.py:493: UserWarning: X does not have valid feature names, but StandardScaler was fitted with feature names\n",
      "  warnings.warn(\n",
      "C:\\Users\\debar\\anaconda3\\envs\\py39\\lib\\site-packages\\sklearn\\base.py:493: UserWarning: X does not have valid feature names, but StandardScaler was fitted with feature names\n",
      "  warnings.warn(\n",
      "C:\\Users\\debar\\anaconda3\\envs\\py39\\lib\\site-packages\\sklearn\\base.py:493: UserWarning: X does not have valid feature names, but StandardScaler was fitted with feature names\n",
      "  warnings.warn(\n"
     ]
    },
    {
     "name": "stdout",
     "output_type": "stream",
     "text": [
      "Gratitude [0.46 0.38 0.16]\n",
      "Happy [0.41 0.43 0.16]\n"
     ]
    },
    {
     "name": "stderr",
     "output_type": "stream",
     "text": [
      "C:\\Users\\debar\\anaconda3\\envs\\py39\\lib\\site-packages\\sklearn\\base.py:493: UserWarning: X does not have valid feature names, but StandardScaler was fitted with feature names\n",
      "  warnings.warn(\n",
      "C:\\Users\\debar\\anaconda3\\envs\\py39\\lib\\site-packages\\sklearn\\base.py:493: UserWarning: X does not have valid feature names, but StandardScaler was fitted with feature names\n",
      "  warnings.warn(\n",
      "C:\\Users\\debar\\anaconda3\\envs\\py39\\lib\\site-packages\\sklearn\\base.py:493: UserWarning: X does not have valid feature names, but StandardScaler was fitted with feature names\n",
      "  warnings.warn(\n",
      "C:\\Users\\debar\\anaconda3\\envs\\py39\\lib\\site-packages\\sklearn\\base.py:493: UserWarning: X does not have valid feature names, but StandardScaler was fitted with feature names\n",
      "  warnings.warn(\n"
     ]
    },
    {
     "name": "stdout",
     "output_type": "stream",
     "text": [
      "Gratitude [0.43 0.43 0.14]\n",
      "Gratitude [0.44 0.4  0.16]\n"
     ]
    },
    {
     "name": "stderr",
     "output_type": "stream",
     "text": [
      "C:\\Users\\debar\\anaconda3\\envs\\py39\\lib\\site-packages\\sklearn\\base.py:493: UserWarning: X does not have valid feature names, but StandardScaler was fitted with feature names\n",
      "  warnings.warn(\n",
      "C:\\Users\\debar\\anaconda3\\envs\\py39\\lib\\site-packages\\sklearn\\base.py:493: UserWarning: X does not have valid feature names, but StandardScaler was fitted with feature names\n",
      "  warnings.warn(\n",
      "C:\\Users\\debar\\anaconda3\\envs\\py39\\lib\\site-packages\\sklearn\\base.py:493: UserWarning: X does not have valid feature names, but StandardScaler was fitted with feature names\n",
      "  warnings.warn(\n",
      "C:\\Users\\debar\\anaconda3\\envs\\py39\\lib\\site-packages\\sklearn\\base.py:493: UserWarning: X does not have valid feature names, but StandardScaler was fitted with feature names\n",
      "  warnings.warn(\n"
     ]
    },
    {
     "name": "stdout",
     "output_type": "stream",
     "text": [
      "Gratitude [0.48 0.33 0.19]\n",
      "Gratitude [0.46 0.35 0.19]\n"
     ]
    },
    {
     "name": "stderr",
     "output_type": "stream",
     "text": [
      "C:\\Users\\debar\\anaconda3\\envs\\py39\\lib\\site-packages\\sklearn\\base.py:493: UserWarning: X does not have valid feature names, but StandardScaler was fitted with feature names\n",
      "  warnings.warn(\n",
      "C:\\Users\\debar\\anaconda3\\envs\\py39\\lib\\site-packages\\sklearn\\base.py:493: UserWarning: X does not have valid feature names, but StandardScaler was fitted with feature names\n",
      "  warnings.warn(\n",
      "C:\\Users\\debar\\anaconda3\\envs\\py39\\lib\\site-packages\\sklearn\\base.py:493: UserWarning: X does not have valid feature names, but StandardScaler was fitted with feature names\n",
      "  warnings.warn(\n",
      "C:\\Users\\debar\\anaconda3\\envs\\py39\\lib\\site-packages\\sklearn\\base.py:493: UserWarning: X does not have valid feature names, but StandardScaler was fitted with feature names\n",
      "  warnings.warn(\n"
     ]
    },
    {
     "name": "stdout",
     "output_type": "stream",
     "text": [
      "Gratitude [0.49 0.32 0.19]\n",
      "Gratitude [0.48 0.29 0.23]\n"
     ]
    },
    {
     "name": "stderr",
     "output_type": "stream",
     "text": [
      "C:\\Users\\debar\\anaconda3\\envs\\py39\\lib\\site-packages\\sklearn\\base.py:493: UserWarning: X does not have valid feature names, but StandardScaler was fitted with feature names\n",
      "  warnings.warn(\n",
      "C:\\Users\\debar\\anaconda3\\envs\\py39\\lib\\site-packages\\sklearn\\base.py:493: UserWarning: X does not have valid feature names, but StandardScaler was fitted with feature names\n",
      "  warnings.warn(\n",
      "C:\\Users\\debar\\anaconda3\\envs\\py39\\lib\\site-packages\\sklearn\\base.py:493: UserWarning: X does not have valid feature names, but StandardScaler was fitted with feature names\n",
      "  warnings.warn(\n",
      "C:\\Users\\debar\\anaconda3\\envs\\py39\\lib\\site-packages\\sklearn\\base.py:493: UserWarning: X does not have valid feature names, but StandardScaler was fitted with feature names\n",
      "  warnings.warn(\n"
     ]
    },
    {
     "name": "stdout",
     "output_type": "stream",
     "text": [
      "Gratitude [0.47 0.29 0.24]\n",
      "Gratitude [0.44 0.31 0.25]\n"
     ]
    },
    {
     "name": "stderr",
     "output_type": "stream",
     "text": [
      "C:\\Users\\debar\\anaconda3\\envs\\py39\\lib\\site-packages\\sklearn\\base.py:493: UserWarning: X does not have valid feature names, but StandardScaler was fitted with feature names\n",
      "  warnings.warn(\n",
      "C:\\Users\\debar\\anaconda3\\envs\\py39\\lib\\site-packages\\sklearn\\base.py:493: UserWarning: X does not have valid feature names, but StandardScaler was fitted with feature names\n",
      "  warnings.warn(\n",
      "C:\\Users\\debar\\anaconda3\\envs\\py39\\lib\\site-packages\\sklearn\\base.py:493: UserWarning: X does not have valid feature names, but StandardScaler was fitted with feature names\n",
      "  warnings.warn(\n",
      "C:\\Users\\debar\\anaconda3\\envs\\py39\\lib\\site-packages\\sklearn\\base.py:493: UserWarning: X does not have valid feature names, but StandardScaler was fitted with feature names\n",
      "  warnings.warn(\n"
     ]
    },
    {
     "name": "stdout",
     "output_type": "stream",
     "text": [
      "Gratitude [0.41 0.34 0.25]\n",
      "Gratitude [0.42 0.38 0.2 ]\n"
     ]
    },
    {
     "name": "stderr",
     "output_type": "stream",
     "text": [
      "C:\\Users\\debar\\anaconda3\\envs\\py39\\lib\\site-packages\\sklearn\\base.py:493: UserWarning: X does not have valid feature names, but StandardScaler was fitted with feature names\n",
      "  warnings.warn(\n",
      "C:\\Users\\debar\\anaconda3\\envs\\py39\\lib\\site-packages\\sklearn\\base.py:493: UserWarning: X does not have valid feature names, but StandardScaler was fitted with feature names\n",
      "  warnings.warn(\n",
      "C:\\Users\\debar\\anaconda3\\envs\\py39\\lib\\site-packages\\sklearn\\base.py:493: UserWarning: X does not have valid feature names, but StandardScaler was fitted with feature names\n",
      "  warnings.warn(\n",
      "C:\\Users\\debar\\anaconda3\\envs\\py39\\lib\\site-packages\\sklearn\\base.py:493: UserWarning: X does not have valid feature names, but StandardScaler was fitted with feature names\n",
      "  warnings.warn(\n"
     ]
    },
    {
     "name": "stdout",
     "output_type": "stream",
     "text": [
      "Gratitude [0.4  0.39 0.21]\n",
      "Happy [0.37 0.43 0.2 ]\n"
     ]
    },
    {
     "name": "stderr",
     "output_type": "stream",
     "text": [
      "C:\\Users\\debar\\anaconda3\\envs\\py39\\lib\\site-packages\\sklearn\\base.py:493: UserWarning: X does not have valid feature names, but StandardScaler was fitted with feature names\n",
      "  warnings.warn(\n",
      "C:\\Users\\debar\\anaconda3\\envs\\py39\\lib\\site-packages\\sklearn\\base.py:493: UserWarning: X does not have valid feature names, but StandardScaler was fitted with feature names\n",
      "  warnings.warn(\n",
      "C:\\Users\\debar\\anaconda3\\envs\\py39\\lib\\site-packages\\sklearn\\base.py:493: UserWarning: X does not have valid feature names, but StandardScaler was fitted with feature names\n",
      "  warnings.warn(\n",
      "C:\\Users\\debar\\anaconda3\\envs\\py39\\lib\\site-packages\\sklearn\\base.py:493: UserWarning: X does not have valid feature names, but StandardScaler was fitted with feature names\n",
      "  warnings.warn(\n"
     ]
    },
    {
     "name": "stdout",
     "output_type": "stream",
     "text": [
      "Happy [0.35 0.44 0.21]\n",
      "Happy [0.35 0.47 0.18]\n"
     ]
    },
    {
     "name": "stderr",
     "output_type": "stream",
     "text": [
      "C:\\Users\\debar\\anaconda3\\envs\\py39\\lib\\site-packages\\sklearn\\base.py:493: UserWarning: X does not have valid feature names, but StandardScaler was fitted with feature names\n",
      "  warnings.warn(\n",
      "C:\\Users\\debar\\anaconda3\\envs\\py39\\lib\\site-packages\\sklearn\\base.py:493: UserWarning: X does not have valid feature names, but StandardScaler was fitted with feature names\n",
      "  warnings.warn(\n",
      "C:\\Users\\debar\\anaconda3\\envs\\py39\\lib\\site-packages\\sklearn\\base.py:493: UserWarning: X does not have valid feature names, but StandardScaler was fitted with feature names\n",
      "  warnings.warn(\n",
      "C:\\Users\\debar\\anaconda3\\envs\\py39\\lib\\site-packages\\sklearn\\base.py:493: UserWarning: X does not have valid feature names, but StandardScaler was fitted with feature names\n",
      "  warnings.warn(\n"
     ]
    },
    {
     "name": "stdout",
     "output_type": "stream",
     "text": [
      "Happy [0.4  0.42 0.18]\n",
      "Happy [0.38 0.46 0.16]\n"
     ]
    },
    {
     "name": "stderr",
     "output_type": "stream",
     "text": [
      "C:\\Users\\debar\\anaconda3\\envs\\py39\\lib\\site-packages\\sklearn\\base.py:493: UserWarning: X does not have valid feature names, but StandardScaler was fitted with feature names\n",
      "  warnings.warn(\n",
      "C:\\Users\\debar\\anaconda3\\envs\\py39\\lib\\site-packages\\sklearn\\base.py:493: UserWarning: X does not have valid feature names, but StandardScaler was fitted with feature names\n",
      "  warnings.warn(\n",
      "C:\\Users\\debar\\anaconda3\\envs\\py39\\lib\\site-packages\\sklearn\\base.py:493: UserWarning: X does not have valid feature names, but StandardScaler was fitted with feature names\n",
      "  warnings.warn(\n",
      "C:\\Users\\debar\\anaconda3\\envs\\py39\\lib\\site-packages\\sklearn\\base.py:493: UserWarning: X does not have valid feature names, but StandardScaler was fitted with feature names\n",
      "  warnings.warn(\n"
     ]
    },
    {
     "name": "stdout",
     "output_type": "stream",
     "text": [
      "Happy [0.38 0.46 0.16]\n",
      "Happy [0.4  0.44 0.16]\n"
     ]
    },
    {
     "name": "stderr",
     "output_type": "stream",
     "text": [
      "C:\\Users\\debar\\anaconda3\\envs\\py39\\lib\\site-packages\\sklearn\\base.py:493: UserWarning: X does not have valid feature names, but StandardScaler was fitted with feature names\n",
      "  warnings.warn(\n",
      "C:\\Users\\debar\\anaconda3\\envs\\py39\\lib\\site-packages\\sklearn\\base.py:493: UserWarning: X does not have valid feature names, but StandardScaler was fitted with feature names\n",
      "  warnings.warn(\n",
      "C:\\Users\\debar\\anaconda3\\envs\\py39\\lib\\site-packages\\sklearn\\base.py:493: UserWarning: X does not have valid feature names, but StandardScaler was fitted with feature names\n",
      "  warnings.warn(\n",
      "C:\\Users\\debar\\anaconda3\\envs\\py39\\lib\\site-packages\\sklearn\\base.py:493: UserWarning: X does not have valid feature names, but StandardScaler was fitted with feature names\n",
      "  warnings.warn(\n"
     ]
    },
    {
     "name": "stdout",
     "output_type": "stream",
     "text": [
      "Happy [0.4  0.44 0.16]\n",
      "Happy [0.38 0.46 0.16]\n"
     ]
    },
    {
     "name": "stderr",
     "output_type": "stream",
     "text": [
      "C:\\Users\\debar\\anaconda3\\envs\\py39\\lib\\site-packages\\sklearn\\base.py:493: UserWarning: X does not have valid feature names, but StandardScaler was fitted with feature names\n",
      "  warnings.warn(\n",
      "C:\\Users\\debar\\anaconda3\\envs\\py39\\lib\\site-packages\\sklearn\\base.py:493: UserWarning: X does not have valid feature names, but StandardScaler was fitted with feature names\n",
      "  warnings.warn(\n",
      "C:\\Users\\debar\\anaconda3\\envs\\py39\\lib\\site-packages\\sklearn\\base.py:493: UserWarning: X does not have valid feature names, but StandardScaler was fitted with feature names\n",
      "  warnings.warn(\n",
      "C:\\Users\\debar\\anaconda3\\envs\\py39\\lib\\site-packages\\sklearn\\base.py:493: UserWarning: X does not have valid feature names, but StandardScaler was fitted with feature names\n",
      "  warnings.warn(\n"
     ]
    },
    {
     "name": "stdout",
     "output_type": "stream",
     "text": [
      "Happy [0.42 0.45 0.13]\n",
      "Happy [0.4  0.47 0.13]\n"
     ]
    },
    {
     "name": "stderr",
     "output_type": "stream",
     "text": [
      "C:\\Users\\debar\\anaconda3\\envs\\py39\\lib\\site-packages\\sklearn\\base.py:493: UserWarning: X does not have valid feature names, but StandardScaler was fitted with feature names\n",
      "  warnings.warn(\n",
      "C:\\Users\\debar\\anaconda3\\envs\\py39\\lib\\site-packages\\sklearn\\base.py:493: UserWarning: X does not have valid feature names, but StandardScaler was fitted with feature names\n",
      "  warnings.warn(\n",
      "C:\\Users\\debar\\anaconda3\\envs\\py39\\lib\\site-packages\\sklearn\\base.py:493: UserWarning: X does not have valid feature names, but StandardScaler was fitted with feature names\n",
      "  warnings.warn(\n",
      "C:\\Users\\debar\\anaconda3\\envs\\py39\\lib\\site-packages\\sklearn\\base.py:493: UserWarning: X does not have valid feature names, but StandardScaler was fitted with feature names\n",
      "  warnings.warn(\n"
     ]
    },
    {
     "name": "stdout",
     "output_type": "stream",
     "text": [
      "Happy [0.39 0.48 0.13]\n",
      "Gratitude [0.45 0.42 0.13]\n"
     ]
    },
    {
     "name": "stderr",
     "output_type": "stream",
     "text": [
      "C:\\Users\\debar\\anaconda3\\envs\\py39\\lib\\site-packages\\sklearn\\base.py:493: UserWarning: X does not have valid feature names, but StandardScaler was fitted with feature names\n",
      "  warnings.warn(\n",
      "C:\\Users\\debar\\anaconda3\\envs\\py39\\lib\\site-packages\\sklearn\\base.py:493: UserWarning: X does not have valid feature names, but StandardScaler was fitted with feature names\n",
      "  warnings.warn(\n",
      "C:\\Users\\debar\\anaconda3\\envs\\py39\\lib\\site-packages\\sklearn\\base.py:493: UserWarning: X does not have valid feature names, but StandardScaler was fitted with feature names\n",
      "  warnings.warn(\n",
      "C:\\Users\\debar\\anaconda3\\envs\\py39\\lib\\site-packages\\sklearn\\base.py:493: UserWarning: X does not have valid feature names, but StandardScaler was fitted with feature names\n",
      "  warnings.warn(\n"
     ]
    },
    {
     "name": "stdout",
     "output_type": "stream",
     "text": [
      "Happy [0.43 0.45 0.12]\n",
      "Gratitude [0.48 0.4  0.12]\n"
     ]
    },
    {
     "name": "stderr",
     "output_type": "stream",
     "text": [
      "C:\\Users\\debar\\anaconda3\\envs\\py39\\lib\\site-packages\\sklearn\\base.py:493: UserWarning: X does not have valid feature names, but StandardScaler was fitted with feature names\n",
      "  warnings.warn(\n",
      "C:\\Users\\debar\\anaconda3\\envs\\py39\\lib\\site-packages\\sklearn\\base.py:493: UserWarning: X does not have valid feature names, but StandardScaler was fitted with feature names\n",
      "  warnings.warn(\n",
      "C:\\Users\\debar\\anaconda3\\envs\\py39\\lib\\site-packages\\sklearn\\base.py:493: UserWarning: X does not have valid feature names, but StandardScaler was fitted with feature names\n",
      "  warnings.warn(\n",
      "C:\\Users\\debar\\anaconda3\\envs\\py39\\lib\\site-packages\\sklearn\\base.py:493: UserWarning: X does not have valid feature names, but StandardScaler was fitted with feature names\n",
      "  warnings.warn(\n"
     ]
    },
    {
     "name": "stdout",
     "output_type": "stream",
     "text": [
      "Gratitude [0.47 0.41 0.12]\n",
      "Gratitude [0.46 0.42 0.12]\n"
     ]
    },
    {
     "name": "stderr",
     "output_type": "stream",
     "text": [
      "C:\\Users\\debar\\anaconda3\\envs\\py39\\lib\\site-packages\\sklearn\\base.py:493: UserWarning: X does not have valid feature names, but StandardScaler was fitted with feature names\n",
      "  warnings.warn(\n",
      "C:\\Users\\debar\\anaconda3\\envs\\py39\\lib\\site-packages\\sklearn\\base.py:493: UserWarning: X does not have valid feature names, but StandardScaler was fitted with feature names\n",
      "  warnings.warn(\n",
      "C:\\Users\\debar\\anaconda3\\envs\\py39\\lib\\site-packages\\sklearn\\base.py:493: UserWarning: X does not have valid feature names, but StandardScaler was fitted with feature names\n",
      "  warnings.warn(\n",
      "C:\\Users\\debar\\anaconda3\\envs\\py39\\lib\\site-packages\\sklearn\\base.py:493: UserWarning: X does not have valid feature names, but StandardScaler was fitted with feature names\n",
      "  warnings.warn(\n"
     ]
    },
    {
     "name": "stdout",
     "output_type": "stream",
     "text": [
      "Happy [0.39 0.49 0.12]\n",
      "Happy [0.39 0.49 0.12]\n"
     ]
    },
    {
     "name": "stderr",
     "output_type": "stream",
     "text": [
      "C:\\Users\\debar\\anaconda3\\envs\\py39\\lib\\site-packages\\sklearn\\base.py:493: UserWarning: X does not have valid feature names, but StandardScaler was fitted with feature names\n",
      "  warnings.warn(\n",
      "C:\\Users\\debar\\anaconda3\\envs\\py39\\lib\\site-packages\\sklearn\\base.py:493: UserWarning: X does not have valid feature names, but StandardScaler was fitted with feature names\n",
      "  warnings.warn(\n",
      "C:\\Users\\debar\\anaconda3\\envs\\py39\\lib\\site-packages\\sklearn\\base.py:493: UserWarning: X does not have valid feature names, but StandardScaler was fitted with feature names\n",
      "  warnings.warn(\n",
      "C:\\Users\\debar\\anaconda3\\envs\\py39\\lib\\site-packages\\sklearn\\base.py:493: UserWarning: X does not have valid feature names, but StandardScaler was fitted with feature names\n",
      "  warnings.warn(\n"
     ]
    },
    {
     "name": "stdout",
     "output_type": "stream",
     "text": [
      "Happy [0.4  0.48 0.12]\n",
      "Happy [0.43 0.45 0.12]\n"
     ]
    },
    {
     "name": "stderr",
     "output_type": "stream",
     "text": [
      "C:\\Users\\debar\\anaconda3\\envs\\py39\\lib\\site-packages\\sklearn\\base.py:493: UserWarning: X does not have valid feature names, but StandardScaler was fitted with feature names\n",
      "  warnings.warn(\n",
      "C:\\Users\\debar\\anaconda3\\envs\\py39\\lib\\site-packages\\sklearn\\base.py:493: UserWarning: X does not have valid feature names, but StandardScaler was fitted with feature names\n",
      "  warnings.warn(\n",
      "C:\\Users\\debar\\anaconda3\\envs\\py39\\lib\\site-packages\\sklearn\\base.py:493: UserWarning: X does not have valid feature names, but StandardScaler was fitted with feature names\n",
      "  warnings.warn(\n",
      "C:\\Users\\debar\\anaconda3\\envs\\py39\\lib\\site-packages\\sklearn\\base.py:493: UserWarning: X does not have valid feature names, but StandardScaler was fitted with feature names\n",
      "  warnings.warn(\n"
     ]
    },
    {
     "name": "stdout",
     "output_type": "stream",
     "text": [
      "Happy [0.4  0.48 0.12]\n",
      "Happy [0.38 0.5  0.12]\n"
     ]
    },
    {
     "name": "stderr",
     "output_type": "stream",
     "text": [
      "C:\\Users\\debar\\anaconda3\\envs\\py39\\lib\\site-packages\\sklearn\\base.py:493: UserWarning: X does not have valid feature names, but StandardScaler was fitted with feature names\n",
      "  warnings.warn(\n",
      "C:\\Users\\debar\\anaconda3\\envs\\py39\\lib\\site-packages\\sklearn\\base.py:493: UserWarning: X does not have valid feature names, but StandardScaler was fitted with feature names\n",
      "  warnings.warn(\n",
      "C:\\Users\\debar\\anaconda3\\envs\\py39\\lib\\site-packages\\sklearn\\base.py:493: UserWarning: X does not have valid feature names, but StandardScaler was fitted with feature names\n",
      "  warnings.warn(\n",
      "C:\\Users\\debar\\anaconda3\\envs\\py39\\lib\\site-packages\\sklearn\\base.py:493: UserWarning: X does not have valid feature names, but StandardScaler was fitted with feature names\n",
      "  warnings.warn(\n"
     ]
    },
    {
     "name": "stdout",
     "output_type": "stream",
     "text": [
      "Happy [0.36 0.52 0.12]\n",
      "Happy [0.38 0.5  0.12]\n"
     ]
    },
    {
     "name": "stderr",
     "output_type": "stream",
     "text": [
      "C:\\Users\\debar\\anaconda3\\envs\\py39\\lib\\site-packages\\sklearn\\base.py:493: UserWarning: X does not have valid feature names, but StandardScaler was fitted with feature names\n",
      "  warnings.warn(\n",
      "C:\\Users\\debar\\anaconda3\\envs\\py39\\lib\\site-packages\\sklearn\\base.py:493: UserWarning: X does not have valid feature names, but StandardScaler was fitted with feature names\n",
      "  warnings.warn(\n",
      "C:\\Users\\debar\\anaconda3\\envs\\py39\\lib\\site-packages\\sklearn\\base.py:493: UserWarning: X does not have valid feature names, but StandardScaler was fitted with feature names\n",
      "  warnings.warn(\n",
      "C:\\Users\\debar\\anaconda3\\envs\\py39\\lib\\site-packages\\sklearn\\base.py:493: UserWarning: X does not have valid feature names, but StandardScaler was fitted with feature names\n",
      "  warnings.warn(\n"
     ]
    },
    {
     "name": "stdout",
     "output_type": "stream",
     "text": [
      "Happy [0.4  0.48 0.12]\n",
      "Happy [0.38 0.51 0.11]\n"
     ]
    },
    {
     "name": "stderr",
     "output_type": "stream",
     "text": [
      "C:\\Users\\debar\\anaconda3\\envs\\py39\\lib\\site-packages\\sklearn\\base.py:493: UserWarning: X does not have valid feature names, but StandardScaler was fitted with feature names\n",
      "  warnings.warn(\n",
      "C:\\Users\\debar\\anaconda3\\envs\\py39\\lib\\site-packages\\sklearn\\base.py:493: UserWarning: X does not have valid feature names, but StandardScaler was fitted with feature names\n",
      "  warnings.warn(\n",
      "C:\\Users\\debar\\anaconda3\\envs\\py39\\lib\\site-packages\\sklearn\\base.py:493: UserWarning: X does not have valid feature names, but StandardScaler was fitted with feature names\n",
      "  warnings.warn(\n",
      "C:\\Users\\debar\\anaconda3\\envs\\py39\\lib\\site-packages\\sklearn\\base.py:493: UserWarning: X does not have valid feature names, but StandardScaler was fitted with feature names\n",
      "  warnings.warn(\n"
     ]
    },
    {
     "name": "stdout",
     "output_type": "stream",
     "text": [
      "Happy [0.34 0.56 0.1 ]\n",
      "Happy [0.38 0.57 0.05]\n"
     ]
    },
    {
     "name": "stderr",
     "output_type": "stream",
     "text": [
      "C:\\Users\\debar\\anaconda3\\envs\\py39\\lib\\site-packages\\sklearn\\base.py:493: UserWarning: X does not have valid feature names, but StandardScaler was fitted with feature names\n",
      "  warnings.warn(\n",
      "C:\\Users\\debar\\anaconda3\\envs\\py39\\lib\\site-packages\\sklearn\\base.py:493: UserWarning: X does not have valid feature names, but StandardScaler was fitted with feature names\n",
      "  warnings.warn(\n",
      "C:\\Users\\debar\\anaconda3\\envs\\py39\\lib\\site-packages\\sklearn\\base.py:493: UserWarning: X does not have valid feature names, but StandardScaler was fitted with feature names\n",
      "  warnings.warn(\n",
      "C:\\Users\\debar\\anaconda3\\envs\\py39\\lib\\site-packages\\sklearn\\base.py:493: UserWarning: X does not have valid feature names, but StandardScaler was fitted with feature names\n",
      "  warnings.warn(\n"
     ]
    },
    {
     "name": "stdout",
     "output_type": "stream",
     "text": [
      "Happy [0.38 0.57 0.05]\n",
      "Happy [0.39 0.58 0.03]\n"
     ]
    },
    {
     "name": "stderr",
     "output_type": "stream",
     "text": [
      "C:\\Users\\debar\\anaconda3\\envs\\py39\\lib\\site-packages\\sklearn\\base.py:493: UserWarning: X does not have valid feature names, but StandardScaler was fitted with feature names\n",
      "  warnings.warn(\n",
      "C:\\Users\\debar\\anaconda3\\envs\\py39\\lib\\site-packages\\sklearn\\base.py:493: UserWarning: X does not have valid feature names, but StandardScaler was fitted with feature names\n",
      "  warnings.warn(\n",
      "C:\\Users\\debar\\anaconda3\\envs\\py39\\lib\\site-packages\\sklearn\\base.py:493: UserWarning: X does not have valid feature names, but StandardScaler was fitted with feature names\n",
      "  warnings.warn(\n",
      "C:\\Users\\debar\\anaconda3\\envs\\py39\\lib\\site-packages\\sklearn\\base.py:493: UserWarning: X does not have valid feature names, but StandardScaler was fitted with feature names\n",
      "  warnings.warn(\n"
     ]
    },
    {
     "name": "stdout",
     "output_type": "stream",
     "text": [
      "Happy [0.43 0.56 0.01]\n",
      "Happy [0.48 0.52 0.  ]\n"
     ]
    },
    {
     "name": "stderr",
     "output_type": "stream",
     "text": [
      "C:\\Users\\debar\\anaconda3\\envs\\py39\\lib\\site-packages\\sklearn\\base.py:493: UserWarning: X does not have valid feature names, but StandardScaler was fitted with feature names\n",
      "  warnings.warn(\n",
      "C:\\Users\\debar\\anaconda3\\envs\\py39\\lib\\site-packages\\sklearn\\base.py:493: UserWarning: X does not have valid feature names, but StandardScaler was fitted with feature names\n",
      "  warnings.warn(\n",
      "C:\\Users\\debar\\anaconda3\\envs\\py39\\lib\\site-packages\\sklearn\\base.py:493: UserWarning: X does not have valid feature names, but StandardScaler was fitted with feature names\n",
      "  warnings.warn(\n",
      "C:\\Users\\debar\\anaconda3\\envs\\py39\\lib\\site-packages\\sklearn\\base.py:493: UserWarning: X does not have valid feature names, but StandardScaler was fitted with feature names\n",
      "  warnings.warn(\n"
     ]
    },
    {
     "name": "stdout",
     "output_type": "stream",
     "text": [
      "Gratitude [0.5 0.5 0. ]\n",
      "Gratitude [0.58 0.42 0.  ]\n"
     ]
    },
    {
     "name": "stderr",
     "output_type": "stream",
     "text": [
      "C:\\Users\\debar\\anaconda3\\envs\\py39\\lib\\site-packages\\sklearn\\base.py:493: UserWarning: X does not have valid feature names, but StandardScaler was fitted with feature names\n",
      "  warnings.warn(\n",
      "C:\\Users\\debar\\anaconda3\\envs\\py39\\lib\\site-packages\\sklearn\\base.py:493: UserWarning: X does not have valid feature names, but StandardScaler was fitted with feature names\n",
      "  warnings.warn(\n",
      "C:\\Users\\debar\\anaconda3\\envs\\py39\\lib\\site-packages\\sklearn\\base.py:493: UserWarning: X does not have valid feature names, but StandardScaler was fitted with feature names\n",
      "  warnings.warn(\n",
      "C:\\Users\\debar\\anaconda3\\envs\\py39\\lib\\site-packages\\sklearn\\base.py:493: UserWarning: X does not have valid feature names, but StandardScaler was fitted with feature names\n",
      "  warnings.warn(\n"
     ]
    },
    {
     "name": "stdout",
     "output_type": "stream",
     "text": [
      "Gratitude [0.59 0.41 0.  ]\n",
      "Gratitude [0.58 0.42 0.  ]\n"
     ]
    },
    {
     "name": "stderr",
     "output_type": "stream",
     "text": [
      "C:\\Users\\debar\\anaconda3\\envs\\py39\\lib\\site-packages\\sklearn\\base.py:493: UserWarning: X does not have valid feature names, but StandardScaler was fitted with feature names\n",
      "  warnings.warn(\n",
      "C:\\Users\\debar\\anaconda3\\envs\\py39\\lib\\site-packages\\sklearn\\base.py:493: UserWarning: X does not have valid feature names, but StandardScaler was fitted with feature names\n",
      "  warnings.warn(\n",
      "C:\\Users\\debar\\anaconda3\\envs\\py39\\lib\\site-packages\\sklearn\\base.py:493: UserWarning: X does not have valid feature names, but StandardScaler was fitted with feature names\n",
      "  warnings.warn(\n",
      "C:\\Users\\debar\\anaconda3\\envs\\py39\\lib\\site-packages\\sklearn\\base.py:493: UserWarning: X does not have valid feature names, but StandardScaler was fitted with feature names\n",
      "  warnings.warn(\n"
     ]
    },
    {
     "name": "stdout",
     "output_type": "stream",
     "text": [
      "Gratitude [0.6 0.4 0. ]\n",
      "Gratitude [0.58 0.42 0.  ]\n"
     ]
    },
    {
     "name": "stderr",
     "output_type": "stream",
     "text": [
      "C:\\Users\\debar\\anaconda3\\envs\\py39\\lib\\site-packages\\sklearn\\base.py:493: UserWarning: X does not have valid feature names, but StandardScaler was fitted with feature names\n",
      "  warnings.warn(\n",
      "C:\\Users\\debar\\anaconda3\\envs\\py39\\lib\\site-packages\\sklearn\\base.py:493: UserWarning: X does not have valid feature names, but StandardScaler was fitted with feature names\n",
      "  warnings.warn(\n",
      "C:\\Users\\debar\\anaconda3\\envs\\py39\\lib\\site-packages\\sklearn\\base.py:493: UserWarning: X does not have valid feature names, but StandardScaler was fitted with feature names\n",
      "  warnings.warn(\n",
      "C:\\Users\\debar\\anaconda3\\envs\\py39\\lib\\site-packages\\sklearn\\base.py:493: UserWarning: X does not have valid feature names, but StandardScaler was fitted with feature names\n",
      "  warnings.warn(\n"
     ]
    },
    {
     "name": "stdout",
     "output_type": "stream",
     "text": [
      "Gratitude [0.56 0.44 0.  ]\n",
      "Gratitude [0.53 0.47 0.  ]\n"
     ]
    },
    {
     "name": "stderr",
     "output_type": "stream",
     "text": [
      "C:\\Users\\debar\\anaconda3\\envs\\py39\\lib\\site-packages\\sklearn\\base.py:493: UserWarning: X does not have valid feature names, but StandardScaler was fitted with feature names\n",
      "  warnings.warn(\n",
      "C:\\Users\\debar\\anaconda3\\envs\\py39\\lib\\site-packages\\sklearn\\base.py:493: UserWarning: X does not have valid feature names, but StandardScaler was fitted with feature names\n",
      "  warnings.warn(\n",
      "C:\\Users\\debar\\anaconda3\\envs\\py39\\lib\\site-packages\\sklearn\\base.py:493: UserWarning: X does not have valid feature names, but StandardScaler was fitted with feature names\n",
      "  warnings.warn(\n",
      "C:\\Users\\debar\\anaconda3\\envs\\py39\\lib\\site-packages\\sklearn\\base.py:493: UserWarning: X does not have valid feature names, but StandardScaler was fitted with feature names\n",
      "  warnings.warn(\n"
     ]
    },
    {
     "name": "stdout",
     "output_type": "stream",
     "text": [
      "Happy [0.43 0.57 0.  ]\n",
      "Happy [0.42 0.58 0.  ]\n"
     ]
    },
    {
     "name": "stderr",
     "output_type": "stream",
     "text": [
      "C:\\Users\\debar\\anaconda3\\envs\\py39\\lib\\site-packages\\sklearn\\base.py:493: UserWarning: X does not have valid feature names, but StandardScaler was fitted with feature names\n",
      "  warnings.warn(\n",
      "C:\\Users\\debar\\anaconda3\\envs\\py39\\lib\\site-packages\\sklearn\\base.py:493: UserWarning: X does not have valid feature names, but StandardScaler was fitted with feature names\n",
      "  warnings.warn(\n",
      "C:\\Users\\debar\\anaconda3\\envs\\py39\\lib\\site-packages\\sklearn\\base.py:493: UserWarning: X does not have valid feature names, but StandardScaler was fitted with feature names\n",
      "  warnings.warn(\n",
      "C:\\Users\\debar\\anaconda3\\envs\\py39\\lib\\site-packages\\sklearn\\base.py:493: UserWarning: X does not have valid feature names, but StandardScaler was fitted with feature names\n",
      "  warnings.warn(\n"
     ]
    },
    {
     "name": "stdout",
     "output_type": "stream",
     "text": [
      "Happy [0.43 0.57 0.  ]\n",
      "Gratitude [0.52 0.48 0.  ]\n"
     ]
    },
    {
     "name": "stderr",
     "output_type": "stream",
     "text": [
      "C:\\Users\\debar\\anaconda3\\envs\\py39\\lib\\site-packages\\sklearn\\base.py:493: UserWarning: X does not have valid feature names, but StandardScaler was fitted with feature names\n",
      "  warnings.warn(\n",
      "C:\\Users\\debar\\anaconda3\\envs\\py39\\lib\\site-packages\\sklearn\\base.py:493: UserWarning: X does not have valid feature names, but StandardScaler was fitted with feature names\n",
      "  warnings.warn(\n",
      "C:\\Users\\debar\\anaconda3\\envs\\py39\\lib\\site-packages\\sklearn\\base.py:493: UserWarning: X does not have valid feature names, but StandardScaler was fitted with feature names\n",
      "  warnings.warn(\n",
      "C:\\Users\\debar\\anaconda3\\envs\\py39\\lib\\site-packages\\sklearn\\base.py:493: UserWarning: X does not have valid feature names, but StandardScaler was fitted with feature names\n",
      "  warnings.warn(\n"
     ]
    },
    {
     "name": "stdout",
     "output_type": "stream",
     "text": [
      "Happy [0.48 0.52 0.  ]\n",
      "Happy [0.49 0.51 0.  ]\n"
     ]
    },
    {
     "name": "stderr",
     "output_type": "stream",
     "text": [
      "C:\\Users\\debar\\anaconda3\\envs\\py39\\lib\\site-packages\\sklearn\\base.py:493: UserWarning: X does not have valid feature names, but StandardScaler was fitted with feature names\n",
      "  warnings.warn(\n",
      "C:\\Users\\debar\\anaconda3\\envs\\py39\\lib\\site-packages\\sklearn\\base.py:493: UserWarning: X does not have valid feature names, but StandardScaler was fitted with feature names\n",
      "  warnings.warn(\n",
      "C:\\Users\\debar\\anaconda3\\envs\\py39\\lib\\site-packages\\sklearn\\base.py:493: UserWarning: X does not have valid feature names, but StandardScaler was fitted with feature names\n",
      "  warnings.warn(\n",
      "C:\\Users\\debar\\anaconda3\\envs\\py39\\lib\\site-packages\\sklearn\\base.py:493: UserWarning: X does not have valid feature names, but StandardScaler was fitted with feature names\n",
      "  warnings.warn(\n"
     ]
    },
    {
     "name": "stdout",
     "output_type": "stream",
     "text": [
      "Gratitude [0.52 0.48 0.  ]\n",
      "Gratitude [0.55 0.45 0.  ]\n"
     ]
    },
    {
     "name": "stderr",
     "output_type": "stream",
     "text": [
      "C:\\Users\\debar\\anaconda3\\envs\\py39\\lib\\site-packages\\sklearn\\base.py:493: UserWarning: X does not have valid feature names, but StandardScaler was fitted with feature names\n",
      "  warnings.warn(\n",
      "C:\\Users\\debar\\anaconda3\\envs\\py39\\lib\\site-packages\\sklearn\\base.py:493: UserWarning: X does not have valid feature names, but StandardScaler was fitted with feature names\n",
      "  warnings.warn(\n",
      "C:\\Users\\debar\\anaconda3\\envs\\py39\\lib\\site-packages\\sklearn\\base.py:493: UserWarning: X does not have valid feature names, but StandardScaler was fitted with feature names\n",
      "  warnings.warn(\n",
      "C:\\Users\\debar\\anaconda3\\envs\\py39\\lib\\site-packages\\sklearn\\base.py:493: UserWarning: X does not have valid feature names, but StandardScaler was fitted with feature names\n",
      "  warnings.warn(\n"
     ]
    },
    {
     "name": "stdout",
     "output_type": "stream",
     "text": [
      "Gratitude [0.55 0.45 0.  ]\n",
      "Gratitude [0.57 0.43 0.  ]\n"
     ]
    },
    {
     "name": "stderr",
     "output_type": "stream",
     "text": [
      "C:\\Users\\debar\\anaconda3\\envs\\py39\\lib\\site-packages\\sklearn\\base.py:493: UserWarning: X does not have valid feature names, but StandardScaler was fitted with feature names\n",
      "  warnings.warn(\n",
      "C:\\Users\\debar\\anaconda3\\envs\\py39\\lib\\site-packages\\sklearn\\base.py:493: UserWarning: X does not have valid feature names, but StandardScaler was fitted with feature names\n",
      "  warnings.warn(\n",
      "C:\\Users\\debar\\anaconda3\\envs\\py39\\lib\\site-packages\\sklearn\\base.py:493: UserWarning: X does not have valid feature names, but StandardScaler was fitted with feature names\n",
      "  warnings.warn(\n",
      "C:\\Users\\debar\\anaconda3\\envs\\py39\\lib\\site-packages\\sklearn\\base.py:493: UserWarning: X does not have valid feature names, but StandardScaler was fitted with feature names\n",
      "  warnings.warn(\n"
     ]
    },
    {
     "name": "stdout",
     "output_type": "stream",
     "text": [
      "Gratitude [0.61 0.39 0.  ]\n",
      "Gratitude [0.61 0.39 0.  ]\n"
     ]
    },
    {
     "name": "stderr",
     "output_type": "stream",
     "text": [
      "C:\\Users\\debar\\anaconda3\\envs\\py39\\lib\\site-packages\\sklearn\\base.py:493: UserWarning: X does not have valid feature names, but StandardScaler was fitted with feature names\n",
      "  warnings.warn(\n",
      "C:\\Users\\debar\\anaconda3\\envs\\py39\\lib\\site-packages\\sklearn\\base.py:493: UserWarning: X does not have valid feature names, but StandardScaler was fitted with feature names\n",
      "  warnings.warn(\n",
      "C:\\Users\\debar\\anaconda3\\envs\\py39\\lib\\site-packages\\sklearn\\base.py:493: UserWarning: X does not have valid feature names, but StandardScaler was fitted with feature names\n",
      "  warnings.warn(\n",
      "C:\\Users\\debar\\anaconda3\\envs\\py39\\lib\\site-packages\\sklearn\\base.py:493: UserWarning: X does not have valid feature names, but StandardScaler was fitted with feature names\n",
      "  warnings.warn(\n"
     ]
    },
    {
     "name": "stdout",
     "output_type": "stream",
     "text": [
      "Gratitude [0.62 0.38 0.  ]\n",
      "Gratitude [0.61 0.39 0.  ]\n"
     ]
    },
    {
     "name": "stderr",
     "output_type": "stream",
     "text": [
      "C:\\Users\\debar\\anaconda3\\envs\\py39\\lib\\site-packages\\sklearn\\base.py:493: UserWarning: X does not have valid feature names, but StandardScaler was fitted with feature names\n",
      "  warnings.warn(\n",
      "C:\\Users\\debar\\anaconda3\\envs\\py39\\lib\\site-packages\\sklearn\\base.py:493: UserWarning: X does not have valid feature names, but StandardScaler was fitted with feature names\n",
      "  warnings.warn(\n",
      "C:\\Users\\debar\\anaconda3\\envs\\py39\\lib\\site-packages\\sklearn\\base.py:493: UserWarning: X does not have valid feature names, but StandardScaler was fitted with feature names\n",
      "  warnings.warn(\n",
      "C:\\Users\\debar\\anaconda3\\envs\\py39\\lib\\site-packages\\sklearn\\base.py:493: UserWarning: X does not have valid feature names, but StandardScaler was fitted with feature names\n",
      "  warnings.warn(\n"
     ]
    },
    {
     "name": "stdout",
     "output_type": "stream",
     "text": [
      "Gratitude [0.5 0.5 0. ]\n",
      "Happy [0.47 0.53 0.  ]\n"
     ]
    },
    {
     "name": "stderr",
     "output_type": "stream",
     "text": [
      "C:\\Users\\debar\\anaconda3\\envs\\py39\\lib\\site-packages\\sklearn\\base.py:493: UserWarning: X does not have valid feature names, but StandardScaler was fitted with feature names\n",
      "  warnings.warn(\n",
      "C:\\Users\\debar\\anaconda3\\envs\\py39\\lib\\site-packages\\sklearn\\base.py:493: UserWarning: X does not have valid feature names, but StandardScaler was fitted with feature names\n",
      "  warnings.warn(\n",
      "C:\\Users\\debar\\anaconda3\\envs\\py39\\lib\\site-packages\\sklearn\\base.py:493: UserWarning: X does not have valid feature names, but StandardScaler was fitted with feature names\n",
      "  warnings.warn(\n",
      "C:\\Users\\debar\\anaconda3\\envs\\py39\\lib\\site-packages\\sklearn\\base.py:493: UserWarning: X does not have valid feature names, but StandardScaler was fitted with feature names\n",
      "  warnings.warn(\n"
     ]
    },
    {
     "name": "stdout",
     "output_type": "stream",
     "text": [
      "Happy [0.44 0.56 0.  ]\n",
      "Happy [0.48 0.52 0.  ]\n"
     ]
    },
    {
     "name": "stderr",
     "output_type": "stream",
     "text": [
      "C:\\Users\\debar\\anaconda3\\envs\\py39\\lib\\site-packages\\sklearn\\base.py:493: UserWarning: X does not have valid feature names, but StandardScaler was fitted with feature names\n",
      "  warnings.warn(\n",
      "C:\\Users\\debar\\anaconda3\\envs\\py39\\lib\\site-packages\\sklearn\\base.py:493: UserWarning: X does not have valid feature names, but StandardScaler was fitted with feature names\n",
      "  warnings.warn(\n",
      "C:\\Users\\debar\\anaconda3\\envs\\py39\\lib\\site-packages\\sklearn\\base.py:493: UserWarning: X does not have valid feature names, but StandardScaler was fitted with feature names\n",
      "  warnings.warn(\n",
      "C:\\Users\\debar\\anaconda3\\envs\\py39\\lib\\site-packages\\sklearn\\base.py:493: UserWarning: X does not have valid feature names, but StandardScaler was fitted with feature names\n",
      "  warnings.warn(\n"
     ]
    },
    {
     "name": "stdout",
     "output_type": "stream",
     "text": [
      "Gratitude [0.5 0.5 0. ]\n",
      "Gratitude [0.51 0.49 0.  ]\n"
     ]
    },
    {
     "name": "stderr",
     "output_type": "stream",
     "text": [
      "C:\\Users\\debar\\anaconda3\\envs\\py39\\lib\\site-packages\\sklearn\\base.py:493: UserWarning: X does not have valid feature names, but StandardScaler was fitted with feature names\n",
      "  warnings.warn(\n",
      "C:\\Users\\debar\\anaconda3\\envs\\py39\\lib\\site-packages\\sklearn\\base.py:493: UserWarning: X does not have valid feature names, but StandardScaler was fitted with feature names\n",
      "  warnings.warn(\n",
      "C:\\Users\\debar\\anaconda3\\envs\\py39\\lib\\site-packages\\sklearn\\base.py:493: UserWarning: X does not have valid feature names, but StandardScaler was fitted with feature names\n",
      "  warnings.warn(\n",
      "C:\\Users\\debar\\anaconda3\\envs\\py39\\lib\\site-packages\\sklearn\\base.py:493: UserWarning: X does not have valid feature names, but StandardScaler was fitted with feature names\n",
      "  warnings.warn(\n"
     ]
    },
    {
     "name": "stdout",
     "output_type": "stream",
     "text": [
      "Gratitude [0.54 0.46 0.  ]\n",
      "Gratitude [0.55 0.45 0.  ]\n"
     ]
    },
    {
     "name": "stderr",
     "output_type": "stream",
     "text": [
      "C:\\Users\\debar\\anaconda3\\envs\\py39\\lib\\site-packages\\sklearn\\base.py:493: UserWarning: X does not have valid feature names, but StandardScaler was fitted with feature names\n",
      "  warnings.warn(\n",
      "C:\\Users\\debar\\anaconda3\\envs\\py39\\lib\\site-packages\\sklearn\\base.py:493: UserWarning: X does not have valid feature names, but StandardScaler was fitted with feature names\n",
      "  warnings.warn(\n",
      "C:\\Users\\debar\\anaconda3\\envs\\py39\\lib\\site-packages\\sklearn\\base.py:493: UserWarning: X does not have valid feature names, but StandardScaler was fitted with feature names\n",
      "  warnings.warn(\n",
      "C:\\Users\\debar\\anaconda3\\envs\\py39\\lib\\site-packages\\sklearn\\base.py:493: UserWarning: X does not have valid feature names, but StandardScaler was fitted with feature names\n",
      "  warnings.warn(\n"
     ]
    },
    {
     "name": "stdout",
     "output_type": "stream",
     "text": [
      "Gratitude [0.54 0.46 0.  ]\n",
      "Gratitude [0.53 0.47 0.  ]\n"
     ]
    },
    {
     "name": "stderr",
     "output_type": "stream",
     "text": [
      "C:\\Users\\debar\\anaconda3\\envs\\py39\\lib\\site-packages\\sklearn\\base.py:493: UserWarning: X does not have valid feature names, but StandardScaler was fitted with feature names\n",
      "  warnings.warn(\n",
      "C:\\Users\\debar\\anaconda3\\envs\\py39\\lib\\site-packages\\sklearn\\base.py:493: UserWarning: X does not have valid feature names, but StandardScaler was fitted with feature names\n",
      "  warnings.warn(\n",
      "C:\\Users\\debar\\anaconda3\\envs\\py39\\lib\\site-packages\\sklearn\\base.py:493: UserWarning: X does not have valid feature names, but StandardScaler was fitted with feature names\n",
      "  warnings.warn(\n",
      "C:\\Users\\debar\\anaconda3\\envs\\py39\\lib\\site-packages\\sklearn\\base.py:493: UserWarning: X does not have valid feature names, but StandardScaler was fitted with feature names\n",
      "  warnings.warn(\n"
     ]
    },
    {
     "name": "stdout",
     "output_type": "stream",
     "text": [
      "Gratitude [0.53 0.47 0.  ]\n",
      "Gratitude [0.5 0.5 0. ]\n"
     ]
    },
    {
     "name": "stderr",
     "output_type": "stream",
     "text": [
      "C:\\Users\\debar\\anaconda3\\envs\\py39\\lib\\site-packages\\sklearn\\base.py:493: UserWarning: X does not have valid feature names, but StandardScaler was fitted with feature names\n",
      "  warnings.warn(\n",
      "C:\\Users\\debar\\anaconda3\\envs\\py39\\lib\\site-packages\\sklearn\\base.py:493: UserWarning: X does not have valid feature names, but StandardScaler was fitted with feature names\n",
      "  warnings.warn(\n",
      "C:\\Users\\debar\\anaconda3\\envs\\py39\\lib\\site-packages\\sklearn\\base.py:493: UserWarning: X does not have valid feature names, but StandardScaler was fitted with feature names\n",
      "  warnings.warn(\n",
      "C:\\Users\\debar\\anaconda3\\envs\\py39\\lib\\site-packages\\sklearn\\base.py:493: UserWarning: X does not have valid feature names, but StandardScaler was fitted with feature names\n",
      "  warnings.warn(\n"
     ]
    },
    {
     "name": "stdout",
     "output_type": "stream",
     "text": [
      "Gratitude [0.53 0.47 0.  ]\n",
      "Gratitude [0.56 0.44 0.  ]\n"
     ]
    },
    {
     "name": "stderr",
     "output_type": "stream",
     "text": [
      "C:\\Users\\debar\\anaconda3\\envs\\py39\\lib\\site-packages\\sklearn\\base.py:493: UserWarning: X does not have valid feature names, but StandardScaler was fitted with feature names\n",
      "  warnings.warn(\n",
      "C:\\Users\\debar\\anaconda3\\envs\\py39\\lib\\site-packages\\sklearn\\base.py:493: UserWarning: X does not have valid feature names, but StandardScaler was fitted with feature names\n",
      "  warnings.warn(\n",
      "C:\\Users\\debar\\anaconda3\\envs\\py39\\lib\\site-packages\\sklearn\\base.py:493: UserWarning: X does not have valid feature names, but StandardScaler was fitted with feature names\n",
      "  warnings.warn(\n",
      "C:\\Users\\debar\\anaconda3\\envs\\py39\\lib\\site-packages\\sklearn\\base.py:493: UserWarning: X does not have valid feature names, but StandardScaler was fitted with feature names\n",
      "  warnings.warn(\n"
     ]
    },
    {
     "name": "stdout",
     "output_type": "stream",
     "text": [
      "Gratitude [0.63 0.37 0.  ]\n",
      "Gratitude [0.65 0.35 0.  ]\n"
     ]
    },
    {
     "name": "stderr",
     "output_type": "stream",
     "text": [
      "C:\\Users\\debar\\anaconda3\\envs\\py39\\lib\\site-packages\\sklearn\\base.py:493: UserWarning: X does not have valid feature names, but StandardScaler was fitted with feature names\n",
      "  warnings.warn(\n",
      "C:\\Users\\debar\\anaconda3\\envs\\py39\\lib\\site-packages\\sklearn\\base.py:493: UserWarning: X does not have valid feature names, but StandardScaler was fitted with feature names\n",
      "  warnings.warn(\n",
      "C:\\Users\\debar\\anaconda3\\envs\\py39\\lib\\site-packages\\sklearn\\base.py:493: UserWarning: X does not have valid feature names, but StandardScaler was fitted with feature names\n",
      "  warnings.warn(\n",
      "C:\\Users\\debar\\anaconda3\\envs\\py39\\lib\\site-packages\\sklearn\\base.py:493: UserWarning: X does not have valid feature names, but StandardScaler was fitted with feature names\n",
      "  warnings.warn(\n"
     ]
    },
    {
     "name": "stdout",
     "output_type": "stream",
     "text": [
      "Gratitude [0.61 0.39 0.  ]\n",
      "Happy [0.48 0.52 0.  ]\n"
     ]
    },
    {
     "name": "stderr",
     "output_type": "stream",
     "text": [
      "C:\\Users\\debar\\anaconda3\\envs\\py39\\lib\\site-packages\\sklearn\\base.py:493: UserWarning: X does not have valid feature names, but StandardScaler was fitted with feature names\n",
      "  warnings.warn(\n",
      "C:\\Users\\debar\\anaconda3\\envs\\py39\\lib\\site-packages\\sklearn\\base.py:493: UserWarning: X does not have valid feature names, but StandardScaler was fitted with feature names\n",
      "  warnings.warn(\n",
      "C:\\Users\\debar\\anaconda3\\envs\\py39\\lib\\site-packages\\sklearn\\base.py:493: UserWarning: X does not have valid feature names, but StandardScaler was fitted with feature names\n",
      "  warnings.warn(\n",
      "C:\\Users\\debar\\anaconda3\\envs\\py39\\lib\\site-packages\\sklearn\\base.py:493: UserWarning: X does not have valid feature names, but StandardScaler was fitted with feature names\n",
      "  warnings.warn(\n"
     ]
    },
    {
     "name": "stdout",
     "output_type": "stream",
     "text": [
      "Happy [0.48 0.52 0.  ]\n",
      "Gratitude [0.53 0.47 0.  ]\n"
     ]
    },
    {
     "name": "stderr",
     "output_type": "stream",
     "text": [
      "C:\\Users\\debar\\anaconda3\\envs\\py39\\lib\\site-packages\\sklearn\\base.py:493: UserWarning: X does not have valid feature names, but StandardScaler was fitted with feature names\n",
      "  warnings.warn(\n",
      "C:\\Users\\debar\\anaconda3\\envs\\py39\\lib\\site-packages\\sklearn\\base.py:493: UserWarning: X does not have valid feature names, but StandardScaler was fitted with feature names\n",
      "  warnings.warn(\n",
      "C:\\Users\\debar\\anaconda3\\envs\\py39\\lib\\site-packages\\sklearn\\base.py:493: UserWarning: X does not have valid feature names, but StandardScaler was fitted with feature names\n",
      "  warnings.warn(\n",
      "C:\\Users\\debar\\anaconda3\\envs\\py39\\lib\\site-packages\\sklearn\\base.py:493: UserWarning: X does not have valid feature names, but StandardScaler was fitted with feature names\n",
      "  warnings.warn(\n"
     ]
    },
    {
     "name": "stdout",
     "output_type": "stream",
     "text": [
      "Gratitude [0.53 0.45 0.02]\n",
      "Gratitude [0.54 0.42 0.04]\n"
     ]
    },
    {
     "name": "stderr",
     "output_type": "stream",
     "text": [
      "C:\\Users\\debar\\anaconda3\\envs\\py39\\lib\\site-packages\\sklearn\\base.py:493: UserWarning: X does not have valid feature names, but StandardScaler was fitted with feature names\n",
      "  warnings.warn(\n",
      "C:\\Users\\debar\\anaconda3\\envs\\py39\\lib\\site-packages\\sklearn\\base.py:493: UserWarning: X does not have valid feature names, but StandardScaler was fitted with feature names\n",
      "  warnings.warn(\n",
      "C:\\Users\\debar\\anaconda3\\envs\\py39\\lib\\site-packages\\sklearn\\base.py:493: UserWarning: X does not have valid feature names, but StandardScaler was fitted with feature names\n",
      "  warnings.warn(\n",
      "C:\\Users\\debar\\anaconda3\\envs\\py39\\lib\\site-packages\\sklearn\\base.py:493: UserWarning: X does not have valid feature names, but StandardScaler was fitted with feature names\n",
      "  warnings.warn(\n"
     ]
    },
    {
     "name": "stdout",
     "output_type": "stream",
     "text": [
      "Gratitude [0.58 0.38 0.04]\n",
      "Sad [0.21 0.08 0.71]\n"
     ]
    },
    {
     "name": "stderr",
     "output_type": "stream",
     "text": [
      "C:\\Users\\debar\\anaconda3\\envs\\py39\\lib\\site-packages\\sklearn\\base.py:493: UserWarning: X does not have valid feature names, but StandardScaler was fitted with feature names\n",
      "  warnings.warn(\n",
      "C:\\Users\\debar\\anaconda3\\envs\\py39\\lib\\site-packages\\sklearn\\base.py:493: UserWarning: X does not have valid feature names, but StandardScaler was fitted with feature names\n",
      "  warnings.warn(\n",
      "C:\\Users\\debar\\anaconda3\\envs\\py39\\lib\\site-packages\\sklearn\\base.py:493: UserWarning: X does not have valid feature names, but StandardScaler was fitted with feature names\n",
      "  warnings.warn(\n",
      "C:\\Users\\debar\\anaconda3\\envs\\py39\\lib\\site-packages\\sklearn\\base.py:493: UserWarning: X does not have valid feature names, but StandardScaler was fitted with feature names\n",
      "  warnings.warn(\n"
     ]
    },
    {
     "name": "stdout",
     "output_type": "stream",
     "text": [
      "Sad [0.36 0.22 0.42]\n",
      "Gratitude [0.46 0.24 0.3 ]\n"
     ]
    },
    {
     "name": "stderr",
     "output_type": "stream",
     "text": [
      "C:\\Users\\debar\\anaconda3\\envs\\py39\\lib\\site-packages\\sklearn\\base.py:493: UserWarning: X does not have valid feature names, but StandardScaler was fitted with feature names\n",
      "  warnings.warn(\n",
      "C:\\Users\\debar\\anaconda3\\envs\\py39\\lib\\site-packages\\sklearn\\base.py:493: UserWarning: X does not have valid feature names, but StandardScaler was fitted with feature names\n",
      "  warnings.warn(\n",
      "C:\\Users\\debar\\anaconda3\\envs\\py39\\lib\\site-packages\\sklearn\\base.py:493: UserWarning: X does not have valid feature names, but StandardScaler was fitted with feature names\n",
      "  warnings.warn(\n",
      "C:\\Users\\debar\\anaconda3\\envs\\py39\\lib\\site-packages\\sklearn\\base.py:493: UserWarning: X does not have valid feature names, but StandardScaler was fitted with feature names\n",
      "  warnings.warn(\n"
     ]
    },
    {
     "name": "stdout",
     "output_type": "stream",
     "text": [
      "Gratitude [0.46 0.2  0.34]\n",
      "Gratitude [0.43 0.28 0.29]\n"
     ]
    },
    {
     "name": "stderr",
     "output_type": "stream",
     "text": [
      "C:\\Users\\debar\\anaconda3\\envs\\py39\\lib\\site-packages\\sklearn\\base.py:493: UserWarning: X does not have valid feature names, but StandardScaler was fitted with feature names\n",
      "  warnings.warn(\n",
      "C:\\Users\\debar\\anaconda3\\envs\\py39\\lib\\site-packages\\sklearn\\base.py:493: UserWarning: X does not have valid feature names, but StandardScaler was fitted with feature names\n",
      "  warnings.warn(\n",
      "C:\\Users\\debar\\anaconda3\\envs\\py39\\lib\\site-packages\\sklearn\\base.py:493: UserWarning: X does not have valid feature names, but StandardScaler was fitted with feature names\n",
      "  warnings.warn(\n",
      "C:\\Users\\debar\\anaconda3\\envs\\py39\\lib\\site-packages\\sklearn\\base.py:493: UserWarning: X does not have valid feature names, but StandardScaler was fitted with feature names\n",
      "  warnings.warn(\n"
     ]
    },
    {
     "name": "stdout",
     "output_type": "stream",
     "text": [
      "Gratitude [0.41 0.21 0.38]\n",
      "Gratitude [0.42 0.19 0.39]\n"
     ]
    },
    {
     "name": "stderr",
     "output_type": "stream",
     "text": [
      "C:\\Users\\debar\\anaconda3\\envs\\py39\\lib\\site-packages\\sklearn\\base.py:493: UserWarning: X does not have valid feature names, but StandardScaler was fitted with feature names\n",
      "  warnings.warn(\n",
      "C:\\Users\\debar\\anaconda3\\envs\\py39\\lib\\site-packages\\sklearn\\base.py:493: UserWarning: X does not have valid feature names, but StandardScaler was fitted with feature names\n",
      "  warnings.warn(\n",
      "C:\\Users\\debar\\anaconda3\\envs\\py39\\lib\\site-packages\\sklearn\\base.py:493: UserWarning: X does not have valid feature names, but StandardScaler was fitted with feature names\n",
      "  warnings.warn(\n",
      "C:\\Users\\debar\\anaconda3\\envs\\py39\\lib\\site-packages\\sklearn\\base.py:493: UserWarning: X does not have valid feature names, but StandardScaler was fitted with feature names\n",
      "  warnings.warn(\n"
     ]
    },
    {
     "name": "stdout",
     "output_type": "stream",
     "text": [
      "Gratitude [0.42 0.17 0.41]\n",
      "Sad [0.35 0.21 0.44]\n"
     ]
    },
    {
     "name": "stderr",
     "output_type": "stream",
     "text": [
      "C:\\Users\\debar\\anaconda3\\envs\\py39\\lib\\site-packages\\sklearn\\base.py:493: UserWarning: X does not have valid feature names, but StandardScaler was fitted with feature names\n",
      "  warnings.warn(\n",
      "C:\\Users\\debar\\anaconda3\\envs\\py39\\lib\\site-packages\\sklearn\\base.py:493: UserWarning: X does not have valid feature names, but StandardScaler was fitted with feature names\n",
      "  warnings.warn(\n",
      "C:\\Users\\debar\\anaconda3\\envs\\py39\\lib\\site-packages\\sklearn\\base.py:493: UserWarning: X does not have valid feature names, but StandardScaler was fitted with feature names\n",
      "  warnings.warn(\n",
      "C:\\Users\\debar\\anaconda3\\envs\\py39\\lib\\site-packages\\sklearn\\base.py:493: UserWarning: X does not have valid feature names, but StandardScaler was fitted with feature names\n",
      "  warnings.warn(\n"
     ]
    },
    {
     "name": "stdout",
     "output_type": "stream",
     "text": [
      "Sad [0.34 0.22 0.44]\n",
      "Sad [0.33 0.22 0.45]\n"
     ]
    },
    {
     "name": "stderr",
     "output_type": "stream",
     "text": [
      "C:\\Users\\debar\\anaconda3\\envs\\py39\\lib\\site-packages\\sklearn\\base.py:493: UserWarning: X does not have valid feature names, but StandardScaler was fitted with feature names\n",
      "  warnings.warn(\n",
      "C:\\Users\\debar\\anaconda3\\envs\\py39\\lib\\site-packages\\sklearn\\base.py:493: UserWarning: X does not have valid feature names, but StandardScaler was fitted with feature names\n",
      "  warnings.warn(\n",
      "C:\\Users\\debar\\anaconda3\\envs\\py39\\lib\\site-packages\\sklearn\\base.py:493: UserWarning: X does not have valid feature names, but StandardScaler was fitted with feature names\n",
      "  warnings.warn(\n",
      "C:\\Users\\debar\\anaconda3\\envs\\py39\\lib\\site-packages\\sklearn\\base.py:493: UserWarning: X does not have valid feature names, but StandardScaler was fitted with feature names\n",
      "  warnings.warn(\n"
     ]
    },
    {
     "name": "stdout",
     "output_type": "stream",
     "text": [
      "Sad [0.34 0.2  0.46]\n",
      "Gratitude [0.4  0.21 0.39]\n"
     ]
    },
    {
     "name": "stderr",
     "output_type": "stream",
     "text": [
      "C:\\Users\\debar\\anaconda3\\envs\\py39\\lib\\site-packages\\sklearn\\base.py:493: UserWarning: X does not have valid feature names, but StandardScaler was fitted with feature names\n",
      "  warnings.warn(\n",
      "C:\\Users\\debar\\anaconda3\\envs\\py39\\lib\\site-packages\\sklearn\\base.py:493: UserWarning: X does not have valid feature names, but StandardScaler was fitted with feature names\n",
      "  warnings.warn(\n",
      "C:\\Users\\debar\\anaconda3\\envs\\py39\\lib\\site-packages\\sklearn\\base.py:493: UserWarning: X does not have valid feature names, but StandardScaler was fitted with feature names\n",
      "  warnings.warn(\n",
      "C:\\Users\\debar\\anaconda3\\envs\\py39\\lib\\site-packages\\sklearn\\base.py:493: UserWarning: X does not have valid feature names, but StandardScaler was fitted with feature names\n",
      "  warnings.warn(\n"
     ]
    },
    {
     "name": "stdout",
     "output_type": "stream",
     "text": [
      "Gratitude [0.42 0.23 0.35]\n",
      "Gratitude [0.41 0.22 0.37]\n"
     ]
    },
    {
     "name": "stderr",
     "output_type": "stream",
     "text": [
      "C:\\Users\\debar\\anaconda3\\envs\\py39\\lib\\site-packages\\sklearn\\base.py:493: UserWarning: X does not have valid feature names, but StandardScaler was fitted with feature names\n",
      "  warnings.warn(\n",
      "C:\\Users\\debar\\anaconda3\\envs\\py39\\lib\\site-packages\\sklearn\\base.py:493: UserWarning: X does not have valid feature names, but StandardScaler was fitted with feature names\n",
      "  warnings.warn(\n",
      "C:\\Users\\debar\\anaconda3\\envs\\py39\\lib\\site-packages\\sklearn\\base.py:493: UserWarning: X does not have valid feature names, but StandardScaler was fitted with feature names\n",
      "  warnings.warn(\n",
      "C:\\Users\\debar\\anaconda3\\envs\\py39\\lib\\site-packages\\sklearn\\base.py:493: UserWarning: X does not have valid feature names, but StandardScaler was fitted with feature names\n",
      "  warnings.warn(\n"
     ]
    },
    {
     "name": "stdout",
     "output_type": "stream",
     "text": [
      "Gratitude [0.42 0.26 0.32]\n",
      "Gratitude [0.43 0.25 0.32]\n"
     ]
    },
    {
     "name": "stderr",
     "output_type": "stream",
     "text": [
      "C:\\Users\\debar\\anaconda3\\envs\\py39\\lib\\site-packages\\sklearn\\base.py:493: UserWarning: X does not have valid feature names, but StandardScaler was fitted with feature names\n",
      "  warnings.warn(\n",
      "C:\\Users\\debar\\anaconda3\\envs\\py39\\lib\\site-packages\\sklearn\\base.py:493: UserWarning: X does not have valid feature names, but StandardScaler was fitted with feature names\n",
      "  warnings.warn(\n",
      "C:\\Users\\debar\\anaconda3\\envs\\py39\\lib\\site-packages\\sklearn\\base.py:493: UserWarning: X does not have valid feature names, but StandardScaler was fitted with feature names\n",
      "  warnings.warn(\n",
      "C:\\Users\\debar\\anaconda3\\envs\\py39\\lib\\site-packages\\sklearn\\base.py:493: UserWarning: X does not have valid feature names, but StandardScaler was fitted with feature names\n",
      "  warnings.warn(\n"
     ]
    },
    {
     "name": "stdout",
     "output_type": "stream",
     "text": [
      "Gratitude [0.46 0.23 0.31]\n",
      "Gratitude [0.45 0.26 0.29]\n"
     ]
    },
    {
     "name": "stderr",
     "output_type": "stream",
     "text": [
      "C:\\Users\\debar\\anaconda3\\envs\\py39\\lib\\site-packages\\sklearn\\base.py:493: UserWarning: X does not have valid feature names, but StandardScaler was fitted with feature names\n",
      "  warnings.warn(\n",
      "C:\\Users\\debar\\anaconda3\\envs\\py39\\lib\\site-packages\\sklearn\\base.py:493: UserWarning: X does not have valid feature names, but StandardScaler was fitted with feature names\n",
      "  warnings.warn(\n",
      "C:\\Users\\debar\\anaconda3\\envs\\py39\\lib\\site-packages\\sklearn\\base.py:493: UserWarning: X does not have valid feature names, but StandardScaler was fitted with feature names\n",
      "  warnings.warn(\n",
      "C:\\Users\\debar\\anaconda3\\envs\\py39\\lib\\site-packages\\sklearn\\base.py:493: UserWarning: X does not have valid feature names, but StandardScaler was fitted with feature names\n",
      "  warnings.warn(\n"
     ]
    },
    {
     "name": "stdout",
     "output_type": "stream",
     "text": [
      "Gratitude [0.38 0.24 0.38]\n",
      "Gratitude [0.43 0.25 0.32]\n"
     ]
    },
    {
     "name": "stderr",
     "output_type": "stream",
     "text": [
      "C:\\Users\\debar\\anaconda3\\envs\\py39\\lib\\site-packages\\sklearn\\base.py:493: UserWarning: X does not have valid feature names, but StandardScaler was fitted with feature names\n",
      "  warnings.warn(\n",
      "C:\\Users\\debar\\anaconda3\\envs\\py39\\lib\\site-packages\\sklearn\\base.py:493: UserWarning: X does not have valid feature names, but StandardScaler was fitted with feature names\n",
      "  warnings.warn(\n",
      "C:\\Users\\debar\\anaconda3\\envs\\py39\\lib\\site-packages\\sklearn\\base.py:493: UserWarning: X does not have valid feature names, but StandardScaler was fitted with feature names\n",
      "  warnings.warn(\n",
      "C:\\Users\\debar\\anaconda3\\envs\\py39\\lib\\site-packages\\sklearn\\base.py:493: UserWarning: X does not have valid feature names, but StandardScaler was fitted with feature names\n",
      "  warnings.warn(\n"
     ]
    },
    {
     "name": "stdout",
     "output_type": "stream",
     "text": [
      "Gratitude [0.43 0.25 0.32]\n",
      "Gratitude [0.43 0.27 0.3 ]\n"
     ]
    },
    {
     "name": "stderr",
     "output_type": "stream",
     "text": [
      "C:\\Users\\debar\\anaconda3\\envs\\py39\\lib\\site-packages\\sklearn\\base.py:493: UserWarning: X does not have valid feature names, but StandardScaler was fitted with feature names\n",
      "  warnings.warn(\n",
      "C:\\Users\\debar\\anaconda3\\envs\\py39\\lib\\site-packages\\sklearn\\base.py:493: UserWarning: X does not have valid feature names, but StandardScaler was fitted with feature names\n",
      "  warnings.warn(\n",
      "C:\\Users\\debar\\anaconda3\\envs\\py39\\lib\\site-packages\\sklearn\\base.py:493: UserWarning: X does not have valid feature names, but StandardScaler was fitted with feature names\n",
      "  warnings.warn(\n",
      "C:\\Users\\debar\\anaconda3\\envs\\py39\\lib\\site-packages\\sklearn\\base.py:493: UserWarning: X does not have valid feature names, but StandardScaler was fitted with feature names\n",
      "  warnings.warn(\n"
     ]
    },
    {
     "name": "stdout",
     "output_type": "stream",
     "text": [
      "Gratitude [0.41 0.24 0.35]\n",
      "Gratitude [0.43 0.27 0.3 ]\n"
     ]
    },
    {
     "name": "stderr",
     "output_type": "stream",
     "text": [
      "C:\\Users\\debar\\anaconda3\\envs\\py39\\lib\\site-packages\\sklearn\\base.py:493: UserWarning: X does not have valid feature names, but StandardScaler was fitted with feature names\n",
      "  warnings.warn(\n",
      "C:\\Users\\debar\\anaconda3\\envs\\py39\\lib\\site-packages\\sklearn\\base.py:493: UserWarning: X does not have valid feature names, but StandardScaler was fitted with feature names\n",
      "  warnings.warn(\n",
      "C:\\Users\\debar\\anaconda3\\envs\\py39\\lib\\site-packages\\sklearn\\base.py:493: UserWarning: X does not have valid feature names, but StandardScaler was fitted with feature names\n",
      "  warnings.warn(\n",
      "C:\\Users\\debar\\anaconda3\\envs\\py39\\lib\\site-packages\\sklearn\\base.py:493: UserWarning: X does not have valid feature names, but StandardScaler was fitted with feature names\n",
      "  warnings.warn(\n"
     ]
    },
    {
     "name": "stdout",
     "output_type": "stream",
     "text": [
      "Gratitude [0.42 0.26 0.32]\n",
      "Gratitude [0.44 0.26 0.3 ]\n"
     ]
    },
    {
     "name": "stderr",
     "output_type": "stream",
     "text": [
      "C:\\Users\\debar\\anaconda3\\envs\\py39\\lib\\site-packages\\sklearn\\base.py:493: UserWarning: X does not have valid feature names, but StandardScaler was fitted with feature names\n",
      "  warnings.warn(\n",
      "C:\\Users\\debar\\anaconda3\\envs\\py39\\lib\\site-packages\\sklearn\\base.py:493: UserWarning: X does not have valid feature names, but StandardScaler was fitted with feature names\n",
      "  warnings.warn(\n",
      "C:\\Users\\debar\\anaconda3\\envs\\py39\\lib\\site-packages\\sklearn\\base.py:493: UserWarning: X does not have valid feature names, but StandardScaler was fitted with feature names\n",
      "  warnings.warn(\n",
      "C:\\Users\\debar\\anaconda3\\envs\\py39\\lib\\site-packages\\sklearn\\base.py:493: UserWarning: X does not have valid feature names, but StandardScaler was fitted with feature names\n",
      "  warnings.warn(\n"
     ]
    },
    {
     "name": "stdout",
     "output_type": "stream",
     "text": [
      "Gratitude [0.44 0.25 0.31]\n",
      "Gratitude [0.45 0.27 0.28]\n"
     ]
    },
    {
     "name": "stderr",
     "output_type": "stream",
     "text": [
      "C:\\Users\\debar\\anaconda3\\envs\\py39\\lib\\site-packages\\sklearn\\base.py:493: UserWarning: X does not have valid feature names, but StandardScaler was fitted with feature names\n",
      "  warnings.warn(\n",
      "C:\\Users\\debar\\anaconda3\\envs\\py39\\lib\\site-packages\\sklearn\\base.py:493: UserWarning: X does not have valid feature names, but StandardScaler was fitted with feature names\n",
      "  warnings.warn(\n",
      "C:\\Users\\debar\\anaconda3\\envs\\py39\\lib\\site-packages\\sklearn\\base.py:493: UserWarning: X does not have valid feature names, but StandardScaler was fitted with feature names\n",
      "  warnings.warn(\n",
      "C:\\Users\\debar\\anaconda3\\envs\\py39\\lib\\site-packages\\sklearn\\base.py:493: UserWarning: X does not have valid feature names, but StandardScaler was fitted with feature names\n",
      "  warnings.warn(\n"
     ]
    },
    {
     "name": "stdout",
     "output_type": "stream",
     "text": [
      "Gratitude [0.48 0.23 0.29]\n",
      "Gratitude [0.45 0.21 0.34]\n"
     ]
    },
    {
     "name": "stderr",
     "output_type": "stream",
     "text": [
      "C:\\Users\\debar\\anaconda3\\envs\\py39\\lib\\site-packages\\sklearn\\base.py:493: UserWarning: X does not have valid feature names, but StandardScaler was fitted with feature names\n",
      "  warnings.warn(\n",
      "C:\\Users\\debar\\anaconda3\\envs\\py39\\lib\\site-packages\\sklearn\\base.py:493: UserWarning: X does not have valid feature names, but StandardScaler was fitted with feature names\n",
      "  warnings.warn(\n",
      "C:\\Users\\debar\\anaconda3\\envs\\py39\\lib\\site-packages\\sklearn\\base.py:493: UserWarning: X does not have valid feature names, but StandardScaler was fitted with feature names\n",
      "  warnings.warn(\n",
      "C:\\Users\\debar\\anaconda3\\envs\\py39\\lib\\site-packages\\sklearn\\base.py:493: UserWarning: X does not have valid feature names, but StandardScaler was fitted with feature names\n",
      "  warnings.warn(\n"
     ]
    },
    {
     "name": "stdout",
     "output_type": "stream",
     "text": [
      "Gratitude [0.47 0.22 0.31]\n",
      "Gratitude [0.41 0.27 0.32]\n"
     ]
    },
    {
     "name": "stderr",
     "output_type": "stream",
     "text": [
      "C:\\Users\\debar\\anaconda3\\envs\\py39\\lib\\site-packages\\sklearn\\base.py:493: UserWarning: X does not have valid feature names, but StandardScaler was fitted with feature names\n",
      "  warnings.warn(\n",
      "C:\\Users\\debar\\anaconda3\\envs\\py39\\lib\\site-packages\\sklearn\\base.py:493: UserWarning: X does not have valid feature names, but StandardScaler was fitted with feature names\n",
      "  warnings.warn(\n",
      "C:\\Users\\debar\\anaconda3\\envs\\py39\\lib\\site-packages\\sklearn\\base.py:493: UserWarning: X does not have valid feature names, but StandardScaler was fitted with feature names\n",
      "  warnings.warn(\n",
      "C:\\Users\\debar\\anaconda3\\envs\\py39\\lib\\site-packages\\sklearn\\base.py:493: UserWarning: X does not have valid feature names, but StandardScaler was fitted with feature names\n",
      "  warnings.warn(\n"
     ]
    },
    {
     "name": "stdout",
     "output_type": "stream",
     "text": [
      "Gratitude [0.48 0.23 0.29]\n",
      "Gratitude [0.47 0.24 0.29]\n"
     ]
    },
    {
     "name": "stderr",
     "output_type": "stream",
     "text": [
      "C:\\Users\\debar\\anaconda3\\envs\\py39\\lib\\site-packages\\sklearn\\base.py:493: UserWarning: X does not have valid feature names, but StandardScaler was fitted with feature names\n",
      "  warnings.warn(\n",
      "C:\\Users\\debar\\anaconda3\\envs\\py39\\lib\\site-packages\\sklearn\\base.py:493: UserWarning: X does not have valid feature names, but StandardScaler was fitted with feature names\n",
      "  warnings.warn(\n",
      "C:\\Users\\debar\\anaconda3\\envs\\py39\\lib\\site-packages\\sklearn\\base.py:493: UserWarning: X does not have valid feature names, but StandardScaler was fitted with feature names\n",
      "  warnings.warn(\n",
      "C:\\Users\\debar\\anaconda3\\envs\\py39\\lib\\site-packages\\sklearn\\base.py:493: UserWarning: X does not have valid feature names, but StandardScaler was fitted with feature names\n",
      "  warnings.warn(\n"
     ]
    },
    {
     "name": "stdout",
     "output_type": "stream",
     "text": [
      "Gratitude [0.47 0.24 0.29]\n",
      "Gratitude [0.47 0.24 0.29]\n"
     ]
    },
    {
     "name": "stderr",
     "output_type": "stream",
     "text": [
      "C:\\Users\\debar\\anaconda3\\envs\\py39\\lib\\site-packages\\sklearn\\base.py:493: UserWarning: X does not have valid feature names, but StandardScaler was fitted with feature names\n",
      "  warnings.warn(\n",
      "C:\\Users\\debar\\anaconda3\\envs\\py39\\lib\\site-packages\\sklearn\\base.py:493: UserWarning: X does not have valid feature names, but StandardScaler was fitted with feature names\n",
      "  warnings.warn(\n",
      "C:\\Users\\debar\\anaconda3\\envs\\py39\\lib\\site-packages\\sklearn\\base.py:493: UserWarning: X does not have valid feature names, but StandardScaler was fitted with feature names\n",
      "  warnings.warn(\n",
      "C:\\Users\\debar\\anaconda3\\envs\\py39\\lib\\site-packages\\sklearn\\base.py:493: UserWarning: X does not have valid feature names, but StandardScaler was fitted with feature names\n",
      "  warnings.warn(\n"
     ]
    },
    {
     "name": "stdout",
     "output_type": "stream",
     "text": [
      "Gratitude [0.42 0.28 0.3 ]\n",
      "Gratitude [0.44 0.27 0.29]\n"
     ]
    },
    {
     "name": "stderr",
     "output_type": "stream",
     "text": [
      "C:\\Users\\debar\\anaconda3\\envs\\py39\\lib\\site-packages\\sklearn\\base.py:493: UserWarning: X does not have valid feature names, but StandardScaler was fitted with feature names\n",
      "  warnings.warn(\n",
      "C:\\Users\\debar\\anaconda3\\envs\\py39\\lib\\site-packages\\sklearn\\base.py:493: UserWarning: X does not have valid feature names, but StandardScaler was fitted with feature names\n",
      "  warnings.warn(\n",
      "C:\\Users\\debar\\anaconda3\\envs\\py39\\lib\\site-packages\\sklearn\\base.py:493: UserWarning: X does not have valid feature names, but StandardScaler was fitted with feature names\n",
      "  warnings.warn(\n",
      "C:\\Users\\debar\\anaconda3\\envs\\py39\\lib\\site-packages\\sklearn\\base.py:493: UserWarning: X does not have valid feature names, but StandardScaler was fitted with feature names\n",
      "  warnings.warn(\n"
     ]
    },
    {
     "name": "stdout",
     "output_type": "stream",
     "text": [
      "Gratitude [0.4 0.3 0.3]\n",
      "Gratitude [0.4 0.3 0.3]\n"
     ]
    },
    {
     "name": "stderr",
     "output_type": "stream",
     "text": [
      "C:\\Users\\debar\\anaconda3\\envs\\py39\\lib\\site-packages\\sklearn\\base.py:493: UserWarning: X does not have valid feature names, but StandardScaler was fitted with feature names\n",
      "  warnings.warn(\n",
      "C:\\Users\\debar\\anaconda3\\envs\\py39\\lib\\site-packages\\sklearn\\base.py:493: UserWarning: X does not have valid feature names, but StandardScaler was fitted with feature names\n",
      "  warnings.warn(\n",
      "C:\\Users\\debar\\anaconda3\\envs\\py39\\lib\\site-packages\\sklearn\\base.py:493: UserWarning: X does not have valid feature names, but StandardScaler was fitted with feature names\n",
      "  warnings.warn(\n",
      "C:\\Users\\debar\\anaconda3\\envs\\py39\\lib\\site-packages\\sklearn\\base.py:493: UserWarning: X does not have valid feature names, but StandardScaler was fitted with feature names\n",
      "  warnings.warn(\n"
     ]
    },
    {
     "name": "stdout",
     "output_type": "stream",
     "text": [
      "Gratitude [0.45 0.25 0.3 ]\n",
      "Gratitude [0.46 0.25 0.29]\n"
     ]
    },
    {
     "name": "stderr",
     "output_type": "stream",
     "text": [
      "C:\\Users\\debar\\anaconda3\\envs\\py39\\lib\\site-packages\\sklearn\\base.py:493: UserWarning: X does not have valid feature names, but StandardScaler was fitted with feature names\n",
      "  warnings.warn(\n",
      "C:\\Users\\debar\\anaconda3\\envs\\py39\\lib\\site-packages\\sklearn\\base.py:493: UserWarning: X does not have valid feature names, but StandardScaler was fitted with feature names\n",
      "  warnings.warn(\n",
      "C:\\Users\\debar\\anaconda3\\envs\\py39\\lib\\site-packages\\sklearn\\base.py:493: UserWarning: X does not have valid feature names, but StandardScaler was fitted with feature names\n",
      "  warnings.warn(\n",
      "C:\\Users\\debar\\anaconda3\\envs\\py39\\lib\\site-packages\\sklearn\\base.py:493: UserWarning: X does not have valid feature names, but StandardScaler was fitted with feature names\n",
      "  warnings.warn(\n",
      "C:\\Users\\debar\\anaconda3\\envs\\py39\\lib\\site-packages\\sklearn\\base.py:493: UserWarning: X does not have valid feature names, but StandardScaler was fitted with feature names\n",
      "  warnings.warn(\n"
     ]
    },
    {
     "name": "stdout",
     "output_type": "stream",
     "text": [
      "Gratitude [0.52 0.2  0.28]\n",
      "Gratitude [0.5  0.22 0.28]\n"
     ]
    },
    {
     "name": "stderr",
     "output_type": "stream",
     "text": [
      "C:\\Users\\debar\\anaconda3\\envs\\py39\\lib\\site-packages\\sklearn\\base.py:493: UserWarning: X does not have valid feature names, but StandardScaler was fitted with feature names\n",
      "  warnings.warn(\n",
      "C:\\Users\\debar\\anaconda3\\envs\\py39\\lib\\site-packages\\sklearn\\base.py:493: UserWarning: X does not have valid feature names, but StandardScaler was fitted with feature names\n",
      "  warnings.warn(\n",
      "C:\\Users\\debar\\anaconda3\\envs\\py39\\lib\\site-packages\\sklearn\\base.py:493: UserWarning: X does not have valid feature names, but StandardScaler was fitted with feature names\n",
      "  warnings.warn(\n"
     ]
    },
    {
     "name": "stdout",
     "output_type": "stream",
     "text": [
      "Gratitude [0.38 0.32 0.3 ]\n",
      "Gratitude [0.35 0.34 0.31]\n"
     ]
    },
    {
     "name": "stderr",
     "output_type": "stream",
     "text": [
      "C:\\Users\\debar\\anaconda3\\envs\\py39\\lib\\site-packages\\sklearn\\base.py:493: UserWarning: X does not have valid feature names, but StandardScaler was fitted with feature names\n",
      "  warnings.warn(\n",
      "C:\\Users\\debar\\anaconda3\\envs\\py39\\lib\\site-packages\\sklearn\\base.py:493: UserWarning: X does not have valid feature names, but StandardScaler was fitted with feature names\n",
      "  warnings.warn(\n",
      "C:\\Users\\debar\\anaconda3\\envs\\py39\\lib\\site-packages\\sklearn\\base.py:493: UserWarning: X does not have valid feature names, but StandardScaler was fitted with feature names\n",
      "  warnings.warn(\n",
      "C:\\Users\\debar\\anaconda3\\envs\\py39\\lib\\site-packages\\sklearn\\base.py:493: UserWarning: X does not have valid feature names, but StandardScaler was fitted with feature names\n",
      "  warnings.warn(\n"
     ]
    },
    {
     "name": "stdout",
     "output_type": "stream",
     "text": [
      "Happy [0.34 0.35 0.31]\n",
      "Sad [0. 0. 1.]\n"
     ]
    },
    {
     "name": "stderr",
     "output_type": "stream",
     "text": [
      "C:\\Users\\debar\\anaconda3\\envs\\py39\\lib\\site-packages\\sklearn\\base.py:493: UserWarning: X does not have valid feature names, but StandardScaler was fitted with feature names\n",
      "  warnings.warn(\n",
      "C:\\Users\\debar\\anaconda3\\envs\\py39\\lib\\site-packages\\sklearn\\base.py:493: UserWarning: X does not have valid feature names, but StandardScaler was fitted with feature names\n",
      "  warnings.warn(\n",
      "C:\\Users\\debar\\anaconda3\\envs\\py39\\lib\\site-packages\\sklearn\\base.py:493: UserWarning: X does not have valid feature names, but StandardScaler was fitted with feature names\n",
      "  warnings.warn(\n",
      "C:\\Users\\debar\\anaconda3\\envs\\py39\\lib\\site-packages\\sklearn\\base.py:493: UserWarning: X does not have valid feature names, but StandardScaler was fitted with feature names\n",
      "  warnings.warn(\n"
     ]
    },
    {
     "name": "stdout",
     "output_type": "stream",
     "text": [
      "Sad [0.   0.01 0.99]\n",
      "Sad [0.07 0.1  0.83]\n"
     ]
    },
    {
     "name": "stderr",
     "output_type": "stream",
     "text": [
      "C:\\Users\\debar\\anaconda3\\envs\\py39\\lib\\site-packages\\sklearn\\base.py:493: UserWarning: X does not have valid feature names, but StandardScaler was fitted with feature names\n",
      "  warnings.warn(\n",
      "C:\\Users\\debar\\anaconda3\\envs\\py39\\lib\\site-packages\\sklearn\\base.py:493: UserWarning: X does not have valid feature names, but StandardScaler was fitted with feature names\n",
      "  warnings.warn(\n",
      "C:\\Users\\debar\\anaconda3\\envs\\py39\\lib\\site-packages\\sklearn\\base.py:493: UserWarning: X does not have valid feature names, but StandardScaler was fitted with feature names\n",
      "  warnings.warn(\n",
      "C:\\Users\\debar\\anaconda3\\envs\\py39\\lib\\site-packages\\sklearn\\base.py:493: UserWarning: X does not have valid feature names, but StandardScaler was fitted with feature names\n",
      "  warnings.warn(\n"
     ]
    },
    {
     "name": "stdout",
     "output_type": "stream",
     "text": [
      "Sad [0.27 0.29 0.44]\n",
      "Happy [0.35 0.36 0.29]\n"
     ]
    },
    {
     "name": "stderr",
     "output_type": "stream",
     "text": [
      "C:\\Users\\debar\\anaconda3\\envs\\py39\\lib\\site-packages\\sklearn\\base.py:493: UserWarning: X does not have valid feature names, but StandardScaler was fitted with feature names\n",
      "  warnings.warn(\n",
      "C:\\Users\\debar\\anaconda3\\envs\\py39\\lib\\site-packages\\sklearn\\base.py:493: UserWarning: X does not have valid feature names, but StandardScaler was fitted with feature names\n",
      "  warnings.warn(\n",
      "C:\\Users\\debar\\anaconda3\\envs\\py39\\lib\\site-packages\\sklearn\\base.py:493: UserWarning: X does not have valid feature names, but StandardScaler was fitted with feature names\n",
      "  warnings.warn(\n",
      "C:\\Users\\debar\\anaconda3\\envs\\py39\\lib\\site-packages\\sklearn\\base.py:493: UserWarning: X does not have valid feature names, but StandardScaler was fitted with feature names\n",
      "  warnings.warn(\n"
     ]
    },
    {
     "name": "stdout",
     "output_type": "stream",
     "text": [
      "Happy [0.35 0.39 0.26]\n",
      "Happy [0.38 0.44 0.18]\n"
     ]
    },
    {
     "name": "stderr",
     "output_type": "stream",
     "text": [
      "C:\\Users\\debar\\anaconda3\\envs\\py39\\lib\\site-packages\\sklearn\\base.py:493: UserWarning: X does not have valid feature names, but StandardScaler was fitted with feature names\n",
      "  warnings.warn(\n",
      "C:\\Users\\debar\\anaconda3\\envs\\py39\\lib\\site-packages\\sklearn\\base.py:493: UserWarning: X does not have valid feature names, but StandardScaler was fitted with feature names\n",
      "  warnings.warn(\n",
      "C:\\Users\\debar\\anaconda3\\envs\\py39\\lib\\site-packages\\sklearn\\base.py:493: UserWarning: X does not have valid feature names, but StandardScaler was fitted with feature names\n",
      "  warnings.warn(\n",
      "C:\\Users\\debar\\anaconda3\\envs\\py39\\lib\\site-packages\\sklearn\\base.py:493: UserWarning: X does not have valid feature names, but StandardScaler was fitted with feature names\n",
      "  warnings.warn(\n"
     ]
    },
    {
     "name": "stdout",
     "output_type": "stream",
     "text": [
      "Gratitude [0.44 0.4  0.16]\n",
      "Gratitude [0.43 0.43 0.14]\n"
     ]
    },
    {
     "name": "stderr",
     "output_type": "stream",
     "text": [
      "C:\\Users\\debar\\anaconda3\\envs\\py39\\lib\\site-packages\\sklearn\\base.py:493: UserWarning: X does not have valid feature names, but StandardScaler was fitted with feature names\n",
      "  warnings.warn(\n",
      "C:\\Users\\debar\\anaconda3\\envs\\py39\\lib\\site-packages\\sklearn\\base.py:493: UserWarning: X does not have valid feature names, but StandardScaler was fitted with feature names\n",
      "  warnings.warn(\n",
      "C:\\Users\\debar\\anaconda3\\envs\\py39\\lib\\site-packages\\sklearn\\base.py:493: UserWarning: X does not have valid feature names, but StandardScaler was fitted with feature names\n",
      "  warnings.warn(\n",
      "C:\\Users\\debar\\anaconda3\\envs\\py39\\lib\\site-packages\\sklearn\\base.py:493: UserWarning: X does not have valid feature names, but StandardScaler was fitted with feature names\n",
      "  warnings.warn(\n"
     ]
    },
    {
     "name": "stdout",
     "output_type": "stream",
     "text": [
      "Gratitude [0.45 0.41 0.14]\n",
      "Gratitude [0.45 0.41 0.14]\n"
     ]
    },
    {
     "name": "stderr",
     "output_type": "stream",
     "text": [
      "C:\\Users\\debar\\anaconda3\\envs\\py39\\lib\\site-packages\\sklearn\\base.py:493: UserWarning: X does not have valid feature names, but StandardScaler was fitted with feature names\n",
      "  warnings.warn(\n",
      "C:\\Users\\debar\\anaconda3\\envs\\py39\\lib\\site-packages\\sklearn\\base.py:493: UserWarning: X does not have valid feature names, but StandardScaler was fitted with feature names\n",
      "  warnings.warn(\n",
      "C:\\Users\\debar\\anaconda3\\envs\\py39\\lib\\site-packages\\sklearn\\base.py:493: UserWarning: X does not have valid feature names, but StandardScaler was fitted with feature names\n",
      "  warnings.warn(\n",
      "C:\\Users\\debar\\anaconda3\\envs\\py39\\lib\\site-packages\\sklearn\\base.py:493: UserWarning: X does not have valid feature names, but StandardScaler was fitted with feature names\n",
      "  warnings.warn(\n"
     ]
    },
    {
     "name": "stdout",
     "output_type": "stream",
     "text": [
      "Gratitude [0.44 0.44 0.12]\n",
      "Happy [0.38 0.5  0.12]\n"
     ]
    },
    {
     "name": "stderr",
     "output_type": "stream",
     "text": [
      "C:\\Users\\debar\\anaconda3\\envs\\py39\\lib\\site-packages\\sklearn\\base.py:493: UserWarning: X does not have valid feature names, but StandardScaler was fitted with feature names\n",
      "  warnings.warn(\n",
      "C:\\Users\\debar\\anaconda3\\envs\\py39\\lib\\site-packages\\sklearn\\base.py:493: UserWarning: X does not have valid feature names, but StandardScaler was fitted with feature names\n",
      "  warnings.warn(\n",
      "C:\\Users\\debar\\anaconda3\\envs\\py39\\lib\\site-packages\\sklearn\\base.py:493: UserWarning: X does not have valid feature names, but StandardScaler was fitted with feature names\n",
      "  warnings.warn(\n",
      "C:\\Users\\debar\\anaconda3\\envs\\py39\\lib\\site-packages\\sklearn\\base.py:493: UserWarning: X does not have valid feature names, but StandardScaler was fitted with feature names\n",
      "  warnings.warn(\n"
     ]
    },
    {
     "name": "stdout",
     "output_type": "stream",
     "text": [
      "Happy [0.33 0.55 0.12]\n",
      "Happy [0.32 0.56 0.12]\n"
     ]
    },
    {
     "name": "stderr",
     "output_type": "stream",
     "text": [
      "C:\\Users\\debar\\anaconda3\\envs\\py39\\lib\\site-packages\\sklearn\\base.py:493: UserWarning: X does not have valid feature names, but StandardScaler was fitted with feature names\n",
      "  warnings.warn(\n",
      "C:\\Users\\debar\\anaconda3\\envs\\py39\\lib\\site-packages\\sklearn\\base.py:493: UserWarning: X does not have valid feature names, but StandardScaler was fitted with feature names\n",
      "  warnings.warn(\n",
      "C:\\Users\\debar\\anaconda3\\envs\\py39\\lib\\site-packages\\sklearn\\base.py:493: UserWarning: X does not have valid feature names, but StandardScaler was fitted with feature names\n",
      "  warnings.warn(\n",
      "C:\\Users\\debar\\anaconda3\\envs\\py39\\lib\\site-packages\\sklearn\\base.py:493: UserWarning: X does not have valid feature names, but StandardScaler was fitted with feature names\n",
      "  warnings.warn(\n"
     ]
    },
    {
     "name": "stdout",
     "output_type": "stream",
     "text": [
      "Happy [0.27 0.61 0.12]\n",
      "Happy [0.31 0.57 0.12]\n"
     ]
    },
    {
     "name": "stderr",
     "output_type": "stream",
     "text": [
      "C:\\Users\\debar\\anaconda3\\envs\\py39\\lib\\site-packages\\sklearn\\base.py:493: UserWarning: X does not have valid feature names, but StandardScaler was fitted with feature names\n",
      "  warnings.warn(\n",
      "C:\\Users\\debar\\anaconda3\\envs\\py39\\lib\\site-packages\\sklearn\\base.py:493: UserWarning: X does not have valid feature names, but StandardScaler was fitted with feature names\n",
      "  warnings.warn(\n",
      "C:\\Users\\debar\\anaconda3\\envs\\py39\\lib\\site-packages\\sklearn\\base.py:493: UserWarning: X does not have valid feature names, but StandardScaler was fitted with feature names\n",
      "  warnings.warn(\n",
      "C:\\Users\\debar\\anaconda3\\envs\\py39\\lib\\site-packages\\sklearn\\base.py:493: UserWarning: X does not have valid feature names, but StandardScaler was fitted with feature names\n",
      "  warnings.warn(\n"
     ]
    },
    {
     "name": "stdout",
     "output_type": "stream",
     "text": [
      "Happy [0.32 0.56 0.12]\n",
      "Happy [0.33 0.55 0.12]\n"
     ]
    },
    {
     "name": "stderr",
     "output_type": "stream",
     "text": [
      "C:\\Users\\debar\\anaconda3\\envs\\py39\\lib\\site-packages\\sklearn\\base.py:493: UserWarning: X does not have valid feature names, but StandardScaler was fitted with feature names\n",
      "  warnings.warn(\n",
      "C:\\Users\\debar\\anaconda3\\envs\\py39\\lib\\site-packages\\sklearn\\base.py:493: UserWarning: X does not have valid feature names, but StandardScaler was fitted with feature names\n",
      "  warnings.warn(\n",
      "C:\\Users\\debar\\anaconda3\\envs\\py39\\lib\\site-packages\\sklearn\\base.py:493: UserWarning: X does not have valid feature names, but StandardScaler was fitted with feature names\n",
      "  warnings.warn(\n",
      "C:\\Users\\debar\\anaconda3\\envs\\py39\\lib\\site-packages\\sklearn\\base.py:493: UserWarning: X does not have valid feature names, but StandardScaler was fitted with feature names\n",
      "  warnings.warn(\n"
     ]
    },
    {
     "name": "stdout",
     "output_type": "stream",
     "text": [
      "Happy [0.27 0.61 0.12]\n",
      "Happy [0.32 0.56 0.12]\n"
     ]
    },
    {
     "name": "stderr",
     "output_type": "stream",
     "text": [
      "C:\\Users\\debar\\anaconda3\\envs\\py39\\lib\\site-packages\\sklearn\\base.py:493: UserWarning: X does not have valid feature names, but StandardScaler was fitted with feature names\n",
      "  warnings.warn(\n",
      "C:\\Users\\debar\\anaconda3\\envs\\py39\\lib\\site-packages\\sklearn\\base.py:493: UserWarning: X does not have valid feature names, but StandardScaler was fitted with feature names\n",
      "  warnings.warn(\n",
      "C:\\Users\\debar\\anaconda3\\envs\\py39\\lib\\site-packages\\sklearn\\base.py:493: UserWarning: X does not have valid feature names, but StandardScaler was fitted with feature names\n",
      "  warnings.warn(\n",
      "C:\\Users\\debar\\anaconda3\\envs\\py39\\lib\\site-packages\\sklearn\\base.py:493: UserWarning: X does not have valid feature names, but StandardScaler was fitted with feature names\n",
      "  warnings.warn(\n"
     ]
    },
    {
     "name": "stdout",
     "output_type": "stream",
     "text": [
      "Happy [0.3  0.58 0.12]\n",
      "Happy [0.32 0.56 0.12]\n"
     ]
    },
    {
     "name": "stderr",
     "output_type": "stream",
     "text": [
      "C:\\Users\\debar\\anaconda3\\envs\\py39\\lib\\site-packages\\sklearn\\base.py:493: UserWarning: X does not have valid feature names, but StandardScaler was fitted with feature names\n",
      "  warnings.warn(\n",
      "C:\\Users\\debar\\anaconda3\\envs\\py39\\lib\\site-packages\\sklearn\\base.py:493: UserWarning: X does not have valid feature names, but StandardScaler was fitted with feature names\n",
      "  warnings.warn(\n",
      "C:\\Users\\debar\\anaconda3\\envs\\py39\\lib\\site-packages\\sklearn\\base.py:493: UserWarning: X does not have valid feature names, but StandardScaler was fitted with feature names\n",
      "  warnings.warn(\n",
      "C:\\Users\\debar\\anaconda3\\envs\\py39\\lib\\site-packages\\sklearn\\base.py:493: UserWarning: X does not have valid feature names, but StandardScaler was fitted with feature names\n",
      "  warnings.warn(\n"
     ]
    },
    {
     "name": "stdout",
     "output_type": "stream",
     "text": [
      "Happy [0.38 0.5  0.12]\n",
      "Happy [0.39 0.5  0.11]\n"
     ]
    },
    {
     "name": "stderr",
     "output_type": "stream",
     "text": [
      "C:\\Users\\debar\\anaconda3\\envs\\py39\\lib\\site-packages\\sklearn\\base.py:493: UserWarning: X does not have valid feature names, but StandardScaler was fitted with feature names\n",
      "  warnings.warn(\n",
      "C:\\Users\\debar\\anaconda3\\envs\\py39\\lib\\site-packages\\sklearn\\base.py:493: UserWarning: X does not have valid feature names, but StandardScaler was fitted with feature names\n",
      "  warnings.warn(\n",
      "C:\\Users\\debar\\anaconda3\\envs\\py39\\lib\\site-packages\\sklearn\\base.py:493: UserWarning: X does not have valid feature names, but StandardScaler was fitted with feature names\n",
      "  warnings.warn(\n",
      "C:\\Users\\debar\\anaconda3\\envs\\py39\\lib\\site-packages\\sklearn\\base.py:493: UserWarning: X does not have valid feature names, but StandardScaler was fitted with feature names\n",
      "  warnings.warn(\n"
     ]
    },
    {
     "name": "stdout",
     "output_type": "stream",
     "text": [
      "Happy [0.39 0.5  0.11]\n",
      "Happy [0.39 0.5  0.11]\n"
     ]
    },
    {
     "name": "stderr",
     "output_type": "stream",
     "text": [
      "C:\\Users\\debar\\anaconda3\\envs\\py39\\lib\\site-packages\\sklearn\\base.py:493: UserWarning: X does not have valid feature names, but StandardScaler was fitted with feature names\n",
      "  warnings.warn(\n",
      "C:\\Users\\debar\\anaconda3\\envs\\py39\\lib\\site-packages\\sklearn\\base.py:493: UserWarning: X does not have valid feature names, but StandardScaler was fitted with feature names\n",
      "  warnings.warn(\n",
      "C:\\Users\\debar\\anaconda3\\envs\\py39\\lib\\site-packages\\sklearn\\base.py:493: UserWarning: X does not have valid feature names, but StandardScaler was fitted with feature names\n",
      "  warnings.warn(\n",
      "C:\\Users\\debar\\anaconda3\\envs\\py39\\lib\\site-packages\\sklearn\\base.py:493: UserWarning: X does not have valid feature names, but StandardScaler was fitted with feature names\n",
      "  warnings.warn(\n"
     ]
    },
    {
     "name": "stdout",
     "output_type": "stream",
     "text": [
      "Happy [0.31 0.58 0.11]\n",
      "Happy [0.35 0.55 0.1 ]\n"
     ]
    },
    {
     "name": "stderr",
     "output_type": "stream",
     "text": [
      "C:\\Users\\debar\\anaconda3\\envs\\py39\\lib\\site-packages\\sklearn\\base.py:493: UserWarning: X does not have valid feature names, but StandardScaler was fitted with feature names\n",
      "  warnings.warn(\n",
      "C:\\Users\\debar\\anaconda3\\envs\\py39\\lib\\site-packages\\sklearn\\base.py:493: UserWarning: X does not have valid feature names, but StandardScaler was fitted with feature names\n",
      "  warnings.warn(\n",
      "C:\\Users\\debar\\anaconda3\\envs\\py39\\lib\\site-packages\\sklearn\\base.py:493: UserWarning: X does not have valid feature names, but StandardScaler was fitted with feature names\n",
      "  warnings.warn(\n",
      "C:\\Users\\debar\\anaconda3\\envs\\py39\\lib\\site-packages\\sklearn\\base.py:493: UserWarning: X does not have valid feature names, but StandardScaler was fitted with feature names\n",
      "  warnings.warn(\n"
     ]
    },
    {
     "name": "stdout",
     "output_type": "stream",
     "text": [
      "Gratitude [0.53 0.36 0.11]\n",
      "Gratitude [0.48 0.4  0.12]\n"
     ]
    },
    {
     "name": "stderr",
     "output_type": "stream",
     "text": [
      "C:\\Users\\debar\\anaconda3\\envs\\py39\\lib\\site-packages\\sklearn\\base.py:493: UserWarning: X does not have valid feature names, but StandardScaler was fitted with feature names\n",
      "  warnings.warn(\n",
      "C:\\Users\\debar\\anaconda3\\envs\\py39\\lib\\site-packages\\sklearn\\base.py:493: UserWarning: X does not have valid feature names, but StandardScaler was fitted with feature names\n",
      "  warnings.warn(\n",
      "C:\\Users\\debar\\anaconda3\\envs\\py39\\lib\\site-packages\\sklearn\\base.py:493: UserWarning: X does not have valid feature names, but StandardScaler was fitted with feature names\n",
      "  warnings.warn(\n",
      "C:\\Users\\debar\\anaconda3\\envs\\py39\\lib\\site-packages\\sklearn\\base.py:493: UserWarning: X does not have valid feature names, but StandardScaler was fitted with feature names\n",
      "  warnings.warn(\n"
     ]
    },
    {
     "name": "stdout",
     "output_type": "stream",
     "text": [
      "Gratitude [0.51 0.37 0.12]\n",
      "Gratitude [0.51 0.37 0.12]\n"
     ]
    },
    {
     "name": "stderr",
     "output_type": "stream",
     "text": [
      "C:\\Users\\debar\\anaconda3\\envs\\py39\\lib\\site-packages\\sklearn\\base.py:493: UserWarning: X does not have valid feature names, but StandardScaler was fitted with feature names\n",
      "  warnings.warn(\n",
      "C:\\Users\\debar\\anaconda3\\envs\\py39\\lib\\site-packages\\sklearn\\base.py:493: UserWarning: X does not have valid feature names, but StandardScaler was fitted with feature names\n",
      "  warnings.warn(\n",
      "C:\\Users\\debar\\anaconda3\\envs\\py39\\lib\\site-packages\\sklearn\\base.py:493: UserWarning: X does not have valid feature names, but StandardScaler was fitted with feature names\n",
      "  warnings.warn(\n",
      "C:\\Users\\debar\\anaconda3\\envs\\py39\\lib\\site-packages\\sklearn\\base.py:493: UserWarning: X does not have valid feature names, but StandardScaler was fitted with feature names\n",
      "  warnings.warn(\n"
     ]
    },
    {
     "name": "stdout",
     "output_type": "stream",
     "text": [
      "Gratitude [0.48 0.4  0.12]\n",
      "Gratitude [0.54 0.34 0.12]\n"
     ]
    },
    {
     "name": "stderr",
     "output_type": "stream",
     "text": [
      "C:\\Users\\debar\\anaconda3\\envs\\py39\\lib\\site-packages\\sklearn\\base.py:493: UserWarning: X does not have valid feature names, but StandardScaler was fitted with feature names\n",
      "  warnings.warn(\n",
      "C:\\Users\\debar\\anaconda3\\envs\\py39\\lib\\site-packages\\sklearn\\base.py:493: UserWarning: X does not have valid feature names, but StandardScaler was fitted with feature names\n",
      "  warnings.warn(\n",
      "C:\\Users\\debar\\anaconda3\\envs\\py39\\lib\\site-packages\\sklearn\\base.py:493: UserWarning: X does not have valid feature names, but StandardScaler was fitted with feature names\n",
      "  warnings.warn(\n",
      "C:\\Users\\debar\\anaconda3\\envs\\py39\\lib\\site-packages\\sklearn\\base.py:493: UserWarning: X does not have valid feature names, but StandardScaler was fitted with feature names\n",
      "  warnings.warn(\n"
     ]
    },
    {
     "name": "stdout",
     "output_type": "stream",
     "text": [
      "Gratitude [0.55 0.33 0.12]\n",
      "Gratitude [0.6  0.28 0.12]\n"
     ]
    },
    {
     "name": "stderr",
     "output_type": "stream",
     "text": [
      "C:\\Users\\debar\\anaconda3\\envs\\py39\\lib\\site-packages\\sklearn\\base.py:493: UserWarning: X does not have valid feature names, but StandardScaler was fitted with feature names\n",
      "  warnings.warn(\n",
      "C:\\Users\\debar\\anaconda3\\envs\\py39\\lib\\site-packages\\sklearn\\base.py:493: UserWarning: X does not have valid feature names, but StandardScaler was fitted with feature names\n",
      "  warnings.warn(\n",
      "C:\\Users\\debar\\anaconda3\\envs\\py39\\lib\\site-packages\\sklearn\\base.py:493: UserWarning: X does not have valid feature names, but StandardScaler was fitted with feature names\n",
      "  warnings.warn(\n",
      "C:\\Users\\debar\\anaconda3\\envs\\py39\\lib\\site-packages\\sklearn\\base.py:493: UserWarning: X does not have valid feature names, but StandardScaler was fitted with feature names\n",
      "  warnings.warn(\n"
     ]
    },
    {
     "name": "stdout",
     "output_type": "stream",
     "text": [
      "Gratitude [0.51 0.37 0.12]\n",
      "Gratitude [0.46 0.42 0.12]\n"
     ]
    },
    {
     "name": "stderr",
     "output_type": "stream",
     "text": [
      "C:\\Users\\debar\\anaconda3\\envs\\py39\\lib\\site-packages\\sklearn\\base.py:493: UserWarning: X does not have valid feature names, but StandardScaler was fitted with feature names\n",
      "  warnings.warn(\n",
      "C:\\Users\\debar\\anaconda3\\envs\\py39\\lib\\site-packages\\sklearn\\base.py:493: UserWarning: X does not have valid feature names, but StandardScaler was fitted with feature names\n",
      "  warnings.warn(\n",
      "C:\\Users\\debar\\anaconda3\\envs\\py39\\lib\\site-packages\\sklearn\\base.py:493: UserWarning: X does not have valid feature names, but StandardScaler was fitted with feature names\n",
      "  warnings.warn(\n",
      "C:\\Users\\debar\\anaconda3\\envs\\py39\\lib\\site-packages\\sklearn\\base.py:493: UserWarning: X does not have valid feature names, but StandardScaler was fitted with feature names\n",
      "  warnings.warn(\n"
     ]
    },
    {
     "name": "stdout",
     "output_type": "stream",
     "text": [
      "Gratitude [0.56 0.32 0.12]\n",
      "Gratitude [0.51 0.37 0.12]\n"
     ]
    },
    {
     "name": "stderr",
     "output_type": "stream",
     "text": [
      "C:\\Users\\debar\\anaconda3\\envs\\py39\\lib\\site-packages\\sklearn\\base.py:493: UserWarning: X does not have valid feature names, but StandardScaler was fitted with feature names\n",
      "  warnings.warn(\n",
      "C:\\Users\\debar\\anaconda3\\envs\\py39\\lib\\site-packages\\sklearn\\base.py:493: UserWarning: X does not have valid feature names, but StandardScaler was fitted with feature names\n",
      "  warnings.warn(\n",
      "C:\\Users\\debar\\anaconda3\\envs\\py39\\lib\\site-packages\\sklearn\\base.py:493: UserWarning: X does not have valid feature names, but StandardScaler was fitted with feature names\n",
      "  warnings.warn(\n",
      "C:\\Users\\debar\\anaconda3\\envs\\py39\\lib\\site-packages\\sklearn\\base.py:493: UserWarning: X does not have valid feature names, but StandardScaler was fitted with feature names\n",
      "  warnings.warn(\n"
     ]
    },
    {
     "name": "stdout",
     "output_type": "stream",
     "text": [
      "Gratitude [0.67 0.21 0.12]\n",
      "Gratitude [0.75 0.13 0.12]\n"
     ]
    },
    {
     "name": "stderr",
     "output_type": "stream",
     "text": [
      "C:\\Users\\debar\\anaconda3\\envs\\py39\\lib\\site-packages\\sklearn\\base.py:493: UserWarning: X does not have valid feature names, but StandardScaler was fitted with feature names\n",
      "  warnings.warn(\n",
      "C:\\Users\\debar\\anaconda3\\envs\\py39\\lib\\site-packages\\sklearn\\base.py:493: UserWarning: X does not have valid feature names, but StandardScaler was fitted with feature names\n",
      "  warnings.warn(\n",
      "C:\\Users\\debar\\anaconda3\\envs\\py39\\lib\\site-packages\\sklearn\\base.py:493: UserWarning: X does not have valid feature names, but StandardScaler was fitted with feature names\n",
      "  warnings.warn(\n",
      "C:\\Users\\debar\\anaconda3\\envs\\py39\\lib\\site-packages\\sklearn\\base.py:493: UserWarning: X does not have valid feature names, but StandardScaler was fitted with feature names\n",
      "  warnings.warn(\n"
     ]
    },
    {
     "name": "stdout",
     "output_type": "stream",
     "text": [
      "Gratitude [0.75 0.14 0.11]\n",
      "Gratitude [0.74 0.15 0.11]\n"
     ]
    },
    {
     "name": "stderr",
     "output_type": "stream",
     "text": [
      "C:\\Users\\debar\\anaconda3\\envs\\py39\\lib\\site-packages\\sklearn\\base.py:493: UserWarning: X does not have valid feature names, but StandardScaler was fitted with feature names\n",
      "  warnings.warn(\n",
      "C:\\Users\\debar\\anaconda3\\envs\\py39\\lib\\site-packages\\sklearn\\base.py:493: UserWarning: X does not have valid feature names, but StandardScaler was fitted with feature names\n",
      "  warnings.warn(\n",
      "C:\\Users\\debar\\anaconda3\\envs\\py39\\lib\\site-packages\\sklearn\\base.py:493: UserWarning: X does not have valid feature names, but StandardScaler was fitted with feature names\n",
      "  warnings.warn(\n",
      "C:\\Users\\debar\\anaconda3\\envs\\py39\\lib\\site-packages\\sklearn\\base.py:493: UserWarning: X does not have valid feature names, but StandardScaler was fitted with feature names\n",
      "  warnings.warn(\n"
     ]
    },
    {
     "name": "stdout",
     "output_type": "stream",
     "text": [
      "Gratitude [0.81 0.18 0.01]\n",
      "Gratitude [0.79 0.21 0.  ]\n"
     ]
    },
    {
     "name": "stderr",
     "output_type": "stream",
     "text": [
      "C:\\Users\\debar\\anaconda3\\envs\\py39\\lib\\site-packages\\sklearn\\base.py:493: UserWarning: X does not have valid feature names, but StandardScaler was fitted with feature names\n",
      "  warnings.warn(\n",
      "C:\\Users\\debar\\anaconda3\\envs\\py39\\lib\\site-packages\\sklearn\\base.py:493: UserWarning: X does not have valid feature names, but StandardScaler was fitted with feature names\n",
      "  warnings.warn(\n",
      "C:\\Users\\debar\\anaconda3\\envs\\py39\\lib\\site-packages\\sklearn\\base.py:493: UserWarning: X does not have valid feature names, but StandardScaler was fitted with feature names\n",
      "  warnings.warn(\n",
      "C:\\Users\\debar\\anaconda3\\envs\\py39\\lib\\site-packages\\sklearn\\base.py:493: UserWarning: X does not have valid feature names, but StandardScaler was fitted with feature names\n",
      "  warnings.warn(\n"
     ]
    },
    {
     "name": "stdout",
     "output_type": "stream",
     "text": [
      "Gratitude [0.73 0.27 0.  ]\n",
      "Gratitude [0.58 0.42 0.  ]\n"
     ]
    },
    {
     "name": "stderr",
     "output_type": "stream",
     "text": [
      "C:\\Users\\debar\\anaconda3\\envs\\py39\\lib\\site-packages\\sklearn\\base.py:493: UserWarning: X does not have valid feature names, but StandardScaler was fitted with feature names\n",
      "  warnings.warn(\n",
      "C:\\Users\\debar\\anaconda3\\envs\\py39\\lib\\site-packages\\sklearn\\base.py:493: UserWarning: X does not have valid feature names, but StandardScaler was fitted with feature names\n",
      "  warnings.warn(\n",
      "C:\\Users\\debar\\anaconda3\\envs\\py39\\lib\\site-packages\\sklearn\\base.py:493: UserWarning: X does not have valid feature names, but StandardScaler was fitted with feature names\n",
      "  warnings.warn(\n",
      "C:\\Users\\debar\\anaconda3\\envs\\py39\\lib\\site-packages\\sklearn\\base.py:493: UserWarning: X does not have valid feature names, but StandardScaler was fitted with feature names\n",
      "  warnings.warn(\n"
     ]
    },
    {
     "name": "stdout",
     "output_type": "stream",
     "text": [
      "Happy [0.38 0.62 0.  ]\n",
      "Happy [0.48 0.52 0.  ]\n"
     ]
    },
    {
     "name": "stderr",
     "output_type": "stream",
     "text": [
      "C:\\Users\\debar\\anaconda3\\envs\\py39\\lib\\site-packages\\sklearn\\base.py:493: UserWarning: X does not have valid feature names, but StandardScaler was fitted with feature names\n",
      "  warnings.warn(\n",
      "C:\\Users\\debar\\anaconda3\\envs\\py39\\lib\\site-packages\\sklearn\\base.py:493: UserWarning: X does not have valid feature names, but StandardScaler was fitted with feature names\n",
      "  warnings.warn(\n",
      "C:\\Users\\debar\\anaconda3\\envs\\py39\\lib\\site-packages\\sklearn\\base.py:493: UserWarning: X does not have valid feature names, but StandardScaler was fitted with feature names\n",
      "  warnings.warn(\n",
      "C:\\Users\\debar\\anaconda3\\envs\\py39\\lib\\site-packages\\sklearn\\base.py:493: UserWarning: X does not have valid feature names, but StandardScaler was fitted with feature names\n",
      "  warnings.warn(\n"
     ]
    },
    {
     "name": "stdout",
     "output_type": "stream",
     "text": [
      "Gratitude [0.5  0.44 0.06]\n",
      "Gratitude [0.45 0.43 0.12]\n"
     ]
    },
    {
     "name": "stderr",
     "output_type": "stream",
     "text": [
      "C:\\Users\\debar\\anaconda3\\envs\\py39\\lib\\site-packages\\sklearn\\base.py:493: UserWarning: X does not have valid feature names, but StandardScaler was fitted with feature names\n",
      "  warnings.warn(\n",
      "C:\\Users\\debar\\anaconda3\\envs\\py39\\lib\\site-packages\\sklearn\\base.py:493: UserWarning: X does not have valid feature names, but StandardScaler was fitted with feature names\n",
      "  warnings.warn(\n",
      "C:\\Users\\debar\\anaconda3\\envs\\py39\\lib\\site-packages\\sklearn\\base.py:493: UserWarning: X does not have valid feature names, but StandardScaler was fitted with feature names\n",
      "  warnings.warn(\n",
      "C:\\Users\\debar\\anaconda3\\envs\\py39\\lib\\site-packages\\sklearn\\base.py:493: UserWarning: X does not have valid feature names, but StandardScaler was fitted with feature names\n",
      "  warnings.warn(\n"
     ]
    },
    {
     "name": "stdout",
     "output_type": "stream",
     "text": [
      "Sad [0.42 0.15 0.43]\n",
      "Sad [0.25 0.11 0.64]\n"
     ]
    },
    {
     "name": "stderr",
     "output_type": "stream",
     "text": [
      "C:\\Users\\debar\\anaconda3\\envs\\py39\\lib\\site-packages\\sklearn\\base.py:493: UserWarning: X does not have valid feature names, but StandardScaler was fitted with feature names\n",
      "  warnings.warn(\n",
      "C:\\Users\\debar\\anaconda3\\envs\\py39\\lib\\site-packages\\sklearn\\base.py:493: UserWarning: X does not have valid feature names, but StandardScaler was fitted with feature names\n",
      "  warnings.warn(\n",
      "C:\\Users\\debar\\anaconda3\\envs\\py39\\lib\\site-packages\\sklearn\\base.py:493: UserWarning: X does not have valid feature names, but StandardScaler was fitted with feature names\n",
      "  warnings.warn(\n",
      "C:\\Users\\debar\\anaconda3\\envs\\py39\\lib\\site-packages\\sklearn\\base.py:493: UserWarning: X does not have valid feature names, but StandardScaler was fitted with feature names\n",
      "  warnings.warn(\n"
     ]
    },
    {
     "name": "stdout",
     "output_type": "stream",
     "text": [
      "Sad [0.36 0.19 0.45]\n",
      "Gratitude [0.4  0.23 0.37]\n"
     ]
    },
    {
     "name": "stderr",
     "output_type": "stream",
     "text": [
      "C:\\Users\\debar\\anaconda3\\envs\\py39\\lib\\site-packages\\sklearn\\base.py:493: UserWarning: X does not have valid feature names, but StandardScaler was fitted with feature names\n",
      "  warnings.warn(\n",
      "C:\\Users\\debar\\anaconda3\\envs\\py39\\lib\\site-packages\\sklearn\\base.py:493: UserWarning: X does not have valid feature names, but StandardScaler was fitted with feature names\n",
      "  warnings.warn(\n",
      "C:\\Users\\debar\\anaconda3\\envs\\py39\\lib\\site-packages\\sklearn\\base.py:493: UserWarning: X does not have valid feature names, but StandardScaler was fitted with feature names\n",
      "  warnings.warn(\n",
      "C:\\Users\\debar\\anaconda3\\envs\\py39\\lib\\site-packages\\sklearn\\base.py:493: UserWarning: X does not have valid feature names, but StandardScaler was fitted with feature names\n",
      "  warnings.warn(\n"
     ]
    },
    {
     "name": "stdout",
     "output_type": "stream",
     "text": [
      "Gratitude [0.44 0.23 0.33]\n",
      "Happy [0.36 0.52 0.12]\n"
     ]
    },
    {
     "name": "stderr",
     "output_type": "stream",
     "text": [
      "C:\\Users\\debar\\anaconda3\\envs\\py39\\lib\\site-packages\\sklearn\\base.py:493: UserWarning: X does not have valid feature names, but StandardScaler was fitted with feature names\n",
      "  warnings.warn(\n",
      "C:\\Users\\debar\\anaconda3\\envs\\py39\\lib\\site-packages\\sklearn\\base.py:493: UserWarning: X does not have valid feature names, but StandardScaler was fitted with feature names\n",
      "  warnings.warn(\n",
      "C:\\Users\\debar\\anaconda3\\envs\\py39\\lib\\site-packages\\sklearn\\base.py:493: UserWarning: X does not have valid feature names, but StandardScaler was fitted with feature names\n",
      "  warnings.warn(\n",
      "C:\\Users\\debar\\anaconda3\\envs\\py39\\lib\\site-packages\\sklearn\\base.py:493: UserWarning: X does not have valid feature names, but StandardScaler was fitted with feature names\n",
      "  warnings.warn(\n"
     ]
    },
    {
     "name": "stdout",
     "output_type": "stream",
     "text": [
      "Happy [0.36 0.52 0.12]\n",
      "Happy [0.39 0.49 0.12]\n"
     ]
    },
    {
     "name": "stderr",
     "output_type": "stream",
     "text": [
      "C:\\Users\\debar\\anaconda3\\envs\\py39\\lib\\site-packages\\sklearn\\base.py:493: UserWarning: X does not have valid feature names, but StandardScaler was fitted with feature names\n",
      "  warnings.warn(\n",
      "C:\\Users\\debar\\anaconda3\\envs\\py39\\lib\\site-packages\\sklearn\\base.py:493: UserWarning: X does not have valid feature names, but StandardScaler was fitted with feature names\n",
      "  warnings.warn(\n",
      "C:\\Users\\debar\\anaconda3\\envs\\py39\\lib\\site-packages\\sklearn\\base.py:493: UserWarning: X does not have valid feature names, but StandardScaler was fitted with feature names\n",
      "  warnings.warn(\n",
      "C:\\Users\\debar\\anaconda3\\envs\\py39\\lib\\site-packages\\sklearn\\base.py:493: UserWarning: X does not have valid feature names, but StandardScaler was fitted with feature names\n",
      "  warnings.warn(\n"
     ]
    },
    {
     "name": "stdout",
     "output_type": "stream",
     "text": [
      "Happy [0.39 0.49 0.12]\n",
      "Happy [0.41 0.47 0.12]\n"
     ]
    },
    {
     "name": "stderr",
     "output_type": "stream",
     "text": [
      "C:\\Users\\debar\\anaconda3\\envs\\py39\\lib\\site-packages\\sklearn\\base.py:493: UserWarning: X does not have valid feature names, but StandardScaler was fitted with feature names\n",
      "  warnings.warn(\n",
      "C:\\Users\\debar\\anaconda3\\envs\\py39\\lib\\site-packages\\sklearn\\base.py:493: UserWarning: X does not have valid feature names, but StandardScaler was fitted with feature names\n",
      "  warnings.warn(\n",
      "C:\\Users\\debar\\anaconda3\\envs\\py39\\lib\\site-packages\\sklearn\\base.py:493: UserWarning: X does not have valid feature names, but StandardScaler was fitted with feature names\n",
      "  warnings.warn(\n"
     ]
    },
    {
     "name": "stdout",
     "output_type": "stream",
     "text": [
      "Happy [0.4  0.48 0.12]\n"
     ]
    },
    {
     "name": "stderr",
     "output_type": "stream",
     "text": [
      "C:\\Users\\debar\\anaconda3\\envs\\py39\\lib\\site-packages\\sklearn\\base.py:493: UserWarning: X does not have valid feature names, but StandardScaler was fitted with feature names\n",
      "  warnings.warn(\n",
      "C:\\Users\\debar\\anaconda3\\envs\\py39\\lib\\site-packages\\sklearn\\base.py:493: UserWarning: X does not have valid feature names, but StandardScaler was fitted with feature names\n",
      "  warnings.warn(\n",
      "C:\\Users\\debar\\anaconda3\\envs\\py39\\lib\\site-packages\\sklearn\\base.py:493: UserWarning: X does not have valid feature names, but StandardScaler was fitted with feature names\n",
      "  warnings.warn(\n"
     ]
    },
    {
     "name": "stdout",
     "output_type": "stream",
     "text": [
      "Happy [0.34 0.54 0.12]\n",
      "Happy [0.38 0.5  0.12]\n"
     ]
    },
    {
     "name": "stderr",
     "output_type": "stream",
     "text": [
      "C:\\Users\\debar\\anaconda3\\envs\\py39\\lib\\site-packages\\sklearn\\base.py:493: UserWarning: X does not have valid feature names, but StandardScaler was fitted with feature names\n",
      "  warnings.warn(\n",
      "C:\\Users\\debar\\anaconda3\\envs\\py39\\lib\\site-packages\\sklearn\\base.py:493: UserWarning: X does not have valid feature names, but StandardScaler was fitted with feature names\n",
      "  warnings.warn(\n",
      "C:\\Users\\debar\\anaconda3\\envs\\py39\\lib\\site-packages\\sklearn\\base.py:493: UserWarning: X does not have valid feature names, but StandardScaler was fitted with feature names\n",
      "  warnings.warn(\n",
      "C:\\Users\\debar\\anaconda3\\envs\\py39\\lib\\site-packages\\sklearn\\base.py:493: UserWarning: X does not have valid feature names, but StandardScaler was fitted with feature names\n",
      "  warnings.warn(\n"
     ]
    },
    {
     "name": "stdout",
     "output_type": "stream",
     "text": [
      "Happy [0.4  0.48 0.12]\n",
      "Happy [0.36 0.52 0.12]\n"
     ]
    },
    {
     "name": "stderr",
     "output_type": "stream",
     "text": [
      "C:\\Users\\debar\\anaconda3\\envs\\py39\\lib\\site-packages\\sklearn\\base.py:493: UserWarning: X does not have valid feature names, but StandardScaler was fitted with feature names\n",
      "  warnings.warn(\n",
      "C:\\Users\\debar\\anaconda3\\envs\\py39\\lib\\site-packages\\sklearn\\base.py:493: UserWarning: X does not have valid feature names, but StandardScaler was fitted with feature names\n",
      "  warnings.warn(\n",
      "C:\\Users\\debar\\anaconda3\\envs\\py39\\lib\\site-packages\\sklearn\\base.py:493: UserWarning: X does not have valid feature names, but StandardScaler was fitted with feature names\n",
      "  warnings.warn(\n",
      "C:\\Users\\debar\\anaconda3\\envs\\py39\\lib\\site-packages\\sklearn\\base.py:493: UserWarning: X does not have valid feature names, but StandardScaler was fitted with feature names\n",
      "  warnings.warn(\n"
     ]
    },
    {
     "name": "stdout",
     "output_type": "stream",
     "text": [
      "Happy [0.26 0.62 0.12]\n",
      "Happy [0.25 0.63 0.12]\n"
     ]
    },
    {
     "name": "stderr",
     "output_type": "stream",
     "text": [
      "C:\\Users\\debar\\anaconda3\\envs\\py39\\lib\\site-packages\\sklearn\\base.py:493: UserWarning: X does not have valid feature names, but StandardScaler was fitted with feature names\n",
      "  warnings.warn(\n",
      "C:\\Users\\debar\\anaconda3\\envs\\py39\\lib\\site-packages\\sklearn\\base.py:493: UserWarning: X does not have valid feature names, but StandardScaler was fitted with feature names\n",
      "  warnings.warn(\n",
      "C:\\Users\\debar\\anaconda3\\envs\\py39\\lib\\site-packages\\sklearn\\base.py:493: UserWarning: X does not have valid feature names, but StandardScaler was fitted with feature names\n",
      "  warnings.warn(\n",
      "C:\\Users\\debar\\anaconda3\\envs\\py39\\lib\\site-packages\\sklearn\\base.py:493: UserWarning: X does not have valid feature names, but StandardScaler was fitted with feature names\n",
      "  warnings.warn(\n"
     ]
    },
    {
     "name": "stdout",
     "output_type": "stream",
     "text": [
      "Happy [0.29 0.59 0.12]\n",
      "Happy [0.27 0.61 0.12]\n"
     ]
    },
    {
     "name": "stderr",
     "output_type": "stream",
     "text": [
      "C:\\Users\\debar\\anaconda3\\envs\\py39\\lib\\site-packages\\sklearn\\base.py:493: UserWarning: X does not have valid feature names, but StandardScaler was fitted with feature names\n",
      "  warnings.warn(\n",
      "C:\\Users\\debar\\anaconda3\\envs\\py39\\lib\\site-packages\\sklearn\\base.py:493: UserWarning: X does not have valid feature names, but StandardScaler was fitted with feature names\n",
      "  warnings.warn(\n",
      "C:\\Users\\debar\\anaconda3\\envs\\py39\\lib\\site-packages\\sklearn\\base.py:493: UserWarning: X does not have valid feature names, but StandardScaler was fitted with feature names\n",
      "  warnings.warn(\n",
      "C:\\Users\\debar\\anaconda3\\envs\\py39\\lib\\site-packages\\sklearn\\base.py:493: UserWarning: X does not have valid feature names, but StandardScaler was fitted with feature names\n",
      "  warnings.warn(\n"
     ]
    },
    {
     "name": "stdout",
     "output_type": "stream",
     "text": [
      "Happy [0.25 0.63 0.12]\n",
      "Happy [0.25 0.63 0.12]\n"
     ]
    },
    {
     "name": "stderr",
     "output_type": "stream",
     "text": [
      "C:\\Users\\debar\\anaconda3\\envs\\py39\\lib\\site-packages\\sklearn\\base.py:493: UserWarning: X does not have valid feature names, but StandardScaler was fitted with feature names\n",
      "  warnings.warn(\n",
      "C:\\Users\\debar\\anaconda3\\envs\\py39\\lib\\site-packages\\sklearn\\base.py:493: UserWarning: X does not have valid feature names, but StandardScaler was fitted with feature names\n",
      "  warnings.warn(\n",
      "C:\\Users\\debar\\anaconda3\\envs\\py39\\lib\\site-packages\\sklearn\\base.py:493: UserWarning: X does not have valid feature names, but StandardScaler was fitted with feature names\n",
      "  warnings.warn(\n",
      "C:\\Users\\debar\\anaconda3\\envs\\py39\\lib\\site-packages\\sklearn\\base.py:493: UserWarning: X does not have valid feature names, but StandardScaler was fitted with feature names\n",
      "  warnings.warn(\n"
     ]
    },
    {
     "name": "stdout",
     "output_type": "stream",
     "text": [
      "Happy [0.26 0.62 0.12]\n",
      "Happy [0.27 0.61 0.12]\n"
     ]
    },
    {
     "name": "stderr",
     "output_type": "stream",
     "text": [
      "C:\\Users\\debar\\anaconda3\\envs\\py39\\lib\\site-packages\\sklearn\\base.py:493: UserWarning: X does not have valid feature names, but StandardScaler was fitted with feature names\n",
      "  warnings.warn(\n",
      "C:\\Users\\debar\\anaconda3\\envs\\py39\\lib\\site-packages\\sklearn\\base.py:493: UserWarning: X does not have valid feature names, but StandardScaler was fitted with feature names\n",
      "  warnings.warn(\n",
      "C:\\Users\\debar\\anaconda3\\envs\\py39\\lib\\site-packages\\sklearn\\base.py:493: UserWarning: X does not have valid feature names, but StandardScaler was fitted with feature names\n",
      "  warnings.warn(\n",
      "C:\\Users\\debar\\anaconda3\\envs\\py39\\lib\\site-packages\\sklearn\\base.py:493: UserWarning: X does not have valid feature names, but StandardScaler was fitted with feature names\n",
      "  warnings.warn(\n"
     ]
    },
    {
     "name": "stdout",
     "output_type": "stream",
     "text": [
      "Happy [0.29 0.59 0.12]\n",
      "Happy [0.32 0.56 0.12]\n"
     ]
    },
    {
     "name": "stderr",
     "output_type": "stream",
     "text": [
      "C:\\Users\\debar\\anaconda3\\envs\\py39\\lib\\site-packages\\sklearn\\base.py:493: UserWarning: X does not have valid feature names, but StandardScaler was fitted with feature names\n",
      "  warnings.warn(\n",
      "C:\\Users\\debar\\anaconda3\\envs\\py39\\lib\\site-packages\\sklearn\\base.py:493: UserWarning: X does not have valid feature names, but StandardScaler was fitted with feature names\n",
      "  warnings.warn(\n",
      "C:\\Users\\debar\\anaconda3\\envs\\py39\\lib\\site-packages\\sklearn\\base.py:493: UserWarning: X does not have valid feature names, but StandardScaler was fitted with feature names\n",
      "  warnings.warn(\n",
      "C:\\Users\\debar\\anaconda3\\envs\\py39\\lib\\site-packages\\sklearn\\base.py:493: UserWarning: X does not have valid feature names, but StandardScaler was fitted with feature names\n",
      "  warnings.warn(\n"
     ]
    },
    {
     "name": "stdout",
     "output_type": "stream",
     "text": [
      "Happy [0.35 0.53 0.12]\n",
      "Happy [0.33 0.54 0.13]\n"
     ]
    },
    {
     "name": "stderr",
     "output_type": "stream",
     "text": [
      "C:\\Users\\debar\\anaconda3\\envs\\py39\\lib\\site-packages\\sklearn\\base.py:493: UserWarning: X does not have valid feature names, but StandardScaler was fitted with feature names\n",
      "  warnings.warn(\n",
      "C:\\Users\\debar\\anaconda3\\envs\\py39\\lib\\site-packages\\sklearn\\base.py:493: UserWarning: X does not have valid feature names, but StandardScaler was fitted with feature names\n",
      "  warnings.warn(\n",
      "C:\\Users\\debar\\anaconda3\\envs\\py39\\lib\\site-packages\\sklearn\\base.py:493: UserWarning: X does not have valid feature names, but StandardScaler was fitted with feature names\n",
      "  warnings.warn(\n",
      "C:\\Users\\debar\\anaconda3\\envs\\py39\\lib\\site-packages\\sklearn\\base.py:493: UserWarning: X does not have valid feature names, but StandardScaler was fitted with feature names\n",
      "  warnings.warn(\n"
     ]
    },
    {
     "name": "stdout",
     "output_type": "stream",
     "text": [
      "Happy [0.29 0.59 0.12]\n",
      "Happy [0.33 0.55 0.12]\n"
     ]
    },
    {
     "name": "stderr",
     "output_type": "stream",
     "text": [
      "C:\\Users\\debar\\anaconda3\\envs\\py39\\lib\\site-packages\\sklearn\\base.py:493: UserWarning: X does not have valid feature names, but StandardScaler was fitted with feature names\n",
      "  warnings.warn(\n",
      "C:\\Users\\debar\\anaconda3\\envs\\py39\\lib\\site-packages\\sklearn\\base.py:493: UserWarning: X does not have valid feature names, but StandardScaler was fitted with feature names\n",
      "  warnings.warn(\n",
      "C:\\Users\\debar\\anaconda3\\envs\\py39\\lib\\site-packages\\sklearn\\base.py:493: UserWarning: X does not have valid feature names, but StandardScaler was fitted with feature names\n",
      "  warnings.warn(\n",
      "C:\\Users\\debar\\anaconda3\\envs\\py39\\lib\\site-packages\\sklearn\\base.py:493: UserWarning: X does not have valid feature names, but StandardScaler was fitted with feature names\n",
      "  warnings.warn(\n"
     ]
    },
    {
     "name": "stdout",
     "output_type": "stream",
     "text": [
      "Happy [0.34 0.54 0.12]\n",
      "Happy [0.36 0.52 0.12]\n"
     ]
    },
    {
     "name": "stderr",
     "output_type": "stream",
     "text": [
      "C:\\Users\\debar\\anaconda3\\envs\\py39\\lib\\site-packages\\sklearn\\base.py:493: UserWarning: X does not have valid feature names, but StandardScaler was fitted with feature names\n",
      "  warnings.warn(\n",
      "C:\\Users\\debar\\anaconda3\\envs\\py39\\lib\\site-packages\\sklearn\\base.py:493: UserWarning: X does not have valid feature names, but StandardScaler was fitted with feature names\n",
      "  warnings.warn(\n",
      "C:\\Users\\debar\\anaconda3\\envs\\py39\\lib\\site-packages\\sklearn\\base.py:493: UserWarning: X does not have valid feature names, but StandardScaler was fitted with feature names\n",
      "  warnings.warn(\n",
      "C:\\Users\\debar\\anaconda3\\envs\\py39\\lib\\site-packages\\sklearn\\base.py:493: UserWarning: X does not have valid feature names, but StandardScaler was fitted with feature names\n",
      "  warnings.warn(\n"
     ]
    },
    {
     "name": "stdout",
     "output_type": "stream",
     "text": [
      "Happy [0.31 0.57 0.12]\n",
      "Happy [0.28 0.6  0.12]\n"
     ]
    },
    {
     "name": "stderr",
     "output_type": "stream",
     "text": [
      "C:\\Users\\debar\\anaconda3\\envs\\py39\\lib\\site-packages\\sklearn\\base.py:493: UserWarning: X does not have valid feature names, but StandardScaler was fitted with feature names\n",
      "  warnings.warn(\n",
      "C:\\Users\\debar\\anaconda3\\envs\\py39\\lib\\site-packages\\sklearn\\base.py:493: UserWarning: X does not have valid feature names, but StandardScaler was fitted with feature names\n",
      "  warnings.warn(\n",
      "C:\\Users\\debar\\anaconda3\\envs\\py39\\lib\\site-packages\\sklearn\\base.py:493: UserWarning: X does not have valid feature names, but StandardScaler was fitted with feature names\n",
      "  warnings.warn(\n",
      "C:\\Users\\debar\\anaconda3\\envs\\py39\\lib\\site-packages\\sklearn\\base.py:493: UserWarning: X does not have valid feature names, but StandardScaler was fitted with feature names\n",
      "  warnings.warn(\n"
     ]
    },
    {
     "name": "stdout",
     "output_type": "stream",
     "text": [
      "Happy [0.24 0.64 0.12]\n",
      "Happy [0.28 0.6  0.12]\n"
     ]
    },
    {
     "name": "stderr",
     "output_type": "stream",
     "text": [
      "C:\\Users\\debar\\anaconda3\\envs\\py39\\lib\\site-packages\\sklearn\\base.py:493: UserWarning: X does not have valid feature names, but StandardScaler was fitted with feature names\n",
      "  warnings.warn(\n",
      "C:\\Users\\debar\\anaconda3\\envs\\py39\\lib\\site-packages\\sklearn\\base.py:493: UserWarning: X does not have valid feature names, but StandardScaler was fitted with feature names\n",
      "  warnings.warn(\n",
      "C:\\Users\\debar\\anaconda3\\envs\\py39\\lib\\site-packages\\sklearn\\base.py:493: UserWarning: X does not have valid feature names, but StandardScaler was fitted with feature names\n",
      "  warnings.warn(\n",
      "C:\\Users\\debar\\anaconda3\\envs\\py39\\lib\\site-packages\\sklearn\\base.py:493: UserWarning: X does not have valid feature names, but StandardScaler was fitted with feature names\n",
      "  warnings.warn(\n"
     ]
    },
    {
     "name": "stdout",
     "output_type": "stream",
     "text": [
      "Happy [0.26 0.62 0.12]\n",
      "Happy [0.23 0.65 0.12]\n"
     ]
    },
    {
     "name": "stderr",
     "output_type": "stream",
     "text": [
      "C:\\Users\\debar\\anaconda3\\envs\\py39\\lib\\site-packages\\sklearn\\base.py:493: UserWarning: X does not have valid feature names, but StandardScaler was fitted with feature names\n",
      "  warnings.warn(\n",
      "C:\\Users\\debar\\anaconda3\\envs\\py39\\lib\\site-packages\\sklearn\\base.py:493: UserWarning: X does not have valid feature names, but StandardScaler was fitted with feature names\n",
      "  warnings.warn(\n",
      "C:\\Users\\debar\\anaconda3\\envs\\py39\\lib\\site-packages\\sklearn\\base.py:493: UserWarning: X does not have valid feature names, but StandardScaler was fitted with feature names\n",
      "  warnings.warn(\n",
      "C:\\Users\\debar\\anaconda3\\envs\\py39\\lib\\site-packages\\sklearn\\base.py:493: UserWarning: X does not have valid feature names, but StandardScaler was fitted with feature names\n",
      "  warnings.warn(\n"
     ]
    },
    {
     "name": "stdout",
     "output_type": "stream",
     "text": [
      "Happy [0.25 0.63 0.12]\n",
      "Happy [0.3  0.58 0.12]\n"
     ]
    },
    {
     "name": "stderr",
     "output_type": "stream",
     "text": [
      "C:\\Users\\debar\\anaconda3\\envs\\py39\\lib\\site-packages\\sklearn\\base.py:493: UserWarning: X does not have valid feature names, but StandardScaler was fitted with feature names\n",
      "  warnings.warn(\n",
      "C:\\Users\\debar\\anaconda3\\envs\\py39\\lib\\site-packages\\sklearn\\base.py:493: UserWarning: X does not have valid feature names, but StandardScaler was fitted with feature names\n",
      "  warnings.warn(\n",
      "C:\\Users\\debar\\anaconda3\\envs\\py39\\lib\\site-packages\\sklearn\\base.py:493: UserWarning: X does not have valid feature names, but StandardScaler was fitted with feature names\n",
      "  warnings.warn(\n",
      "C:\\Users\\debar\\anaconda3\\envs\\py39\\lib\\site-packages\\sklearn\\base.py:493: UserWarning: X does not have valid feature names, but StandardScaler was fitted with feature names\n",
      "  warnings.warn(\n"
     ]
    },
    {
     "name": "stdout",
     "output_type": "stream",
     "text": [
      "Happy [0.25 0.63 0.12]\n",
      "Happy [0.21 0.67 0.12]\n"
     ]
    },
    {
     "name": "stderr",
     "output_type": "stream",
     "text": [
      "C:\\Users\\debar\\anaconda3\\envs\\py39\\lib\\site-packages\\sklearn\\base.py:493: UserWarning: X does not have valid feature names, but StandardScaler was fitted with feature names\n",
      "  warnings.warn(\n",
      "C:\\Users\\debar\\anaconda3\\envs\\py39\\lib\\site-packages\\sklearn\\base.py:493: UserWarning: X does not have valid feature names, but StandardScaler was fitted with feature names\n",
      "  warnings.warn(\n",
      "C:\\Users\\debar\\anaconda3\\envs\\py39\\lib\\site-packages\\sklearn\\base.py:493: UserWarning: X does not have valid feature names, but StandardScaler was fitted with feature names\n",
      "  warnings.warn(\n",
      "C:\\Users\\debar\\anaconda3\\envs\\py39\\lib\\site-packages\\sklearn\\base.py:493: UserWarning: X does not have valid feature names, but StandardScaler was fitted with feature names\n",
      "  warnings.warn(\n"
     ]
    },
    {
     "name": "stdout",
     "output_type": "stream",
     "text": [
      "Happy [0.19 0.69 0.12]\n",
      "Happy [0.2  0.68 0.12]\n"
     ]
    },
    {
     "name": "stderr",
     "output_type": "stream",
     "text": [
      "C:\\Users\\debar\\anaconda3\\envs\\py39\\lib\\site-packages\\sklearn\\base.py:493: UserWarning: X does not have valid feature names, but StandardScaler was fitted with feature names\n",
      "  warnings.warn(\n",
      "C:\\Users\\debar\\anaconda3\\envs\\py39\\lib\\site-packages\\sklearn\\base.py:493: UserWarning: X does not have valid feature names, but StandardScaler was fitted with feature names\n",
      "  warnings.warn(\n",
      "C:\\Users\\debar\\anaconda3\\envs\\py39\\lib\\site-packages\\sklearn\\base.py:493: UserWarning: X does not have valid feature names, but StandardScaler was fitted with feature names\n",
      "  warnings.warn(\n",
      "C:\\Users\\debar\\anaconda3\\envs\\py39\\lib\\site-packages\\sklearn\\base.py:493: UserWarning: X does not have valid feature names, but StandardScaler was fitted with feature names\n",
      "  warnings.warn(\n"
     ]
    },
    {
     "name": "stdout",
     "output_type": "stream",
     "text": [
      "Happy [0.19 0.69 0.12]\n",
      "Happy [0.17 0.71 0.12]\n"
     ]
    },
    {
     "name": "stderr",
     "output_type": "stream",
     "text": [
      "C:\\Users\\debar\\anaconda3\\envs\\py39\\lib\\site-packages\\sklearn\\base.py:493: UserWarning: X does not have valid feature names, but StandardScaler was fitted with feature names\n",
      "  warnings.warn(\n",
      "C:\\Users\\debar\\anaconda3\\envs\\py39\\lib\\site-packages\\sklearn\\base.py:493: UserWarning: X does not have valid feature names, but StandardScaler was fitted with feature names\n",
      "  warnings.warn(\n",
      "C:\\Users\\debar\\anaconda3\\envs\\py39\\lib\\site-packages\\sklearn\\base.py:493: UserWarning: X does not have valid feature names, but StandardScaler was fitted with feature names\n",
      "  warnings.warn(\n",
      "C:\\Users\\debar\\anaconda3\\envs\\py39\\lib\\site-packages\\sklearn\\base.py:493: UserWarning: X does not have valid feature names, but StandardScaler was fitted with feature names\n",
      "  warnings.warn(\n"
     ]
    },
    {
     "name": "stdout",
     "output_type": "stream",
     "text": [
      "Happy [0.17 0.71 0.12]\n",
      "Happy [0.2  0.68 0.12]\n"
     ]
    },
    {
     "name": "stderr",
     "output_type": "stream",
     "text": [
      "C:\\Users\\debar\\anaconda3\\envs\\py39\\lib\\site-packages\\sklearn\\base.py:493: UserWarning: X does not have valid feature names, but StandardScaler was fitted with feature names\n",
      "  warnings.warn(\n",
      "C:\\Users\\debar\\anaconda3\\envs\\py39\\lib\\site-packages\\sklearn\\base.py:493: UserWarning: X does not have valid feature names, but StandardScaler was fitted with feature names\n",
      "  warnings.warn(\n",
      "C:\\Users\\debar\\anaconda3\\envs\\py39\\lib\\site-packages\\sklearn\\base.py:493: UserWarning: X does not have valid feature names, but StandardScaler was fitted with feature names\n",
      "  warnings.warn(\n",
      "C:\\Users\\debar\\anaconda3\\envs\\py39\\lib\\site-packages\\sklearn\\base.py:493: UserWarning: X does not have valid feature names, but StandardScaler was fitted with feature names\n",
      "  warnings.warn(\n"
     ]
    },
    {
     "name": "stdout",
     "output_type": "stream",
     "text": [
      "Happy [0.17 0.71 0.12]\n",
      "Happy [0.19 0.69 0.12]\n"
     ]
    },
    {
     "name": "stderr",
     "output_type": "stream",
     "text": [
      "C:\\Users\\debar\\anaconda3\\envs\\py39\\lib\\site-packages\\sklearn\\base.py:493: UserWarning: X does not have valid feature names, but StandardScaler was fitted with feature names\n",
      "  warnings.warn(\n",
      "C:\\Users\\debar\\anaconda3\\envs\\py39\\lib\\site-packages\\sklearn\\base.py:493: UserWarning: X does not have valid feature names, but StandardScaler was fitted with feature names\n",
      "  warnings.warn(\n",
      "C:\\Users\\debar\\anaconda3\\envs\\py39\\lib\\site-packages\\sklearn\\base.py:493: UserWarning: X does not have valid feature names, but StandardScaler was fitted with feature names\n",
      "  warnings.warn(\n",
      "C:\\Users\\debar\\anaconda3\\envs\\py39\\lib\\site-packages\\sklearn\\base.py:493: UserWarning: X does not have valid feature names, but StandardScaler was fitted with feature names\n",
      "  warnings.warn(\n"
     ]
    },
    {
     "name": "stdout",
     "output_type": "stream",
     "text": [
      "Happy [0.19 0.69 0.12]\n",
      "Happy [0.2  0.68 0.12]\n"
     ]
    },
    {
     "name": "stderr",
     "output_type": "stream",
     "text": [
      "C:\\Users\\debar\\anaconda3\\envs\\py39\\lib\\site-packages\\sklearn\\base.py:493: UserWarning: X does not have valid feature names, but StandardScaler was fitted with feature names\n",
      "  warnings.warn(\n",
      "C:\\Users\\debar\\anaconda3\\envs\\py39\\lib\\site-packages\\sklearn\\base.py:493: UserWarning: X does not have valid feature names, but StandardScaler was fitted with feature names\n",
      "  warnings.warn(\n",
      "C:\\Users\\debar\\anaconda3\\envs\\py39\\lib\\site-packages\\sklearn\\base.py:493: UserWarning: X does not have valid feature names, but StandardScaler was fitted with feature names\n",
      "  warnings.warn(\n",
      "C:\\Users\\debar\\anaconda3\\envs\\py39\\lib\\site-packages\\sklearn\\base.py:493: UserWarning: X does not have valid feature names, but StandardScaler was fitted with feature names\n",
      "  warnings.warn(\n"
     ]
    },
    {
     "name": "stdout",
     "output_type": "stream",
     "text": [
      "Happy [0.29 0.57 0.14]\n",
      "Happy [0.31 0.56 0.13]\n"
     ]
    },
    {
     "name": "stderr",
     "output_type": "stream",
     "text": [
      "C:\\Users\\debar\\anaconda3\\envs\\py39\\lib\\site-packages\\sklearn\\base.py:493: UserWarning: X does not have valid feature names, but StandardScaler was fitted with feature names\n",
      "  warnings.warn(\n",
      "C:\\Users\\debar\\anaconda3\\envs\\py39\\lib\\site-packages\\sklearn\\base.py:493: UserWarning: X does not have valid feature names, but StandardScaler was fitted with feature names\n",
      "  warnings.warn(\n",
      "C:\\Users\\debar\\anaconda3\\envs\\py39\\lib\\site-packages\\sklearn\\base.py:493: UserWarning: X does not have valid feature names, but StandardScaler was fitted with feature names\n",
      "  warnings.warn(\n",
      "C:\\Users\\debar\\anaconda3\\envs\\py39\\lib\\site-packages\\sklearn\\base.py:493: UserWarning: X does not have valid feature names, but StandardScaler was fitted with feature names\n",
      "  warnings.warn(\n"
     ]
    },
    {
     "name": "stdout",
     "output_type": "stream",
     "text": [
      "Sad [0. 0. 1.]\n",
      "Sad [0. 0. 1.]\n"
     ]
    },
    {
     "name": "stderr",
     "output_type": "stream",
     "text": [
      "C:\\Users\\debar\\anaconda3\\envs\\py39\\lib\\site-packages\\sklearn\\base.py:493: UserWarning: X does not have valid feature names, but StandardScaler was fitted with feature names\n",
      "  warnings.warn(\n",
      "C:\\Users\\debar\\anaconda3\\envs\\py39\\lib\\site-packages\\sklearn\\base.py:493: UserWarning: X does not have valid feature names, but StandardScaler was fitted with feature names\n",
      "  warnings.warn(\n",
      "C:\\Users\\debar\\anaconda3\\envs\\py39\\lib\\site-packages\\sklearn\\base.py:493: UserWarning: X does not have valid feature names, but StandardScaler was fitted with feature names\n",
      "  warnings.warn(\n",
      "C:\\Users\\debar\\anaconda3\\envs\\py39\\lib\\site-packages\\sklearn\\base.py:493: UserWarning: X does not have valid feature names, but StandardScaler was fitted with feature names\n",
      "  warnings.warn(\n"
     ]
    },
    {
     "name": "stdout",
     "output_type": "stream",
     "text": [
      "Sad [0. 0. 1.]\n",
      "Sad [0. 0. 1.]\n"
     ]
    },
    {
     "name": "stderr",
     "output_type": "stream",
     "text": [
      "C:\\Users\\debar\\anaconda3\\envs\\py39\\lib\\site-packages\\sklearn\\base.py:493: UserWarning: X does not have valid feature names, but StandardScaler was fitted with feature names\n",
      "  warnings.warn(\n",
      "C:\\Users\\debar\\anaconda3\\envs\\py39\\lib\\site-packages\\sklearn\\base.py:493: UserWarning: X does not have valid feature names, but StandardScaler was fitted with feature names\n",
      "  warnings.warn(\n",
      "C:\\Users\\debar\\anaconda3\\envs\\py39\\lib\\site-packages\\sklearn\\base.py:493: UserWarning: X does not have valid feature names, but StandardScaler was fitted with feature names\n",
      "  warnings.warn(\n",
      "C:\\Users\\debar\\anaconda3\\envs\\py39\\lib\\site-packages\\sklearn\\base.py:493: UserWarning: X does not have valid feature names, but StandardScaler was fitted with feature names\n",
      "  warnings.warn(\n"
     ]
    },
    {
     "name": "stdout",
     "output_type": "stream",
     "text": [
      "Sad [0. 0. 1.]\n",
      "Sad [0. 0. 1.]\n"
     ]
    },
    {
     "name": "stderr",
     "output_type": "stream",
     "text": [
      "C:\\Users\\debar\\anaconda3\\envs\\py39\\lib\\site-packages\\sklearn\\base.py:493: UserWarning: X does not have valid feature names, but StandardScaler was fitted with feature names\n",
      "  warnings.warn(\n",
      "C:\\Users\\debar\\anaconda3\\envs\\py39\\lib\\site-packages\\sklearn\\base.py:493: UserWarning: X does not have valid feature names, but StandardScaler was fitted with feature names\n",
      "  warnings.warn(\n",
      "C:\\Users\\debar\\anaconda3\\envs\\py39\\lib\\site-packages\\sklearn\\base.py:493: UserWarning: X does not have valid feature names, but StandardScaler was fitted with feature names\n",
      "  warnings.warn(\n",
      "C:\\Users\\debar\\anaconda3\\envs\\py39\\lib\\site-packages\\sklearn\\base.py:493: UserWarning: X does not have valid feature names, but StandardScaler was fitted with feature names\n",
      "  warnings.warn(\n"
     ]
    },
    {
     "name": "stdout",
     "output_type": "stream",
     "text": [
      "Sad [0. 0. 1.]\n",
      "Sad [0. 0. 1.]\n"
     ]
    },
    {
     "name": "stderr",
     "output_type": "stream",
     "text": [
      "C:\\Users\\debar\\anaconda3\\envs\\py39\\lib\\site-packages\\sklearn\\base.py:493: UserWarning: X does not have valid feature names, but StandardScaler was fitted with feature names\n",
      "  warnings.warn(\n",
      "C:\\Users\\debar\\anaconda3\\envs\\py39\\lib\\site-packages\\sklearn\\base.py:493: UserWarning: X does not have valid feature names, but StandardScaler was fitted with feature names\n",
      "  warnings.warn(\n",
      "C:\\Users\\debar\\anaconda3\\envs\\py39\\lib\\site-packages\\sklearn\\base.py:493: UserWarning: X does not have valid feature names, but StandardScaler was fitted with feature names\n",
      "  warnings.warn(\n",
      "C:\\Users\\debar\\anaconda3\\envs\\py39\\lib\\site-packages\\sklearn\\base.py:493: UserWarning: X does not have valid feature names, but StandardScaler was fitted with feature names\n",
      "  warnings.warn(\n"
     ]
    },
    {
     "name": "stdout",
     "output_type": "stream",
     "text": [
      "Sad [0. 0. 1.]\n",
      "Sad [0. 0. 1.]\n"
     ]
    },
    {
     "name": "stderr",
     "output_type": "stream",
     "text": [
      "C:\\Users\\debar\\anaconda3\\envs\\py39\\lib\\site-packages\\sklearn\\base.py:493: UserWarning: X does not have valid feature names, but StandardScaler was fitted with feature names\n",
      "  warnings.warn(\n",
      "C:\\Users\\debar\\anaconda3\\envs\\py39\\lib\\site-packages\\sklearn\\base.py:493: UserWarning: X does not have valid feature names, but StandardScaler was fitted with feature names\n",
      "  warnings.warn(\n",
      "C:\\Users\\debar\\anaconda3\\envs\\py39\\lib\\site-packages\\sklearn\\base.py:493: UserWarning: X does not have valid feature names, but StandardScaler was fitted with feature names\n",
      "  warnings.warn(\n",
      "C:\\Users\\debar\\anaconda3\\envs\\py39\\lib\\site-packages\\sklearn\\base.py:493: UserWarning: X does not have valid feature names, but StandardScaler was fitted with feature names\n",
      "  warnings.warn(\n"
     ]
    },
    {
     "name": "stdout",
     "output_type": "stream",
     "text": [
      "Sad [0. 0. 1.]\n",
      "Sad [0. 0. 1.]\n"
     ]
    },
    {
     "name": "stderr",
     "output_type": "stream",
     "text": [
      "C:\\Users\\debar\\anaconda3\\envs\\py39\\lib\\site-packages\\sklearn\\base.py:493: UserWarning: X does not have valid feature names, but StandardScaler was fitted with feature names\n",
      "  warnings.warn(\n",
      "C:\\Users\\debar\\anaconda3\\envs\\py39\\lib\\site-packages\\sklearn\\base.py:493: UserWarning: X does not have valid feature names, but StandardScaler was fitted with feature names\n",
      "  warnings.warn(\n",
      "C:\\Users\\debar\\anaconda3\\envs\\py39\\lib\\site-packages\\sklearn\\base.py:493: UserWarning: X does not have valid feature names, but StandardScaler was fitted with feature names\n",
      "  warnings.warn(\n",
      "C:\\Users\\debar\\anaconda3\\envs\\py39\\lib\\site-packages\\sklearn\\base.py:493: UserWarning: X does not have valid feature names, but StandardScaler was fitted with feature names\n",
      "  warnings.warn(\n"
     ]
    },
    {
     "name": "stdout",
     "output_type": "stream",
     "text": [
      "Sad [0. 0. 1.]\n",
      "Sad [0. 0. 1.]\n"
     ]
    },
    {
     "name": "stderr",
     "output_type": "stream",
     "text": [
      "C:\\Users\\debar\\anaconda3\\envs\\py39\\lib\\site-packages\\sklearn\\base.py:493: UserWarning: X does not have valid feature names, but StandardScaler was fitted with feature names\n",
      "  warnings.warn(\n",
      "C:\\Users\\debar\\anaconda3\\envs\\py39\\lib\\site-packages\\sklearn\\base.py:493: UserWarning: X does not have valid feature names, but StandardScaler was fitted with feature names\n",
      "  warnings.warn(\n",
      "C:\\Users\\debar\\anaconda3\\envs\\py39\\lib\\site-packages\\sklearn\\base.py:493: UserWarning: X does not have valid feature names, but StandardScaler was fitted with feature names\n",
      "  warnings.warn(\n",
      "C:\\Users\\debar\\anaconda3\\envs\\py39\\lib\\site-packages\\sklearn\\base.py:493: UserWarning: X does not have valid feature names, but StandardScaler was fitted with feature names\n",
      "  warnings.warn(\n"
     ]
    },
    {
     "name": "stdout",
     "output_type": "stream",
     "text": [
      "Sad [0. 0. 1.]\n",
      "Sad [0. 0. 1.]\n"
     ]
    },
    {
     "name": "stderr",
     "output_type": "stream",
     "text": [
      "C:\\Users\\debar\\anaconda3\\envs\\py39\\lib\\site-packages\\sklearn\\base.py:493: UserWarning: X does not have valid feature names, but StandardScaler was fitted with feature names\n",
      "  warnings.warn(\n",
      "C:\\Users\\debar\\anaconda3\\envs\\py39\\lib\\site-packages\\sklearn\\base.py:493: UserWarning: X does not have valid feature names, but StandardScaler was fitted with feature names\n",
      "  warnings.warn(\n",
      "C:\\Users\\debar\\anaconda3\\envs\\py39\\lib\\site-packages\\sklearn\\base.py:493: UserWarning: X does not have valid feature names, but StandardScaler was fitted with feature names\n",
      "  warnings.warn(\n",
      "C:\\Users\\debar\\anaconda3\\envs\\py39\\lib\\site-packages\\sklearn\\base.py:493: UserWarning: X does not have valid feature names, but StandardScaler was fitted with feature names\n",
      "  warnings.warn(\n"
     ]
    },
    {
     "name": "stdout",
     "output_type": "stream",
     "text": [
      "Sad [0. 0. 1.]\n",
      "Sad [0. 0. 1.]\n"
     ]
    },
    {
     "name": "stderr",
     "output_type": "stream",
     "text": [
      "C:\\Users\\debar\\anaconda3\\envs\\py39\\lib\\site-packages\\sklearn\\base.py:493: UserWarning: X does not have valid feature names, but StandardScaler was fitted with feature names\n",
      "  warnings.warn(\n",
      "C:\\Users\\debar\\anaconda3\\envs\\py39\\lib\\site-packages\\sklearn\\base.py:493: UserWarning: X does not have valid feature names, but StandardScaler was fitted with feature names\n",
      "  warnings.warn(\n",
      "C:\\Users\\debar\\anaconda3\\envs\\py39\\lib\\site-packages\\sklearn\\base.py:493: UserWarning: X does not have valid feature names, but StandardScaler was fitted with feature names\n",
      "  warnings.warn(\n",
      "C:\\Users\\debar\\anaconda3\\envs\\py39\\lib\\site-packages\\sklearn\\base.py:493: UserWarning: X does not have valid feature names, but StandardScaler was fitted with feature names\n",
      "  warnings.warn(\n"
     ]
    },
    {
     "name": "stdout",
     "output_type": "stream",
     "text": [
      "Sad [0. 0. 1.]\n",
      "Sad [0. 0. 1.]\n"
     ]
    },
    {
     "name": "stderr",
     "output_type": "stream",
     "text": [
      "C:\\Users\\debar\\anaconda3\\envs\\py39\\lib\\site-packages\\sklearn\\base.py:493: UserWarning: X does not have valid feature names, but StandardScaler was fitted with feature names\n",
      "  warnings.warn(\n",
      "C:\\Users\\debar\\anaconda3\\envs\\py39\\lib\\site-packages\\sklearn\\base.py:493: UserWarning: X does not have valid feature names, but StandardScaler was fitted with feature names\n",
      "  warnings.warn(\n",
      "C:\\Users\\debar\\anaconda3\\envs\\py39\\lib\\site-packages\\sklearn\\base.py:493: UserWarning: X does not have valid feature names, but StandardScaler was fitted with feature names\n",
      "  warnings.warn(\n",
      "C:\\Users\\debar\\anaconda3\\envs\\py39\\lib\\site-packages\\sklearn\\base.py:493: UserWarning: X does not have valid feature names, but StandardScaler was fitted with feature names\n",
      "  warnings.warn(\n"
     ]
    },
    {
     "name": "stdout",
     "output_type": "stream",
     "text": [
      "Sad [0. 0. 1.]\n",
      "Sad [0. 0. 1.]\n"
     ]
    },
    {
     "name": "stderr",
     "output_type": "stream",
     "text": [
      "C:\\Users\\debar\\anaconda3\\envs\\py39\\lib\\site-packages\\sklearn\\base.py:493: UserWarning: X does not have valid feature names, but StandardScaler was fitted with feature names\n",
      "  warnings.warn(\n",
      "C:\\Users\\debar\\anaconda3\\envs\\py39\\lib\\site-packages\\sklearn\\base.py:493: UserWarning: X does not have valid feature names, but StandardScaler was fitted with feature names\n",
      "  warnings.warn(\n",
      "C:\\Users\\debar\\anaconda3\\envs\\py39\\lib\\site-packages\\sklearn\\base.py:493: UserWarning: X does not have valid feature names, but StandardScaler was fitted with feature names\n",
      "  warnings.warn(\n",
      "C:\\Users\\debar\\anaconda3\\envs\\py39\\lib\\site-packages\\sklearn\\base.py:493: UserWarning: X does not have valid feature names, but StandardScaler was fitted with feature names\n",
      "  warnings.warn(\n"
     ]
    },
    {
     "name": "stdout",
     "output_type": "stream",
     "text": [
      "Sad [0. 0. 1.]\n",
      "Sad [0. 0. 1.]\n"
     ]
    },
    {
     "name": "stderr",
     "output_type": "stream",
     "text": [
      "C:\\Users\\debar\\anaconda3\\envs\\py39\\lib\\site-packages\\sklearn\\base.py:493: UserWarning: X does not have valid feature names, but StandardScaler was fitted with feature names\n",
      "  warnings.warn(\n",
      "C:\\Users\\debar\\anaconda3\\envs\\py39\\lib\\site-packages\\sklearn\\base.py:493: UserWarning: X does not have valid feature names, but StandardScaler was fitted with feature names\n",
      "  warnings.warn(\n",
      "C:\\Users\\debar\\anaconda3\\envs\\py39\\lib\\site-packages\\sklearn\\base.py:493: UserWarning: X does not have valid feature names, but StandardScaler was fitted with feature names\n",
      "  warnings.warn(\n",
      "C:\\Users\\debar\\anaconda3\\envs\\py39\\lib\\site-packages\\sklearn\\base.py:493: UserWarning: X does not have valid feature names, but StandardScaler was fitted with feature names\n",
      "  warnings.warn(\n"
     ]
    },
    {
     "name": "stdout",
     "output_type": "stream",
     "text": [
      "Sad [0. 0. 1.]\n",
      "Sad [0. 0. 1.]\n"
     ]
    },
    {
     "name": "stderr",
     "output_type": "stream",
     "text": [
      "C:\\Users\\debar\\anaconda3\\envs\\py39\\lib\\site-packages\\sklearn\\base.py:493: UserWarning: X does not have valid feature names, but StandardScaler was fitted with feature names\n",
      "  warnings.warn(\n",
      "C:\\Users\\debar\\anaconda3\\envs\\py39\\lib\\site-packages\\sklearn\\base.py:493: UserWarning: X does not have valid feature names, but StandardScaler was fitted with feature names\n",
      "  warnings.warn(\n",
      "C:\\Users\\debar\\anaconda3\\envs\\py39\\lib\\site-packages\\sklearn\\base.py:493: UserWarning: X does not have valid feature names, but StandardScaler was fitted with feature names\n",
      "  warnings.warn(\n",
      "C:\\Users\\debar\\anaconda3\\envs\\py39\\lib\\site-packages\\sklearn\\base.py:493: UserWarning: X does not have valid feature names, but StandardScaler was fitted with feature names\n",
      "  warnings.warn(\n"
     ]
    },
    {
     "name": "stdout",
     "output_type": "stream",
     "text": [
      "Sad [0. 0. 1.]\n",
      "Sad [0. 0. 1.]\n"
     ]
    },
    {
     "name": "stderr",
     "output_type": "stream",
     "text": [
      "C:\\Users\\debar\\anaconda3\\envs\\py39\\lib\\site-packages\\sklearn\\base.py:493: UserWarning: X does not have valid feature names, but StandardScaler was fitted with feature names\n",
      "  warnings.warn(\n",
      "C:\\Users\\debar\\anaconda3\\envs\\py39\\lib\\site-packages\\sklearn\\base.py:493: UserWarning: X does not have valid feature names, but StandardScaler was fitted with feature names\n",
      "  warnings.warn(\n",
      "C:\\Users\\debar\\anaconda3\\envs\\py39\\lib\\site-packages\\sklearn\\base.py:493: UserWarning: X does not have valid feature names, but StandardScaler was fitted with feature names\n",
      "  warnings.warn(\n",
      "C:\\Users\\debar\\anaconda3\\envs\\py39\\lib\\site-packages\\sklearn\\base.py:493: UserWarning: X does not have valid feature names, but StandardScaler was fitted with feature names\n",
      "  warnings.warn(\n"
     ]
    },
    {
     "name": "stdout",
     "output_type": "stream",
     "text": [
      "Sad [0.   0.01 0.99]\n",
      "Sad [0. 0. 1.]\n"
     ]
    },
    {
     "name": "stderr",
     "output_type": "stream",
     "text": [
      "C:\\Users\\debar\\anaconda3\\envs\\py39\\lib\\site-packages\\sklearn\\base.py:493: UserWarning: X does not have valid feature names, but StandardScaler was fitted with feature names\n",
      "  warnings.warn(\n",
      "C:\\Users\\debar\\anaconda3\\envs\\py39\\lib\\site-packages\\sklearn\\base.py:493: UserWarning: X does not have valid feature names, but StandardScaler was fitted with feature names\n",
      "  warnings.warn(\n",
      "C:\\Users\\debar\\anaconda3\\envs\\py39\\lib\\site-packages\\sklearn\\base.py:493: UserWarning: X does not have valid feature names, but StandardScaler was fitted with feature names\n",
      "  warnings.warn(\n",
      "C:\\Users\\debar\\anaconda3\\envs\\py39\\lib\\site-packages\\sklearn\\base.py:493: UserWarning: X does not have valid feature names, but StandardScaler was fitted with feature names\n",
      "  warnings.warn(\n"
     ]
    },
    {
     "name": "stdout",
     "output_type": "stream",
     "text": [
      "Sad [0. 0. 1.]\n",
      "Sad [0.   0.02 0.98]\n"
     ]
    },
    {
     "name": "stderr",
     "output_type": "stream",
     "text": [
      "C:\\Users\\debar\\anaconda3\\envs\\py39\\lib\\site-packages\\sklearn\\base.py:493: UserWarning: X does not have valid feature names, but StandardScaler was fitted with feature names\n",
      "  warnings.warn(\n",
      "C:\\Users\\debar\\anaconda3\\envs\\py39\\lib\\site-packages\\sklearn\\base.py:493: UserWarning: X does not have valid feature names, but StandardScaler was fitted with feature names\n",
      "  warnings.warn(\n",
      "C:\\Users\\debar\\anaconda3\\envs\\py39\\lib\\site-packages\\sklearn\\base.py:493: UserWarning: X does not have valid feature names, but StandardScaler was fitted with feature names\n",
      "  warnings.warn(\n",
      "C:\\Users\\debar\\anaconda3\\envs\\py39\\lib\\site-packages\\sklearn\\base.py:493: UserWarning: X does not have valid feature names, but StandardScaler was fitted with feature names\n",
      "  warnings.warn(\n"
     ]
    },
    {
     "name": "stdout",
     "output_type": "stream",
     "text": [
      "Sad [0.   0.02 0.98]\n",
      "Sad [0.   0.02 0.98]\n"
     ]
    },
    {
     "name": "stderr",
     "output_type": "stream",
     "text": [
      "C:\\Users\\debar\\anaconda3\\envs\\py39\\lib\\site-packages\\sklearn\\base.py:493: UserWarning: X does not have valid feature names, but StandardScaler was fitted with feature names\n",
      "  warnings.warn(\n",
      "C:\\Users\\debar\\anaconda3\\envs\\py39\\lib\\site-packages\\sklearn\\base.py:493: UserWarning: X does not have valid feature names, but StandardScaler was fitted with feature names\n",
      "  warnings.warn(\n",
      "C:\\Users\\debar\\anaconda3\\envs\\py39\\lib\\site-packages\\sklearn\\base.py:493: UserWarning: X does not have valid feature names, but StandardScaler was fitted with feature names\n",
      "  warnings.warn(\n",
      "C:\\Users\\debar\\anaconda3\\envs\\py39\\lib\\site-packages\\sklearn\\base.py:493: UserWarning: X does not have valid feature names, but StandardScaler was fitted with feature names\n",
      "  warnings.warn(\n"
     ]
    },
    {
     "name": "stdout",
     "output_type": "stream",
     "text": [
      "Sad [0.   0.02 0.98]\n",
      "Sad [0.   0.02 0.98]\n"
     ]
    },
    {
     "name": "stderr",
     "output_type": "stream",
     "text": [
      "C:\\Users\\debar\\anaconda3\\envs\\py39\\lib\\site-packages\\sklearn\\base.py:493: UserWarning: X does not have valid feature names, but StandardScaler was fitted with feature names\n",
      "  warnings.warn(\n",
      "C:\\Users\\debar\\anaconda3\\envs\\py39\\lib\\site-packages\\sklearn\\base.py:493: UserWarning: X does not have valid feature names, but StandardScaler was fitted with feature names\n",
      "  warnings.warn(\n",
      "C:\\Users\\debar\\anaconda3\\envs\\py39\\lib\\site-packages\\sklearn\\base.py:493: UserWarning: X does not have valid feature names, but StandardScaler was fitted with feature names\n",
      "  warnings.warn(\n",
      "C:\\Users\\debar\\anaconda3\\envs\\py39\\lib\\site-packages\\sklearn\\base.py:493: UserWarning: X does not have valid feature names, but StandardScaler was fitted with feature names\n",
      "  warnings.warn(\n"
     ]
    },
    {
     "name": "stdout",
     "output_type": "stream",
     "text": [
      "Sad [0.   0.02 0.98]\n",
      "Sad [0.01 0.05 0.94]\n"
     ]
    },
    {
     "name": "stderr",
     "output_type": "stream",
     "text": [
      "C:\\Users\\debar\\anaconda3\\envs\\py39\\lib\\site-packages\\sklearn\\base.py:493: UserWarning: X does not have valid feature names, but StandardScaler was fitted with feature names\n",
      "  warnings.warn(\n",
      "C:\\Users\\debar\\anaconda3\\envs\\py39\\lib\\site-packages\\sklearn\\base.py:493: UserWarning: X does not have valid feature names, but StandardScaler was fitted with feature names\n",
      "  warnings.warn(\n",
      "C:\\Users\\debar\\anaconda3\\envs\\py39\\lib\\site-packages\\sklearn\\base.py:493: UserWarning: X does not have valid feature names, but StandardScaler was fitted with feature names\n",
      "  warnings.warn(\n",
      "C:\\Users\\debar\\anaconda3\\envs\\py39\\lib\\site-packages\\sklearn\\base.py:493: UserWarning: X does not have valid feature names, but StandardScaler was fitted with feature names\n",
      "  warnings.warn(\n"
     ]
    },
    {
     "name": "stdout",
     "output_type": "stream",
     "text": [
      "Sad [0.03 0.19 0.78]\n",
      "Sad [0.12 0.4  0.48]\n"
     ]
    },
    {
     "name": "stderr",
     "output_type": "stream",
     "text": [
      "C:\\Users\\debar\\anaconda3\\envs\\py39\\lib\\site-packages\\sklearn\\base.py:493: UserWarning: X does not have valid feature names, but StandardScaler was fitted with feature names\n",
      "  warnings.warn(\n",
      "C:\\Users\\debar\\anaconda3\\envs\\py39\\lib\\site-packages\\sklearn\\base.py:493: UserWarning: X does not have valid feature names, but StandardScaler was fitted with feature names\n",
      "  warnings.warn(\n",
      "C:\\Users\\debar\\anaconda3\\envs\\py39\\lib\\site-packages\\sklearn\\base.py:493: UserWarning: X does not have valid feature names, but StandardScaler was fitted with feature names\n",
      "  warnings.warn(\n",
      "C:\\Users\\debar\\anaconda3\\envs\\py39\\lib\\site-packages\\sklearn\\base.py:493: UserWarning: X does not have valid feature names, but StandardScaler was fitted with feature names\n",
      "  warnings.warn(\n"
     ]
    },
    {
     "name": "stdout",
     "output_type": "stream",
     "text": [
      "Sad [0.13 0.43 0.44]\n",
      "Happy [0.12 0.46 0.42]\n"
     ]
    },
    {
     "name": "stderr",
     "output_type": "stream",
     "text": [
      "C:\\Users\\debar\\anaconda3\\envs\\py39\\lib\\site-packages\\sklearn\\base.py:493: UserWarning: X does not have valid feature names, but StandardScaler was fitted with feature names\n",
      "  warnings.warn(\n",
      "C:\\Users\\debar\\anaconda3\\envs\\py39\\lib\\site-packages\\sklearn\\base.py:493: UserWarning: X does not have valid feature names, but StandardScaler was fitted with feature names\n",
      "  warnings.warn(\n",
      "C:\\Users\\debar\\anaconda3\\envs\\py39\\lib\\site-packages\\sklearn\\base.py:493: UserWarning: X does not have valid feature names, but StandardScaler was fitted with feature names\n",
      "  warnings.warn(\n",
      "C:\\Users\\debar\\anaconda3\\envs\\py39\\lib\\site-packages\\sklearn\\base.py:493: UserWarning: X does not have valid feature names, but StandardScaler was fitted with feature names\n",
      "  warnings.warn(\n"
     ]
    },
    {
     "name": "stdout",
     "output_type": "stream",
     "text": [
      "Happy [0.11 0.45 0.44]\n",
      "Happy [0.12 0.44 0.44]\n"
     ]
    },
    {
     "name": "stderr",
     "output_type": "stream",
     "text": [
      "C:\\Users\\debar\\anaconda3\\envs\\py39\\lib\\site-packages\\sklearn\\base.py:493: UserWarning: X does not have valid feature names, but StandardScaler was fitted with feature names\n",
      "  warnings.warn(\n",
      "C:\\Users\\debar\\anaconda3\\envs\\py39\\lib\\site-packages\\sklearn\\base.py:493: UserWarning: X does not have valid feature names, but StandardScaler was fitted with feature names\n",
      "  warnings.warn(\n"
     ]
    },
    {
     "name": "stdout",
     "output_type": "stream",
     "text": [
      "Happy [0.1  0.48 0.42]\n"
     ]
    }
   ],
   "source": [
    "import cv2\n",
    "import mediapipe as mp\n",
    "import numpy as np\n",
    "import pandas as pd\n",
    "\n",
    "# Initialize mediapipe holistic and drawing modules\n",
    "mp_holistic = mp.solutions.holistic\n",
    "mp_drawing = mp.solutions.drawing_utils\n",
    "mp_face_mesh = mp.solutions.face_mesh\n",
    "mp_hands = mp.solutions.hands\n",
    "mp_pose = mp.solutions.pose\n",
    "\n",
    "cap = cv2.VideoCapture(0)\n",
    "# Initiate holistic model\n",
    "with mp_holistic.Holistic(min_detection_confidence=0.5, min_tracking_confidence=0.5) as holistic:\n",
    "    \n",
    "    while cap.isOpened():\n",
    "        ret, frame = cap.read()\n",
    "        \n",
    "        # Recolor Feed\n",
    "        image = cv2.cvtColor(frame, cv2.COLOR_BGR2RGB)\n",
    "        image.flags.writeable = False        \n",
    "        \n",
    "        # Make Detections\n",
    "        results = holistic.process(image)\n",
    "        \n",
    "        # Recolor image back to BGR for rendering\n",
    "        image.flags.writeable = True   \n",
    "        image = cv2.cvtColor(image, cv2.COLOR_RGB2BGR)\n",
    "        \n",
    "        # 1. Draw face landmarks\n",
    "        if results.face_landmarks:\n",
    "            mp_drawing.draw_landmarks(\n",
    "                image, \n",
    "                results.face_landmarks, \n",
    "                mp_face_mesh.FACEMESH_CONTOURS, \n",
    "                mp_drawing.DrawingSpec(color=(80,110,10), thickness=1, circle_radius=1),\n",
    "                mp_drawing.DrawingSpec(color=(80,256,121), thickness=1, circle_radius=1)\n",
    "            )\n",
    "        \n",
    "        # 2. Right hand\n",
    "        if results.right_hand_landmarks:\n",
    "            mp_drawing.draw_landmarks(\n",
    "                image, \n",
    "                results.right_hand_landmarks, \n",
    "                mp_hands.HAND_CONNECTIONS, \n",
    "                mp_drawing.DrawingSpec(color=(80,22,10), thickness=2, circle_radius=4),\n",
    "                mp_drawing.DrawingSpec(color=(80,44,121), thickness=2, circle_radius=2)\n",
    "            )\n",
    "\n",
    "        # 3. Left Hand\n",
    "        if results.left_hand_landmarks:\n",
    "            mp_drawing.draw_landmarks(\n",
    "                image, \n",
    "                results.left_hand_landmarks, \n",
    "                mp_hands.HAND_CONNECTIONS, \n",
    "                mp_drawing.DrawingSpec(color=(121,22,76), thickness=2, circle_radius=4),\n",
    "                mp_drawing.DrawingSpec(color=(121,44,250), thickness=2, circle_radius=2)\n",
    "            )\n",
    "\n",
    "        # 4. Pose Detections\n",
    "        if results.pose_landmarks:\n",
    "            mp_drawing.draw_landmarks(\n",
    "                image, \n",
    "                results.pose_landmarks, \n",
    "                mp_pose.POSE_CONNECTIONS, \n",
    "                mp_drawing.DrawingSpec(color=(245,117,66), thickness=2, circle_radius=4),\n",
    "                mp_drawing.DrawingSpec(color=(245,66,230), thickness=2, circle_radius=2)\n",
    "            )\n",
    "\n",
    "        # Export coordinates\n",
    "        try:\n",
    "            # Extract Pose landmarks\n",
    "            if results.pose_landmarks:\n",
    "                pose = results.pose_landmarks.landmark\n",
    "                pose_row = list(np.array([[landmark.x, landmark.y, landmark.z, landmark.visibility] for landmark in pose]).flatten())\n",
    "            \n",
    "            # Extract Face landmarks\n",
    "            if results.face_landmarks:\n",
    "                face = results.face_landmarks.landmark\n",
    "                face_row = list(np.array([[landmark.x, landmark.y, landmark.z, landmark.visibility] for landmark in face]).flatten())\n",
    "            \n",
    "            # Concatenate rows\n",
    "            row = pose_row + face_row\n",
    "            \n",
    "            # Make Detections\n",
    "            X = pd.DataFrame([row])\n",
    "            body_language_class = model.predict(X)[0]\n",
    "            body_language_prob = model.predict_proba(X)[0]\n",
    "            print(body_language_class, body_language_prob)\n",
    "            \n",
    "            # Grab ear coordinates for placing text\n",
    "            coords = tuple(np.multiply(\n",
    "                np.array(\n",
    "                    (results.pose_landmarks.landmark[mp_pose.PoseLandmark.LEFT_EAR].x, \n",
    "                     results.pose_landmarks.landmark[mp_pose.PoseLandmark.LEFT_EAR].y)\n",
    "                ), \n",
    "                [640,480]\n",
    "            ).astype(int))\n",
    "            \n",
    "            # Display class and probability\n",
    "            cv2.rectangle(image, \n",
    "                          (coords[0], coords[1]+5), \n",
    "                          (coords[0]+len(body_language_class)*20, coords[1]-30), \n",
    "                          (245, 117, 16), -1)\n",
    "            cv2.putText(image, body_language_class, coords, \n",
    "                        cv2.FONT_HERSHEY_SIMPLEX, 1, (255, 255, 255), 2, cv2.LINE_AA)\n",
    "            \n",
    "            # Get status box\n",
    "            cv2.rectangle(image, (0,0), (250, 60), (245, 117, 16), -1)\n",
    "            \n",
    "            # Display Class\n",
    "            cv2.putText(image, 'CLASS', (95,12), cv2.FONT_HERSHEY_SIMPLEX, 0.5, (0, 0, 0), 1, cv2.LINE_AA)\n",
    "            cv2.putText(image, body_language_class.split(' ')[0], (90,40), cv2.FONT_HERSHEY_SIMPLEX, 1, (255, 255, 255), 2, cv2.LINE_AA)\n",
    "            \n",
    "            # Display Probability\n",
    "            cv2.putText(image, 'PROB', (15,12), cv2.FONT_HERSHEY_SIMPLEX, 0.5, (0, 0, 0), 1, cv2.LINE_AA)\n",
    "            cv2.putText(image, str(round(body_language_prob[np.argmax(body_language_prob)],2)), (10,40), cv2.FONT_HERSHEY_SIMPLEX, 1, (255, 255, 255), 2, cv2.LINE_AA)\n",
    "            \n",
    "        except:\n",
    "            pass\n",
    "                        \n",
    "        cv2.imshow('Raw Webcam Feed', image)\n",
    "\n",
    "        if cv2.waitKey(10) & 0xFF == ord('q'):\n",
    "            break\n",
    "\n",
    "cap.release()\n",
    "cv2.destroyAllWindows()\n"
   ]
  },
  {
   "cell_type": "code",
   "execution_count": 126,
   "id": "4a93710e-08c5-4abb-9857-ea33d4856023",
   "metadata": {},
   "outputs": [
    {
     "data": {
      "text/plain": [
       "(482, 181)"
      ]
     },
     "execution_count": 126,
     "metadata": {},
     "output_type": "execute_result"
    }
   ],
   "source": [
    "tuple(np.multiply(np.array((results.pose_landmarks.landmark[mp_holistic.PoseLandmark.LEFT_EAR].x, \n",
    "results.pose_landmarks.landmark[mp_holistic.PoseLandmark.LEFT_EAR].y)), [640,480]).astype(int))"
   ]
  },
  {
   "cell_type": "code",
   "execution_count": null,
   "id": "0a6df3b2-45d8-4068-a5b2-ef9094fe5432",
   "metadata": {},
   "outputs": [],
   "source": []
  }
 ],
 "metadata": {
  "kernelspec": {
   "display_name": "Python 3.9 (New)",
   "language": "python",
   "name": "py39"
  },
  "language_info": {
   "codemirror_mode": {
    "name": "ipython",
    "version": 3
   },
   "file_extension": ".py",
   "mimetype": "text/x-python",
   "name": "python",
   "nbconvert_exporter": "python",
   "pygments_lexer": "ipython3",
   "version": "3.9.20"
  }
 },
 "nbformat": 4,
 "nbformat_minor": 5
}
