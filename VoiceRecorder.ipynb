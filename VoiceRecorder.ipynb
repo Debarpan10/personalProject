{
 "cells": [
  {
   "cell_type": "code",
   "execution_count": 2,
   "id": "4accaddb",
   "metadata": {},
   "outputs": [
    {
     "name": "stdout",
     "output_type": "stream",
     "text": [
      "Collecting sounddeviceNote: you may need to restart the kernel to use updated packages.\n",
      "\n",
      "  Downloading sounddevice-0.4.6-py3-none-win_amd64.whl (199 kB)\n",
      "                                              0.0/199.7 kB ? eta -:--:--\n",
      "     --------------------------------------   194.6/199.7 kB ? eta -:--:--\n",
      "     --------------------------------------   194.6/199.7 kB ? eta -:--:--\n",
      "     --------------------------------------   194.6/199.7 kB ? eta -:--:--\n",
      "     -------------------------------------- 199.7/199.7 kB 1.0 MB/s eta 0:00:00\n",
      "Requirement already satisfied: CFFI>=1.0 in c:\\users\\god\\anaconda3\\lib\\site-packages (from sounddevice) (1.15.1)\n",
      "Requirement already satisfied: pycparser in c:\\users\\god\\anaconda3\\lib\\site-packages (from CFFI>=1.0->sounddevice) (2.21)\n",
      "Installing collected packages: sounddevice\n",
      "Successfully installed sounddevice-0.4.6\n"
     ]
    }
   ],
   "source": [
    "pip install sounddevice"
   ]
  },
  {
   "cell_type": "code",
   "execution_count": 1,
   "id": "ed75b7a5",
   "metadata": {},
   "outputs": [],
   "source": [
    "import sounddevice"
   ]
  },
  {
   "cell_type": "code",
   "execution_count": 2,
   "id": "92e15e1a",
   "metadata": {},
   "outputs": [
    {
     "name": "stdout",
     "output_type": "stream",
     "text": [
      "Recording started....\n",
      "Your recording is finished....\n"
     ]
    }
   ],
   "source": [
    "from scipy.io.wavfile import write\n",
    "def debVoice_Recorder(seconds, file):\n",
    "    print(\"Recording started....\")\n",
    "    deb_recording=sounddevice.rec((seconds*44100), samplerate=44100, channels=2)\n",
    "    sounddevice.wait()\n",
    "    write(file, 44100, deb_recording)\n",
    "    print(\"Your recording is finished....\")\n",
    "debVoice_Recorder(10,\"recordsave.wav\")"
   ]
  },
  {
   "cell_type": "code",
   "execution_count": null,
   "id": "65ef902e",
   "metadata": {},
   "outputs": [],
   "source": []
  }
 ],
 "metadata": {
  "kernelspec": {
   "display_name": "Python 3 (ipykernel)",
   "language": "python",
   "name": "python3"
  },
  "language_info": {
   "codemirror_mode": {
    "name": "ipython",
    "version": 3
   },
   "file_extension": ".py",
   "mimetype": "text/x-python",
   "name": "python",
   "nbconvert_exporter": "python",
   "pygments_lexer": "ipython3",
   "version": "3.11.3"
  }
 },
 "nbformat": 4,
 "nbformat_minor": 5
}
